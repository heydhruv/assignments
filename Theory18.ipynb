{
 "cells": [
  {
   "cell_type": "markdown",
   "id": "44b17774-3bef-401b-82e2-ffd07880c4b9",
   "metadata": {},
   "source": [
    "<h3>1. Create a zoo.py file first. Define the hours() function, which prints the string &#39;Open 9-5 daily&#39;.\n",
    "Then, use the interactive interpreter to import the zoo module and call its hours() function.</h3>"
   ]
  },
  {
   "cell_type": "code",
   "execution_count": 6,
   "id": "afaa6700-5c2c-48c5-a553-a3b97fb8a773",
   "metadata": {},
   "outputs": [],
   "source": [
    "import zoo\n",
    "zoo.hours()"
   ]
  },
  {
   "cell_type": "markdown",
   "id": "7b75d2d9-7c48-4638-a738-a70044a77437",
   "metadata": {},
   "source": [
    "<h3>2. In the interactive interpreter, import the zoo module as menagerie and call its hours() function.</h3>"
   ]
  },
  {
   "cell_type": "code",
   "execution_count": null,
   "id": "072d7215-d394-4630-aae1-4aa03e17f7d8",
   "metadata": {},
   "outputs": [],
   "source": [
    "import zoo as menagerie\n",
    "menagerie.hours()"
   ]
  },
  {
   "cell_type": "markdown",
   "id": "ada5a596-98df-4faf-80e0-7ede0849bf34",
   "metadata": {},
   "source": [
    "<h3>3. Using the interpreter, explicitly import and call the hours() function from zoo.</h3>"
   ]
  },
  {
   "cell_type": "code",
   "execution_count": null,
   "id": "46979666-432c-47e8-83e9-aa619c1ac3a6",
   "metadata": {},
   "outputs": [],
   "source": [
    "from zoo import hours\n",
    "hours()"
   ]
  },
  {
   "cell_type": "markdown",
   "id": "793a7ffe-d3de-433c-9dee-392c6fc2626b",
   "metadata": {},
   "source": [
    "<h3>4. Import the hours() function as info and call it.</h3>"
   ]
  },
  {
   "cell_type": "code",
   "execution_count": null,
   "id": "5348d199-aaf9-48ca-9a27-24264fa04290",
   "metadata": {},
   "outputs": [],
   "source": [
    "from zoo import hours as info\n",
    "info()\n"
   ]
  },
  {
   "cell_type": "markdown",
   "id": "fc27f6dc-9ee4-4bd4-862a-fc926ffbf3c0",
   "metadata": {},
   "source": [
    "<h3>5. Create a plain dictionary with the key-value pairs &#39;a&#39;: 1, &#39;b&#39;: 2, and &#39;c&#39;: 3, and print it out.</h3>"
   ]
  },
  {
   "cell_type": "code",
   "execution_count": 7,
   "id": "9cb39426-3ffa-429c-b19b-2e63aacc3301",
   "metadata": {},
   "outputs": [
    {
     "name": "stdout",
     "output_type": "stream",
     "text": [
      "{'a': 1, 'b': 2, 'c': 3}\n"
     ]
    }
   ],
   "source": [
    "d={'a': 1, 'b': 2, 'c': 3}\n",
    "print(d)"
   ]
  },
  {
   "cell_type": "markdown",
   "id": "d2b50606-9ea8-4675-8ec8-772251d793ec",
   "metadata": {},
   "source": [
    "<h3>6.Make an OrderedDict called fancy from the same pairs listed in 5 and print it. Did it print in the\n",
    "same order as plain?</h3>"
   ]
  },
  {
   "cell_type": "code",
   "execution_count": 10,
   "id": "d13ed9fd-07d3-41ef-bf32-89a8e7952fc7",
   "metadata": {},
   "outputs": [
    {
     "data": {
      "text/plain": [
       "OrderedDict([('a', 1), ('b', 2), ('c', 3)])"
      ]
     },
     "execution_count": 10,
     "metadata": {},
     "output_type": "execute_result"
    }
   ],
   "source": [
    "from collections import OrderedDict\n",
    "fancy=OrderedDict(d)\n",
    "fancy"
   ]
  },
  {
   "cell_type": "markdown",
   "id": "bf64f857-50c8-46a7-b387-69ea66b32262",
   "metadata": {},
   "source": [
    "<h3>7. Make a default dictionary called dict_of_lists and pass it the argument list. Make the list\n",
    "dict_of_lists[&#39;a&#39;] and append the value &#39;something for a&#39; to it in one assignment. Print\n",
    "dict_of_lists[&#39;a&#39;].</h3>"
   ]
  },
  {
   "cell_type": "code",
   "execution_count": 13,
   "id": "bbb10a2e-bfce-4f54-a216-935cd08874a3",
   "metadata": {},
   "outputs": [
    {
     "name": "stdout",
     "output_type": "stream",
     "text": [
      "['something for a']\n"
     ]
    }
   ],
   "source": [
    "from collections import defaultdict\n",
    "dict_of_lists = defaultdict(list)\n",
    "dict_of_lists['a'].append('something for a')\n",
    "print(dict_of_lists['a'])\n"
   ]
  },
  {
   "cell_type": "code",
   "execution_count": null,
   "id": "5dfa3d12-3a60-4650-b0cc-2d71d2664e37",
   "metadata": {},
   "outputs": [],
   "source": []
  }
 ],
 "metadata": {
  "kernelspec": {
   "display_name": "Python 3",
   "language": "python",
   "name": "python3"
  },
  "language_info": {
   "codemirror_mode": {
    "name": "ipython",
    "version": 3
   },
   "file_extension": ".py",
   "mimetype": "text/x-python",
   "name": "python",
   "nbconvert_exporter": "python",
   "pygments_lexer": "ipython3",
   "version": "3.8.8"
  }
 },
 "nbformat": 4,
 "nbformat_minor": 5
}
