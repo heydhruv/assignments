{
 "cells": [
  {
   "cell_type": "markdown",
   "id": "6e760856-3506-4da2-89bd-c3240c682e61",
   "metadata": {},
   "source": [
    "<h3>1. Assign the value 7 to the variable guess_me. Then, write the conditional tests (if, else, and elif) to\n",
    "print the string &#39;too low&#39; if guess_me is less than 7, &#39;too high&#39; if greater than 7, and &#39;just right&#39; if equal\n",
    "to 7.</h3>"
   ]
  },
  {
   "cell_type": "code",
   "execution_count": 1,
   "id": "8e9b1e43-d761-4bca-aa17-6f21eface4a0",
   "metadata": {},
   "outputs": [
    {
     "name": "stdout",
     "output_type": "stream",
     "text": [
      "just right\n"
     ]
    }
   ],
   "source": [
    "guess_me=7\n",
    "if guess_me==7:\n",
    "    print('just right')\n",
    "elif guess_me<7:\n",
    "    print('too low')\n",
    "else:\n",
    "    print('too high')"
   ]
  },
  {
   "cell_type": "markdown",
   "id": "3ce88d9d-87b4-4d98-a7a3-69785b109dd1",
   "metadata": {},
   "source": [
    "<h3>2. Assign the value 7 to the variable guess_me and the value 1 to the variable start. Write a while\n",
    "loop that compares start with guess_me. Print too low if start is less than guess me. If start equals\n",
    "guess_me, print &#39;found it!&#39; and exit the loop. If start is greater than guess_me, print &#39;oops&#39; and exit\n",
    "the loop. Increment start at the end of the loop.</h3>"
   ]
  },
  {
   "cell_type": "code",
   "execution_count": 7,
   "id": "be6891cd-d48b-4801-a03f-7abaa0843c52",
   "metadata": {},
   "outputs": [
    {
     "name": "stdout",
     "output_type": "stream",
     "text": [
      "too low\n",
      "too low\n",
      "too low\n",
      "too low\n",
      "too low\n",
      "too low\n",
      "found it\n"
     ]
    }
   ],
   "source": [
    "guess_me=7\n",
    "start=1\n",
    "while True:\n",
    "    if guess_me==start:\n",
    "        print('found it')\n",
    "        break\n",
    "    elif start<guess_me:\n",
    "        print('too low')\n",
    "    else:\n",
    "        print('oops')\n",
    "        break\n",
    "    start+=1     "
   ]
  },
  {
   "cell_type": "markdown",
   "id": "10d0931e-c827-46ad-80e4-c69a8358b0d3",
   "metadata": {},
   "source": [
    "<h3>3. Print the following values of the list [3, 2, 1, 0] using a for loop.</h3>"
   ]
  },
  {
   "cell_type": "code",
   "execution_count": 9,
   "id": "7edc6f02-b5ce-4ce4-bab2-8cb497ccb9dc",
   "metadata": {},
   "outputs": [
    {
     "name": "stdout",
     "output_type": "stream",
     "text": [
      "3\n",
      "2\n",
      "1\n",
      "0\n"
     ]
    }
   ],
   "source": [
    "l=[3,2,1,0]\n",
    "for i in l:\n",
    "    print(i)"
   ]
  },
  {
   "cell_type": "markdown",
   "id": "d1b1502b-dbd7-4f28-a161-a7cdd5208100",
   "metadata": {},
   "source": [
    "<h3>4. Use a list comprehension to make a list of the even numbers in range(10)</h3>"
   ]
  },
  {
   "cell_type": "code",
   "execution_count": 11,
   "id": "e7007213-7623-440e-8845-6998174eef43",
   "metadata": {},
   "outputs": [
    {
     "data": {
      "text/plain": [
       "[0, 2, 4, 6, 8]"
      ]
     },
     "execution_count": 11,
     "metadata": {},
     "output_type": "execute_result"
    }
   ],
   "source": [
    "l=[ele for ele in range(10) if ele%2==0]\n",
    "l"
   ]
  },
  {
   "cell_type": "markdown",
   "id": "7782fdbe-a3f3-4cb9-9b17-b4bcfe643c86",
   "metadata": {},
   "source": [
    "<h3>5. Use a dictionary comprehension to create the dictionary squares. Use range(10) to return the\n",
    "keys, and use the square of each key as its value.</h3>"
   ]
  },
  {
   "cell_type": "code",
   "execution_count": 17,
   "id": "be1af9dd-470c-45f7-b456-dbd09943d1e8",
   "metadata": {},
   "outputs": [
    {
     "data": {
      "text/plain": [
       "{0: 0, 1: 1, 2: 4, 3: 9, 4: 16, 5: 25, 6: 36, 7: 49, 8: 64, 9: 81}"
      ]
     },
     "execution_count": 17,
     "metadata": {},
     "output_type": "execute_result"
    }
   ],
   "source": [
    "d={x:x**2 for x in range(10)}\n",
    "d"
   ]
  },
  {
   "cell_type": "markdown",
   "id": "1347b373-2974-4b73-93df-7e390a846151",
   "metadata": {},
   "source": [
    "<h3>6. Construct the set odd from the odd numbers in the range using a set comprehension (10).</h3>"
   ]
  },
  {
   "cell_type": "code",
   "execution_count": 20,
   "id": "567c0712-c9f3-4ec8-8107-b05d55c3a3b2",
   "metadata": {},
   "outputs": [
    {
     "data": {
      "text/plain": [
       "{1, 3, 5, 7, 9}"
      ]
     },
     "execution_count": 20,
     "metadata": {},
     "output_type": "execute_result"
    }
   ],
   "source": [
    "s=set(ele for ele in range(10) if ele%2!=0)\n",
    "s"
   ]
  },
  {
   "cell_type": "markdown",
   "id": "3bdd3a62-4f6d-445f-8752-3718a2516088",
   "metadata": {},
   "source": [
    "<h3>7. Use a generator comprehension to return the string &#39;Got &#39; and a number for the numbers in\n",
    "range(10). Iterate through this by using a for loop.</h3>"
   ]
  },
  {
   "cell_type": "code",
   "execution_count": 22,
   "id": "e27c7b09-83be-4b17-b620-ea3aeea300c6",
   "metadata": {},
   "outputs": [
    {
     "name": "stdout",
     "output_type": "stream",
     "text": [
      "Git0\n",
      "Git1\n",
      "Git2\n",
      "Git3\n",
      "Git4\n",
      "Git5\n",
      "Git6\n",
      "Git7\n",
      "Git8\n",
      "Git9\n"
     ]
    }
   ],
   "source": [
    "com=('Got'+str(x) for x in range(10))\n",
    "for ele in com:\n",
    "    print(ele)"
   ]
  },
  {
   "cell_type": "markdown",
   "id": "24f2bce5-aaeb-4b50-a1d3-fd47db0a8f72",
   "metadata": {},
   "source": [
    "<h3>8. Define a function called good that returns the list [&#39;Harry&#39;, &#39;Ron&#39;, &#39;Hermione&#39;].</h3>"
   ]
  },
  {
   "cell_type": "code",
   "execution_count": 23,
   "id": "e11539cb-64fd-456d-b9ae-ab5e14924eed",
   "metadata": {},
   "outputs": [
    {
     "data": {
      "text/plain": [
       "['Harry', 'Ron', 'Hermione']"
      ]
     },
     "execution_count": 23,
     "metadata": {},
     "output_type": "execute_result"
    }
   ],
   "source": [
    "def good():\n",
    "    l=['Harry', 'Ron', 'Hermione']\n",
    "    return l\n",
    "good()"
   ]
  },
  {
   "cell_type": "markdown",
   "id": "ac215b08-f9b0-4277-be33-1ee0271804d4",
   "metadata": {},
   "source": [
    "<h3>9. Define a generator function called get_odds that returns the odd numbers from range(10). Use a\n",
    "for loop to find and print the third value returned.</h3>"
   ]
  },
  {
   "cell_type": "code",
   "execution_count": 33,
   "id": "205c81ab-0b8b-404f-a381-5e36fb3f6f7f",
   "metadata": {},
   "outputs": [
    {
     "data": {
      "text/plain": [
       "5"
      ]
     },
     "execution_count": 33,
     "metadata": {},
     "output_type": "execute_result"
    }
   ],
   "source": [
    "def get_odds():\n",
    "    out=[]\n",
    "    for ele in range(10):\n",
    "        if ele%2 !=0:\n",
    "            out.append(ele)\n",
    "    yield out\n",
    "next(get_odds())[2]        \n",
    "        "
   ]
  },
  {
   "cell_type": "markdown",
   "id": "b95dd9d0-31c8-402b-801e-a6febddb11f8",
   "metadata": {},
   "source": [
    "<h3>10. Define an exception called OopsException. Raise this exception to see what happens. Then write\n",
    "the code to catch this exception and print &#39;Caught an oops&#39;.</h3>"
   ]
  },
  {
   "cell_type": "code",
   "execution_count": 43,
   "id": "9153cdca-5881-470a-b713-95248c0089bb",
   "metadata": {},
   "outputs": [
    {
     "name": "stdout",
     "output_type": "stream",
     "text": [
      "Caught in Oops\n"
     ]
    }
   ],
   "source": [
    "class OopsException(Exception):\n",
    "    pass\n",
    "def test(x):\n",
    "    if x<0:\n",
    "        raise OopsException(x)\n",
    "try:\n",
    "    test(-100)\n",
    "except OopsException as e:\n",
    "    print('Caught in Oops')     "
   ]
  },
  {
   "cell_type": "markdown",
   "id": "763dc9c9-c2f2-4b2f-83f3-ec4518ed6824",
   "metadata": {},
   "source": [
    "<h3>11. Use zip() to make a dictionary called movies that pairs these lists: titles = [&#39;Creature of Habit&#39;,\n",
    "&#39;Crewel Fate&#39;] and plots = [&#39;A nun turns into a monster&#39;, &#39;A haunted yarn shop&#39;].</h3>"
   ]
  },
  {
   "cell_type": "code",
   "execution_count": 44,
   "id": "91a9d845-dd63-4a05-a2f9-beb222978820",
   "metadata": {},
   "outputs": [
    {
     "name": "stdout",
     "output_type": "stream",
     "text": [
      "{'Creature of Habit': 'A nun turns into a monster', 'Crewel Fate': 'A haunted yarn shop'}\n"
     ]
    }
   ],
   "source": [
    "titles = ['Creature of Habit', 'Crewel Fate']\n",
    "plots = ['A nun turns into a monster', 'A haunted yarn shop']\n",
    "output = dict(zip(titles,plots))\n",
    "print(output)\n"
   ]
  },
  {
   "cell_type": "code",
   "execution_count": null,
   "id": "a0019da6-f9e9-4d75-9371-64d07866cf5f",
   "metadata": {},
   "outputs": [],
   "source": []
  }
 ],
 "metadata": {
  "kernelspec": {
   "display_name": "Python 3",
   "language": "python",
   "name": "python3"
  },
  "language_info": {
   "codemirror_mode": {
    "name": "ipython",
    "version": 3
   },
   "file_extension": ".py",
   "mimetype": "text/x-python",
   "name": "python",
   "nbconvert_exporter": "python",
   "pygments_lexer": "ipython3",
   "version": "3.8.8"
  }
 },
 "nbformat": 4,
 "nbformat_minor": 5
}
