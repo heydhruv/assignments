{
 "cells": [
  {
   "cell_type": "markdown",
   "id": "15f0b1fa-e964-4c1a-a4a6-9cc0329fe66c",
   "metadata": {},
   "source": [
    "<h1>Que 1<h1>"
   ]
  },
  {
   "cell_type": "code",
   "execution_count": 1,
   "id": "0bae2564-5e80-468f-99cf-0710e2ecdf57",
   "metadata": {},
   "outputs": [
    {
     "data": {
      "text/plain": [
       "[9, 6]"
      ]
     },
     "execution_count": 1,
     "metadata": {},
     "output_type": "execute_result"
    }
   ],
   "source": [
    "def return_only_int(x):\n",
    "    new=[]\n",
    "    for i in x:\n",
    "        if type(i)==int:\n",
    "            new.append(i)\n",
    "        else:\n",
    "            pass\n",
    "    return new     \n",
    "l=[9,6,\"dghd\",10.1] \n",
    "return_only_int(l)"
   ]
  },
  {
   "cell_type": "markdown",
   "id": "ad8311e2-cd69-423b-b0e5-2e188b056bbf",
   "metadata": {},
   "source": [
    "<h1>Que 2</h1>"
   ]
  },
  {
   "cell_type": "code",
   "execution_count": 9,
   "id": "f3e44bd4-14fa-4e54-9fa2-ca0174ccdf39",
   "metadata": {},
   "outputs": [
    {
     "data": {
      "text/plain": [
       "[1, 3, 5, 7, 9]"
      ]
     },
     "execution_count": 9,
     "metadata": {},
     "output_type": "execute_result"
    }
   ],
   "source": [
    "def add_index(x):\n",
    "    new=[]\n",
    "    for i in range(len(x)):\n",
    "        new.append(i+x[i])\n",
    "    return new\n",
    "l=[1,2,3,4,5]\n",
    "add_index(l)"
   ]
  },
  {
   "cell_type": "markdown",
   "id": "e8737f12-2564-405e-9c8c-2b9b98f41a95",
   "metadata": {},
   "source": [
    "<h1>Que 3</h1>"
   ]
  },
  {
   "cell_type": "code",
   "execution_count": 13,
   "id": "0c09f5ac-412a-46c0-9494-5f711148cc93",
   "metadata": {},
   "outputs": [
    {
     "name": "stdout",
     "output_type": "stream",
     "text": [
      "12.57\n"
     ]
    }
   ],
   "source": [
    "import math\n",
    "def cone_volume(h,r):\n",
    "    out= 1/3*h*math.pi*r**2\n",
    "    print(f\"{out:.2f}\")\n",
    "cone_volume(3,2)"
   ]
  },
  {
   "cell_type": "markdown",
   "id": "f7cfdbc5-0abe-4fff-9535-27db3f541b8f",
   "metadata": {},
   "source": [
    "<h1>Que 4</h1>"
   ]
  },
  {
   "cell_type": "code",
   "execution_count": 19,
   "id": "769810db-4636-4d05-8f44-72630892c5cd",
   "metadata": {},
   "outputs": [
    {
     "name": "stdout",
     "output_type": "stream",
     "text": [
      "21\n",
      "23436\n"
     ]
    }
   ],
   "source": [
    "def dots(a):\n",
    "    print(int(a*((a+1)/2)))\n",
    "dots(6) \n",
    "dots(216)"
   ]
  },
  {
   "cell_type": "markdown",
   "id": "a4020c21-5407-4c80-9dfa-0245bcb07668",
   "metadata": {},
   "source": [
    "<h1>Que 5</h1>"
   ]
  },
  {
   "cell_type": "code",
   "execution_count": 27,
   "id": "6d30d6be-46a0-44db-88f9-9974be876526",
   "metadata": {},
   "outputs": [
    {
     "name": "stdout",
     "output_type": "stream",
     "text": [
      "missing values is  5\n"
     ]
    }
   ],
   "source": [
    "def missing(x):\n",
    "    x.sort()\n",
    "    for i in range(1,11):\n",
    "        if i not in x:\n",
    "            print(\"missing values is \",i)\n",
    "missing([1, 2, 3, 4, 6, 7, 8, 9, 10])"
   ]
  },
  {
   "cell_type": "code",
   "execution_count": null,
   "id": "999fa42c-773c-4b4a-aeb9-bb201ff77c3b",
   "metadata": {},
   "outputs": [],
   "source": []
  }
 ],
 "metadata": {
  "kernelspec": {
   "display_name": "Python 3 (ipykernel)",
   "language": "python",
   "name": "python3"
  },
  "language_info": {
   "codemirror_mode": {
    "name": "ipython",
    "version": 3
   },
   "file_extension": ".py",
   "mimetype": "text/x-python",
   "name": "python",
   "nbconvert_exporter": "python",
   "pygments_lexer": "ipython3",
   "version": "3.10.6"
  }
 },
 "nbformat": 4,
 "nbformat_minor": 5
}
