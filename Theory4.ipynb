{
 "cells": [
  {
   "cell_type": "markdown",
   "id": "c0a50b28-074f-474a-af83-52afff18e1dc",
   "metadata": {},
   "source": [
    "<h3>1. What exactly is []?</h3>"
   ]
  },
  {
   "cell_type": "markdown",
   "id": "b9a0fb63-cd0e-466d-96e0-5b94d5407a94",
   "metadata": {},
   "source": [
    "empty list"
   ]
  },
  {
   "cell_type": "markdown",
   "id": "ee8f16b6-5fb4-4d35-9021-f3a1e7d7d421",
   "metadata": {},
   "source": [
    "<h3>2. In a list of values stored in a variable called spam, how would you assign the value &#39;hello&#39; as the\n",
    "third value? (Assume [2, 4, 6, 8, 10] are in spam.)</h3>"
   ]
  },
  {
   "cell_type": "code",
   "execution_count": 5,
   "id": "63335abf-e964-452e-b9a7-ff8d22c1227d",
   "metadata": {},
   "outputs": [
    {
     "data": {
      "text/plain": [
       "[2, 4, 'hello', 6, 8, 10]"
      ]
     },
     "execution_count": 5,
     "metadata": {},
     "output_type": "execute_result"
    }
   ],
   "source": [
    "spam= [2, 4, 6, 8, 10] \n",
    "spam.insert(2,\"hello\")\n",
    "spam"
   ]
  },
  {
   "cell_type": "markdown",
   "id": "4b894084-333b-45ba-9868-675ab05633de",
   "metadata": {},
   "source": [
    "<h3>3. What is the value of spam[int(int(&#39;3&#39; * 2) / 11)]?</h3>"
   ]
  },
  {
   "cell_type": "markdown",
   "id": "8f8d4030-22e1-42c3-bb1b-25c886fbb407",
   "metadata": {},
   "source": [
    "6"
   ]
  },
  {
   "cell_type": "markdown",
   "id": "d5129052-6e4c-4db9-abab-61ab06cec0e6",
   "metadata": {},
   "source": [
    "<h3>4. What is the value of spam[-1]?</h3>"
   ]
  },
  {
   "cell_type": "markdown",
   "id": "c73aef0c-2ae9-4bf7-9636-fa37c344567b",
   "metadata": {},
   "source": [
    "10"
   ]
  },
  {
   "cell_type": "markdown",
   "id": "63f47b16-3202-48ea-9961-a01879bfa498",
   "metadata": {},
   "source": [
    "<h3>5. What is the value of spam[:2]?</h3>"
   ]
  },
  {
   "cell_type": "markdown",
   "id": "3e3ade50-b90f-4d6f-bd81-d0a0ff405e83",
   "metadata": {},
   "source": [
    "2,4"
   ]
  },
  {
   "cell_type": "code",
   "execution_count": 11,
   "id": "0da3b7b4-2d64-4853-bf60-b3cf1dbd29f3",
   "metadata": {},
   "outputs": [],
   "source": [
    "bacon=[3.14, 'cat', 11, 'cat', True]"
   ]
  },
  {
   "cell_type": "markdown",
   "id": "c4b3be7b-8438-4e8a-a61d-55272955f8a8",
   "metadata": {},
   "source": [
    "<h3>6. What is the value of bacon.index(&#39;cat&#39;)?</h3>"
   ]
  },
  {
   "cell_type": "markdown",
   "id": "b0a18318-85b2-4023-8339-4dff3aa382ef",
   "metadata": {},
   "source": [
    "1"
   ]
  },
  {
   "cell_type": "markdown",
   "id": "df8c744d-db30-477c-8546-5e678d2d6137",
   "metadata": {},
   "source": [
    "<h3>7. How does bacon.append(99) change the look of the list value in bacon?</h3>"
   ]
  },
  {
   "cell_type": "markdown",
   "id": "262ea90f-c324-4438-8949-c739739570bf",
   "metadata": {},
   "source": [
    "apends 99 at last "
   ]
  },
  {
   "cell_type": "markdown",
   "id": "14815019-7082-48ae-9cee-09191162028f",
   "metadata": {},
   "source": [
    "<h3>8. How does bacon.remove(&#39;cat&#39;) change the look of the list in bacon?</h3>"
   ]
  },
  {
   "cell_type": "markdown",
   "id": "67cb5366-ad97-4694-bb2c-6940da1ba92c",
   "metadata": {},
   "source": [
    "[3.14, 11, 'cat', True]\n"
   ]
  },
  {
   "cell_type": "markdown",
   "id": "e3bb3e32-ba79-4a6c-9557-83c2a01be3c3",
   "metadata": {},
   "source": [
    "<h3>9. What are the list concatenation and list replication operators?</h3>"
   ]
  },
  {
   "cell_type": "markdown",
   "id": "eefd2d38-ef48-4c37-b1f6-dd62d0cc47b3",
   "metadata": {},
   "source": [
    "concatenation can also happen by + operator ans replication can also happend by ="
   ]
  },
  {
   "cell_type": "markdown",
   "id": "bf2f6141-fbe9-41ee-bbf8-6e249929e101",
   "metadata": {},
   "source": [
    "<h3>10. What is difference between the list methods append() and insert()?</h3>"
   ]
  },
  {
   "cell_type": "markdown",
   "id": "6846dd09-7e74-4ee2-bd29-ac26d6bce2dc",
   "metadata": {},
   "source": [
    "append adds ele to end and insert at specific index"
   ]
  },
  {
   "cell_type": "markdown",
   "id": "e708e65a-361a-4221-a442-6641d8a353e1",
   "metadata": {},
   "source": [
    "<h3>11. What are the two methods for removing items from a list?</h3>"
   ]
  },
  {
   "cell_type": "markdown",
   "id": "9690cbe5-b489-4449-b1cb-0d5263644b94",
   "metadata": {},
   "source": [
    "remove(),pop()"
   ]
  },
  {
   "cell_type": "markdown",
   "id": "7a4cc659-e21a-46d2-8bc6-39d862762198",
   "metadata": {},
   "source": [
    "<h3>12. Describe how list values and string values are identical.</h3>"
   ]
  },
  {
   "cell_type": "markdown",
   "id": "1b7b5c0f-c7f7-40ef-9f35-39c41bc0c554",
   "metadata": {},
   "source": [
    "both have sequence,length and order"
   ]
  },
  {
   "cell_type": "markdown",
   "id": "03668385-6743-4f22-b21c-cec2a0446176",
   "metadata": {},
   "source": [
    "<h3>13. What&#39;s the difference between tuples and lists?</h3>"
   ]
  },
  {
   "cell_type": "markdown",
   "id": "0c9c0db4-2ded-4b09-b7d2-d4dca0dbe148",
   "metadata": {},
   "source": [
    "tuple -immutable\n",
    "list-mutable"
   ]
  },
  {
   "cell_type": "markdown",
   "id": "e44b6585-5a8f-4f24-a1b0-570ff25d5840",
   "metadata": {},
   "source": [
    "<h3>14. How do you type a tuple value that only contains the integer 42?</h3>"
   ]
  },
  {
   "cell_type": "markdown",
   "id": "dd636af6-cae0-4e30-84d2-cb8c5cc7fe27",
   "metadata": {},
   "source": [
    "t=(42,)"
   ]
  },
  {
   "cell_type": "markdown",
   "id": "0f2c5e4f-c964-471b-a043-bcc3d91e3ec5",
   "metadata": {},
   "source": [
    "<h3>15. How do you get a list value&#39;s tuple form? How do you get a tuple value&#39;s list form?</h3>"
   ]
  },
  {
   "cell_type": "markdown",
   "id": "463da226-7edd-4e67-8690-5f1480713c8b",
   "metadata": {},
   "source": [
    "typecasting"
   ]
  },
  {
   "cell_type": "markdown",
   "id": "5b5e17b6-9fbe-4cec-9080-4699449eeacf",
   "metadata": {},
   "source": [
    "<h3>16. Variables that &quot;contain&quot; list values are not necessarily lists themselves. Instead, what do they\n",
    "contain?</h33>"
   ]
  },
  {
   "cell_type": "markdown",
   "id": "dbe1cd2c-b8ca-4aa2-bae3-5fb8f6a0159a",
   "metadata": {},
   "source": [
    "the contain memory location of where the list is stored"
   ]
  },
  {
   "cell_type": "markdown",
   "id": "4ad28bcd-9332-4b7c-a455-4745e3bd5c9f",
   "metadata": {},
   "source": [
    "<h3>17. How do you distinguish between copy.copy() and copy.deepcopy()?</h3>"
   ]
  },
  {
   "cell_type": "markdown",
   "id": "b82f24ec-0bd6-4300-a075-72068260e917",
   "metadata": {},
   "source": [
    "apply == on both objects any element like a[0]==b[0] shallow copy will return true since both objs are pointing to same memory and deepcopy will return false"
   ]
  },
  {
   "cell_type": "code",
   "execution_count": null,
   "id": "14de0774-bea1-4755-abc2-ad4db253ed4d",
   "metadata": {},
   "outputs": [],
   "source": []
  }
 ],
 "metadata": {
  "kernelspec": {
   "display_name": "Python 3",
   "language": "python",
   "name": "python3"
  },
  "language_info": {
   "codemirror_mode": {
    "name": "ipython",
    "version": 3
   },
   "file_extension": ".py",
   "mimetype": "text/x-python",
   "name": "python",
   "nbconvert_exporter": "python",
   "pygments_lexer": "ipython3",
   "version": "3.8.8"
  }
 },
 "nbformat": 4,
 "nbformat_minor": 5
}
