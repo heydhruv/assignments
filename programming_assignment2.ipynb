{
 "cells": [
  {
   "cell_type": "markdown",
   "id": "c4c827a7-1369-459c-ba6a-7ea65f88b267",
   "metadata": {},
   "source": [
    "<h3>1. Write a Python program to convert kilometers to miles?</h3>"
   ]
  },
  {
   "cell_type": "code",
   "execution_count": 1,
   "id": "3e03cf95-9e97-4374-8232-4aaf930460fb",
   "metadata": {},
   "outputs": [
    {
     "name": "stdin",
     "output_type": "stream",
     "text": [
      "enter km 5\n"
     ]
    },
    {
     "name": "stdout",
     "output_type": "stream",
     "text": [
      "3.107520198881293\n"
     ]
    }
   ],
   "source": [
    "km=int(input(\"enter km\"))\n",
    "print(km/ 1.609)"
   ]
  },
  {
   "cell_type": "markdown",
   "id": "73ef45a0-8c55-480f-9f5c-32aa207f416b",
   "metadata": {},
   "source": [
    "<h3>2. Write a Python program to convert Celsius to Fahrenheit?</h3>"
   ]
  },
  {
   "cell_type": "code",
   "execution_count": 2,
   "id": "ca7bd0ea-c0a6-40c8-8441-4aaf7776ed03",
   "metadata": {},
   "outputs": [
    {
     "name": "stdin",
     "output_type": "stream",
     "text": [
      "enter C 32\n"
     ]
    },
    {
     "name": "stdout",
     "output_type": "stream",
     "text": [
      "64\n"
     ]
    }
   ],
   "source": [
    "celcius=int(input(\"enter C\"))\n",
    "print(celcius+32)"
   ]
  },
  {
   "cell_type": "markdown",
   "id": "19a158d8-1d78-4f89-b1f6-07d4899da5c5",
   "metadata": {},
   "source": [
    "<h3>3. Write a Python program to display calendar?</h3>"
   ]
  },
  {
   "cell_type": "code",
   "execution_count": 11,
   "id": "271f58ef-77b5-4828-a241-6448e71229ac",
   "metadata": {},
   "outputs": [
    {
     "data": {
      "text/plain": [
       "'                                  2023\\n\\n      January                   February                   March\\nMo Tu We Th Fr Sa Su      Mo Tu We Th Fr Sa Su      Mo Tu We Th Fr Sa Su\\n                   1             1  2  3  4  5             1  2  3  4  5\\n 2  3  4  5  6  7  8       6  7  8  9 10 11 12       6  7  8  9 10 11 12\\n 9 10 11 12 13 14 15      13 14 15 16 17 18 19      13 14 15 16 17 18 19\\n16 17 18 19 20 21 22      20 21 22 23 24 25 26      20 21 22 23 24 25 26\\n23 24 25 26 27 28 29      27 28                     27 28 29 30 31\\n30 31\\n\\n       April                      May                       June\\nMo Tu We Th Fr Sa Su      Mo Tu We Th Fr Sa Su      Mo Tu We Th Fr Sa Su\\n                1  2       1  2  3  4  5  6  7                1  2  3  4\\n 3  4  5  6  7  8  9       8  9 10 11 12 13 14       5  6  7  8  9 10 11\\n10 11 12 13 14 15 16      15 16 17 18 19 20 21      12 13 14 15 16 17 18\\n17 18 19 20 21 22 23      22 23 24 25 26 27 28      19 20 21 22 23 24 25\\n24 25 26 27 28 29 30      29 30 31                  26 27 28 29 30\\n\\n        July                     August                  September\\nMo Tu We Th Fr Sa Su      Mo Tu We Th Fr Sa Su      Mo Tu We Th Fr Sa Su\\n                1  2          1  2  3  4  5  6                   1  2  3\\n 3  4  5  6  7  8  9       7  8  9 10 11 12 13       4  5  6  7  8  9 10\\n10 11 12 13 14 15 16      14 15 16 17 18 19 20      11 12 13 14 15 16 17\\n17 18 19 20 21 22 23      21 22 23 24 25 26 27      18 19 20 21 22 23 24\\n24 25 26 27 28 29 30      28 29 30 31               25 26 27 28 29 30\\n31\\n\\n      October                   November                  December\\nMo Tu We Th Fr Sa Su      Mo Tu We Th Fr Sa Su      Mo Tu We Th Fr Sa Su\\n                   1             1  2  3  4  5                   1  2  3\\n 2  3  4  5  6  7  8       6  7  8  9 10 11 12       4  5  6  7  8  9 10\\n 9 10 11 12 13 14 15      13 14 15 16 17 18 19      11 12 13 14 15 16 17\\n16 17 18 19 20 21 22      20 21 22 23 24 25 26      18 19 20 21 22 23 24\\n23 24 25 26 27 28 29      27 28 29 30               25 26 27 28 29 30 31\\n30 31\\n'"
      ]
     },
     "execution_count": 11,
     "metadata": {},
     "output_type": "execute_result"
    }
   ],
   "source": [
    "import calendar\n",
    "calendar.calendar(2023,w=2,l=1,c=6,m=3)"
   ]
  },
  {
   "cell_type": "markdown",
   "id": "16d9988f-5e65-407e-82eb-e0509dcdfb03",
   "metadata": {},
   "source": [
    "<h3>4. Write a Python program to solve quadratic equation?</h3>"
   ]
  },
  {
   "cell_type": "code",
   "execution_count": 12,
   "id": "1785dc88-a43e-4fb9-9c72-50b5f4fc0d2a",
   "metadata": {},
   "outputs": [
    {
     "name": "stdout",
     "output_type": "stream",
     "text": [
      "The solution are (-3+0j) and (-2+0j)\n"
     ]
    }
   ],
   "source": [
    "import cmath\n",
    "\n",
    "a = 1\n",
    "b = 5\n",
    "c = 6\n",
    "\n",
    "# calculate the discriminant\n",
    "d = (b**2) - (4*a*c)\n",
    "\n",
    "# find two solutions\n",
    "sol1 = (-b-cmath.sqrt(d))/(2*a)\n",
    "sol2 = (-b+cmath.sqrt(d))/(2*a)\n",
    "\n",
    "print('The solution are {0} and {1}'.format(sol1,sol2))"
   ]
  },
  {
   "cell_type": "markdown",
   "id": "fb9d0149-be1a-4e45-89fb-9faa7e1fda61",
   "metadata": {},
   "source": [
    "<h3>5. Write a Python program to swap two variables without temp variable?</h3>"
   ]
  },
  {
   "cell_type": "code",
   "execution_count": 13,
   "id": "0be2f10f-a89e-437d-9b84-38cb97e74b21",
   "metadata": {},
   "outputs": [
    {
     "name": "stdout",
     "output_type": "stream",
     "text": [
      "20 10\n"
     ]
    }
   ],
   "source": [
    "a=10\n",
    "b=20\n",
    "a=a+b\n",
    "b=a-b\n",
    "a=a-b\n",
    "print(a,b)"
   ]
  },
  {
   "cell_type": "code",
   "execution_count": null,
   "id": "b2538f4a-e4b3-4c87-b605-050636f99ff6",
   "metadata": {},
   "outputs": [],
   "source": []
  }
 ],
 "metadata": {
  "kernelspec": {
   "display_name": "Python 3",
   "language": "python",
   "name": "python3"
  },
  "language_info": {
   "codemirror_mode": {
    "name": "ipython",
    "version": 3
   },
   "file_extension": ".py",
   "mimetype": "text/x-python",
   "name": "python",
   "nbconvert_exporter": "python",
   "pygments_lexer": "ipython3",
   "version": "3.8.8"
  }
 },
 "nbformat": 4,
 "nbformat_minor": 5
}
