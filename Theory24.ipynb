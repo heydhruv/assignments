{
 "cells": [
  {
   "cell_type": "markdown",
   "id": "dc6cc5cb-f4c4-4810-ac9e-45eafdedf0d9",
   "metadata": {},
   "source": [
    "1. What is the relationship between def statements and lambda expressions ?"
   ]
  },
  {
   "cell_type": "markdown",
   "id": "7e0ff09d-b834-42dc-a11b-c5705a2a321f",
   "metadata": {},
   "source": [
    "normally we create functions with def ketword lambda is used for oneliner function to perform quick operations and it dont have name"
   ]
  },
  {
   "cell_type": "markdown",
   "id": "4b1b8c2e-ab36-4bd4-a771-bb8d6fbfc4ec",
   "metadata": {},
   "source": [
    "2. What is the benefit of lambda?"
   ]
  },
  {
   "cell_type": "markdown",
   "id": "3f4d94da-ebee-4eed-bd8c-1e69b0081d0b",
   "metadata": {},
   "source": [
    "\n",
    "    Can be used to create Nameless/Anonymous functions inside some complex functions if we are planning to use it only once.\n",
    "    Moderate to small functions can be created in a single line\n",
    "    Fuctions created using lambda expressions can be assigned to a variable and can be used by simply calling the variable\n"
   ]
  },
  {
   "cell_type": "markdown",
   "id": "60555c42-aeb9-4818-855e-f31201fecbe3",
   "metadata": {},
   "source": [
    "3. Compare and contrast map, filter, and reduce."
   ]
  },
  {
   "cell_type": "markdown",
   "id": "c451fead-6f6d-4252-9444-39601b237d20",
   "metadata": {},
   "source": [
    "\n",
    "    map(): The map() function is a type of higher-order. This function takes another function as a parameter\n",
    "\n",
    "along with a sequence of iterables and returns an output after applying the function to each iterable present in the sequence. 2. filter(): The filter() function is used to create an output list consisting of values for which the function returns true. 3. reduce(): The reduce() function, as the name describes, applies a given function to the iterables and returns a single value"
   ]
  },
  {
   "cell_type": "markdown",
   "id": "44bf05ee-72c4-4ab0-b7fd-2c7b5dce4081",
   "metadata": {},
   "source": [
    "4. What are function annotations, and how are they used?"
   ]
  },
  {
   "cell_type": "markdown",
   "id": "592cf9d7-3ae7-406f-b166-efd89f19ee86",
   "metadata": {},
   "source": [
    "a design pattern in Python that allows a user to add new functionality to an existing object without modifying its structure. "
   ]
  },
  {
   "cell_type": "markdown",
   "id": "a7f0e12a-023c-4767-9a4c-0799cf05e583",
   "metadata": {},
   "source": [
    "5. What are recursive functions, and how are they used?"
   ]
  },
  {
   "cell_type": "markdown",
   "id": "af16e613-b0fb-4fad-99b9-7e32d3e63a4d",
   "metadata": {},
   "source": [
    "A recursive function is a function that calls itself during its execution. The process may repeat several times, outputting the result and the end of each iteration."
   ]
  },
  {
   "cell_type": "markdown",
   "id": "646f55d0-43b9-4941-94b2-d04388f3d606",
   "metadata": {},
   "source": [
    "6. What are some general design guidelines for coding functions?"
   ]
  },
  {
   "cell_type": "markdown",
   "id": "46bcee31-ee01-4330-bc4b-7d9fd998892b",
   "metadata": {},
   "source": [
    "\n",
    "    Always use a docstring to explain the functionality of the function\n",
    "    avoid using or limited use of global variables\n",
    "    Proper Identation to increase the code readability\n",
    "    try to follow a naming convention for function names (pascalCase or camelCase) and stick with the same convention throughout the application.\n",
    "    Avoid using digits while choosing a variable name\n",
    "    try to use a name for the function which conveys the purpose of the function\n",
    "    Local variables should be named using camelCase format (ex: localVariable) whereas Global variables names should be using PascalCase (ex:GlobalVariable).\n",
    "    Constant should be represented in allcaps (ex:CONSTANT).\n"
   ]
  },
  {
   "cell_type": "markdown",
   "id": "0e5f70d7-8e2e-4ca6-a38a-328bff064bde",
   "metadata": {},
   "source": [
    "7 Name three or more ways that functions can communicate results to a caller."
   ]
  },
  {
   "cell_type": "markdown",
   "id": "f4148e55-8e8d-4274-8b40-2d1d310b22fe",
   "metadata": {},
   "source": [
    "\n",
    "    print\n",
    "    return\n",
    "    yield\n"
   ]
  },
  {
   "cell_type": "code",
   "execution_count": null,
   "id": "33ead045-57ee-41ab-ae00-ce14b4b372e5",
   "metadata": {},
   "outputs": [],
   "source": []
  }
 ],
 "metadata": {
  "kernelspec": {
   "display_name": "Python 3",
   "language": "python",
   "name": "python3"
  },
  "language_info": {
   "codemirror_mode": {
    "name": "ipython",
    "version": 3
   },
   "file_extension": ".py",
   "mimetype": "text/x-python",
   "name": "python",
   "nbconvert_exporter": "python",
   "pygments_lexer": "ipython3",
   "version": "3.8.8"
  }
 },
 "nbformat": 4,
 "nbformat_minor": 5
}
