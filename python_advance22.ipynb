{
 "cells": [
  {
   "cell_type": "markdown",
   "id": "c8626ecc-3452-4002-83a1-1ff1f96a6665",
   "metadata": {},
   "source": [
    "<h3>Q1. What are the benefits of the built-in array package, if any?</h3>"
   ]
  },
  {
   "cell_type": "markdown",
   "id": "d992b81b-2b2b-40a8-95f8-3cf468e6b818",
   "metadata": {},
   "source": [
    "Arrays represent multiple data items of the same type using a single name. In arrays, the elements can be accessed randomly by using the index number. Arrays allocate memory in contiguous memory locations for all its elements. Hence there is no chance of extra memory being allocated in case of arrays. This avoids memory overflow or shortage of memory in arrays.\n"
   ]
  },
  {
   "cell_type": "markdown",
   "id": "d6eb58d0-f733-4f5f-9317-1bc5ee32c0d8",
   "metadata": {},
   "source": [
    "<h3>Q2. What are some of the array package&#39;s limitations?</h3>"
   ]
  },
  {
   "cell_type": "markdown",
   "id": "31fb3d4e-9806-4a68-a297-6df2468571d7",
   "metadata": {},
   "source": [
    "The number of elements to be stored in an array should be known in advance. An array is a static structure (which means the array is of fixed size). Once declared the size of the array cannot be modified. The memory which is allocated to it cannot be increased or decreased.\n",
    "\n",
    "Insertion and deletion are quite difficult in     Fixed size: Arrays have a fixed size that is determined at the time of creation. This means that if the size of the array needs to be increased, a new array must be created and the data must be copied from the old array to the new array, which can be time-consuming and memory-intensive.\n",
    "    Memory allocation issues: Allocating a large array can be problematic, particularly in systems with limited memory. If the size of the array is too large, the system may run out of memory, which can cause the program to crash.\n",
    "    Insertion and deletion issues: Inserting or deleting an element from an array can be inefficient and time-consuming because all the elements after the insertion or deletion point must be shifted to accommodate the change.\n",
    "    Wasted space: If an array is not fully populated, there can be wasted space in the memory allocated for the array. This can be a concern if memory is limited.\n",
    "    Limited data type support: Arrays have limited support for complex data types such as objects and structures, as the elements of an array must all be of the same data type.\n",
    "    Lack of flexibility: The fixed size and limited support for complex data types can make arrays inflexible compared to other data structures such as linked lists and trees.\n",
    "\n",
    "an array as the elements are stored in consecutive memory locations and the shifting operation is costly.\n",
    "\n",
    "Allocating more memory than the requirement leads to wastage of memory space and less allocation of memory also leads to a problem"
   ]
  },
  {
   "cell_type": "markdown",
   "id": "f719cdf8-7db6-4ed7-a171-87dd014e6eb4",
   "metadata": {},
   "source": [
    "<h3>Q3. Describe the main differences between the array and numpy packages.</h3>"
   ]
  },
  {
   "cell_type": "markdown",
   "id": "b927c702-2c28-4aaa-8a49-deb6052fcdde",
   "metadata": {},
   "source": [
    " The array package doesn't provide any help with numerical calculation with the items insdie it in number form while NumPy give you a wide variety of numerical operations.\n",
    "\n",
    "An array is a single dimensional entity which hold the numerical data, while numpy can have more than 1 dimension.\n",
    "\n",
    "In case of array, item can be accessed by its index position and it is easy task while in numpy item is accessed by its column and row index, which makes it slightly time taking. Same goes with appending operation.\n",
    "\n",
    "In case of array we do not form a tabular structure, while in numpy it forms a tabular structure"
   ]
  },
  {
   "cell_type": "markdown",
   "id": "62100b03-36a2-441f-b1ca-a60383e57796",
   "metadata": {},
   "source": [
    "<h3>Q4. Explain the distinctions between the empty, ones, and zeros functions.</h3>"
   ]
  },
  {
   "cell_type": "markdown",
   "id": "ef6d1f77-0b41-4174-b23f-64ab0bbb7cb8",
   "metadata": {},
   "source": [
    "\n",
    "    Empty function: An empty function is a function that does not contain any statement within its body. If you try to write a function definition without any statement in python ,it will return an error. To avoid this, we use pass statement. pass is a special statement in Python that does nothing. It only works as a dummy statement.\n",
    "    Ones: This function returns a new array of given shape and data type, where the element’s value is 1.\n",
    "    Zeros: This function returns a new array of given shape and data type, where the element’s value is 0.\n"
   ]
  },
  {
   "cell_type": "markdown",
   "id": "4ec62d34-7a05-44e8-a985-e5fee0d773b8",
   "metadata": {},
   "source": [
    "<h3>Q5. In the fromfunction function, which is used to construct new arrays, what is the role of the callable\n",
    "argument?</h3>"
   ]
  },
  {
   "cell_type": "markdown",
   "id": "8024beec-59a3-45d4-af95-a616e7152e4a",
   "metadata": {},
   "source": [
    "Its function is to execute the function over each coordinate and the resulting array. The function is called with N parameters, where N is the rank of shape. Each parameter represents the coordinates of the array varying along a specific axis."
   ]
  },
  {
   "cell_type": "markdown",
   "id": "79e14bee-2fc6-44f2-8ce7-47eddb37bfca",
   "metadata": {},
   "source": [
    "<h3>Q6. What happens when a numpy array is combined with a single-value operand (a scalar, such as\n",
    "an int or a floating-point value) through addition, as in the expression A + n?</h3>"
   ]
  },
  {
   "cell_type": "markdown",
   "id": "6b880ad0-c65e-4c1c-8746-94598c0a6624",
   "metadata": {},
   "source": [
    "If any scaler value such as integer is added to the numpy array then all the elements inside the array will add that value in it.\n"
   ]
  },
  {
   "cell_type": "markdown",
   "id": "e341bd95-79b2-4948-ab11-988f3e0ad06a",
   "metadata": {},
   "source": [
    "<h3>Q7. Can array-to-scalar operations use combined operation-assign operators (such as += or *=)?\n",
    "What is the outcome?</h3>"
   ]
  },
  {
   "cell_type": "markdown",
   "id": "459d0e1e-f00d-42df-94ad-b7a6737cf75d",
   "metadata": {},
   "source": [
    "it will carry out provided operation on all elements of array."
   ]
  },
  {
   "cell_type": "markdown",
   "id": "d8d922ec-f468-4f25-932a-d47ed3889f3d",
   "metadata": {},
   "source": [
    "<h3>Q8. Does a numpy array contain fixed-length strings? What happens if you allocate a longer string to one of these arrays ?</h3>"
   ]
  },
  {
   "cell_type": "markdown",
   "id": "b51af557-26af-46b5-8cda-dca2c7776d93",
   "metadata": {},
   "source": [
    " Yes, it is possible that we can include a string of fixed length in numpy array. The dtype of any numpy array containing string values is the maximum length of any string present in the array.Once set, it will only be able to store new string having length not more than the maximum length at the time of the creation. If we try to reassign some another string value having length greater than the maximum length of the existing elements, it simply discards all the values beyond the maximum length accept upto those values which are under the limit."
   ]
  },
  {
   "cell_type": "markdown",
   "id": "0eceee5f-b499-4875-8e77-f6d3e25f409f",
   "metadata": {},
   "source": [
    "<h3>Q9. What happens when you combine two numpy arrays using an operation like addition (+) or\n",
    "multiplication (*)? What are the conditions for combining two numpy arrays?</h3>"
   ]
  },
  {
   "cell_type": "markdown",
   "id": "eaf928bc-6f87-44a3-80b3-6d5ce20ff508",
   "metadata": {},
   "source": [
    " It will simply add or multiply element to element at same position."
   ]
  },
  {
   "cell_type": "markdown",
   "id": "4538c784-87fe-4b93-b502-a9574ea75e96",
   "metadata": {},
   "source": [
    "<h3>Q10. What is the best way to use a Boolean array to mask another array?</h3>"
   ]
  },
  {
   "cell_type": "markdown",
   "id": "a182c89f-4ccd-44bc-9f57-6b28eaad8ad0",
   "metadata": {},
   "source": [
    "the best way to use a Boolean array to mask another array is by Using masked_where of numpy package"
   ]
  },
  {
   "cell_type": "markdown",
   "id": "9297cbe9-17ae-4e74-891f-76378b7ae820",
   "metadata": {},
   "source": [
    "<h3>Q11. What are three different ways to get the standard deviation of a wide collection of data using\n",
    "both standard Python and its packages? Sort the three of them by how quickly they execute.</h3>"
   ]
  },
  {
   "cell_type": "markdown",
   "id": "c1673307-1a5e-45b6-9671-26a6744d3ba9",
   "metadata": {},
   "source": [
    "np.std and math package can be used individually."
   ]
  },
  {
   "cell_type": "markdown",
   "id": "f664c33f-74ef-4f4d-8ca6-068ccfaeac42",
   "metadata": {},
   "source": [
    "<h3>12. What is the dimensionality of a Boolean mask-generated array?</h3>"
   ]
  },
  {
   "cell_type": "markdown",
   "id": "82bf8760-b621-4906-b859-146e0da7898d",
   "metadata": {},
   "source": [
    " It will have same dimensionality as input array."
   ]
  },
  {
   "cell_type": "code",
   "execution_count": null,
   "id": "94520a45-712f-4141-9676-97251c8396af",
   "metadata": {},
   "outputs": [],
   "source": []
  }
 ],
 "metadata": {
  "kernelspec": {
   "display_name": "Python 3",
   "language": "python",
   "name": "python3"
  },
  "language_info": {
   "codemirror_mode": {
    "name": "ipython",
    "version": 3
   },
   "file_extension": ".py",
   "mimetype": "text/x-python",
   "name": "python",
   "nbconvert_exporter": "python",
   "pygments_lexer": "ipython3",
   "version": "3.8.8"
  }
 },
 "nbformat": 4,
 "nbformat_minor": 5
}
