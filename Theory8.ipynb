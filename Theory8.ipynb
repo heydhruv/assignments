{
 "cells": [
  {
   "cell_type": "markdown",
   "id": "123fe4de-2e03-4e64-89ab-307083999981",
   "metadata": {},
   "source": [
    "<h3>1. Is the Python Standard Library included with PyInputPlus?</h3>"
   ]
  },
  {
   "cell_type": "markdown",
   "id": "75a7a760-659b-427b-9652-b786ccac85ad",
   "metadata": {},
   "source": [
    "no its not included"
   ]
  },
  {
   "cell_type": "markdown",
   "id": "1933272d-24bd-457c-ad87-863abfe55502",
   "metadata": {},
   "source": [
    "<h3>2. Why is PyInputPlus commonly imported with import pyinputplus as pypi?</h3>"
   ]
  },
  {
   "cell_type": "markdown",
   "id": "435eb71d-8281-480e-bed8-51212c315e80",
   "metadata": {},
   "source": [
    "its not pypi but as pyip what you can write whatever you want"
   ]
  },
  {
   "cell_type": "markdown",
   "id": "748556a4-4567-42de-ba2d-b209108a6886",
   "metadata": {},
   "source": [
    "<h3>3. How do you distinguish between inputInt() and inputFloat()?</h3>"
   ]
  },
  {
   "cell_type": "markdown",
   "id": "7f0ed50e-9e8f-487a-80a3-e4973370abca",
   "metadata": {},
   "source": [
    " inputInt() takes int returns int , inputFloat() takes float and return float"
   ]
  },
  {
   "cell_type": "markdown",
   "id": "cbcab35f-40d8-422b-a8fc-a909d328a475",
   "metadata": {},
   "source": [
    "<h3>4. Using PyInputPlus, how do you ensure that the user enters a whole number between 0 and 99?</h3>"
   ]
  },
  {
   "cell_type": "markdown",
   "id": "d1f859c4-4af6-43da-a4f9-e1b87ff5d6d6",
   "metadata": {},
   "source": [
    "<p>import pyinputplus as pyip</p>\n",
    "<p>wholenumber = pyip.inputInt(prompt='Enter a number: ', min=0, max=100)</p>\n",
    "<p>print(wholenumber)</p>"
   ]
  },
  {
   "cell_type": "markdown",
   "id": "98369096-1938-4d3b-b2b5-b0ca040ab2bc",
   "metadata": {},
   "source": [
    "<h3>5. What is transferred to the keyword arguments allowRegexes and blockRegexes?</h3>"
   ]
  },
  {
   "cell_type": "markdown",
   "id": "3fe58bc2-9c9c-4888-b3b0-49328fd5b773",
   "metadata": {},
   "source": [
    "we can use allowRegexes and blockRegexes keyword arguments to take list of regular expression strings to determine what the pyinputplus function will reject or accept valid input."
   ]
  },
  {
   "cell_type": "markdown",
   "id": "8a9ca6a1-6ca7-4118-a3d1-7c7d4e09c652",
   "metadata": {},
   "source": [
    "<h3>6. If a blank input is entered three times, what does inputStr(limit=3) do?</h3>"
   ]
  },
  {
   "cell_type": "markdown",
   "id": "d3196c93-4224-4852-9a99-208d0760230d",
   "metadata": {},
   "source": [
    "<p>The statement inputStr(limit=3) will throw two exceptions ValidationException and RetryLimitException. The first exception is thrown because blank values are not allowed by inputStr() function by default. it we want to consider blank values as valid input, we have to set blank=True.\n",
    "\n",
    "The second exception is occured because we have reached the max limit we have specified by using limit parameter. inorder to avoid this exception we can use default parameter to return a default value when max limit is reached.</p>"
   ]
  },
  {
   "cell_type": "markdown",
   "id": "94703be9-7e03-481b-af7a-e0ce1707b091",
   "metadata": {},
   "source": [
    "<h3>7. If blank input is entered three times, what does inputStr(limit=3, default=&#39;hello&#39;) do?</h3>"
   ]
  },
  {
   "cell_type": "markdown",
   "id": "4cd29cd9-3a6d-45ce-8061-cb5fd52e95ac",
   "metadata": {},
   "source": [
    "<p>Since the default parameter is set to hello. after blank input is entered three times instead of raising RetryLimitException exception. the function will return hello as response to the calling function</p>"
   ]
  },
  {
   "cell_type": "code",
   "execution_count": null,
   "id": "7412c673-7f1c-420c-89cb-f8008a2bc2bf",
   "metadata": {},
   "outputs": [],
   "source": []
  }
 ],
 "metadata": {
  "kernelspec": {
   "display_name": "Python 3",
   "language": "python",
   "name": "python3"
  },
  "language_info": {
   "codemirror_mode": {
    "name": "ipython",
    "version": 3
   },
   "file_extension": ".py",
   "mimetype": "text/x-python",
   "name": "python",
   "nbconvert_exporter": "python",
   "pygments_lexer": "ipython3",
   "version": "3.8.8"
  }
 },
 "nbformat": 4,
 "nbformat_minor": 5
}
