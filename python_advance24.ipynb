{
 "cells": [
  {
   "cell_type": "markdown",
   "id": "96a06638-2301-4592-bbe5-188bf9072e53",
   "metadata": {},
   "source": [
    "<h3>Q1. Is it permissible to use several import statements to import the same module? What would the\n",
    "goal be? Can you think of a situation where it would be beneficial?</h3>"
   ]
  },
  {
   "cell_type": "markdown",
   "id": "9ad073d5-80e7-4cba-b797-eb3962d2a9b6",
   "metadata": {},
   "source": [
    "Yes, it is permissible to use several import statements to import the same module. It is used in case when we have to import multiple functions from same module."
   ]
  },
  {
   "cell_type": "markdown",
   "id": "b3083c78-2228-468c-9660-979c28bfc2eb",
   "metadata": {},
   "source": [
    "<h3>Q2. What are some of a module&#39;s characteristics? (Name at least one.)</h3>"
   ]
  },
  {
   "cell_type": "markdown",
   "id": "dac16b44-403a-4cff-bd9d-3fde5f444564",
   "metadata": {},
   "source": [
    "\n",
    "    __name__ : It returns the name of the module\n",
    "    __doc__ : It denotes the documentation string line written in a module code.\n",
    "    __file__ : It holds the name and path of the module file from which it is loaded\n",
    "    __dict__ : It return a dictionary object of module attributes, functions and other definitions and their respective values\n"
   ]
  },
  {
   "cell_type": "markdown",
   "id": "287947e0-83e7-4325-b318-4444bd8e43f5",
   "metadata": {},
   "source": [
    "<h3>Q3. Circular importing, such as when two modules import each other, can lead to dependencies and\n",
    "bugs that aren&#39;t visible. How can you go about creating a program that avoids mutual importing?</h3>"
   ]
  },
  {
   "cell_type": "markdown",
   "id": "d99f09c3-6141-4d2e-a057-0e797029b7f3",
   "metadata": {},
   "source": [
    "circular importing means importing the two modules in each other. If suppose we are wokring in MOD1.py file and it is importing some function say F2() from some other module say MOD2.PY file or we can do vice-versa. What will happen is: This will give an import error.\n",
    "\n",
    "This is because when we import F2() function from module MOD2.py, then this will execute MOD2.py file. And in MOD2.py file there is an another statement of importing MOD1.py module.\n",
    "\n",
    "This will result in endless loop. To avoid this error just do one thingWe can use if __name__ == '__main__'\n",
    "\n",
    "In the function, you can't directly refer to the function in the program. The addition of this sentence avoids the endless loop of the program ."
   ]
  },
  {
   "cell_type": "markdown",
   "id": "6239d462-934a-43dc-aac2-00286b1e8831",
   "metadata": {},
   "source": [
    "<h3>Q4. Why is _ _all_ _ in Python?</h3>"
   ]
  },
  {
   "cell_type": "markdown",
   "id": "c8335aa8-e970-42bb-8384-b8cde6b389b6",
   "metadata": {},
   "source": [
    " It provides list of all modules present in a library."
   ]
  },
  {
   "cell_type": "markdown",
   "id": "888b3e60-940c-46f4-a7a3-a22b4c29bf75",
   "metadata": {},
   "source": [
    "<h3>Q5. In what situation is it useful to refer to the _ _name_ _ attribute or the string &#39;_ _main_ _&#39;?</h3>"
   ]
  },
  {
   "cell_type": "markdown",
   "id": "bc98dbd0-0de1-43ed-a1be-050d8f746025",
   "metadata": {},
   "source": [
    "Before executing code, Python interpreter reads source file and define few special variables/global variables. \n",
    "If the python interpreter is running that module (the source file) as the main program, it sets the special __name__ variable to have a value “__main__”. If this file is being imported from another module, __name__ will be set to the module’s name. Module’s name is available as value to __name__ global variable. "
   ]
  },
  {
   "cell_type": "markdown",
   "id": "6ad3b6e7-abee-456c-a4ed-4cd7842cbdc2",
   "metadata": {},
   "source": []
  }
 ],
 "metadata": {
  "kernelspec": {
   "display_name": "Python 3",
   "language": "python",
   "name": "python3"
  },
  "language_info": {
   "codemirror_mode": {
    "name": "ipython",
    "version": 3
   },
   "file_extension": ".py",
   "mimetype": "text/x-python",
   "name": "python",
   "nbconvert_exporter": "python",
   "pygments_lexer": "ipython3",
   "version": "3.8.8"
  }
 },
 "nbformat": 4,
 "nbformat_minor": 5
}
