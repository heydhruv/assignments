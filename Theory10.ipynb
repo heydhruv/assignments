{
 "cells": [
  {
   "cell_type": "markdown",
   "id": "26e5f2e6-9d05-430a-a1ce-8e1ada90eb28",
   "metadata": {},
   "source": [
    "<h3>1. How do you distinguish between shutil.copy() and shutil.copytree()?</h3>"
   ]
  },
  {
   "cell_type": "markdown",
   "id": "a4281a9f-d46f-4e8b-8dbc-c69021e7539d",
   "metadata": {},
   "source": [
    "<p> shutil.copy() will only copy a single file</p>\n",
    "<p>shutil.copytree()? will copy whole folder and all files&folderss  it contains </p>"
   ]
  },
  {
   "cell_type": "markdown",
   "id": "1d2ccdfe-a37f-4d51-87ea-b48718fe3b29",
   "metadata": {},
   "source": [
    "<h3>2. What function is used to rename files??</h3>"
   ]
  },
  {
   "cell_type": "markdown",
   "id": "76d76a52-41a0-4f22-bf90-27f819dfaf41",
   "metadata": {},
   "source": [
    "<p>rename()</p>"
   ]
  },
  {
   "cell_type": "markdown",
   "id": "b33faa26-660b-4e4b-8a26-fa473a30eebd",
   "metadata": {},
   "source": [
    "<h3>3. What is the difference between the delete functions in the send2trash and shutil modules?</h3>"
   ]
  },
  {
   "cell_type": "markdown",
   "id": "ca36b743-bbe4-41b0-bea7-897d421143f6",
   "metadata": {},
   "source": [
    "send2trash will sent the files to recycle bin and shutil we delete it permanently"
   ]
  },
  {
   "cell_type": "markdown",
   "id": "e5084a07-cda4-4e58-bc36-688a57b54504",
   "metadata": {},
   "source": [
    "<h3>4.ZipFile objects have a close() method just like File objects’ close() method. What ZipFile method is\n",
    "equivalent to File objects’ open() method?</h3>"
   ]
  },
  {
   "cell_type": "markdown",
   "id": "27aff656-cf34-4665-aaab-b3944b37c0f6",
   "metadata": {},
   "source": [
    "zipfile() func is equivalent to File objects’ open() method"
   ]
  },
  {
   "cell_type": "markdown",
   "id": "35ea4fcc-3451-4b15-a096-e88dfb949008",
   "metadata": {},
   "source": [
    "<h3>5. Create a programme that searches a folder tree for files with a certain file extension (such as .pdf\n",
    "or .jpg). Copy these files from whatever location they are in to a new folder.</h3>"
   ]
  },
  {
   "cell_type": "code",
   "execution_count": 5,
   "id": "03cb28d1-d018-42e4-97b7-1d20a65732fc",
   "metadata": {},
   "outputs": [],
   "source": [
    "import os\n",
    "import shutil\n",
    "\n",
    "def ops(source,dest,ext):\n",
    "    source = os.path.abspath(source)\n",
    "    dest = os.path.abspath(dest)\n",
    "    for folder, childfolder, files in os.walk(source):\n",
    "        for filename in files:\n",
    "            fileName,extension = os.path.splitext(filename)\n",
    "            if extension in extensions:\n",
    "                targetFile = folder+os.path.sep+fileName+ext\n",
    "                shutil.copy(targetFile, dest)\n",
    "        print(f'Files copied successfully from {source} to {dest}')\n",
    "    \n",
    "ext = []\n",
    "source = \n",
    "dest= \n",
    "ops(source, dest, ext)\n"
   ]
  },
  {
   "cell_type": "code",
   "execution_count": null,
   "id": "443000e2-bcfa-4762-97d7-12b3e2f11bed",
   "metadata": {},
   "outputs": [],
   "source": []
  }
 ],
 "metadata": {
  "kernelspec": {
   "display_name": "Python 3",
   "language": "python",
   "name": "python3"
  },
  "language_info": {
   "codemirror_mode": {
    "name": "ipython",
    "version": 3
   },
   "file_extension": ".py",
   "mimetype": "text/x-python",
   "name": "python",
   "nbconvert_exporter": "python",
   "pygments_lexer": "ipython3",
   "version": "3.8.8"
  }
 },
 "nbformat": 4,
 "nbformat_minor": 5
}
