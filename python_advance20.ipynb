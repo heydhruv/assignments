{
 "cells": [
  {
   "cell_type": "markdown",
   "id": "10f4ff0c-7b10-4fa9-bf43-23fcc530d483",
   "metadata": {},
   "source": [
    "<h3>1. Compare and contrast the float and Decimal classes&#39; benefits and drawbacks.</h3>"
   ]
  },
  {
   "cell_type": "markdown",
   "id": "60659609-0043-4adc-af73-9c0ed735e3f1",
   "metadata": {},
   "source": [
    "DECIMAL and FLOAT both are used to store numerical values.<br>\n",
    "Float is Approximate-number data type, which means that not all values in the data type range can be represented exactly , it round up the values.<br>\n",
    "where as Decimal is Fixed-Precision data type, which means that all the values in the data type range can be represented exactly with precision and scale, it doesn’t round up the values."
   ]
  },
  {
   "cell_type": "markdown",
   "id": "ee27d389-7b7f-4bb3-9d45-bb856b1691fa",
   "metadata": {},
   "source": [
    "<h3>2. Decimal(&#39;1.200&#39;) and Decimal(&#39;1.2&#39;) are two objects to consider. In what sense are these the same\n",
    "object? Are these just two ways of representing the exact same value, or do they correspond to\n",
    "different internal states?</h3>"
   ]
  },
  {
   "cell_type": "code",
   "execution_count": 8,
   "id": "d32a11ac-32f4-4840-b735-3330ca0e3cc8",
   "metadata": {},
   "outputs": [
    {
     "data": {
      "text/plain": [
       "Decimal('1.200')"
      ]
     },
     "execution_count": 8,
     "metadata": {},
     "output_type": "execute_result"
    }
   ],
   "source": [
    "from decimal import *\n",
    "Decimal('1.200')"
   ]
  },
  {
   "cell_type": "code",
   "execution_count": 7,
   "id": "60905a2a-39d7-4154-8c7f-385d7c5aa1c8",
   "metadata": {},
   "outputs": [
    {
     "data": {
      "text/plain": [
       "Decimal('1.2')"
      ]
     },
     "execution_count": 7,
     "metadata": {},
     "output_type": "execute_result"
    }
   ],
   "source": [
    "Decimal('1.2')\n",
    "#values are same but memory allocation is different "
   ]
  },
  {
   "cell_type": "markdown",
   "id": "ec337c10-8bda-415c-9bf6-e984f2ca2692",
   "metadata": {},
   "source": [
    "<h3>3. What happens if the equality of Decimal(&#39;1.200&#39;) and Decimal(&#39;1.2&#39;) is checked?</h3>"
   ]
  },
  {
   "cell_type": "code",
   "execution_count": 9,
   "id": "eefed902-3ab1-434d-ae13-3a986ca1f026",
   "metadata": {},
   "outputs": [
    {
     "data": {
      "text/plain": [
       "True"
      ]
     },
     "execution_count": 9,
     "metadata": {},
     "output_type": "execute_result"
    }
   ],
   "source": [
    "Decimal('1.200')==Decimal('1.2')\n",
    "#same diff precision"
   ]
  },
  {
   "cell_type": "markdown",
   "id": "de751be5-7aa8-4dec-b932-75c39f67e491",
   "metadata": {},
   "source": [
    "<h3>4. Why is it preferable to start a Decimal object with a string rather than a floating-point value?</h3>"
   ]
  },
  {
   "cell_type": "markdown",
   "id": "f1b39a2e-b2c2-42ac-a196-d204fa78a700",
   "metadata": {},
   "source": [
    "floating-point value is converted to Decimal format. Decimal can store float value with absolute precision. But when float value is given as Decimal object,it first has to be converted from floating point value which might already have rounding error.\n",
    "\n"
   ]
  },
  {
   "cell_type": "markdown",
   "id": "d56d0158-4fa3-43d9-a223-52af956c61aa",
   "metadata": {},
   "source": [
    "<h3>5. In an arithmetic phrase, how simple is it to combine Decimal objects with integers?</h3>"
   ]
  },
  {
   "cell_type": "markdown",
   "id": "a8bea690-6be8-4963-b545-3d60735d0211",
   "metadata": {},
   "source": [
    "We can do it with use of Decimal()."
   ]
  },
  {
   "cell_type": "markdown",
   "id": "a3f010a2-3206-40bb-a646-43aa0167a148",
   "metadata": {},
   "source": [
    "<h3>6. Can Decimal objects and floating-point values be combined easily?</h3>"
   ]
  },
  {
   "cell_type": "code",
   "execution_count": 11,
   "id": "dcccade7-4d23-425b-a1fe-2d3d74e87679",
   "metadata": {},
   "outputs": [
    {
     "ename": "TypeError",
     "evalue": "unsupported operand type(s) for +: 'decimal.Decimal' and 'float'",
     "output_type": "error",
     "traceback": [
      "\u001b[0;31m---------------------------------------------------------------------------\u001b[0m",
      "\u001b[0;31mTypeError\u001b[0m                                 Traceback (most recent call last)",
      "\u001b[0;32m<ipython-input-11-2e18f88b2bc6>\u001b[0m in \u001b[0;36m<module>\u001b[0;34m\u001b[0m\n\u001b[0;32m----> 1\u001b[0;31m \u001b[0mDecimal\u001b[0m\u001b[0;34m(\u001b[0m\u001b[0;34m'1.200'\u001b[0m\u001b[0;34m)\u001b[0m\u001b[0;34m+\u001b[0m\u001b[0;36m1.0\u001b[0m\u001b[0;34m\u001b[0m\u001b[0;34m\u001b[0m\u001b[0m\n\u001b[0m",
      "\u001b[0;31mTypeError\u001b[0m: unsupported operand type(s) for +: 'decimal.Decimal' and 'float'"
     ]
    }
   ],
   "source": [
    "Decimal('1.200')+1.0"
   ]
  },
  {
   "cell_type": "markdown",
   "id": "5f9d22e2-d7f4-42f6-8faf-f411d991ac70",
   "metadata": {},
   "source": [
    "<h3>7. Using the Fraction class but not the Decimal class, give an example of a quantity that can be\n",
    "expressed with absolute precision.</h3>"
   ]
  },
  {
   "cell_type": "code",
   "execution_count": 15,
   "id": "3a419717-052c-4740-8822-4356a75d16ef",
   "metadata": {},
   "outputs": [
    {
     "data": {
      "text/plain": [
       "Fraction(1, 2)"
      ]
     },
     "execution_count": 15,
     "metadata": {},
     "output_type": "execute_result"
    }
   ],
   "source": [
    "from fractions import Fraction\n",
    "Fraction(0.5)"
   ]
  },
  {
   "cell_type": "markdown",
   "id": "ac5918ce-27b6-4a0d-904e-18851ad69350",
   "metadata": {},
   "source": [
    "<h3>8. Describe a quantity that can be accurately expressed by the Decimal or Fraction classes but not by\n",
    "a floating-point value.</h3>"
   ]
  },
  {
   "cell_type": "markdown",
   "id": "6d3cc162-532e-4660-a164-1e2b927367ff",
   "metadata": {},
   "source": [
    "Both will be reduced to 1/2"
   ]
  },
  {
   "cell_type": "markdown",
   "id": "26ddaae8-6c45-4b98-894e-3b6ef93bc68b",
   "metadata": {},
   "source": [
    "<h3>Q9.Consider the following two fraction objects: Fraction(1, 2) and Fraction(1, 2). (5, 10). Is the internal\n",
    "state of these two objects the same? Why do you think that is?</h3>"
   ]
  },
  {
   "cell_type": "markdown",
   "id": "a1a44383-3545-4e7f-b450-a284307131a3",
   "metadata": {},
   "source": [
    "Fraction class and integer type(int) are related in form of a container.It contains two ints, one the numerator and the other the denominator"
   ]
  },
  {
   "cell_type": "markdown",
   "id": "914a36f5-dc8a-4877-94b9-dfc37f24b16d",
   "metadata": {},
   "source": [
    "<h3>Q10. How do the Fraction class and the integer type (int) relate to each other? Containment or\n",
    "inheritance?</h3>"
   ]
  },
  {
   "cell_type": "code",
   "execution_count": null,
   "id": "b8bacef1-9c8d-4a90-85ec-82161912a30c",
   "metadata": {},
   "outputs": [],
   "source": []
  }
 ],
 "metadata": {
  "kernelspec": {
   "display_name": "Python 3",
   "language": "python",
   "name": "python3"
  },
  "language_info": {
   "codemirror_mode": {
    "name": "ipython",
    "version": 3
   },
   "file_extension": ".py",
   "mimetype": "text/x-python",
   "name": "python",
   "nbconvert_exporter": "python",
   "pygments_lexer": "ipython3",
   "version": "3.8.8"
  }
 },
 "nbformat": 4,
 "nbformat_minor": 5
}
