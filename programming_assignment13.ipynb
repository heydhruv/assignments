{
 "cells": [
  {
   "cell_type": "markdown",
   "id": "661dc012-7190-40ea-ba22-330e9436435d",
   "metadata": {},
   "source": [
    "<h1>Write a program that calculates and prints the value according to the given formula:\n",
    "Q = Square root of [(2 * C * D)/H]\n",
    "Following are the fixed values of C and H:\n",
    "C is 50. H is 30.\n",
    "D is the variable whose values should be input to your program in a comma-separated\n",
    "sequence..</h1>"
   ]
  },
  {
   "cell_type": "code",
   "execution_count": 23,
   "id": "915bca0c-0fe4-4a14-bf71-7ad50dfabcf2",
   "metadata": {},
   "outputs": [
    {
     "name": "stdout",
     "output_type": "stream",
     "text": [
      "18 22 24 "
     ]
    }
   ],
   "source": [
    "from math import sqrt\n",
    "def calc(x):\n",
    "    \n",
    "    c=50\n",
    "    h=30\n",
    "    for i in x:\n",
    "        o=int(sqrt((2*c*i)/h))\n",
    "        print(o,end=' ')\n",
    "calc([100,150,180])    "
   ]
  },
  {
   "cell_type": "markdown",
   "id": "a4ea2e06-ce19-46fb-9ecb-ddec9aeb1658",
   "metadata": {},
   "source": [
    "<h1>Write a program which takes 2 digits, X,Y as input and generates a 2-dimensional array. The\n",
    "element value in the i-th row and j-th column of the array should be i*j.\n",
    "Note: i=0,1.., X-1; j=0,1,¡Y-1.\n",
    "</h1><p>Example\n",
    "Suppose the following inputs are given to the program:\n",
    "3,5\n",
    "Then, the output of the program should be:\n",
    "[[0, 0, 0, 0, 0], [0, 1, 2, 3, 4], [0, 2, 4, 6, 8]]</p>"
   ]
  },
  {
   "cell_type": "code",
   "execution_count": 25,
   "id": "74f437eb-4318-4573-b8c7-39ad793a69cb",
   "metadata": {},
   "outputs": [
    {
     "data": {
      "text/plain": [
       "[[0, 0, 0, 0, 0], [0, 1, 2, 3, 4], [0, 2, 4, 6, 8]]"
      ]
     },
     "execution_count": 25,
     "metadata": {},
     "output_type": "execute_result"
    }
   ],
   "source": [
    "def arrdim(x,y):\n",
    "    arr=[[i*j for j in range(y)]for i in range(x)]\n",
    "    return arr\n",
    "arrdim(3,5)    \n",
    "    \n",
    "            "
   ]
  },
  {
   "cell_type": "markdown",
   "id": "21f2bcc4-c97c-4f15-b694-0e81b36b6e18",
   "metadata": {},
   "source": [
    "<h1>Write a program that accepts a comma separated sequence of words as input and prints the\n",
    "words in a comma-separated sequence after sorting them alphabetically.</h1>\n",
    "<p>Suppose the following input is supplied to the program:\n",
    "without,hello,bag,world\n",
    "Then, the output should be:\n",
    "bag,hello,without,world</p>"
   ]
  },
  {
   "cell_type": "code",
   "execution_count": 40,
   "id": "257574e3-90da-40f4-bf89-c29dc568f45a",
   "metadata": {},
   "outputs": [
    {
     "name": "stdin",
     "output_type": "stream",
     "text": [
      "enter words hello,bag,world\n"
     ]
    },
    {
     "data": {
      "text/plain": [
       "'bag,hello,world'"
      ]
     },
     "execution_count": 40,
     "metadata": {},
     "output_type": "execute_result"
    }
   ],
   "source": [
    "def strsort():\n",
    "    x=str(input(\"enter words\"))\n",
    "    y=','.join(sorted(x.split(\",\")))\n",
    "    # x=x.split(\",\")\n",
    "    # x.sort()\n",
    "    return y\n",
    "strsort()"
   ]
  },
  {
   "cell_type": "markdown",
   "id": "b64a9dbb-0540-4390-8b01-1f5e9d8232ba",
   "metadata": {},
   "source": [
    "<h1>Write a program that accepts a sequence of whitespace separated words as input and prints\n",
    "the words after removing all duplicate words and sorting them alphanumerically.</h1>\n",
    "<p>hello world and practice makes perfect and hello world again\n",
    "Then, the output should be:\n",
    "again and hello makes perfect practice world</p>"
   ]
  },
  {
   "cell_type": "code",
   "execution_count": 47,
   "id": "250c9e11-33c0-4be5-bdea-3fe905d2f8c3",
   "metadata": {},
   "outputs": [
    {
     "name": "stdin",
     "output_type": "stream",
     "text": [
      "enter words hello world and practice makes perfect and hello world again\n"
     ]
    },
    {
     "data": {
      "text/plain": [
       "'again and hello makes perfect practice world'"
      ]
     },
     "execution_count": 47,
     "metadata": {},
     "output_type": "execute_result"
    }
   ],
   "source": [
    "def alphanumsort():\n",
    "    x=str(input(\"enter words\"))\n",
    "    y=' '.join(sorted(set(x.split(\" \"))))\n",
    "    return y\n",
    "alphanumsort()"
   ]
  },
  {
   "cell_type": "markdown",
   "id": "b927447d-c952-4802-8525-2a1443b0a8e9",
   "metadata": {},
   "source": [
    "<h1>Write a program that accepts a sentence and calculate the number of letters and digits.</h1>"
   ]
  },
  {
   "cell_type": "code",
   "execution_count": 68,
   "id": "c54ad283-4236-4a36-b55d-83b590220578",
   "metadata": {},
   "outputs": [
    {
     "name": "stdin",
     "output_type": "stream",
     "text": [
      "enter the str this is 2023\n"
     ]
    },
    {
     "name": "stdout",
     "output_type": "stream",
     "text": [
      "letters are 6 and digits are 4\n"
     ]
    }
   ],
   "source": [
    "def dignum():\n",
    "    letter=0\n",
    "    digit=0\n",
    "    x=input(\"enter the str\")\n",
    "    \n",
    "    for i in x:\n",
    "        if i.isalpha()==True:\n",
    "            letter+=1\n",
    "        elif i.isnumeric()==True:\n",
    "            digit+=1\n",
    "        else:\n",
    "            pass\n",
    "    print(f\"letters are {letter} and digits are {digit}\")  \n",
    "dignum()    "
   ]
  },
  {
   "cell_type": "markdown",
   "id": "2dc7e8d9-cd26-4634-91ee-00536a895f13",
   "metadata": {},
   "source": [
    "<h1>A website requires the users to input username and password to register. Write a program to\n",
    "check the validity of password input by users.</h1>\n",
    "<p>1. At least 1 letter between [a-z]\n",
    "2. At least 1 number between [0-9]\n",
    "1. At least 1 letter between [A-Z]\n",
    "3. At least 1 character from [$#@]\n",
    "4. Minimum length of transaction password: 6\n",
    "5. Maximum length of transaction password: 12\n",
    "Your program should accept a sequence of comma separated passwords and will check them\n",
    "according to the above criteria. Passwords that match the criteria are to be printed, each\n",
    "separated by a comma.  If the following passwords are given as input to the program:\n",
    "ABd1234@1,a F1#,2w3E*,2We3345\n",
    "Then, the output of the program should be:\n",
    "ABd1234@1</p>"
   ]
  },
  {
   "cell_type": "code",
   "execution_count": 81,
   "id": "32d6cfd1-c84b-4ba9-b4da-b1b09738b61f",
   "metadata": {},
   "outputs": [
    {
     "name": "stdout",
     "output_type": "stream",
     "text": [
      "ABd1234@1\n"
     ]
    }
   ],
   "source": [
    "def password(x):\n",
    "    x=x.split(',')\n",
    "    special=\"@#$\"\n",
    "    for elem in x:\n",
    "        if len(elem)<=12 and len(elem)>=6:\n",
    "            if any(i.isupper() for i in elem):\n",
    "                if any(i.islower() for i in elem):\n",
    "                    if any(i.isdigit() for i in elem):\n",
    "                        if any(i for i in elem if i in special):\n",
    "                            print(elem)\n",
    "password(\"ABd1234@1,aF1#,2w3E*,2We3345\")        "
   ]
  },
  {
   "cell_type": "code",
   "execution_count": null,
   "id": "547f998e-e45a-4ed1-9f72-f0a06f5d2416",
   "metadata": {},
   "outputs": [],
   "source": []
  }
 ],
 "metadata": {
  "kernelspec": {
   "display_name": "Python 3 (ipykernel)",
   "language": "python",
   "name": "python3"
  },
  "language_info": {
   "codemirror_mode": {
    "name": "ipython",
    "version": 3
   },
   "file_extension": ".py",
   "mimetype": "text/x-python",
   "name": "python",
   "nbconvert_exporter": "python",
   "pygments_lexer": "ipython3",
   "version": "3.10.6"
  }
 },
 "nbformat": 4,
 "nbformat_minor": 5
}
