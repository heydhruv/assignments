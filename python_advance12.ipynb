{
 "cells": [
  {
   "cell_type": "markdown",
   "id": "109fbb8b-1306-4038-82bf-f057568c3271",
   "metadata": {},
   "source": [
    "<h3>Q1. Does assigning a value to a string&#39;s indexed character violate Python&#39;s string immutability?</h3>"
   ]
  },
  {
   "cell_type": "code",
   "execution_count": 2,
   "id": "4dcba4b0-7104-4773-b7cf-8c97a18c115d",
   "metadata": {},
   "outputs": [
    {
     "ename": "TypeError",
     "evalue": "'str' object does not support item assignment",
     "output_type": "error",
     "traceback": [
      "\u001b[1;31m---------------------------------------------------------------------------\u001b[0m",
      "\u001b[1;31mTypeError\u001b[0m                                 Traceback (most recent call last)",
      "\u001b[1;32m~\\AppData\\Local\\Temp\\ipykernel_22600\\1489523968.py\u001b[0m in \u001b[0;36m<module>\u001b[1;34m\u001b[0m\n\u001b[0;32m      1\u001b[0m \u001b[0ms\u001b[0m\u001b[1;33m=\u001b[0m\u001b[1;34m'hello'\u001b[0m\u001b[1;33m\u001b[0m\u001b[1;33m\u001b[0m\u001b[0m\n\u001b[1;32m----> 2\u001b[1;33m \u001b[0ms\u001b[0m\u001b[1;33m[\u001b[0m\u001b[1;36m0\u001b[0m\u001b[1;33m]\u001b[0m\u001b[1;33m=\u001b[0m\u001b[1;34m'Q'\u001b[0m\u001b[1;33m\u001b[0m\u001b[1;33m\u001b[0m\u001b[0m\n\u001b[0m",
      "\u001b[1;31mTypeError\u001b[0m: 'str' object does not support item assignment"
     ]
    }
   ],
   "source": [
    "s='hello'\n",
    "s[0]='Q'\n",
    "#no typeerror"
   ]
  },
  {
   "cell_type": "markdown",
   "id": "519f2a62-332b-42e1-9431-d018b441215c",
   "metadata": {},
   "source": [
    "<h3>Q2. Does using the += operator to concatenate strings violate Python&#39;s string immutability? Why or\n",
    "why not?</h3>"
   ]
  },
  {
   "cell_type": "code",
   "execution_count": 5,
   "id": "b1871391-bf0a-4631-80da-e59d9dd11cc3",
   "metadata": {},
   "outputs": [
    {
     "name": "stdout",
     "output_type": "stream",
     "text": [
      "2189991971312\n",
      "2189995822512\n"
     ]
    }
   ],
   "source": [
    "s='hello'\n",
    "print(id(s))\n",
    "s+='world'\n",
    "print(id(s)) creates new modified string and points s to its memory location"
   ]
  },
  {
   "cell_type": "markdown",
   "id": "9529175e-3086-48fb-9b32-695b1a47c826",
   "metadata": {},
   "source": [
    "<h3>Q3. In Python, how many different ways are there to index a character?</h3>"
   ]
  },
  {
   "cell_type": "code",
   "execution_count": 7,
   "id": "a8abcc55-aef4-4033-ba57-1be4a9053981",
   "metadata": {},
   "outputs": [
    {
     "name": "stdout",
     "output_type": "stream",
     "text": [
      "h\n",
      "h\n"
     ]
    }
   ],
   "source": [
    "s='hello'\n",
    "print(s[0])#positive\n",
    "print(s[-5])# negetive"
   ]
  },
  {
   "cell_type": "markdown",
   "id": "4829f3aa-4150-4521-8779-803588f46b8b",
   "metadata": {},
   "source": [
    "<h3>Q4. What is the relationship between indexing and slicing?</h3>"
   ]
  },
  {
   "cell_type": "markdown",
   "id": "d29c878f-35f8-4336-9eb1-dfdd58a7fa63",
   "metadata": {},
   "source": [
    "We can access elements of sequence datatypes by using slicing and indexing. Indexing "
   ]
  },
  {
   "cell_type": "code",
   "execution_count": 12,
   "id": "06f56858-b74c-4b0b-9d86-ae3db2166fad",
   "metadata": {},
   "outputs": [
    {
     "name": "stdout",
     "output_type": "stream",
     "text": [
      "hel\n",
      "h\n"
     ]
    }
   ],
   "source": [
    "s='hello'\n",
    "print(s[0:3])\n",
    "print(s[0])"
   ]
  },
  {
   "cell_type": "markdown",
   "id": "3c8b1528-7616-43f2-8034-da51321e0f2b",
   "metadata": {},
   "source": [
    "<h3>Q6. What is the relationship between string and character &quot;types&quot; in Python?</h3>"
   ]
  },
  {
   "cell_type": "markdown",
   "id": "a39beb9e-a091-4d59-bba0-035521c93804",
   "metadata": {},
   "source": [
    "Object that contains sequence of character datatypes are called String."
   ]
  },
  {
   "cell_type": "markdown",
   "id": "40437ff2-1558-4835-b939-2073d485b5f6",
   "metadata": {},
   "source": [
    "<h3>Q7. Identify at least two operators and one method that allow you to combine one or more smaller\n",
    "strings to create a larger string.</h3>"
   ]
  },
  {
   "cell_type": "code",
   "execution_count": 18,
   "id": "597d38c1-28a2-4262-bc06-77ceaaa2a3c0",
   "metadata": {},
   "outputs": [
    {
     "name": "stdout",
     "output_type": "stream",
     "text": [
      "dhruvdave dhruvdave\n"
     ]
    }
   ],
   "source": [
    "f='dhruv'\n",
    "l='dave'\n",
    "n=f+l\n",
    "f+=l\n",
    "print(n,f)"
   ]
  },
  {
   "cell_type": "markdown",
   "id": "be89bf1d-0886-4ce9-9f48-1a4fc64f506f",
   "metadata": {},
   "source": [
    "<h3>Q8. What is the benefit of first checking the target string with in or not in before using the index\n",
    "method to find a substring?</h3>"
   ]
  },
  {
   "cell_type": "markdown",
   "id": "d166113f-983e-4a94-b995-68e1664a1af0",
   "metadata": {},
   "source": [
    "Checking the target string with in or not Operators before using the index method to find a substring just helps confirming availability of substring and thus avoid raising of ValueError."
   ]
  },
  {
   "cell_type": "code",
   "execution_count": 19,
   "id": "8aebae65-7cfe-47a3-903e-99cda7ddff9e",
   "metadata": {},
   "outputs": [
    {
     "ename": "ValueError",
     "evalue": "substring not found",
     "output_type": "error",
     "traceback": [
      "\u001b[1;31m---------------------------------------------------------------------------\u001b[0m",
      "\u001b[1;31mValueError\u001b[0m                                Traceback (most recent call last)",
      "\u001b[1;32m~\\AppData\\Local\\Temp\\ipykernel_22600\\1579565491.py\u001b[0m in \u001b[0;36m<module>\u001b[1;34m\u001b[0m\n\u001b[1;32m----> 1\u001b[1;33m \u001b[0mf\u001b[0m\u001b[1;33m.\u001b[0m\u001b[0mindex\u001b[0m\u001b[1;33m(\u001b[0m\u001b[1;34m'q'\u001b[0m\u001b[1;33m)\u001b[0m\u001b[1;33m\u001b[0m\u001b[1;33m\u001b[0m\u001b[0m\n\u001b[0m",
      "\u001b[1;31mValueError\u001b[0m: substring not found"
     ]
    }
   ],
   "source": [
    "f.index('q')"
   ]
  },
  {
   "cell_type": "markdown",
   "id": "4f2432f7-175d-41c8-8330-f25b11342339",
   "metadata": {},
   "source": [
    "<h3>Q9. Which operators and built-in string methods produce simple Boolean (true/false) results?</h3>"
   ]
  },
  {
   "cell_type": "markdown",
   "id": "630cb6fb-c482-4453-a282-f4d4d114f0cf",
   "metadata": {},
   "source": [
    "\n",
    "    in\n",
    "    not\n",
    "    <string>.isalpha()\n",
    "    <string>.isalnum()\n",
    "    <string>.isdecimal()\n",
    "    <string>.isdigit()\n",
    "    <string>.islower()\n",
    "    <string>.isnumeric()\n",
    "    <string>.isprintable()\n",
    "    <string>.isspace()\n",
    "    <string>.istitle()\n"
   ]
  },
  {
   "cell_type": "code",
   "execution_count": null,
   "id": "b4bdd919-c2fc-464b-ad12-2fd5a87cbbea",
   "metadata": {},
   "outputs": [],
   "source": []
  }
 ],
 "metadata": {
  "kernelspec": {
   "display_name": "Python 3 (ipykernel)",
   "language": "python",
   "name": "python3"
  },
  "language_info": {
   "codemirror_mode": {
    "name": "ipython",
    "version": 3
   },
   "file_extension": ".py",
   "mimetype": "text/x-python",
   "name": "python",
   "nbconvert_exporter": "python",
   "pygments_lexer": "ipython3",
   "version": "3.9.13"
  }
 },
 "nbformat": 4,
 "nbformat_minor": 5
}
