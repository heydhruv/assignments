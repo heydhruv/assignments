{
 "cells": [
  {
   "cell_type": "markdown",
   "id": "e5ba1223-85a8-4917-a035-a60cfe950367",
   "metadata": {},
   "source": [
    "<h3>Q1. What is the distinction between a numpy array and a pandas data frame? Is there a way to\n",
    "convert between the two if there is?</h3>"
   ]
  },
  {
   "cell_type": "markdown",
   "id": "143e7e3c-03c2-4239-baf2-8bace46861ff",
   "metadata": {},
   "source": [
    "Numpy Ndarray provides a lot of convenient and optimized methods for performing several mathematical operations on vectors.\n",
    "Pandas Dataframe is an in-memory 2-dimensional tabular representation of data. In simpler words, it can be seen as a spreadsheet having rows and columns.\n",
    "\n",
    "Conversion : Dataframe=pandas.DataFrame(array)"
   ]
  },
  {
   "cell_type": "markdown",
   "id": "1bc0bbbe-5ce0-436d-ab5d-670865baebe0",
   "metadata": {},
   "source": [
    "<h3>Q2. What can go wrong when an user enters in a stock-ticker symbol, and how do you handle it?</h3>"
   ]
  },
  {
   "cell_type": "markdown",
   "id": "a4f11c90-717d-4aa9-90da-3577e893b780",
   "metadata": {},
   "source": [
    "if we dont handle stock tickers it will not give results or will give error but we can map tickers to whole name and convert it . "
   ]
  },
  {
   "cell_type": "markdown",
   "id": "5872ea87-356a-4664-bc7c-a656a1d2ddf9",
   "metadata": {},
   "source": [
    "<h3>Q3. Identify some of the plotting techniques that are used to produce a stock-market chart.</h3>"
   ]
  },
  {
   "cell_type": "markdown",
   "id": "3571f431-f896-4986-bc7b-bd1f36b7d8ca",
   "metadata": {},
   "source": [
    " Bar chart, Line Chart are used for plotting."
   ]
  },
  {
   "cell_type": "markdown",
   "id": "89c21265-e97c-41c3-bf05-1c45b963cd27",
   "metadata": {},
   "source": [
    "<h3>Q4. Why is it essential to print a legend on a stock market chart?</h3>"
   ]
  },
  {
   "cell_type": "markdown",
   "id": "01f325dc-4c09-42c4-9db4-9f6f0922302b",
   "metadata": {},
   "source": [
    " Legend will help comparison between different stocks, so will be essential on a stock market chart"
   ]
  },
  {
   "cell_type": "markdown",
   "id": "defc8f2c-442d-491e-8744-6c575f1ea5ec",
   "metadata": {},
   "source": [
    "<h3>Q5. What is the best way to limit the length of a pandas data frame to less than a year?</h3>"
   ]
  },
  {
   "cell_type": "markdown",
   "id": "784a91e3-b5ec-481f-a2fd-f9b44548f9d3",
   "metadata": {},
   "source": [
    "We can use start and end parameters for that. In start we write the date from where we are starting and at the end we write the end date. SO within this span we can restric the duration.Also we can use the parameters like periods for how much times we need the duration and we can also use the frequency parameter.\n"
   ]
  },
  {
   "cell_type": "markdown",
   "id": "482cd20c-69af-4afd-86ed-8d6a470f514f",
   "metadata": {},
   "source": [
    "<h3>Q6. What is the definition of a 180-day moving average?</h3>"
   ]
  },
  {
   "cell_type": "markdown",
   "id": "95d49365-fb1c-495e-97a2-0606fffa2866",
   "metadata": {},
   "source": [
    "The 180-day moving average is represented as a line on charts and represents the average price over the past 180 days. The moving average can give traders a sense regarding whether the trend is up or down, while also identifying potential support or resistance areas."
   ]
  },
  {
   "cell_type": "markdown",
   "id": "7976d80c-2e51-4442-8a09-2975b07064b3",
   "metadata": {},
   "source": []
  },
  {
   "cell_type": "code",
   "execution_count": null,
   "id": "dc6d6bd8-dbd3-491d-a219-e52cf71bd3fa",
   "metadata": {},
   "outputs": [],
   "source": []
  }
 ],
 "metadata": {
  "kernelspec": {
   "display_name": "Python 3",
   "language": "python",
   "name": "python3"
  },
  "language_info": {
   "codemirror_mode": {
    "name": "ipython",
    "version": 3
   },
   "file_extension": ".py",
   "mimetype": "text/x-python",
   "name": "python",
   "nbconvert_exporter": "python",
   "pygments_lexer": "ipython3",
   "version": "3.8.8"
  }
 },
 "nbformat": 4,
 "nbformat_minor": 5
}
