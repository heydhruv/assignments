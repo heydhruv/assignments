{
 "cells": [
  {
   "cell_type": "markdown",
   "id": "16add695-cfc8-4824-bc7a-226fd133c93b",
   "metadata": {},
   "source": [
    "<h3>Q1. If you have any, what are your choices for increasing the comparison between different figures on\n",
    "the same graph?</h3>"
   ]
  },
  {
   "cell_type": "markdown",
   "id": "17ed06a9-f824-418c-b8fc-50e7597a3e18",
   "metadata": {},
   "source": [
    " Matplotlib provides a convenient method called subplots for increasing the comparison between different figures on the same graph. Subplots mean a group of smaller axes (where each axis is a plot) that can exist together within a single figure."
   ]
  },
  {
   "cell_type": "markdown",
   "id": "cde97ccb-6c01-4fa7-9c59-2122124fe4b5",
   "metadata": {},
   "source": [
    "<h3>Q2. Can you explain the benefit of compound interest over a higher rate of interest that does not\n",
    "compound after reading this chapter?</h3>"
   ]
  },
  {
   "cell_type": "markdown",
   "id": "5d345635-b7a7-4645-b032-dd768b0def22",
   "metadata": {},
   "source": [
    "Compound interest makes a sum of money grow at a faster rate than simple interest,because in addition to earning returns on the money you invest, you also earn returns on those returns at the end of every compounding period, which could be daily, monthly, quarterly or annually."
   ]
  },
  {
   "cell_type": "markdown",
   "id": "1440aa9f-6eb8-4877-a722-1499288d7a30",
   "metadata": {},
   "source": [
    "<h3>Q3. What is a histogram, exactly? Name a numpy method for creating such a graph.</h3>"
   ]
  },
  {
   "cell_type": "markdown",
   "id": "e1f9a74e-34bb-4650-85b1-a66c84a07347",
   "metadata": {},
   "source": [
    "Histogram shows total values of X wrt Y. Which means at any particular position of X, Y value shows the total number of counts or data below that value of X. numpy.histogram() is the built in function used."
   ]
  },
  {
   "cell_type": "markdown",
   "id": "5be52ed9-d114-4a8c-aff0-c91d12ebad6d",
   "metadata": {},
   "source": [
    "<h3>Q4. If necessary, how do you change the aspect ratios between the X and Y axes?</h3>"
   ]
  },
  {
   "cell_type": "markdown",
   "id": "71a26b08-cb12-4eb0-ade7-671a355db338",
   "metadata": {},
   "source": [
    "We can use figure(figsize=(10,8)) function inside the matplot.pyplot library which we scale down or up the graph."
   ]
  },
  {
   "cell_type": "markdown",
   "id": "f1ab0fd1-6996-4eff-9994-4ba7aedd425e",
   "metadata": {},
   "source": [
    "<h3>Q5. Compare and contrast the three types of array multiplication between two numpy arrays: dot\n",
    "product, outer product, and regular multiplication of two numpy arrays.</h3>"
   ]
  },
  {
   "cell_type": "markdown",
   "id": "a2fb3968-a044-456d-b790-68274c07651f",
   "metadata": {},
   "source": [
    " regular multiplication values of same index get multiplied.\n",
    "\n",
    "    In dot product there is row wise multiplication, row of one array with column of second array and so on.\n",
    "    In outer multiplication every element of first array a1 will be multiply by every element of other array a2 such such the number of columns will be equal to the number of element in another array a2.\n"
   ]
  },
  {
   "cell_type": "markdown",
   "id": "9f07d745-3050-41e8-affc-d54159bdb8e4",
   "metadata": {},
   "source": [
    "<h3>Q6. Before you buy a home, which numpy function will you use to measure your monthly mortgage\n",
    "payment?</h3>"
   ]
  },
  {
   "cell_type": "markdown",
   "id": "e2bee34c-ee82-4683-8fb4-907368107661",
   "metadata": {},
   "source": [
    "np.pmt(rate, nper, pv) function we will be using in order to calculate monthly mortgage payment before you purchase a house."
   ]
  },
  {
   "cell_type": "markdown",
   "id": "20a3b698-dcc0-4013-beed-354ff95207c3",
   "metadata": {},
   "source": [
    "<h3>Q7. Can string data be stored in numpy arrays? If so, list at least one restriction that applies to this\n",
    "data.</h3>"
   ]
  },
  {
   "cell_type": "markdown",
   "id": "81b5cc00-d182-4f77-9d8c-49f1cd2183e0",
   "metadata": {},
   "source": [
    "Yes, an array can store the string. The limitation which imposed on the string data is, whenever we store the data of string dtype then it should should keep in mind that the string which is having the maximum length is the limit."
   ]
  },
  {
   "cell_type": "code",
   "execution_count": null,
   "id": "563d1cd1-766f-4e2e-8cbf-22f55d9c69b0",
   "metadata": {},
   "outputs": [],
   "source": []
  }
 ],
 "metadata": {
  "kernelspec": {
   "display_name": "Python 3",
   "language": "python",
   "name": "python3"
  },
  "language_info": {
   "codemirror_mode": {
    "name": "ipython",
    "version": 3
   },
   "file_extension": ".py",
   "mimetype": "text/x-python",
   "name": "python",
   "nbconvert_exporter": "python",
   "pygments_lexer": "ipython3",
   "version": "3.8.8"
  }
 },
 "nbformat": 4,
 "nbformat_minor": 5
}
