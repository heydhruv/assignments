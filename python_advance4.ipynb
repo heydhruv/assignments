{
 "cells": [
  {
   "cell_type": "markdown",
   "id": "bea6a820-b790-493b-9357-301e1b7ee932",
   "metadata": {},
   "source": [
    "<h3>Q1. Which two operator overloading methods can you use in your classes to support iteration?</h3>"
   ]
  },
  {
   "cell_type": "markdown",
   "id": "d5a14eb5-4307-4bf8-970a-9fa4d00cf039",
   "metadata": {},
   "source": [
    "<h3>__iter__ and __next__ are the operator overloading methods in python that support iteration and are collectively called iterator protocol.</h3>"
   ]
  },
  {
   "cell_type": "markdown",
   "id": "2bd0d4c0-2a94-4bb1-8805-621ef8b13082",
   "metadata": {},
   "source": [
    "<h3>Q2. In what contexts do the two operator overloading methods manage printing?</h3>"
   ]
  },
  {
   "cell_type": "markdown",
   "id": "ad53b072-f21e-4f9d-8f6a-364fa167e8b6",
   "metadata": {},
   "source": [
    "__str__ and __repr__ are two operator overloading methods that manage printing.<br>\n",
    "\n",
    "    In Short, the difference between both these operators is the goal of __repr__ is to be unambiguous and __str__ is to be readable.\n",
    "    Whenever we are printing any object reference internally __str__ method will be called by default.\n",
    "    The main purpose of __str__ is for readability. it prints the informal string representation of an object, one that is useful for printing the object. it may not be possible to convert result string to original object.\n",
    "    __repr__ is used to print official string representation of an object, so it includes all information and development.\n"
   ]
  },
  {
   "cell_type": "markdown",
   "id": "ffc861a3-3cd4-469b-a0cc-3f56fc8161a7",
   "metadata": {},
   "source": [
    "<h3>Q3. In a class, how do you intercept slice operations?</h3>"
   ]
  },
  {
   "cell_type": "markdown",
   "id": "b3c57fb8-b51b-46b1-b903-a207fa0cf1d2",
   "metadata": {},
   "source": [
    "In a class use of slice() in __getitem__ method is used for intercept slice operation. This slice method is provided with start integer number, stop integer number and step integer number.__getitem__(slice(start,stop,step))"
   ]
  },
  {
   "cell_type": "markdown",
   "id": "a8d3b40e-62bd-4f29-8b26-0def21351556",
   "metadata": {},
   "source": [
    "<h3>Q4. In a class, how do you capture in-place addition?</h3>"
   ]
  },
  {
   "cell_type": "markdown",
   "id": "7d906650-d360-4069-a1b6-5992da6980a8",
   "metadata": {},
   "source": [
    "In a class __iadd__ method is used for this in-place operation"
   ]
  },
  {
   "cell_type": "code",
   "execution_count": 4,
   "id": "45cd73c5-32b1-4310-904f-b7cc8d668662",
   "metadata": {},
   "outputs": [
    {
     "name": "stdout",
     "output_type": "stream",
     "text": [
      "300\n"
     ]
    }
   ],
   "source": [
    "class Book:\n",
    "    def __init__(self,pages):\n",
    "        self.pages = pages\n",
    "    def __iadd__(self,other):\n",
    "        self.pages += other.pages\n",
    "        return self.pages\n",
    "        \n",
    "b1 = Book(100)\n",
    "b2 = Book(200)\n",
    "b1+=b2\n",
    "print(b1)"
   ]
  },
  {
   "cell_type": "markdown",
   "id": "e1922c48-ac7d-4ea4-9e64-6466383c8b39",
   "metadata": {},
   "source": [
    "<h3>Q5. When is it appropriate to use operator overloading?</h3>"
   ]
  },
  {
   "cell_type": "markdown",
   "id": "4b65eef8-1729-42b0-ab36-05091581083d",
   "metadata": {},
   "source": [
    " Operator overloading is used when we want to use an operator other than its normal operation to have different meaning according to the context required in user defined function."
   ]
  },
  {
   "cell_type": "code",
   "execution_count": 9,
   "id": "ed72fb8a-951a-4531-bb90-8204f8020846",
   "metadata": {},
   "outputs": [
    {
     "data": {
      "text/plain": [
       "300"
      ]
     },
     "execution_count": 9,
     "metadata": {},
     "output_type": "execute_result"
    }
   ],
   "source": [
    "class book:\n",
    "    def __init__(self,pages):\n",
    "        self.pages=pages\n",
    "    def __add__(self,other):\n",
    "        return self.pages+other.pages\n",
    "b1=book(100)\n",
    "b2=book(200)\n",
    "b1+b2"
   ]
  },
  {
   "cell_type": "code",
   "execution_count": null,
   "id": "ba7556e0-dee6-4d73-b45e-173b6c1c5855",
   "metadata": {},
   "outputs": [],
   "source": []
  }
 ],
 "metadata": {
  "kernelspec": {
   "display_name": "Python 3 (ipykernel)",
   "language": "python",
   "name": "python3"
  },
  "language_info": {
   "codemirror_mode": {
    "name": "ipython",
    "version": 3
   },
   "file_extension": ".py",
   "mimetype": "text/x-python",
   "name": "python",
   "nbconvert_exporter": "python",
   "pygments_lexer": "ipython3",
   "version": "3.9.13"
  }
 },
 "nbformat": 4,
 "nbformat_minor": 5
}
