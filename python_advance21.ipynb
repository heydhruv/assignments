{
 "cells": [
  {
   "cell_type": "markdown",
   "id": "a24d464e-54a3-46e3-bfe6-6b19055cf13a",
   "metadata": {},
   "source": [
    "<h3>Q1. What is a probability distribution, exactly? If the values are meant to be random, how can you\n",
    "predict them at all?</h3>"
   ]
  },
  {
   "cell_type": "markdown",
   "id": "f80ea668-68d6-49c3-b889-ba747c3c51b8",
   "metadata": {},
   "source": [
    "A probability distribution describes how a random variable is distributed.<br>\n",
    "\n",
    "It tells us which values a random variable is most likely to take on and which values are less likely. Based on the previous data and the occurences of the random event, we can predict the outcome in terms of probabilities."
   ]
  },
  {
   "cell_type": "markdown",
   "id": "f7e9b2d3-dc92-46bd-a32b-1195c7d03e85",
   "metadata": {},
   "source": [
    "<h3>Q2. Is there a distinction between true random numbers and pseudo-random numbers, if there is\n",
    "one? Why are the latter considered “good enough”?</h3>"
   ]
  },
  {
   "cell_type": "markdown",
   "id": "d2cf21b9-23d3-4261-a239-2abc0fc07334",
   "metadata": {},
   "source": [
    "True Random Numbers are true physical values while pseudo-random numbers are generated internally by a program . Latter is considered good enough as they have sort of uniform distribution."
   ]
  },
  {
   "cell_type": "markdown",
   "id": "33c7c9f1-d296-444f-9c88-bc7fe6be6c45",
   "metadata": {},
   "source": [
    "<h3>Q3. What are the two main factors that influence the behaviour of a &quot;normal&quot; probability distribution?</h3>"
   ]
  },
  {
   "cell_type": "markdown",
   "id": "d8ce5730-772c-4838-a351-c176944e871b",
   "metadata": {},
   "source": [
    "Normal Probability Distribution are influenced by two factors mean and the variance."
   ]
  },
  {
   "cell_type": "markdown",
   "id": "6acc4982-2ba3-42cf-b9e2-c3472279f348",
   "metadata": {},
   "source": [
    "<h3>Q4. Provide a real-life example of a normal distribution.</h3>"
   ]
  },
  {
   "cell_type": "markdown",
   "id": "807622f2-ca85-4ba4-a9f5-5c2731228838",
   "metadata": {},
   "source": [
    " A Real-life example of a normal distribution are heights or blood pressure measurements"
   ]
  },
  {
   "cell_type": "markdown",
   "id": "3bd27f38-2690-4095-b9ab-b44ec03def4a",
   "metadata": {},
   "source": [
    "<h3>Q5. In the short term, how can you expect a probability distribution to behave? What do you think will\n",
    "happen as the number of trials grows?</h3>"
   ]
  },
  {
   "cell_type": "markdown",
   "id": "4b87ffce-3876-4c8b-8981-0f684ea5799d",
   "metadata": {},
   "source": [
    "variance will decrease with number of trials"
   ]
  },
  {
   "cell_type": "markdown",
   "id": "850f903d-f263-4fb1-95ab-762d6f21a4f4",
   "metadata": {},
   "source": [
    "<h3>Q6. What kind of object can be shuffled by using random.shuffle?</h3>"
   ]
  },
  {
   "cell_type": "markdown",
   "id": "0f7b256b-0c68-4537-8573-d4d395005482",
   "metadata": {},
   "source": [
    "lists (list), strings (str) and tuples (tuple) objects can be shuffled by using random.shuffle."
   ]
  },
  {
   "cell_type": "markdown",
   "id": "25ae8a5b-5637-46bf-bf86-ae32e2d0616a",
   "metadata": {},
   "source": [
    "<h3>Q7. Describe the math package&#39;s general categories of functions.</h3>"
   ]
  },
  {
   "cell_type": "markdown",
   "id": "bcdabd74-43bd-43db-8e0b-dabf16d1b192",
   "metadata": {},
   "source": [
    "\n",
    "    Trigonometric functions\n",
    "    Quadratic functions\n",
    "    Exponential functions\n",
    "    Hyperbolic functions\n",
    "    Periodic functions\n",
    "    Arithmetic functions\n",
    "    Logarithimic functions\n",
    "    Conversions to Integer\n"
   ]
  },
  {
   "cell_type": "markdown",
   "id": "983d1da4-0a7b-4e2a-8b0c-b9dedc21e8f7",
   "metadata": {},
   "source": [
    "<h3>Q8. What is the relationship between exponentiation and logarithms?</h3>"
   ]
  },
  {
   "cell_type": "markdown",
   "id": "03b744c9-3256-4998-83aa-629af91b8d33",
   "metadata": {},
   "source": [
    "Exponentiation and logarithms are inverse of each other."
   ]
  },
  {
   "cell_type": "markdown",
   "id": "88848315-7763-4f64-a360-1dbc7797ce20",
   "metadata": {},
   "source": [
    "<h3>Q9. What are the three logarithmic functions that Python supports?</h3>"
   ]
  },
  {
   "cell_type": "markdown",
   "id": "a999181b-110a-4ce5-8199-8fb8898ec20b",
   "metadata": {},
   "source": [
    "\n",
    "    log2(x) - logarithmic value of x to base 2\n",
    "    log10(x) - logarithmic value of x to base 10\n",
    "    log1p(a) - This function is used to compute logarithm(1+a) .\n"
   ]
  },
  {
   "cell_type": "code",
   "execution_count": null,
   "id": "f931853f-7fb7-4928-acfd-53a12f6d25a2",
   "metadata": {},
   "outputs": [],
   "source": []
  }
 ],
 "metadata": {
  "kernelspec": {
   "display_name": "Python 3",
   "language": "python",
   "name": "python3"
  },
  "language_info": {
   "codemirror_mode": {
    "name": "ipython",
    "version": 3
   },
   "file_extension": ".py",
   "mimetype": "text/x-python",
   "name": "python",
   "nbconvert_exporter": "python",
   "pygments_lexer": "ipython3",
   "version": "3.8.8"
  }
 },
 "nbformat": 4,
 "nbformat_minor": 5
}
