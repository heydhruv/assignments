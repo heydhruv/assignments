{
 "cells": [
  {
   "cell_type": "markdown",
   "id": "e38396f3-188d-4e42-b232-7848c7ac5aa5",
   "metadata": {},
   "source": [
    "<h3>1. Create an assert statement that throws an AssertionError if the variable spam is a negative\n",
    "integer.</h3>"
   ]
  },
  {
   "cell_type": "code",
   "execution_count": 17,
   "id": "19c060d7-8138-4f7d-a3ae-c7555e26f65e",
   "metadata": {},
   "outputs": [
    {
     "ename": "AssertionError",
     "evalue": "spam cant be negetive",
     "output_type": "error",
     "traceback": [
      "\u001b[0;31m---------------------------------------------------------------------------\u001b[0m",
      "\u001b[0;31mAssertionError\u001b[0m                            Traceback (most recent call last)",
      "\u001b[0;32m<ipython-input-17-10f5314d8569>\u001b[0m in \u001b[0;36m<module>\u001b[0;34m\u001b[0m\n\u001b[1;32m      1\u001b[0m \u001b[0mspam\u001b[0m \u001b[0;34m=\u001b[0m \u001b[0;34m-\u001b[0m\u001b[0;36m1\u001b[0m\u001b[0;34m\u001b[0m\u001b[0;34m\u001b[0m\u001b[0m\n\u001b[0;32m----> 2\u001b[0;31m \u001b[0;32massert\u001b[0m \u001b[0mspam\u001b[0m \u001b[0;34m>=\u001b[0m\u001b[0;36m0\u001b[0m\u001b[0;34m,\u001b[0m\u001b[0;34m'spam cant be negetive'\u001b[0m\u001b[0;34m\u001b[0m\u001b[0;34m\u001b[0m\u001b[0m\n\u001b[0m",
      "\u001b[0;31mAssertionError\u001b[0m: spam cant be negetive"
     ]
    }
   ],
   "source": [
    "spam = -1\n",
    "assert spam >=0,'spam cant be negetive'"
   ]
  },
  {
   "cell_type": "markdown",
   "id": "c54a7b29-77ba-4838-8b1e-53d4c3ba5893",
   "metadata": {},
   "source": [
    "<h3>2. Write an assert statement that triggers an AssertionError if the variables eggs and bacon contain\n",
    "strings that are the same as each other, even if their cases are different (that is, &#39;hello&#39; and &#39;hello&#39; are\n",
    "considered the same, and &#39;goodbye&#39; and &#39;GOODbye&#39; are also considered the same).</h3>"
   ]
  },
  {
   "cell_type": "code",
   "execution_count": 25,
   "id": "b0970987-2be8-421d-b4c0-b6354d453fa2",
   "metadata": {},
   "outputs": [
    {
     "ename": "AssertionError",
     "evalue": "both cant be same ",
     "output_type": "error",
     "traceback": [
      "\u001b[0;31m---------------------------------------------------------------------------\u001b[0m",
      "\u001b[0;31mAssertionError\u001b[0m                            Traceback (most recent call last)",
      "\u001b[0;32m<ipython-input-25-173c989d1e5a>\u001b[0m in \u001b[0;36m<module>\u001b[0;34m\u001b[0m\n\u001b[1;32m      3\u001b[0m     \u001b[0mbacon\u001b[0m\u001b[0;34m.\u001b[0m\u001b[0mlower\u001b[0m\u001b[0;34m(\u001b[0m\u001b[0;34m)\u001b[0m\u001b[0;34m\u001b[0m\u001b[0;34m\u001b[0m\u001b[0m\n\u001b[1;32m      4\u001b[0m     \u001b[0;32massert\u001b[0m \u001b[0;32mnot\u001b[0m\u001b[0;34m(\u001b[0m\u001b[0meggs\u001b[0m\u001b[0;34m==\u001b[0m\u001b[0mbacon\u001b[0m\u001b[0;34m)\u001b[0m\u001b[0;34m,\u001b[0m\u001b[0;34m'both cant be same '\u001b[0m\u001b[0;34m\u001b[0m\u001b[0;34m\u001b[0m\u001b[0m\n\u001b[0;32m----> 5\u001b[0;31m \u001b[0massertion\u001b[0m\u001b[0;34m(\u001b[0m\u001b[0;34m'hello'\u001b[0m\u001b[0;34m,\u001b[0m\u001b[0;34m'hello'\u001b[0m\u001b[0;34m)\u001b[0m\u001b[0;34m\u001b[0m\u001b[0;34m\u001b[0m\u001b[0m\n\u001b[0m",
      "\u001b[0;32m<ipython-input-25-173c989d1e5a>\u001b[0m in \u001b[0;36massertion\u001b[0;34m(eggs, bacons)\u001b[0m\n\u001b[1;32m      2\u001b[0m     \u001b[0meggs\u001b[0m\u001b[0;34m.\u001b[0m\u001b[0mlower\u001b[0m\u001b[0;34m(\u001b[0m\u001b[0;34m)\u001b[0m\u001b[0;34m\u001b[0m\u001b[0;34m\u001b[0m\u001b[0m\n\u001b[1;32m      3\u001b[0m     \u001b[0mbacon\u001b[0m\u001b[0;34m.\u001b[0m\u001b[0mlower\u001b[0m\u001b[0;34m(\u001b[0m\u001b[0;34m)\u001b[0m\u001b[0;34m\u001b[0m\u001b[0;34m\u001b[0m\u001b[0m\n\u001b[0;32m----> 4\u001b[0;31m     \u001b[0;32massert\u001b[0m \u001b[0;32mnot\u001b[0m\u001b[0;34m(\u001b[0m\u001b[0meggs\u001b[0m\u001b[0;34m==\u001b[0m\u001b[0mbacon\u001b[0m\u001b[0;34m)\u001b[0m\u001b[0;34m,\u001b[0m\u001b[0;34m'both cant be same '\u001b[0m\u001b[0;34m\u001b[0m\u001b[0;34m\u001b[0m\u001b[0m\n\u001b[0m\u001b[1;32m      5\u001b[0m \u001b[0massertion\u001b[0m\u001b[0;34m(\u001b[0m\u001b[0;34m'hello'\u001b[0m\u001b[0;34m,\u001b[0m\u001b[0;34m'hello'\u001b[0m\u001b[0;34m)\u001b[0m\u001b[0;34m\u001b[0m\u001b[0;34m\u001b[0m\u001b[0m\n",
      "\u001b[0;31mAssertionError\u001b[0m: both cant be same "
     ]
    }
   ],
   "source": [
    "def assertion(eggs,bacons):\n",
    "    eggs.lower()\n",
    "    bacon.lower()\n",
    "    assert not(eggs==bacon),'both cant be same '\n",
    "assertion('hello','hello')   "
   ]
  },
  {
   "cell_type": "markdown",
   "id": "ce2f7e79-9c63-41ca-a030-fb721b38ee55",
   "metadata": {},
   "source": [
    "<h3>3. Create an assert statement that throws an AssertionError every time.</h3>"
   ]
  },
  {
   "cell_type": "code",
   "execution_count": 26,
   "id": "88cff94f-36f0-4974-b576-19225b5c7885",
   "metadata": {},
   "outputs": [
    {
     "ename": "AssertionError",
     "evalue": "Always Shows Assertion Error",
     "output_type": "error",
     "traceback": [
      "\u001b[0;31m---------------------------------------------------------------------------\u001b[0m",
      "\u001b[0;31mAssertionError\u001b[0m                            Traceback (most recent call last)",
      "\u001b[0;32m<ipython-input-26-0ea8725aecfc>\u001b[0m in \u001b[0;36m<module>\u001b[0;34m\u001b[0m\n\u001b[1;32m      1\u001b[0m \u001b[0;32mdef\u001b[0m \u001b[0mevery\u001b[0m\u001b[0;34m(\u001b[0m\u001b[0;34m)\u001b[0m\u001b[0;34m:\u001b[0m\u001b[0;34m\u001b[0m\u001b[0;34m\u001b[0m\u001b[0m\n\u001b[1;32m      2\u001b[0m     \u001b[0;32massert\u001b[0m \u001b[0;32mnot\u001b[0m \u001b[0;32mTrue\u001b[0m\u001b[0;34m,\u001b[0m \u001b[0;34m'Always Shows Assertion Error'\u001b[0m\u001b[0;34m\u001b[0m\u001b[0;34m\u001b[0m\u001b[0m\n\u001b[0;32m----> 3\u001b[0;31m \u001b[0mevery\u001b[0m\u001b[0;34m(\u001b[0m\u001b[0;34m)\u001b[0m\u001b[0;34m\u001b[0m\u001b[0;34m\u001b[0m\u001b[0m\n\u001b[0m",
      "\u001b[0;32m<ipython-input-26-0ea8725aecfc>\u001b[0m in \u001b[0;36mevery\u001b[0;34m()\u001b[0m\n\u001b[1;32m      1\u001b[0m \u001b[0;32mdef\u001b[0m \u001b[0mevery\u001b[0m\u001b[0;34m(\u001b[0m\u001b[0;34m)\u001b[0m\u001b[0;34m:\u001b[0m\u001b[0;34m\u001b[0m\u001b[0;34m\u001b[0m\u001b[0m\n\u001b[0;32m----> 2\u001b[0;31m     \u001b[0;32massert\u001b[0m \u001b[0;32mnot\u001b[0m \u001b[0;32mTrue\u001b[0m\u001b[0;34m,\u001b[0m \u001b[0;34m'Always Shows Assertion Error'\u001b[0m\u001b[0;34m\u001b[0m\u001b[0;34m\u001b[0m\u001b[0m\n\u001b[0m\u001b[1;32m      3\u001b[0m \u001b[0mevery\u001b[0m\u001b[0;34m(\u001b[0m\u001b[0;34m)\u001b[0m\u001b[0;34m\u001b[0m\u001b[0;34m\u001b[0m\u001b[0m\n",
      "\u001b[0;31mAssertionError\u001b[0m: Always Shows Assertion Error"
     ]
    }
   ],
   "source": [
    "def every():\n",
    "    assert not True, 'Always Shows Assertion Error'\n",
    "every()"
   ]
  },
  {
   "cell_type": "markdown",
   "id": "27e4fc23-439e-4e1b-8046-4b59c1dd0d0c",
   "metadata": {},
   "source": [
    "<h3>4. What are the two lines that must be present in your software in order to call logging.debug()?</h3>"
   ]
  },
  {
   "cell_type": "markdown",
   "id": "67f9504f-c44a-42bc-b839-2da45298e7ed",
   "metadata": {},
   "source": [
    "import logging\n",
    "<p>logging.basicConfig(filename)</p>"
   ]
  },
  {
   "cell_type": "markdown",
   "id": "591727f8-1d55-40a4-91eb-0aac3bfa02cd",
   "metadata": {},
   "source": [
    "<h3>5. What are the two lines that your program must have in order to have logging.debug() send a\n",
    "logging message to a file named programLog.txt?</h3>"
   ]
  },
  {
   "cell_type": "markdown",
   "id": "9a44f30f-581a-4445-a2e6-e6d799f8c537",
   "metadata": {},
   "source": [
    "<p>logging.basicConfig(filename = 'programlog.txt',level=logging.DEBUG')</p>\n",
    "<p>logging.debug(\"Data Inserted Successfully\")</p>"
   ]
  },
  {
   "cell_type": "markdown",
   "id": "d773f828-caeb-4e71-85d7-7fb524fe0ccc",
   "metadata": {},
   "source": [
    "<h3>6. What are the five levels of logging?</h3>\n",
    "<p>debug</p>\n",
    "<p>info</p>\n",
    "<p>warning</p>\n",
    "<p>error</p>\n",
    "<p>crirical</p>"
   ]
  },
  {
   "cell_type": "markdown",
   "id": "47421bc8-a0a6-4db4-b09f-e39d43a835c3",
   "metadata": {},
   "source": [
    "<h3>7. What line of code would you add to your software to disable all logging messages?</h3>\n",
    "\n",
    "<p>logging.disable = True</p>"
   ]
  },
  {
   "cell_type": "markdown",
   "id": "500a6c99-3759-4951-9afd-02a08b7b3a1e",
   "metadata": {},
   "source": [
    "<h3>8.Why is using logging messages better than using print() to display the same message?</h3>\n",
    "<p>Easy to see where and when (even what line no.) a logging call is being made from.</p>\n",
    "<p>You can log to files, sockets, pretty much anything, all at the same time.</p>\n",
    "<p>turning off logging in production is easy and print is headache</p>"
   ]
  },
  {
   "cell_type": "markdown",
   "id": "8183aa87-7d65-4456-932d-1362eaecf5da",
   "metadata": {},
   "source": [
    "<h3>9. What are the differences between the Step Over, Step In, and Step Out buttons in the debugger?</h3>"
   ]
  },
  {
   "cell_type": "markdown",
   "id": "67c02e4c-c385-4773-8c20-7125a687bc01",
   "metadata": {},
   "source": [
    "<p>Step in - Step In button will cause the debugger to execute the next line of code and then pause again.</p>\n",
    "<p>Step Over - Step Over button will execute the next line of code, similar to the Step In button. However, if the next line of code is a function call, the Step Over button will “step over” the code in the function. The function’s code will be executed at full speed, and the debugger will pause as soon as the function call returns.</p>\n",
    "<p>Step out - Step Out button will cause the debugger to execute lines of code at full speed until it returns from the current function.</p>"
   ]
  },
  {
   "cell_type": "markdown",
   "id": "73b93719-baec-4a67-9efd-ab391707833e",
   "metadata": {},
   "source": [
    "<p>10.After you click Continue, when will the debugger stop ?</p>"
   ]
  },
  {
   "cell_type": "markdown",
   "id": "16b8af7b-009a-4b5f-a48e-fb4194bc472e",
   "metadata": {},
   "source": [
    "<p>This will cause the program to continue running normally, without pausing for debugging untill it terminates or reaches a breakpoint.</p>"
   ]
  },
  {
   "cell_type": "markdown",
   "id": "4ed9090d-36d0-4184-92ae-214a46599db9",
   "metadata": {},
   "source": [
    "<h3>11. What is the concept of a breakpoint?</h3>"
   ]
  },
  {
   "cell_type": "markdown",
   "id": "9cf76f11-7afe-47f7-9faf-9d709d008298",
   "metadata": {},
   "source": [
    "<p>Breakpoint is a setting on a line of code that causes the debugger to pause when the program execution reaches the line</p>"
   ]
  },
  {
   "cell_type": "code",
   "execution_count": null,
   "id": "3b670c30-ac19-416a-a33b-9eedd5a80559",
   "metadata": {},
   "outputs": [],
   "source": []
  }
 ],
 "metadata": {
  "kernelspec": {
   "display_name": "Python 3",
   "language": "python",
   "name": "python3"
  },
  "language_info": {
   "codemirror_mode": {
    "name": "ipython",
    "version": 3
   },
   "file_extension": ".py",
   "mimetype": "text/x-python",
   "name": "python",
   "nbconvert_exporter": "python",
   "pygments_lexer": "ipython3",
   "version": "3.8.8"
  }
 },
 "nbformat": 4,
 "nbformat_minor": 5
}
