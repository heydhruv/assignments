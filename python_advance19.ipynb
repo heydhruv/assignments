{
 "cells": [
  {
   "cell_type": "markdown",
   "id": "888e64d5-ef98-4717-a0a8-bb785daf6c3b",
   "metadata": {},
   "source": [
    "<h3>Q1. Define the relationship between a class and its instances. Is it a one-to-one or a one-to-many\n",
    "partnership, for example?</h3>"
   ]
  },
  {
   "cell_type": "markdown",
   "id": "e636c2a7-f088-4ca2-9e94-7ccf9e665e17",
   "metadata": {},
   "source": [
    "Relationship between a class and its instances is a one to many partnership."
   ]
  },
  {
   "cell_type": "markdown",
   "id": "694d7078-ff37-44f0-a1eb-809796c399ff",
   "metadata": {},
   "source": [
    "<h3>Q2. What kind of data is held only in an instance?</h3>"
   ]
  },
  {
   "cell_type": "markdown",
   "id": "ee5700e8-11a3-4fa2-9992-57283cd85c3b",
   "metadata": {},
   "source": [
    "nstance variables which are specific to that specific Instance object."
   ]
  },
  {
   "cell_type": "markdown",
   "id": "4847cc07-661f-4f8a-9ab9-5af189dfcc71",
   "metadata": {},
   "source": [
    "<h3>Q3. What kind of knowledge is stored in a class?</h3>"
   ]
  },
  {
   "cell_type": "markdown",
   "id": "886b8ac6-3999-4ffc-8ebb-29b08deaae56",
   "metadata": {},
   "source": [
    "Class creates a user-defined data structure, which holds its own data members and member functions, which can be accessed and used by creating an instance of that class. A class is like a blueprint for an object.\n"
   ]
  },
  {
   "cell_type": "markdown",
   "id": "6f48f2c9-b8df-43c8-9098-8cc766f350fb",
   "metadata": {},
   "source": [
    "<h3>Q4. What exactly is a method, and how is it different from a regular function?</h3>"
   ]
  },
  {
   "cell_type": "markdown",
   "id": "333d5eb9-7759-4e18-9711-298d51806498",
   "metadata": {},
   "source": [
    "the methods with a class can be used to access the insatnce variables of its instance. So,the object's state can be modified by its method. Function can't access the attributes of an instance of a class or can't modify the state of the object."
   ]
  },
  {
   "cell_type": "markdown",
   "id": "215d723e-b8d1-420f-93ac-ca8ee7d4d0ac",
   "metadata": {},
   "source": [
    "<h3>Q5. Is inheritance supported in Python, and if so, what is the syntax?</h3>"
   ]
  },
  {
   "cell_type": "markdown",
   "id": "b7b7cb64-41ae-4095-90f0-00d756cff404",
   "metadata": {},
   "source": [
    "Yes,Python supports inheritance. The Types of Inheritence Supported by Python are:\n",
    "\n",
    "    Simple Inheritence\n",
    "    Multiple Inheritence\n",
    "    Multilevel lInheritence\n",
    "    Hybrid Inheritence\n",
    "    Hierracial Inheritence\n"
   ]
  },
  {
   "cell_type": "markdown",
   "id": "2c965f2c-935f-4466-a4b2-b3a990a9e33a",
   "metadata": {},
   "source": [
    "<h3>Q6. How much encapsulation (making instance or class variables private) does Python support?</h3>"
   ]
  },
  {
   "cell_type": "markdown",
   "id": "32168a98-0537-4c38-8218-7ac293731aea",
   "metadata": {},
   "source": [
    "encapsulation describes the idea of wrapping data and the methods that work on data within one unit. This puts restrictions on accessing variables and methods directly and can prevent the accidental modification of data. To prevent accidental change, an objects variable can only be changed by an objects method."
   ]
  },
  {
   "cell_type": "markdown",
   "id": "e61f9a04-dfd7-4c66-aa98-5cbf54953302",
   "metadata": {},
   "source": [
    "<h3>Q7. How do you distinguish between a class variable and an instance variable?</h3>"
   ]
  },
  {
   "cell_type": "markdown",
   "id": "42889f80-0e93-41f2-8719-4bc6abdb7160",
   "metadata": {},
   "source": [
    "The Class Attribute is available to all the instance objects of that class. whereas Instance Attributes are accessible only to the object or Instance of that class.\n",
    "\n",
    "A single copy of Class attributes is maintained by pvm at the class level. Whereas difference copies of instance attributes are maintained by pvm at objects/instance level."
   ]
  },
  {
   "cell_type": "markdown",
   "id": "76964818-a5cd-427e-8360-4554687e3d00",
   "metadata": {},
   "source": [
    "<h3>Q8. When, if ever, can self be included in a class&#39;s method definitions?</h3>"
   ]
  },
  {
   "cell_type": "markdown",
   "id": "b8fc6e81-f1d9-46a7-b703-1f2bbc293384",
   "metadata": {},
   "source": [
    " Yes, self can included in class method definations to access the instance variables inside class methods."
   ]
  },
  {
   "cell_type": "markdown",
   "id": "07e8b8f0-39b9-45d5-9961-f9754b2570e5",
   "metadata": {},
   "source": [
    "<h3>Q9. What is the difference between the _ _add_ _ and the _ _radd_ _ methods?</h3>"
   ]
  },
  {
   "cell_type": "markdown",
   "id": "afae2045-59f1-4828-9ced-8b5f8b9924e0",
   "metadata": {},
   "source": [
    "Entering __radd__ Python will first try __add__(), and if that returns Not Implemented Python will check if the right-hand operand implements __radd__, and if it does, it will call __radd__() rather than raising a TypeError"
   ]
  },
  {
   "cell_type": "markdown",
   "id": "b76aecd3-efc3-4419-b453-4069d8729b20",
   "metadata": {},
   "source": [
    "<h3>Q10. When is it necessary to use a reflection method? When do you not need it, even though you\n",
    "support the operation in question?</h3>"
   ]
  },
  {
   "cell_type": "markdown",
   "id": "2abf9c74-6ad8-40a0-b47c-c198c89a8c93",
   "metadata": {},
   "source": [
    "Reflection method we often encounter the requirement that a method in the executing object, or a variable in the calling object, or a field of the object should be assigned, while the method name or field name can not be determined when encoding the code, and need to be input in the form of passing strings through parameters."
   ]
  },
  {
   "cell_type": "markdown",
   "id": "fd9fcb7c-5bf4-4e05-b9b7-b94685f77213",
   "metadata": {},
   "source": [
    "<h3>Q11. What is the _ _iadd_ _ method called?</h3>"
   ]
  },
  {
   "cell_type": "markdown",
   "id": "c84d21a7-18e0-4d2f-96bc-e9f8983a0233",
   "metadata": {},
   "source": [
    "__iadd__ method is called when we use implementation like a+=b which is a.__iadd__(b)"
   ]
  },
  {
   "cell_type": "markdown",
   "id": "e9d574e5-c84f-48ce-9ee5-70f85b945700",
   "metadata": {},
   "source": [
    "<h3>Q12. Is the _ _init_ _ method inherited by subclasses? What do you do if you need to customize its\n",
    "behavior within a subclass?</h3>"
   ]
  },
  {
   "cell_type": "markdown",
   "id": "59278fb3-8bf3-4cf1-ab12-8ea5ce5a279b",
   "metadata": {},
   "source": [
    "Yes, __init__ method will be inherited by subclasses. if we want to customize its behaviour within a subclass we can use super() method."
   ]
  },
  {
   "cell_type": "code",
   "execution_count": null,
   "id": "2c4cc034-489c-4601-a319-82746760a18f",
   "metadata": {},
   "outputs": [],
   "source": []
  }
 ],
 "metadata": {
  "kernelspec": {
   "display_name": "Python 3",
   "language": "python",
   "name": "python3"
  },
  "language_info": {
   "codemirror_mode": {
    "name": "ipython",
    "version": 3
   },
   "file_extension": ".py",
   "mimetype": "text/x-python",
   "name": "python",
   "nbconvert_exporter": "python",
   "pygments_lexer": "ipython3",
   "version": "3.8.8"
  }
 },
 "nbformat": 4,
 "nbformat_minor": 5
}
