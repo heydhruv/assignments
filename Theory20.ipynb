{
 "cells": [
  {
   "cell_type": "markdown",
   "id": "2a2ee39c-e221-4988-b5cd-12bb53e0426e",
   "metadata": {},
   "source": [
    "<h3>1. Set the variable test1 to the string &#39;This is a test of the emergency text system,&#39; and save test1 to a\n",
    "file named test.txt.</h3>"
   ]
  },
  {
   "cell_type": "code",
   "execution_count": 1,
   "id": "affb522d-71aa-4415-b004-fbeabf17bc0f",
   "metadata": {},
   "outputs": [],
   "source": [
    "test1= 'This is a test of the emergency text system'\n",
    "with open('test.txt','w') as f:\n",
    "    f.write(test1)\n",
    "    f.close()"
   ]
  },
  {
   "cell_type": "markdown",
   "id": "cc7db293-07ac-4272-977b-47f98956982e",
   "metadata": {},
   "source": [
    "<h3>2. Read the contents of the file test.txt into the variable test2. Is there a difference between test 1\n",
    "and test 2?</h3>"
   ]
  },
  {
   "cell_type": "code",
   "execution_count": 3,
   "id": "3974c886-de80-4f95-8c90-ac6521a00f0a",
   "metadata": {},
   "outputs": [
    {
     "name": "stdout",
     "output_type": "stream",
     "text": [
      "This is a test of the emergency text system\n"
     ]
    },
    {
     "data": {
      "text/plain": [
       "True"
      ]
     },
     "execution_count": 3,
     "metadata": {},
     "output_type": "execute_result"
    }
   ],
   "source": [
    "with open('test.txt','r') as f:\n",
    "    test2=f.read()\n",
    "    print(test2)\n",
    "    f.close()\n",
    "test2==test1"
   ]
  },
  {
   "cell_type": "markdown",
   "id": "a3784180-e5e9-491d-8beb-69dadd72c7b7",
   "metadata": {},
   "source": [
    "<h3>3. Create a CSV file called books.csv by using these lines:title,author,year\n",
    "The Weirdstone of Brisingamen,Alan Garner,1960\n",
    "Perdido Street Station,China Miéville,2000\n",
    "Thud!,Terry Pratchett,2005\n",
    "The Spellman Files,Lisa Lutz,2007\n",
    "Small Gods,Terry Pratchett,1992</h3>"
   ]
  },
  {
   "cell_type": "code",
   "execution_count": 5,
   "id": "ba2ac692-2412-4ff8-84a0-e888628bbd45",
   "metadata": {},
   "outputs": [],
   "source": [
    "book='''title,author,year\n",
    "The Weirdstone of Brisingamen,Alan Garner,1960\n",
    "Perdido Street Station,China Miéville,2000\n",
    "Thud!,Terry Pratchett,2005\n",
    "The Spellman Files,Lisa Lutz,2007\n",
    "Small Gods,Terry Pratchett,1992'''\n",
    "\n",
    "with open('books.csv','w')as f:\n",
    "    f.write(book)\n",
    "    f.close()"
   ]
  },
  {
   "cell_type": "markdown",
   "id": "cfa5b7c4-7405-4200-b3f5-081d0bfd753d",
   "metadata": {},
   "source": [
    "<h3>4. Use the sqlite3 module to create a SQLite database called books.db, and a table called books with\n",
    "these fields: title (text), author (text), and year (integer).</h3>"
   ]
  },
  {
   "cell_type": "code",
   "execution_count": 9,
   "id": "71a0529e-edc5-42c4-9b88-5dd8d0c003d6",
   "metadata": {},
   "outputs": [],
   "source": [
    "import sqlite3\n",
    "conn=sqlite3.connect(\"books.db\")\n",
    "cur=conn.cursor()\n",
    "cur.execute(\"CREATE TABLE books (title text, author text, year int)\")\n",
    "conn.commit()\n",
    "conn.close()"
   ]
  },
  {
   "cell_type": "markdown",
   "id": "2d3593ac-a6e3-4464-b9d5-e47ea58e4609",
   "metadata": {},
   "source": [
    "<h3>5. Read books.csv and insert its data into the book table.</h3>"
   ]
  },
  {
   "cell_type": "code",
   "execution_count": 10,
   "id": "29535f14-c289-4fd3-982b-cafe60d35bc5",
   "metadata": {},
   "outputs": [],
   "source": [
    "conn=sqlite3.connect(\"books.db\")\n",
    "cur=conn.cursor()\n",
    "cur.execute(\"insert into books(title,author,year) values('python fundamentals','Dhruv Dave','2023')\")\n",
    "conn.commit()\n",
    "conn.close()"
   ]
  },
  {
   "cell_type": "markdown",
   "id": "48bf2878-2a9d-4c1d-8b58-a07470430522",
   "metadata": {},
   "source": [
    "<h3>6. Select and print the title column from the book table in alphabetical order.</h3>\n"
   ]
  },
  {
   "cell_type": "code",
   "execution_count": 12,
   "id": "708c8b04-e508-44d9-b927-af9f8cdf5740",
   "metadata": {},
   "outputs": [],
   "source": [
    "conn=sqlite3.connect(\"books.db\")\n",
    "cur=conn.cursor()\n",
    "cur.execute(\"select title from books order by title asc\")\n",
    "conn.commit()\n",
    "conn.close()"
   ]
  },
  {
   "cell_type": "markdown",
   "id": "6c7f1e11-3ced-4f17-b14e-c85a6c32d421",
   "metadata": {},
   "source": [
    "<h3>7. From the book table, select and print all columns in the order of publication.</h3>"
   ]
  },
  {
   "cell_type": "code",
   "execution_count": 13,
   "id": "654abd9b-bd9d-41c6-9d05-325778255c93",
   "metadata": {},
   "outputs": [
    {
     "name": "stdout",
     "output_type": "stream",
     "text": [
      "('python fundamentals', 'Dhruv Dave', 2023)\n"
     ]
    }
   ],
   "source": [
    "\n",
    "conn = sqlite3.connect('books.db')\n",
    "cursor = conn.cursor()\n",
    "ouput = cursor.execute(\"SELECT * FROM books ORDER BY year\")\n",
    "for record in ouput:\n",
    "    print(record)"
   ]
  },
  {
   "cell_type": "markdown",
   "id": "0a6d1c83-3d9f-4cd0-acb0-7b41a8161f62",
   "metadata": {},
   "source": [
    "<h3>8. Use the sqlalchemy module to connect to the sqlite3 database books.db that you just made in\n",
    "exercise 6.</h3>"
   ]
  },
  {
   "cell_type": "code",
   "execution_count": 14,
   "id": "129eb55b-824d-4270-aa8e-7de5759b8431",
   "metadata": {},
   "outputs": [
    {
     "data": {
      "text/plain": [
       "Engine(sqlite:///books.db)"
      ]
     },
     "execution_count": 14,
     "metadata": {},
     "output_type": "execute_result"
    }
   ],
   "source": [
    "import sqlalchemy\n",
    "conn = sqlalchemy.create_engine('sqlite:///books.db')\n",
    "conn\n"
   ]
  },
  {
   "cell_type": "markdown",
   "id": "6494ec46-71c7-4c2e-99fb-2a8072c4b6e1",
   "metadata": {},
   "source": [
    "<h3>9. Install the Redis server and the Python redis library (pip install redis) on your computer. Create a\n",
    "Redis hash called test with the fields count (1) and name (&#39;Fester Bestertester&#39;). Print all the fields for\n",
    "test.</h3>"
   ]
  },
  {
   "cell_type": "code",
   "execution_count": 17,
   "id": "af285f4b-6298-4acf-bdae-79b9f127bb77",
   "metadata": {},
   "outputs": [],
   "source": [
    "# ! python -m pip install redis\n",
    "\n",
    "\n",
    "import redis\n",
    "conn = redis.Redis()\n",
    "conn.hset('test',{\n",
    "    'count':1,\n",
    "    'name':'Fester Bestertester'\n",
    "})\n",
    "conn.hgetall('test')\n",
    "\n"
   ]
  },
  {
   "cell_type": "markdown",
   "id": "9f1af3a2-09c0-4131-9f92-564d60353513",
   "metadata": {},
   "source": [
    "<h3>10. Increment the count field of test and print it.</h3>"
   ]
  },
  {
   "cell_type": "code",
   "execution_count": null,
   "id": "b0ac18af-1102-4836-8d5e-c0506404540a",
   "metadata": {},
   "outputs": [],
   "source": [
    "conn.hincrby('test', 'count', 1)\n",
    "conn.hget('test', 'count')\n"
   ]
  }
 ],
 "metadata": {
  "kernelspec": {
   "display_name": "Python 3",
   "language": "python",
   "name": "python3"
  },
  "language_info": {
   "codemirror_mode": {
    "name": "ipython",
    "version": 3
   },
   "file_extension": ".py",
   "mimetype": "text/x-python",
   "name": "python",
   "nbconvert_exporter": "python",
   "pygments_lexer": "ipython3",
   "version": "3.8.8"
  }
 },
 "nbformat": 4,
 "nbformat_minor": 5
}
