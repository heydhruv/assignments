{
 "cells": [
  {
   "cell_type": "markdown",
   "id": "78949f06-8a6c-4495-b865-5ed907bd5a9c",
   "metadata": {},
   "source": [
    "<h1>Que 1</h1>"
   ]
  },
  {
   "cell_type": "code",
   "execution_count": 13,
   "id": "2f00dc6f-b112-4a50-a481-cf11c186d03b",
   "metadata": {},
   "outputs": [
    {
     "name": "stdout",
     "output_type": "stream",
     "text": [
      "4-->[1, 2, 3, 40]\n"
     ]
    }
   ],
   "source": [
    "def amplify(x):\n",
    "    lst=[]\n",
    "    for i in range(1,x+1):\n",
    "        if (i%x==0):\n",
    "            lst.append(i*10)\n",
    "            \n",
    "        else:\n",
    "            lst.append(i)\n",
    "    print(f\"{x}-->{lst}\")\n",
    "amplify(4)\n",
    "            \n",
    "            "
   ]
  },
  {
   "cell_type": "markdown",
   "id": "4e4973a1-8bdd-47e3-9aa8-48287f71db7c",
   "metadata": {},
   "source": [
    "<h1>Que 2</h1>"
   ]
  },
  {
   "cell_type": "code",
   "execution_count": 24,
   "id": "24a89194-355f-4b01-97f5-d3bbfe1b4ada",
   "metadata": {},
   "outputs": [
    {
     "name": "stdout",
     "output_type": "stream",
     "text": [
      "[1, 2, 3, 3, 2, 6, 6, 56, 56]-->[1]\n"
     ]
    }
   ],
   "source": [
    "def unique(x):\n",
    "    lst=[]\n",
    "    for i in x:\n",
    "        if (x.count(i)==1):\n",
    "            lst.append(i)\n",
    "    print(f\"{x}-->{lst}\")\n",
    "a=[1,2,3,3,2,6,6,56,56]    \n",
    "unique(a)\n",
    "            "
   ]
  },
  {
   "cell_type": "markdown",
   "id": "7821004b-f8dc-409f-98dc-840789f61681",
   "metadata": {},
   "source": [
    "<h1>Que 3</h1>"
   ]
  },
  {
   "cell_type": "code",
   "execution_count": 28,
   "id": "9db52ba5-3e5a-4077-8d8a-f1e0d426fb13",
   "metadata": {},
   "outputs": [
    {
     "name": "stdout",
     "output_type": "stream",
     "text": [
      "area of the circle is 50\n",
      "perimeter of the circle is 25\n"
     ]
    }
   ],
   "source": [
    "import math\n",
    "class circle:\n",
    "    def __init__(self,radius):\n",
    "        self.radius=radius\n",
    "    def get_area(self):\n",
    "        print(f\"area of the circle is {round(math.pi*self.radius**2)}\")\n",
    "    def get_perimeter(self):\n",
    "        print(f\"perimeter of the circle is {round(2*math.pi*self.radius)}\")\n",
    "circy=circle(4)\n",
    "circy.get_area()\n",
    "circy.get_perimeter()\n",
    "    "
   ]
  },
  {
   "cell_type": "markdown",
   "id": "77f68269-535b-4b12-80ae-bd68302cc697",
   "metadata": {},
   "source": [
    "<h1>Que 4</h1>"
   ]
  },
  {
   "cell_type": "code",
   "execution_count": 16,
   "id": "9eaed2ea-2c46-4968-924d-27e6dd0e77c2",
   "metadata": {},
   "outputs": [
    {
     "name": "stdout",
     "output_type": "stream",
     "text": [
      "['tvs', 'hero', 'bajaj', 'honda', 'yamaha', 'suzuki', 'royal enfield']\n",
      "['Apple', 'Google', 'Microsoft']\n",
      "['Raphael', 'Leonardo', 'Donatello', 'Michelangelo']\n",
      "['Jung', 'Turing', 'Einstein']\n"
     ]
    }
   ],
   "source": [
    "def sort_by_len(x):\n",
    "    print(sorted(x,key=len))\n",
    "lst=['bajaj','royal enfield','tvs','hero','honda','yamaha','suzuki']\n",
    "sort_by_len(lst)\n",
    "sort_by_len([\"Google\", \"Apple\", \"Microsoft\"])\n",
    "sort_by_len([\"Leonardo\", \"Michelangelo\", \"Raphael\", \"Donatello\"])\n",
    "sort_by_len([\"Turing\", \"Einstein\", \"Jung\"])"
   ]
  },
  {
   "cell_type": "markdown",
   "id": "7124edad-2952-4c4a-914b-28c22c21f3bc",
   "metadata": {},
   "source": [
    "<h1>Que 5</h1>"
   ]
  },
  {
   "cell_type": "code",
   "execution_count": 24,
   "id": "4dc7b2ef-d707-42f8-aaed-90a9ab4ff204",
   "metadata": {},
   "outputs": [
    {
     "name": "stdout",
     "output_type": "stream",
     "text": [
      "True\n",
      "True\n",
      "False\n"
     ]
    }
   ],
   "source": [
    "def is_triplet(x,y,z):\n",
    "    a=max(x,y,z)\n",
    "    if(x==a):\n",
    "        print(y**2+z**2==x**2)\n",
    "    elif(y==a):\n",
    "        print(x**2+z**2==y**2)\n",
    "    else:    \n",
    "        print(x**2+y**2==z**2)\n",
    "is_triplet(3,4,5) \n",
    "is_triplet(13,5,12)\n",
    "is_triplet(1,2,3)"
   ]
  },
  {
   "cell_type": "code",
   "execution_count": null,
   "id": "6d92f405-3224-4e8d-82b4-c6710c99254b",
   "metadata": {},
   "outputs": [],
   "source": []
  }
 ],
 "metadata": {
  "kernelspec": {
   "display_name": "Python 3 (ipykernel)",
   "language": "python",
   "name": "python3"
  },
  "language_info": {
   "codemirror_mode": {
    "name": "ipython",
    "version": 3
   },
   "file_extension": ".py",
   "mimetype": "text/x-python",
   "name": "python",
   "nbconvert_exporter": "python",
   "pygments_lexer": "ipython3",
   "version": "3.9.13"
  }
 },
 "nbformat": 4,
 "nbformat_minor": 5
}
