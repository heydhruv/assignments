{
 "cells": [
  {
   "cell_type": "markdown",
   "id": "36b995e3-b30b-47b0-a5a0-731027fc64ab",
   "metadata": {},
   "source": [
    "<h3>1. What are escape characters, and how do you use them?</h3>"
   ]
  },
  {
   "cell_type": "code",
   "execution_count": 15,
   "id": "5b7ebb21-e9ad-4591-88a9-e386c961e623",
   "metadata": {},
   "outputs": [
    {
     "name": "stdout",
     "output_type": "stream",
     "text": [
      "dhruv'\n",
      "dhruv\\\n",
      "dhruv \n",
      "dave\n",
      "davev\n",
      "dhruv\tdave\n",
      "dhru\n"
     ]
    }
   ],
   "source": [
    "print(\"dhruv\\'\")\n",
    "print(\"dhruv\\\\\")\n",
    "print(\"dhruv \\ndave\")\n",
    "print(\"dhruv\\rdave\")\n",
    "print(\"dhruv\\tdave\")\n",
    "print(\"dhruv\\b\")\n"
   ]
  },
  {
   "cell_type": "markdown",
   "id": "1666aa7c-ef8b-4336-b9f7-8b027ff59357",
   "metadata": {},
   "source": [
    "<h3>2. What do the escape characters n and t stand for?</h3>\n",
    "n for new line and t for tab"
   ]
  },
  {
   "cell_type": "markdown",
   "id": "0ec2cf47-10bf-46c2-b399-8d4d04cd1815",
   "metadata": {},
   "source": [
    "<h3>3. What is the way to include backslash characters in a string?</h3>\n",
    "\n",
    "print(\"dhruv\\b\")\n"
   ]
  },
  {
   "cell_type": "markdown",
   "id": "13fcd7d6-b78a-4326-802c-0f297f4c3d3b",
   "metadata": {},
   "source": [
    "<h3>4. The string &quot;Howl&#39;s Moving Castle&quot; is a correct value. Why isn&#39;t the single quote character in the\n",
    "word Howl&#39;s not escaped a problem?</h3>"
   ]
  },
  {
   "cell_type": "markdown",
   "id": "5dd8aada-3820-4aba-8cb8-67ae0ea4b6b7",
   "metadata": {},
   "source": [
    "because beginning and end is under double qoute"
   ]
  },
  {
   "cell_type": "markdown",
   "id": "ee1875d1-8b6e-4baf-ac0e-0b81649715e0",
   "metadata": {},
   "source": [
    "<h3>5. How do you write a string of newlines if you don&#39;t want to use the n character?</h3>"
   ]
  },
  {
   "cell_type": "markdown",
   "id": "5c752dfc-0df2-4fdc-aa2a-d099d072ce9f",
   "metadata": {},
   "source": [
    "multiple print statements"
   ]
  },
  {
   "cell_type": "markdown",
   "id": "bf3b8aaa-9189-4376-baed-00cbedfccc20",
   "metadata": {},
   "source": [
    "<h3>6. What are the values of the given expressions?\n",
    "&#39;Hello, world!&#39;[1]\n",
    "&#39;Hello, world!&#39;[0:5]\n",
    "&#39;Hello, world!&#39;[:5]\n",
    "&#39;Hello, world!&#39;[3:]</h3>"
   ]
  },
  {
   "cell_type": "markdown",
   "id": "3425a077-f0dc-4b11-9fea-709dfc5c6116",
   "metadata": {},
   "source": [
    "e,hell,hell,lo world!"
   ]
  },
  {
   "cell_type": "markdown",
   "id": "eb86e6f3-01cb-4277-af05-f202587ab049",
   "metadata": {},
   "source": [
    "<h3>7. What are the values of the following expressions?\n",
    "&#39;Hello&#39;.upper()\n",
    "&#39;Hello&#39;.upper().isupper()\n",
    "&#39;Hello&#39;.upper().lower()</h3>"
   ]
  },
  {
   "cell_type": "markdown",
   "id": "83cc3287-ef6f-446f-aad9-2bb3eb397902",
   "metadata": {},
   "source": [
    "HELLO,\n",
    "True,\n",
    "hello"
   ]
  },
  {
   "cell_type": "markdown",
   "id": "a7955486-5365-4fca-8d2d-41e211912fea",
   "metadata": {},
   "source": [
    "<h3>8. What are the values of the following expressions?\n",
    "&#39;Remember, remember, the fifth of July.&#39;.split()\n",
    "&#39;-&#39;.join(&#39;There can only one.&#39;.split())</h3>"
   ]
  },
  {
   "cell_type": "markdown",
   "id": "6e513d56-bdf0-4273-bbb2-70593982f20c",
   "metadata": {},
   "source": [
    "['Remember,', 'remember,', 'the', 'fifth', 'of', 'July.']\n"
   ]
  },
  {
   "cell_type": "markdown",
   "id": "a57257a4-896e-43e4-8537-2f735e61f18f",
   "metadata": {},
   "source": [
    "'There-can-only-one.'"
   ]
  },
  {
   "cell_type": "markdown",
   "id": "56909bcc-0d26-4442-9640-ae4cadd03075",
   "metadata": {},
   "source": [
    "<h3>9. What are the methods for right-justifying, left-justifying, and centering a string?</h3>"
   ]
  },
  {
   "cell_type": "markdown",
   "id": "022edd1e-e085-447e-8cea-ac76fefa6dfb",
   "metadata": {},
   "source": [
    "ljust(),rjust().center()"
   ]
  },
  {
   "cell_type": "markdown",
   "id": "6b26144d-65ed-44fe-b8f0-27a7ec1243f1",
   "metadata": {},
   "source": [
    "<h3>10. What is the best way to remove whitespace characters from the start or end?</h3>"
   ]
  },
  {
   "cell_type": "markdown",
   "id": "f00b92d7-0cc6-41fa-8489-bcef09b04b34",
   "metadata": {},
   "source": [
    "rstrip()"
   ]
  },
  {
   "cell_type": "code",
   "execution_count": null,
   "id": "5b5f7011-63a8-4160-ab96-9faf48adb1e8",
   "metadata": {},
   "outputs": [],
   "source": []
  }
 ],
 "metadata": {
  "kernelspec": {
   "display_name": "Python 3",
   "language": "python",
   "name": "python3"
  },
  "language_info": {
   "codemirror_mode": {
    "name": "ipython",
    "version": 3
   },
   "file_extension": ".py",
   "mimetype": "text/x-python",
   "name": "python",
   "nbconvert_exporter": "python",
   "pygments_lexer": "ipython3",
   "version": "3.8.8"
  }
 },
 "nbformat": 4,
 "nbformat_minor": 5
}
