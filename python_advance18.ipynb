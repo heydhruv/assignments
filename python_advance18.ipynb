{
 "cells": [
  {
   "cell_type": "markdown",
   "id": "66d3dbca-c074-4378-9aa3-5a5e23871c40",
   "metadata": {},
   "source": [
    "<h3>Q1. Describe the differences between text and binary files in a single paragraph.</h3>"
   ]
  },
  {
   "cell_type": "markdown",
   "id": "a65f6dbe-7999-4206-8fa2-ffeb28315079",
   "metadata": {},
   "source": [
    "The differences between Text Files and Binary Files are:\n",
    "\n",
    "Text files are special subset of binary files that are used to store human readable characters as a rich text document or plain text document. Text files also store data in sequential bytes but bits in text file represents characters.\n",
    "\n",
    "Binary files are those typical files that store data in the form of sequence of bytes grouped into eight bits or sometimes sixteen bits. These bits represent custom data and such files can store multiple types of data (images, audio, text, etc) under a single file."
   ]
  },
  {
   "cell_type": "markdown",
   "id": "039e6a7a-0da6-4ff8-aa7b-d67c7081894e",
   "metadata": {},
   "source": [
    "<h3>Q2. What are some scenarios where using text files will be the better option? When would you like to\n",
    "use binary files instead of text files?</h3>"
   ]
  },
  {
   "cell_type": "markdown",
   "id": "4582fe44-d6c4-448b-81cf-2057049c97eb",
   "metadata": {},
   "source": [
    "text files are less prone to get corrupted as any undesired change may just show up once the file is opened and then can easily be removed. Whereas Use binary files instead of text files for image data."
   ]
  },
  {
   "cell_type": "markdown",
   "id": "c194348d-03c1-414a-81c7-1d2f017a69cc",
   "metadata": {},
   "source": [
    "<h3>Q3. What are some of the issues with using binary operations to read and write a Python integer\n",
    "directly to disc?</h3>"
   ]
  },
  {
   "cell_type": "markdown",
   "id": "9d2ceba3-c852-4894-b38c-cf60ef015f07",
   "metadata": {},
   "source": [
    "When we read or write a python integer using binary operations\n",
    "\n",
    "    Binary operations deal with raw data\n",
    "    One needs to identify how many bytes one would read or write.\n"
   ]
  },
  {
   "cell_type": "markdown",
   "id": "b01a41ab-dfed-455b-a538-5e8b8a689eb2",
   "metadata": {},
   "source": [
    "<h3>Q4. Describe a benefit of using the with keyword instead of explicitly opening a file.</h3>"
   ]
  },
  {
   "cell_type": "markdown",
   "id": "2bae18fa-3fd3-4173-8443-651c28fc3f7b",
   "metadata": {},
   "source": [
    " When a file is opened using the with keyword, if some exceptions occur after opening a file, or at the end of the file it automatically does the closing of the file. There by not leaving an file in open mode and there would no need to explicitly close a file."
   ]
  },
  {
   "cell_type": "markdown",
   "id": "2b846aec-6d51-4fff-a8c7-71ed6766e682",
   "metadata": {},
   "source": [
    "<h3>Q5. Does Python have the trailing newline while reading a line of text? Does Python append a\n",
    "newline when you write a line of text?</h3>"
   ]
  },
  {
   "cell_type": "markdown",
   "id": "6f9228ec-62bd-4e24-97d0-0bdf60a7e9a1",
   "metadata": {},
   "source": [
    "Yes, Python have the trailing newline while reading a line of text. When we write a newline has to be provided in python excpicitly."
   ]
  },
  {
   "cell_type": "markdown",
   "id": "a84f37cf-fbca-4308-bb56-d05e6c0bc259",
   "metadata": {},
   "source": [
    "<h3>Q6. What file operations enable for random-access operation?</h3>"
   ]
  },
  {
   "cell_type": "markdown",
   "id": "3b05f5b1-ff14-48f9-b9ce-a9bb1e4baead",
   "metadata": {},
   "source": [
    "The file operations enable for random-access operation are seek() and tell()"
   ]
  },
  {
   "cell_type": "markdown",
   "id": "c34a55fd-e470-4c06-bf99-2e8688b3aec4",
   "metadata": {},
   "source": [
    "<h3>Q7. When do you think you&#39;ll use the struct package the most?</h3>"
   ]
  },
  {
   "cell_type": "markdown",
   "id": "47951ea3-6c4b-4d67-ace2-8716f306a49e",
   "metadata": {},
   "source": [
    "The struct package is mostly used while converting a common python types into C language types."
   ]
  },
  {
   "cell_type": "markdown",
   "id": "207b9362-d50a-41ae-ad76-1aeceab08435",
   "metadata": {},
   "source": [
    "<h3>Q8. When is pickling the best option?</h3>"
   ]
  },
  {
   "cell_type": "markdown",
   "id": "c94509ef-a2c3-4d94-975c-42a8ed47c285",
   "metadata": {},
   "source": [
    " Pickling is best option for creating a new binary file using python."
   ]
  },
  {
   "cell_type": "markdown",
   "id": "e86a96d6-436f-425b-8c76-9a47b0b6673c",
   "metadata": {},
   "source": [
    "<h3>Q9. When will it be best to use the shelve package?</h3>"
   ]
  },
  {
   "cell_type": "markdown",
   "id": "2334982b-8c8a-49df-813f-d50a2f6b5cb0",
   "metadata": {},
   "source": [
    "Shelve package is used to pickle data but treats the entire file as dictionary."
   ]
  },
  {
   "cell_type": "markdown",
   "id": "980df7fc-d838-4501-a0b6-8e251e2c4355",
   "metadata": {},
   "source": [
    "<h3>Q10. What is a special restriction when using the shelve package, as opposed to using other data\n",
    "dictionaries?</h3>"
   ]
  },
  {
   "cell_type": "markdown",
   "id": "1c41dc10-01e4-4562-b287-9752d79f9fcb",
   "metadata": {},
   "source": [
    "Only string data type can be used as key in this special dictionary object, whereas any picklable Python object can be used as value."
   ]
  },
  {
   "cell_type": "code",
   "execution_count": null,
   "id": "8ad8cc16-1149-4973-9778-2dec725b5858",
   "metadata": {},
   "outputs": [],
   "source": []
  }
 ],
 "metadata": {
  "kernelspec": {
   "display_name": "Python 3",
   "language": "python",
   "name": "python3"
  },
  "language_info": {
   "codemirror_mode": {
    "name": "ipython",
    "version": 3
   },
   "file_extension": ".py",
   "mimetype": "text/x-python",
   "name": "python",
   "nbconvert_exporter": "python",
   "pygments_lexer": "ipython3",
   "version": "3.8.8"
  }
 },
 "nbformat": 4,
 "nbformat_minor": 5
}
