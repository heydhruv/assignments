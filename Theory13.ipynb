{
 "cells": [
  {
   "cell_type": "markdown",
   "id": "9cd810e6-26a8-4c00-8d9b-41d324f6b9e3",
   "metadata": {},
   "source": [
    "<h3>1. What advantages do Excel spreadsheets have over CSV spreadsheets?</h3>"
   ]
  },
  {
   "cell_type": "markdown",
   "id": "f30de325-37cc-4b35-a81b-2235b7e0440a",
   "metadata": {},
   "source": [
    "<p> Excel allows you to format and customize your data in various ways, such as using conditional formatting, filters, sorting, and grouping. Excel also provides many functions and features for data validation, such as data types, data validation rules, error checking, and formulas. Additionally, Excel supports metadata, such as sheet names, comments, headers, and footers, which can help you document and structure your data.</p>"
   ]
  },
  {
   "cell_type": "markdown",
   "id": "2a3d3e59-40e2-4d53-8db7-6fc6c7507331",
   "metadata": {},
   "source": [
    "<h3>2.What do you pass to csv.reader() and csv.writer() to create reader and writer objects?</h3>"
   ]
  },
  {
   "cell_type": "markdown",
   "id": "8da9b496-baa8-4b4c-8729-59f6f1fbbc15",
   "metadata": {},
   "source": [
    "in csv.writer you pass csvfile, dialect='excel', **fmtparams and in csv.reader you can csvfile, dialect='excel', **fmtparams"
   ]
  },
  {
   "cell_type": "markdown",
   "id": "2390bbc6-370d-4ce0-828b-477776f72ee9",
   "metadata": {},
   "source": [
    "<h3>3. What modes do File objects for reader and writer objects need to be opened in?</h3>"
   ]
  },
  {
   "cell_type": "markdown",
   "id": "a039ed3f-8619-46b5-80fe-5c44ab12e18b",
   "metadata": {},
   "source": [
    "<p>‘r’\tRead (default)\tOpen a file for read only</p>\n",
    "<p>‘w’\tWrite\tOpen a file for write only (overwrite)</p>\n",
    "<p>‘a’\tAppend\tOpen a file for write only (append)</p>\n",
    "<p>‘r+’\tRead+Write\topen a file for both reading and writing</p>\n",
    "<p>‘x’\tCreate\tCreate a new file</p>"
   ]
  },
  {
   "cell_type": "markdown",
   "id": "d23053c3-3632-4122-9fa9-622c24c4dcfb",
   "metadata": {},
   "source": [
    "<h3>4. What method takes a list argument and writes it to a CSV file?</h3>"
   ]
  },
  {
   "cell_type": "markdown",
   "id": "d7d5731c-90c1-48eb-bfcb-13973de8f280",
   "metadata": {},
   "source": [
    "writerows()\n",
    "<p>writerow()</p>"
   ]
  },
  {
   "cell_type": "markdown",
   "id": "eba50399-afc6-4e7f-bcd4-5edc868e14b2",
   "metadata": {},
   "source": [
    "<h3>5. What do the keyword arguments delimiter and line terminator do?</h3>"
   ]
  },
  {
   "cell_type": "markdown",
   "id": "83fb7c65-ad1a-412c-b10d-827cb26a79b6",
   "metadata": {},
   "source": [
    "<p>This changes the delimiter and line terminator characters in your file.</p>"
   ]
  },
  {
   "cell_type": "markdown",
   "id": "63eb5b47-bd63-43b4-9b5b-69f1d4ce885c",
   "metadata": {},
   "source": [
    "<h3>6. What function takes a string of JSON data and returns a Python data structure?</h3>"
   ]
  },
  {
   "cell_type": "markdown",
   "id": "064ce36e-c3e2-42da-83b4-e9685e34e469",
   "metadata": {},
   "source": [
    " json.loads()"
   ]
  },
  {
   "cell_type": "markdown",
   "id": "319fd3c0-d29b-4a8d-bf6b-b319ad1f1f22",
   "metadata": {},
   "source": [
    "<h3>7. What function takes a Python data structure and returns a string of JSON data?</h3>"
   ]
  },
  {
   "cell_type": "markdown",
   "id": "4c750cc7-b988-428a-a056-756e97801d8c",
   "metadata": {},
   "source": [
    "json.dumps()"
   ]
  },
  {
   "cell_type": "code",
   "execution_count": null,
   "id": "6f96ba71-6a71-4071-817b-933080dd9d4e",
   "metadata": {},
   "outputs": [],
   "source": []
  }
 ],
 "metadata": {
  "kernelspec": {
   "display_name": "Python 3",
   "language": "python",
   "name": "python3"
  },
  "language_info": {
   "codemirror_mode": {
    "name": "ipython",
    "version": 3
   },
   "file_extension": ".py",
   "mimetype": "text/x-python",
   "name": "python",
   "nbconvert_exporter": "python",
   "pygments_lexer": "ipython3",
   "version": "3.8.8"
  }
 },
 "nbformat": 4,
 "nbformat_minor": 5
}
