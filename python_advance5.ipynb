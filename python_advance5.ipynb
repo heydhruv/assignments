{
 "cells": [
  {
   "cell_type": "markdown",
   "id": "a53b6c3c-4ef0-4b40-872b-8b7630b5e369",
   "metadata": {},
   "source": [
    "<h3>Q1. What is the meaning of multiple inheritance?</h3>"
   ]
  },
  {
   "cell_type": "code",
   "execution_count": 1,
   "id": "1b9fb84b-1ba7-4882-928d-424b3ceed857",
   "metadata": {},
   "outputs": [],
   "source": [
    "# child class inheriting from multiple parent class\n",
    "class parent1:\n",
    "    pass\n",
    "class parent2:\n",
    "    pass\n",
    "class child(parent1,parent2):\n",
    "    pass"
   ]
  },
  {
   "cell_type": "markdown",
   "id": "dc0c9514-6279-470e-a819-5a19a44fdf42",
   "metadata": {},
   "source": [
    "<h3>Q2. What is the concept of delegation?</h3>"
   ]
  },
  {
   "cell_type": "markdown",
   "id": "1b2e325c-5fbe-4941-8310-6048fd21bfc3",
   "metadata": {},
   "source": [
    " Delegation provides a proxy object for any class thay you want on top of the main class. its like a wrapper to your class so that you can access limited resources of the main class.\n",
    "\n",
    "it Wraps the object of main class into a smaller object with limited access\n",
    "\n",
    "Simply Delegation means that you can include a instance of another class as an instance variable, and forward messages to the instance."
   ]
  },
  {
   "cell_type": "code",
   "execution_count": 2,
   "id": "344b8923-172d-4a68-bcc6-b3e6d8a02d8d",
   "metadata": {},
   "outputs": [
    {
     "name": "stdout",
     "output_type": "stream",
     "text": [
      "hello,good morning\n",
      "hello,good morning\n",
      "hello,good morning\n",
      "bye see you tomorrow\n"
     ]
    }
   ],
   "source": [
    "class sample:\n",
    "    def enter(self):\n",
    "        print('hello,good morning')\n",
    "    def exit(self):\n",
    "        print('bye see you tomorrow')\n",
    "class test:\n",
    "    def __init__(self,x):\n",
    "        self.main=x\n",
    "    def t_enter(self):\n",
    "        self.main.enter()\n",
    "s=sample()\n",
    "t=test(s)\n",
    "t.main.enter()\n",
    "t.t_enter()\n",
    "s.enter()\n",
    "s.exit()\n",
    "        "
   ]
  },
  {
   "cell_type": "markdown",
   "id": "0d14133f-2410-4a82-bf18-590305f2b625",
   "metadata": {},
   "source": [
    "<h3>Q3. What is the concept of composition?</h3>"
   ]
  },
  {
   "cell_type": "markdown",
   "id": "e5420ef2-65f7-488b-a93a-229c28baa2bb",
   "metadata": {},
   "source": [
    " In the concept of Composition, a class refers to one or more other classes by using instances of those classes as a instance variable. irrespective of inheritence in this approach all the parent class members are not inherited into child class, but only required methods from a class are used by using class instances."
   ]
  },
  {
   "cell_type": "code",
   "execution_count": 9,
   "id": "66c62ddf-1750-45b3-95bb-d66a0819591b",
   "metadata": {},
   "outputs": [
    {
     "name": "stdout",
     "output_type": "stream",
     "text": [
      "360000\n"
     ]
    }
   ],
   "source": [
    "class Salary:\n",
    "    def __init__(self,pay):\n",
    "        self.pay=pay\n",
    "    def yearly(self):\n",
    "        return self.pay*12\n",
    "class Emp:\n",
    "    def __init__(self,pay,bonus):\n",
    "        self.pay=pay\n",
    "        self.bonus=bonus\n",
    "        self.obj_salary=Salary(self.pay)\n",
    "    def Annual(self):\n",
    "        return str(self.obj_salary.yearly())\n",
    "em=Emp(30000,20000)\n",
    "print(em.Annual())"
   ]
  },
  {
   "cell_type": "markdown",
   "id": "869defc1-0871-4e72-90f9-53f5999b2e70",
   "metadata": {},
   "source": [
    "<h3>Q4. What are bound methods and how do we use them?</h3>"
   ]
  },
  {
   "cell_type": "markdown",
   "id": "81ce1ee5-2ee0-4360-85bf-26d076aaa31a",
   "metadata": {},
   "source": [
    "If a function is an attribute of class and it is accessed via the instances, they are called bound methods. A bound method is one that has self as its first argument. Since these are dependent on the instance of classes, these are also known as instance methods."
   ]
  },
  {
   "cell_type": "code",
   "execution_count": 12,
   "id": "15110f69-f68a-41fb-9b25-3b8c31b9b53f",
   "metadata": {},
   "outputs": [
    {
     "name": "stdout",
     "output_type": "stream",
     "text": [
      "Called method_one\n",
      "Called method_two\n",
      "Called method_two\n"
     ]
    }
   ],
   "source": [
    "class Test:\n",
    "    def method_one(self): # bound method\n",
    "        print(\"Called method_one\")\n",
    "    @classmethod\n",
    "    def method_two(cls): # unbound method\n",
    "        print(\"Called method_two\")\n",
    "    @staticmethod\n",
    "    def method_three(): # static method\n",
    "        print(\"Called method_three\")\n",
    "        \n",
    "t=Test() \n",
    "t.method_one()\n",
    "t.method_two()\n",
    "t.method_two()"
   ]
  },
  {
   "cell_type": "markdown",
   "id": "d78a90b8-3e42-4cc9-b9cd-24f9c84c7960",
   "metadata": {},
   "source": [
    "<h3>Q5. What is the purpose of pseudoprivate attributes?</h3>"
   ]
  },
  {
   "cell_type": "markdown",
   "id": "2d5cbfae-a1e3-49c5-abb4-d9df6d57a275",
   "metadata": {},
   "source": [
    "Pseudoprivate attributes are also useful in larger frameworks or tools, both to avoid introducing new method names that might accidentally hide definitions elsewhere in the class tree and to reduce the chance of internal methods being replaced by names defined lower in the tree. If a method is intended for use only within a class that may be mixed into other classes, the double underscore prefix ensures that the method won't interfere with other names in the tree, especially in multiple-inheritance scenarios\n",
    "\n",
    "Pseudoprivate names also prevent subclasses from accidentally redefining the internal method's names,"
   ]
  },
  {
   "cell_type": "code",
   "execution_count": 13,
   "id": "846a4d13-96cd-4e89-848f-38caff2165c1",
   "metadata": {},
   "outputs": [],
   "source": [
    "\n",
    "\n",
    "class Super:\n",
    "    def method(self): # A real application method\n",
    "        pass\n",
    "class Tool:\n",
    "    def _method(self): # becomes _Tool_method\n",
    "        pass\n",
    "    def other(self): # uses internal method\n",
    "        self._method()\n",
    "class Subl(Tool,Super):\n",
    "    def actions(self):\n",
    "        self.method()\n",
    "class Sub2(Tool):\n",
    "    def __init__(self):\n",
    "        self.method = 99\n",
    "\n"
   ]
  },
  {
   "cell_type": "code",
   "execution_count": null,
   "id": "f5dd5f02-8660-4e47-b7fe-a722e6ef7c34",
   "metadata": {},
   "outputs": [],
   "source": []
  }
 ],
 "metadata": {
  "kernelspec": {
   "display_name": "Python 3 (ipykernel)",
   "language": "python",
   "name": "python3"
  },
  "language_info": {
   "codemirror_mode": {
    "name": "ipython",
    "version": 3
   },
   "file_extension": ".py",
   "mimetype": "text/x-python",
   "name": "python",
   "nbconvert_exporter": "python",
   "pygments_lexer": "ipython3",
   "version": "3.9.13"
  }
 },
 "nbformat": 4,
 "nbformat_minor": 5
}
