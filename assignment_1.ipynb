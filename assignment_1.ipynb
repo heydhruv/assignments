{
 "cells": [
  {
   "cell_type": "markdown",
   "id": "fd483f8c-55b1-430b-bedc-df9d7aef4f4b",
   "metadata": {},
   "source": [
    "1. In the below elements which of them are values or an expression? eg:- values can be\n",
    "integer or string and expressions will be mathematical operators.\n",
    "<h6>*-->expression</h6>\n",
    "<h6>'hello'-->value</h6>\n",
    "<h6>-87.8-->value(float!)</h6>\n",
    "<h6>- -->expression</h6>\n",
    "<h6>/ -->expression</h6>\n",
    "<h6>+ -->expression</h6>\n",
    "<h6>6 -->value</h6>"
   ]
  },
  {
   "cell_type": "markdown",
   "id": "544fad9f-7442-42eb-bef2-5fa07fb1bd0f",
   "metadata": {},
   "source": [
    "<h3>2 What is the difference between string and variable?</h3>\n",
    "<h4>string is a data type , string defines what type of data variable can hold , string can be defined in single,double or multiple quotes and variable is a memory location to store data and it can hold any kind of data int,float ,string,bool </h4>"
   ]
  },
  {
   "cell_type": "markdown",
   "id": "ae39cf4b-213a-4e37-9d54-831ad144d6ef",
   "metadata": {},
   "source": [
    "<h3>3 Describe three different data types.</h3>\n",
    "<h4>int is integer can hold positive and negative whole numbers,numbers without decimal point or fraction</h4>\n",
    "<h4>float can hold positive or negative fractions or real numbers</h4>\n",
    "<h4>str string can hold anything under quotes<h4>"
   ]
  },
  {
   "cell_type": "markdown",
   "id": "6e133250-f07e-4a78-aae9-220d77201bf7",
   "metadata": {},
   "source": [
    "<h3>4 What is an expression made up of? What do all expressions do?<h3>\n",
    "<h4>expressions are made up of operators and oprands , all expression do computation based on type of their operator and return a value</h4>"
   ]
  },
  {
   "cell_type": "markdown",
   "id": "79673ca3-518a-4a65-ac62-7226bba5108e",
   "metadata": {},
   "source": [
    "<h3>4 This assignment statements, like spam = 10. What is the difference between an\n",
    "expression and a statement?</h3>\n",
    "<h4>statements do not perform operation between two or more operands,spam=10 here we assigned 10 to spam but but the left side of spam we dont have operator as well as 2nd operand and so we aren't performing any operation  </h4>"
   ]
  },
  {
   "cell_type": "markdown",
   "id": "013c6755-e62d-4207-b551-818d1f4ee841",
   "metadata": {},
   "source": [
    "<h3>6. After running the following code, what does the variable bacon contain?</h3>"
   ]
  },
  {
   "cell_type": "code",
   "execution_count": 1,
   "id": "d7ba05b3-d4ec-4081-b1a3-c38637ea1fba",
   "metadata": {},
   "outputs": [
    {
     "data": {
      "text/plain": [
       "23"
      ]
     },
     "execution_count": 1,
     "metadata": {},
     "output_type": "execute_result"
    }
   ],
   "source": [
    "bacon = 22\n",
    "bacon + 1"
   ]
  },
  {
   "cell_type": "markdown",
   "id": "da21a8ea-64d5-480c-b607-46d9ac89a3ad",
   "metadata": {},
   "source": [
    "<h3>7. What should the values of the following two terms be?</h3>"
   ]
  },
  {
   "cell_type": "code",
   "execution_count": 5,
   "id": "b37a2523-7fe6-4fd3-a4c0-c6c50c877e28",
   "metadata": {},
   "outputs": [
    {
     "data": {
      "text/plain": [
       "'spamspamspam'"
      ]
     },
     "execution_count": 5,
     "metadata": {},
     "output_type": "execute_result"
    }
   ],
   "source": [
    "'spam'+'spamspam'\n"
   ]
  },
  {
   "cell_type": "code",
   "execution_count": 4,
   "id": "40e32c82-a546-428c-920b-4e42e8d4d27b",
   "metadata": {},
   "outputs": [
    {
     "data": {
      "text/plain": [
       "'spamspamspam'"
      ]
     },
     "execution_count": 4,
     "metadata": {},
     "output_type": "execute_result"
    }
   ],
   "source": [
    "'spam'*3"
   ]
  },
  {
   "cell_type": "markdown",
   "id": "518715a3-7075-4e2a-bc2a-c61c29232e71",
   "metadata": {},
   "source": [
    "<h3>8. Why is eggs a valid variable name while 100 is invalid?</h3>\n",
    "<h4>because a number can not hold a value also variable gets stored in memory where it addresses the values it contains but a number stored in memory can not address a value </h4>"
   ]
  },
  {
   "cell_type": "markdown",
   "id": "600baad9-cbed-446d-a014-2d4ba3ff946a",
   "metadata": {},
   "source": [
    "<h3>9. What three functions can be used to get the integer, floating-point number, or string\n",
    "version of a value?</h3>\n",
    "complex num conversion isn't posibble in int,float"
   ]
  },
  {
   "cell_type": "code",
   "execution_count": 19,
   "id": "1dde2a04-09d0-4e83-9d29-b951d35f1eba",
   "metadata": {},
   "outputs": [
    {
     "data": {
      "text/plain": [
       "'10'"
      ]
     },
     "execution_count": 19,
     "metadata": {},
     "output_type": "execute_result"
    }
   ],
   "source": [
    "a=10\n",
    "str(a)\n"
   ]
  },
  {
   "cell_type": "code",
   "execution_count": 20,
   "id": "e0ce6c1e-a695-4811-bb75-e131c65d8648",
   "metadata": {},
   "outputs": [
    {
     "data": {
      "text/plain": [
       "10.0"
      ]
     },
     "execution_count": 20,
     "metadata": {},
     "output_type": "execute_result"
    }
   ],
   "source": [
    "float(a)"
   ]
  },
  {
   "cell_type": "code",
   "execution_count": 21,
   "id": "b3eaf869-80f1-447d-8f57-6c91cee764f1",
   "metadata": {},
   "outputs": [
    {
     "data": {
      "text/plain": [
       "10"
      ]
     },
     "execution_count": 21,
     "metadata": {},
     "output_type": "execute_result"
    }
   ],
   "source": [
    "int(a)"
   ]
  },
  {
   "cell_type": "markdown",
   "id": "c06ded9f-6f19-4400-b738-8ba9e40f8cd4",
   "metadata": {},
   "source": [
    "<h3>Why does this expression cause an error? How can you fix it?</h3>"
   ]
  },
  {
   "cell_type": "code",
   "execution_count": 30,
   "id": "6999588f-4150-411a-8243-efb5d2ad5edd",
   "metadata": {},
   "outputs": [
    {
     "ename": "TypeError",
     "evalue": "can only concatenate str (not \"int\") to str",
     "output_type": "error",
     "traceback": [
      "\u001b[0;31m---------------------------------------------------------------------------\u001b[0m",
      "\u001b[0;31mTypeError\u001b[0m                                 Traceback (most recent call last)",
      "Input \u001b[0;32mIn [30]\u001b[0m, in \u001b[0;36m<cell line: 1>\u001b[0;34m()\u001b[0m\n\u001b[0;32m----> 1\u001b[0m \u001b[38;5;124;43m'\u001b[39;49m\u001b[38;5;124;43mi have eaten \u001b[39;49m\u001b[38;5;124;43m'\u001b[39;49m\u001b[38;5;241;43m+\u001b[39;49m\u001b[38;5;241;43m99\u001b[39;49m\u001b[38;5;241m+\u001b[39m\u001b[38;5;124m'\u001b[39m\u001b[38;5;124mburritos.\u001b[39m\u001b[38;5;124m'\u001b[39m\n",
      "\u001b[0;31mTypeError\u001b[0m: can only concatenate str (not \"int\") to str"
     ]
    }
   ],
   "source": [
    "'i have eaten '+99+'burritos.'\n",
    "#type error --Concatenation of string can only happen with string "
   ]
  },
  {
   "cell_type": "code",
   "execution_count": 31,
   "id": "b3297b54-411b-4e0d-920f-f7891fca812c",
   "metadata": {},
   "outputs": [
    {
     "data": {
      "text/plain": [
       "'i have eaten 99 burritos.'"
      ]
     },
     "execution_count": 31,
     "metadata": {},
     "output_type": "execute_result"
    }
   ],
   "source": [
    "'i have eaten '+'99 '+'burritos.'"
   ]
  },
  {
   "cell_type": "code",
   "execution_count": null,
   "id": "07f70734-6165-459e-aa1d-7cc8a058d7b7",
   "metadata": {},
   "outputs": [],
   "source": []
  },
  {
   "cell_type": "code",
   "execution_count": null,
   "id": "ef9c2d9b-5ca0-44f7-89dd-8ec6a245d76b",
   "metadata": {},
   "outputs": [],
   "source": []
  }
 ],
 "metadata": {
  "kernelspec": {
   "display_name": "Python 3 (ipykernel)",
   "language": "python",
   "name": "python3"
  },
  "language_info": {
   "codemirror_mode": {
    "name": "ipython",
    "version": 3
   },
   "file_extension": ".py",
   "mimetype": "text/x-python",
   "name": "python",
   "nbconvert_exporter": "python",
   "pygments_lexer": "ipython3",
   "version": "3.9.12"
  }
 },
 "nbformat": 4,
 "nbformat_minor": 5
}
