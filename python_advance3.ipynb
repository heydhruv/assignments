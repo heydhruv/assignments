{
 "cells": [
  {
   "cell_type": "markdown",
   "id": "cf65a813-eac3-48d7-8c81-5d58fdedef63",
   "metadata": {},
   "source": [
    "<h3>1. What is the concept of an abstract superclass?</h3>"
   ]
  },
  {
   "cell_type": "markdown",
   "id": "95308097-d2a2-4a54-8359-98bf46eafe1f",
   "metadata": {},
   "source": [
    "import abc from ABC<br>\n",
    "class company(ABC):#abstract class<br>\n",
    "    pass<br>"
   ]
  },
  {
   "cell_type": "markdown",
   "id": "fbac4263-f3d9-443f-b63d-45977a39d78b",
   "metadata": {},
   "source": [
    "<h3>\n",
    "2. What happens when a class statement's top level contains a basic assignment statement?</h3>"
   ]
  },
  {
   "cell_type": "markdown",
   "id": "7fa8a7a4-5bbe-4eab-922e-41523999b90b",
   "metadata": {},
   "source": [
    "When a Class statement's top level contains a basic assignment statement, its usually treated as a class attribute or class level variable."
   ]
  },
  {
   "cell_type": "markdown",
   "id": "a56496fc-8665-4616-af9d-96cdb946f823",
   "metadata": {},
   "source": [
    "<h3>3. Why does a class need to manually call a superclass's init method?</h3>"
   ]
  },
  {
   "cell_type": "markdown",
   "id": "4a60490e-d638-4784-86e6-fd20a982898e",
   "metadata": {},
   "source": [
    " if a child class has __init__ method, then it will not inherit the __init__ method of the parent class. in other words the __init__ method of the child class overrides the __init__ method of the parent class. so we have to manually call a parent superclass's __init__ using super() method"
   ]
  },
  {
   "cell_type": "markdown",
   "id": "638d073b-b390-4975-a735-1b3d00943063",
   "metadata": {},
   "source": [
    "<h3>4. How can you augment, instead of completely replacing, an inherited method?</h3>"
   ]
  },
  {
   "cell_type": "markdown",
   "id": "b12e5bec-edc5-42d9-bf93-3117903d3968",
   "metadata": {},
   "source": [
    "super() method can be used to augment, instead of completely replacing, an inherited method."
   ]
  },
  {
   "cell_type": "markdown",
   "id": "116d6613-aff8-40af-b31c-bf29ca0abb1e",
   "metadata": {},
   "source": [
    "<h3>\n",
    "5. How is the local scope of a class different from that of a function?</h3>"
   ]
  },
  {
   "cell_type": "markdown",
   "id": "99335331-ef5b-4f1d-bd69-f103b91b436c",
   "metadata": {},
   "source": [
    "scope of local variable defined in class is till class operation is in process,same goes for funcrion"
   ]
  },
  {
   "cell_type": "code",
   "execution_count": null,
   "id": "1ba78d73-8f08-41d8-acfa-034c549f9605",
   "metadata": {},
   "outputs": [],
   "source": []
  }
 ],
 "metadata": {
  "kernelspec": {
   "display_name": "Python 3 (ipykernel)",
   "language": "python",
   "name": "python3"
  },
  "language_info": {
   "codemirror_mode": {
    "name": "ipython",
    "version": 3
   },
   "file_extension": ".py",
   "mimetype": "text/x-python",
   "name": "python",
   "nbconvert_exporter": "python",
   "pygments_lexer": "ipython3",
   "version": "3.9.13"
  }
 },
 "nbformat": 4,
 "nbformat_minor": 5
}
