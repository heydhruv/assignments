{
 "cells": [
  {
   "cell_type": "markdown",
   "id": "a95f55ff-0231-455b-b91c-31ada4d79136",
   "metadata": {},
   "source": [
    "\n",
    "\n",
    "\n",
    "    <stirng>.isdecimal() -> Returns True if all characters in a string are decimal.\n",
    "    <string>.isalnum() -> Returns True if all characters in the string are AlphaNumeric.\n",
    "    <string>.istitle() -> Returns True if first character in a string is in Uppercase.\n",
    "    <string>.partition(<sub_string>) -> Splits string at first occurance of sub string and returns a tuple of 3 elements.\n",
    "    <string>.rpartition(<sub_string>) -> Splits string at last occurance of sub string and returns a tuple of 3 elements.\n",
    "    <string>.isidentifier() -> Returns True if give string is a valid identifier name.\n",
    "    len(<string>) -> Returns the length of the given string.\n",
    "    <string>.index(<sub_string>) -> Returns the lowest index of substring if substring is found in the string.\n",
    "    <string>.rindex(<sub_string>) -> Returns the highest index of substring if substring is found in the string.\n",
    "    max(<string>) -> Returns the highest Alphabetical Character in the string as per ASCII.\n",
    "    min(<string>) -> Returns the lowest Alphabetical Character in the string as per ASCII.\n",
    "    <string>.splitlines() -> Returns a list of lines in the string.\n",
    "    <string>.capitalize() -> Returns the string with first character capitalized.\n",
    "    <string>.upper() -> Returns the string with all characters in uppercase.\n",
    "    <string>.lower() -> Returns the string with all characters in lowercase\n",
    "    <string>.casefold() -> Returns the string in lowercase which can be used for caseless comparisions.\n",
    "    <string>.expandtabs(no_of_spaces) -> Replaces tabs in a string with specified no of spaces default is 8\n",
    "    <string>.find(<sub_string>) -> Returns lowest index of substring if substring is found in the string else returns -1.\n",
    "    <string>.rfind(<sub_string>) -> Returns highest index of substring if substring is found in the string else returns -1.\n",
    "    <string>.count(<char>) -> Returns the no of occurances of the char in the given string.\n",
    "    <string>.split(<sep>) -> Returns list of words seperated by given sep else seperated by whitespace.\n",
    "    <string>.rsplit(<sep>) -> Returns list of words seperated by given sep else seperated by whitespace scanning from end.\n",
    "    <string>.lstrip() -> Returns a copy of where leading whitespaces are removed.\n",
    "    <string>.rstrip() -> Returns a copy of where trailed whitespaces are removed.\n",
    "    <string>.strip() -> Returns a copy of where both leading and trailing whitespaces are removed.\n",
    "    <string>.swapcase() -> Swaps lowercase characters with uppercase and vice versa.\n",
    "    <sep>.join(<list>) -> Concatenates a list or tuple of words with intervening occuernces of sep.\n",
    "    <string>.translate(<mapping_table>) -> translates the characters using table.\n",
    "    <string>.maketrans(<dict>) -> Creating a mapping translation tbale usable for <string>.translate(<mapping_table>)\n",
    "    <string>.replace(<char_1>,<char_2>) -> Replace all occurances of char_1 with char_2 in string.\n",
    "    <string>.encode() -> Encodes string into any encoding supported by python. Default encoding is UTF-8.\n",
    "    <string>.ljust(<no_of_spaces>) -> Left-justify in a field of given width.\n",
    "    <string>.rjust(<no_of_spaces>) -> Right-justify in a field of given width.\n",
    "    <string>.center(<no_of_spaces>) -> Center-justify in a field of given width.\n",
    "    <stirng>.zfill(<length>) -> Zfill adds zeros to the begining of string until the specified length is reached.\n",
    "\n"
   ]
  },
  {
   "cell_type": "code",
   "execution_count": 11,
   "id": "322ebf0d-c017-4e15-8bb4-f08c2c06c1c4",
   "metadata": {},
   "outputs": [
    {
     "name": "stdout",
     "output_type": "stream",
     "text": [
      "True\n",
      "True\n",
      "False\n",
      "('\"I could eat ', 'bananas', ' all day, bananas are my favorite fruit\"')\n",
      "('\"I could eat bananas all day, ', 'bananas', ' are my favorite fruit\"')\n",
      "True\n",
      "17\n",
      "1\n",
      "6\n",
      "t\n",
      "A\n",
      "['Ineuron ', ' Full Stack ', ' Data Science ', ' Course ']\n",
      "Finding nemo\n",
      "DATAPIPELINES\n",
      "mlops\n",
      "doloris jane umbridge\n",
      "Data science    Data Analyst\n",
      "1\n",
      "6\n",
      "2\n",
      "['i', 'euro', '']\n",
      "['i', 'euro', '']\n",
      "EDA \n",
      " EDA\n",
      "EDA\n",
      "eXPLORATORY dATA aNALYSIS\n",
      "Iris_flower_Dataset\n",
      "Hello Pam!\n",
      "Hello Pam!\n",
      "I2euro2\n",
      "b'Natural Language Processing'\n",
      "Nemo      \n",
      "      Nemo\n",
      "   Nemo   \n",
      "00000Hello\n"
     ]
    }
   ],
   "source": [
    "print('1234567890'.isdecimal())\n",
    "print('IneuronFullStackDS'.isalnum())\n",
    "print('Ineuron Full Stack Data science'.istitle())\n",
    "print('\"I could eat bananas all day, bananas are my favorite fruit\"'.partition('bananas'))\n",
    "print('\"I could eat bananas all day, bananas are my favorite fruit\"'.rpartition('bananas'))\n",
    "print('GeeksForFreaks'.isidentifier())\n",
    "print(len('Linear Regression'))\n",
    "print('Ineuron'.index('n'))\n",
    "print('Ineuron'.rindex('n'))\n",
    "print(max('Data_Scientist'))\n",
    "print(min('Data_Analyst'))\n",
    "print('Ineuron \\n Full Stack \\n Data Science \\n Course '.splitlines())\n",
    "print('finding nemo'.capitalize())\n",
    "print('datapipelines'.upper())\n",
    "print('MLOPS'.lower())\n",
    "print('Doloris Jane Umbridge'.casefold())\n",
    "print('Data science\\tData Analyst'.expandtabs(8))\n",
    "print('Ineuron'.find('n'))\n",
    "print('Ineuron'.rfind('n'))\n",
    "print('Transformers'.count('s'))\n",
    "print('ineuron'.split('n'))\n",
    "print('ineuron'.rsplit('n'))\n",
    "print(' EDA '.lstrip())\n",
    "print(' EDA '.rstrip())\n",
    "print(' EDA '.strip())\n",
    "print('Exploratory Data Analysis'.swapcase())\n",
    "print('_'.join(['Iris','flower','Dataset']))\n",
    "\n",
    "mydict = {83:  80}\n",
    "print(\"Hello Sam!\".translate(mydict))\n",
    "\n",
    "txt = \"Hello Sam!\"\n",
    "mytable = txt.maketrans(\"S\", \"P\")\n",
    "print(txt.translate(mytable))\n",
    "\n",
    "print('Ineuron'.replace('n','2'))\n",
    "print('Natural Language Processing'.encode())\n",
    "print('Nemo'.ljust(10))\n",
    "print('Nemo'.rjust(10))\n",
    "print('Nemo'.center(10))\n",
    "print('Hello'.zfill(10))"
   ]
  },
  {
   "cell_type": "markdown",
   "id": "822c4380-41f0-47a1-ade4-2230e9ea2829",
   "metadata": {},
   "source": [
    "<h3>Q2. How do the string forms in Python 3.X vary in terms of operations?</h3>"
   ]
  },
  {
   "cell_type": "markdown",
   "id": "5ee2942a-03be-486a-a374-9f12d8318d11",
   "metadata": {},
   "source": [
    "In Python3 default format of strings is Unicode Whereas in Pyton2 we need to explicitly mention Unicode value using u."
   ]
  },
  {
   "cell_type": "markdown",
   "id": "4f01558c-954b-4d6b-abdc-8ac7c8ecd2e9",
   "metadata": {},
   "source": [
    "<h3> In Python 3.X, how do you put non-ASCII Unicode characters in a string?</h3>"
   ]
  },
  {
   "cell_type": "markdown",
   "id": "e54c1ac8-4a44-4a32-9ad0-c92ea00f955a",
   "metadata": {},
   "source": [
    " In Python 3.x unidecode() method from unidecode library can be used to put non-ASCII Unicode Characters in a string."
   ]
  },
  {
   "cell_type": "markdown",
   "id": "e3d19b6e-def5-4220-8e16-244a5a73ad91",
   "metadata": {},
   "source": [
    "<h3>Q4. In Python 3.X, what are the key differences between text-mode and binary-mode files?</h3>"
   ]
  },
  {
   "cell_type": "markdown",
   "id": "ff6652eb-dcbf-49d3-9437-a9311a2f5a25",
   "metadata": {},
   "source": [
    " The major difference between these two is that a text file contains textual information in the form of alphabets, digits and special characters or symbols. On the other hand, a binary file contains bytes or a compiled version of a text file.\n",
    "\n",
    "When a file is opened in text mode, reading its data automatically decodes its content (as per the platform default or as per provided encoding), and returns it as a str; writing operation takes a str, and automatically encodes it before transferring to the file. Text mode files also support universal end-of-line translation, and encoding specification arguments.\n",
    "\n",
    "When a file is opened in binary mode by adding a b to the mode string argument in the open() call, reading its data does not decode it in any way, and simply returns its content raw and unchanged, as a bytes object; writing takes a bytes object and transfers it to the file unchanged. Binary-mode files also accept a bytearray object for the content to be written to the file."
   ]
  },
  {
   "cell_type": "markdown",
   "id": "89316328-ee11-439b-aaaf-0d2ffaa0f9f6",
   "metadata": {},
   "source": [
    "<h3>\n",
    "Q5. How can you interpret a Unicode text file containing text encoded in a different encoding than your platform's default?</h3>"
   ]
  },
  {
   "cell_type": "markdown",
   "id": "42d4c804-d02b-4b4b-9d55-101150cc357b",
   "metadata": {},
   "source": [
    " Use of encode() and decode() method"
   ]
  },
  {
   "cell_type": "markdown",
   "id": "c9a05d0b-2533-4684-ad77-2f2fed641dc4",
   "metadata": {},
   "source": [
    "<h3>Q6. What is the best way to make a Unicode text file in a particular encoding format?</h3>"
   ]
  },
  {
   "cell_type": "markdown",
   "id": "3635a9a3-b410-43ef-a537-d2eef048294a",
   "metadata": {},
   "source": [
    " Use str.encode() and file.write() to make a Unicode text file in a particular encoding format, default encoding format is UTF-8."
   ]
  },
  {
   "cell_type": "markdown",
   "id": "0038b714-0d70-4d4e-8538-f388c498a39a",
   "metadata": {},
   "source": [
    "<h3>Q7. What qualifies ASCII text as a form of Unicode text?</h3>"
   ]
  },
  {
   "cell_type": "markdown",
   "id": "982725d2-78b6-425f-95c8-d1064016370b",
   "metadata": {},
   "source": [
    "Unicode represents most written languages in the world. ASCII has its equivalent in Unicode. The difference between ASCII and Unicode is that ASCII represents lowercase letters (a-z), uppercase letters (A-Z), digits (0–9) and symbols such as punctuation marks while Unicode represents letters of English, Arabic, Greek etc. mathematical symbols, historical scripts, emoji covering a wide range of characters than ASCII."
   ]
  },
  {
   "cell_type": "markdown",
   "id": "4a0fe916-206c-4f23-98dd-64f3d8819ad9",
   "metadata": {},
   "source": [
    "<h3>Q8. How much of an effect does the change in string types in Python 3.X have on your code?</h3>"
   ]
  },
  {
   "cell_type": "markdown",
   "id": "af86ee0c-3c96-493f-b7bf-412c2e79c1bb",
   "metadata": {},
   "source": [
    "Python 3 stores strings as Unicode by default whereas Python 2 requires you to mark a string with a u if you want to store it as Unicode. Unicode strings are more versatile than ASCII strings, which are the Python 3.X default, as they can store letters from foreign languages as well as emoji and the standard Roman letters and numerals."
   ]
  },
  {
   "cell_type": "code",
   "execution_count": null,
   "id": "7c9f283b-271a-4125-857b-82c35137fccd",
   "metadata": {},
   "outputs": [],
   "source": []
  }
 ],
 "metadata": {
  "kernelspec": {
   "display_name": "Python 3 (ipykernel)",
   "language": "python",
   "name": "python3"
  },
  "language_info": {
   "codemirror_mode": {
    "name": "ipython",
    "version": 3
   },
   "file_extension": ".py",
   "mimetype": "text/x-python",
   "name": "python",
   "nbconvert_exporter": "python",
   "pygments_lexer": "ipython3",
   "version": "3.9.13"
  }
 },
 "nbformat": 4,
 "nbformat_minor": 5
}
