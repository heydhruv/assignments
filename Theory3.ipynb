{
 "cells": [
  {
   "cell_type": "markdown",
   "id": "a7b410ae-2ccc-4362-b8e9-2be6dd908d3f",
   "metadata": {},
   "source": [
    "<h3>Why are functions advantageous to have in your programs?</h3>"
   ]
  },
  {
   "cell_type": "markdown",
   "id": "32af7199-c042-4b61-a94b-df95e96956be",
   "metadata": {},
   "source": [
    "<p>removes problem of writing repetitive code</p>"
   ]
  },
  {
   "cell_type": "markdown",
   "id": "fba1b052-0dd7-462d-b5cc-cab7599de370",
   "metadata": {},
   "source": [
    "<h3>2. When does the code in a function run: when it&#39;s specified or when it&#39;s called?</h3>"
   ]
  },
  {
   "cell_type": "markdown",
   "id": "a99d7364-f8dd-4353-8518-14d8e4713e97",
   "metadata": {},
   "source": [
    "when you call that function"
   ]
  },
  {
   "cell_type": "markdown",
   "id": "7e1745d6-eeb3-49ef-b63e-e320ada3d9f8",
   "metadata": {},
   "source": [
    "<h3>3. What statement creates a function?</h3>"
   ]
  },
  {
   "cell_type": "markdown",
   "id": "62eca6d1-8e4a-41ee-a4d1-cee04bdbcf74",
   "metadata": {},
   "source": [
    "def"
   ]
  },
  {
   "cell_type": "markdown",
   "id": "649194aa-52ae-4743-8259-9ba63ce9bcbe",
   "metadata": {},
   "source": [
    "<h3>4. What is the difference between a function and a function call?</h3>"
   ]
  },
  {
   "cell_type": "markdown",
   "id": "51f6b9dd-30cb-4a71-ac5c-4d3ee291ab23",
   "metadata": {},
   "source": [
    "function peice of moduler code and function call is way to invoke that function"
   ]
  },
  {
   "cell_type": "markdown",
   "id": "c716a87b-36f9-4800-bba4-b4f301e76963",
   "metadata": {},
   "source": [
    "<h3>5. How many global scopes are there in a Python program? How many local scopes?</h3>"
   ]
  },
  {
   "cell_type": "markdown",
   "id": "888ffa0c-631f-44e9-b789-8ebb89c5c628",
   "metadata": {},
   "source": [
    "1 global only 1 scope and 2-local as many as you want"
   ]
  },
  {
   "cell_type": "markdown",
   "id": "ee5a7012-e3ce-4820-9890-5f54e7efdc20",
   "metadata": {},
   "source": [
    "<h3>6. What happens to variables in a local scope when the function call returns?</h3>"
   ]
  },
  {
   "cell_type": "markdown",
   "id": "f988461b-6f48-4c97-8b5a-e0c8aa4dd493",
   "metadata": {},
   "source": [
    "local var are ctreated on call and destroyed on return"
   ]
  },
  {
   "cell_type": "markdown",
   "id": "eaa98f90-43ec-41d0-a611-76859207d8b8",
   "metadata": {},
   "source": [
    "<h3>7. What is the concept of a return value? Is it possible to have a return value in an expression?</h3>"
   ]
  },
  {
   "cell_type": "markdown",
   "id": "6389858c-86ff-4df5-a8f5-09a8802adaa6",
   "metadata": {},
   "source": [
    "return ends execution of func call and returns the values ,yes"
   ]
  },
  {
   "cell_type": "markdown",
   "id": "8bd157e4-96a9-4226-bf69-82cca86053a2",
   "metadata": {},
   "source": [
    "<h3>8. If a function does not have a return statement, what is the return value of a call to that function?</h3>"
   ]
  },
  {
   "cell_type": "markdown",
   "id": "66cdb39f-2d9d-46cd-a3c5-b27d60d6e55d",
   "metadata": {},
   "source": [
    "dafault void"
   ]
  },
  {
   "cell_type": "markdown",
   "id": "56a66e7a-59aa-44b1-be7c-3c0c4b2b1d9b",
   "metadata": {},
   "source": [
    "<h3>9. How do you make a function variable refer to the global variable?</h3>"
   ]
  },
  {
   "cell_type": "markdown",
   "id": "3adaccb3-2a8c-4752-aa6c-eb832f28ea39",
   "metadata": {},
   "source": [
    "global keyword"
   ]
  },
  {
   "cell_type": "markdown",
   "id": "71212ee3-51ad-4208-b6ec-ae83bb2e02fd",
   "metadata": {},
   "source": [
    "<h3>10. What is the data type of None?</h3>"
   ]
  },
  {
   "cell_type": "markdown",
   "id": "6bb718bf-cc87-4c55-ab28-ac8bbd2837b2",
   "metadata": {},
   "source": [
    "Nonetype"
   ]
  },
  {
   "cell_type": "markdown",
   "id": "a348d094-8c31-4e6d-9b9d-3f094ea12b48",
   "metadata": {},
   "source": [
    "<h3>11. What does the sentence import areallyourpetsnamederic do?</h3>"
   ]
  },
  {
   "cell_type": "code",
   "execution_count": 11,
   "id": "599a0bcc-215a-48b6-a458-e992aac07d9a",
   "metadata": {},
   "outputs": [
    {
     "ename": "ModuleNotFoundError",
     "evalue": "No module named 'areallyourpetsnamederic'",
     "output_type": "error",
     "traceback": [
      "\u001b[0;31m---------------------------------------------------------------------------\u001b[0m",
      "\u001b[0;31mModuleNotFoundError\u001b[0m                       Traceback (most recent call last)",
      "\u001b[0;32m<ipython-input-11-7cd1eeadebd7>\u001b[0m in \u001b[0;36m<module>\u001b[0;34m\u001b[0m\n\u001b[0;32m----> 1\u001b[0;31m \u001b[0;32mimport\u001b[0m \u001b[0mareallyourpetsnamederic\u001b[0m  \u001b[0;31m#gives you ModuleNotFoundError\u001b[0m\u001b[0;34m\u001b[0m\u001b[0;34m\u001b[0m\u001b[0m\n\u001b[0m",
      "\u001b[0;31mModuleNotFoundError\u001b[0m: No module named 'areallyourpetsnamederic'"
     ]
    }
   ],
   "source": [
    "import areallyourpetsnamederic  #gives you ModuleNotFoundError"
   ]
  },
  {
   "cell_type": "markdown",
   "id": "a1b102e1-1353-4939-a110-a7d0f6e1ba5d",
   "metadata": {},
   "source": [
    "<h3>12. If you had a bacon() feature in a spam module, what would you call it after importing spam?</h3>"
   ]
  },
  {
   "cell_type": "markdown",
   "id": "904d6d47-add1-40aa-b663-07d44b446eff",
   "metadata": {},
   "source": [
    "spam.bacon()"
   ]
  },
  {
   "cell_type": "markdown",
   "id": "b40601a5-3599-4caf-88d6-c0c3492e2df8",
   "metadata": {},
   "source": [
    "<h3>13. What can you do to save a programme from crashing if it encounters an error?</h3>"
   ]
  },
  {
   "cell_type": "markdown",
   "id": "9838374e-7ea7-48d0-bba4-8ec3285d8188",
   "metadata": {},
   "source": [
    "exeption handling,logging etc but you cal always shut down the production is panic situation :p"
   ]
  },
  {
   "cell_type": "markdown",
   "id": "70fcaf16-5991-45c1-a71f-ec274704939b",
   "metadata": {},
   "source": [
    "<h3>14. What is the purpose of the try clause? What is the purpose of the except clause?</h3>"
   ]
  },
  {
   "cell_type": "markdown",
   "id": "38997697-bd40-4730-b5d1-fa21754970ff",
   "metadata": {},
   "source": [
    "try lets you test the block and except cathces errors"
   ]
  },
  {
   "cell_type": "code",
   "execution_count": null,
   "id": "a8d0a21e-3e06-4dd4-b6e9-e9c7fcc4c45f",
   "metadata": {},
   "outputs": [],
   "source": []
  }
 ],
 "metadata": {
  "kernelspec": {
   "display_name": "Python 3",
   "language": "python",
   "name": "python3"
  },
  "language_info": {
   "codemirror_mode": {
    "name": "ipython",
    "version": 3
   },
   "file_extension": ".py",
   "mimetype": "text/x-python",
   "name": "python",
   "nbconvert_exporter": "python",
   "pygments_lexer": "ipython3",
   "version": "3.8.8"
  }
 },
 "nbformat": 4,
 "nbformat_minor": 5
}
