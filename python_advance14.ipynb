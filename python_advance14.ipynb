{
 "cells": [
  {
   "cell_type": "markdown",
   "id": "ec0933eb-9ad1-43cf-9f43-2835a83bcff3",
   "metadata": {},
   "source": [
    "<h3>Q1. Is an assignment operator like += only for show? Is it possible that it would lead to faster results\n",
    "at the runtime?</h3>"
   ]
  },
  {
   "cell_type": "markdown",
   "id": "42902ec4-d38d-441f-853e-694f9c621b45",
   "metadata": {},
   "source": [
    "a=a+1 and a+=1 returns same output but in first operation interpreter has to look for memory of a twice and in second we increment a by 1 with only one search"
   ]
  },
  {
   "cell_type": "markdown",
   "id": "13358640-c754-4d0a-94a2-73c7964171c4",
   "metadata": {},
   "source": [
    "<h3>Q2. What is the smallest number of statements you&#39;d have to write in most programming languages to\n",
    "replace the Python expression a, b = a + b, a?</h3>"
   ]
  },
  {
   "cell_type": "markdown",
   "id": "1213e23d-27b5-45d4-a9ec-745f70522b36",
   "metadata": {},
   "source": [
    " Minimum number of lines required to write above code in languages other Python will be 4, two for assigning initial values for variables a and b, and two for reassignment i.e. a=a+b and b=a."
   ]
  },
  {
   "cell_type": "markdown",
   "id": "7da641aa-a576-46c2-848c-2e8993f9c9c5",
   "metadata": {},
   "source": [
    "<h3>Q3. In Python, what is the most effective way to set a list of 100 integers to 0?</h3>"
   ]
  },
  {
   "cell_type": "code",
   "execution_count": 2,
   "id": "d1d4c15f-99bb-417d-b51c-1132f4884089",
   "metadata": {},
   "outputs": [
    {
     "name": "stdout",
     "output_type": "stream",
     "text": [
      "[0, 0, 0, 0, 0, 0, 0, 0, 0, 0, 0, 0, 0, 0, 0, 0, 0, 0, 0, 0, 0, 0, 0, 0, 0, 0, 0, 0, 0, 0, 0, 0, 0, 0, 0, 0, 0, 0, 0, 0, 0, 0, 0, 0, 0, 0, 0, 0, 0, 0, 0, 0, 0, 0, 0, 0, 0, 0, 0, 0, 0, 0, 0, 0, 0, 0, 0, 0, 0, 0, 0, 0, 0, 0, 0, 0, 0, 0, 0, 0, 0, 0, 0, 0, 0, 0, 0, 0, 0, 0, 0, 0, 0, 0, 0, 0, 0, 0, 0, 0]\n"
     ]
    }
   ],
   "source": [
    "zeros=[0 for ele in range(100)]\n",
    "print(zeros)"
   ]
  },
  {
   "cell_type": "markdown",
   "id": "822ebaf7-ad59-4943-9505-30f9f4696299",
   "metadata": {},
   "source": [
    "Q4. What is the most effective way to initialise a list of 99 integers that repeats the sequence 1, 2, 3?\n",
    "S If necessary, show step-by-step instructions on how to accomplish this."
   ]
  },
  {
   "cell_type": "code",
   "execution_count": 3,
   "id": "2358322f-6c32-48bb-88f1-f245e8a3c0cf",
   "metadata": {},
   "outputs": [
    {
     "name": "stdout",
     "output_type": "stream",
     "text": [
      "[1, 2, 3, 4, 5, 6, 7, 8, 9, 10, 11, 12, 13, 14, 15, 16, 17, 18, 19, 20, 21, 22, 23, 24, 25, 26, 27, 28, 29, 30, 31, 32, 33, 34, 35, 36, 37, 38, 39, 40, 41, 42, 43, 44, 45, 46, 47, 48, 49, 50, 51, 52, 53, 54, 55, 56, 57, 58, 59, 60, 61, 62, 63, 64, 65, 66, 67, 68, 69, 70, 71, 72, 73, 74, 75, 76, 77, 78, 79, 80, 81, 82, 83, 84, 85, 86, 87, 88, 89, 90, 91, 92, 93, 94, 95, 96, 97, 98, 99]\n"
     ]
    }
   ],
   "source": [
    "ninenine=[ele for ele in range(1,100)]\n",
    "print(ninenine)"
   ]
  },
  {
   "cell_type": "code",
   "execution_count": 4,
   "id": "6ae81881-82b6-4165-882e-73634146a214",
   "metadata": {},
   "outputs": [
    {
     "name": "stdout",
     "output_type": "stream",
     "text": [
      "[1, 2, 3, 1, 2, 3, 1, 2, 3, 1, 2, 3, 1, 2, 3, 1, 2, 3, 1, 2, 3, 1, 2, 3, 1, 2, 3, 1, 2, 3, 1, 2, 3, 1, 2, 3, 1, 2, 3, 1, 2, 3, 1, 2, 3, 1, 2, 3, 1, 2, 3, 1, 2, 3, 1, 2, 3, 1, 2, 3, 1, 2, 3, 1, 2, 3, 1, 2, 3, 1, 2, 3, 1, 2, 3, 1, 2, 3, 1, 2, 3, 1, 2, 3, 1, 2, 3, 1, 2, 3, 1, 2, 3, 1, 2, 3, 1, 2, 3]\n"
     ]
    }
   ],
   "source": [
    "repeat=[1,2,3]*33\n",
    "print(repeat)"
   ]
  },
  {
   "cell_type": "markdown",
   "id": "8cef0d06-c4a7-4bb5-9175-3575bfe91432",
   "metadata": {},
   "source": [
    "<h3>Q5. If you&#39;re using IDLE to run a Python application, explain how to print a multidimensional list as\n",
    "efficiently?</h3>"
   ]
  },
  {
   "cell_type": "code",
   "execution_count": 7,
   "id": "971b6026-433b-440d-a834-c304d8750387",
   "metadata": {},
   "outputs": [
    {
     "name": "stdout",
     "output_type": "stream",
     "text": [
      "1 2 3 4 5 6 7 8 9 "
     ]
    }
   ],
   "source": [
    "lst=[[1,2,3],[4,5,6],[7,8,9]]\n",
    "for x in range(len(lst)):\n",
    "    for y in range(len(lst[x])):\n",
    "        print(lst[x][y],end=\" \")"
   ]
  },
  {
   "cell_type": "markdown",
   "id": "da2c57cc-08ee-4426-83c3-a6cec11b02ff",
   "metadata": {},
   "source": [
    "<h3>Q6. Is it possible to use list comprehension with a string? If so, how can you go about doing it?</h3>"
   ]
  },
  {
   "cell_type": "code",
   "execution_count": 9,
   "id": "75cb75f7-f429-4e36-9238-fb2ef2fad1b6",
   "metadata": {},
   "outputs": [
    {
     "name": "stdout",
     "output_type": "stream",
     "text": [
      "['K', 'r', 'i', 's', 'h', '_', 'N', 'a', 'i', 'k']\n"
     ]
    }
   ],
   "source": [
    "n=[ele for ele in 'Krish_Naik']\n",
    "print(n)"
   ]
  },
  {
   "cell_type": "markdown",
   "id": "9c69183e-493b-4a33-ac30-a115a5a7dda1",
   "metadata": {},
   "source": [
    "<h3>Q7. From the command line, how do you get support with a user-written Python programme? Is this\n",
    "possible from inside IDLE?</h3>"
   ]
  },
  {
   "cell_type": "markdown",
   "id": "827db1eb-e6eb-4ec3-9dbd-66404ceee036",
   "metadata": {},
   "source": [
    " Get support with a user-written Python Programme: Start a command prompt (Windows) or terminal window (Linux/Mac). If the current working directory is the same as the location in which you saved the file, you can simply specify the filename as a command-line argument to the Python interpreter."
   ]
  },
  {
   "cell_type": "markdown",
   "id": "c88871fc-5dd9-40ac-a813-8ab2fd18decb",
   "metadata": {},
   "source": [
    "<h3>Q8. Functions are said to be “first-class objects” in Python but not in most other languages, such as\n",
    "C++ or Java. What can you do in Python with a function (callable object) that you can&#39;t do in C or\n",
    "C++?</h3>"
   ]
  },
  {
   "cell_type": "markdown",
   "id": "fec12595-2c9b-4570-a290-6a240c1c336e",
   "metadata": {},
   "source": [
    "\n",
    "    A function is an instance of the Object type.\n",
    "    You can store the function in a variable.\n",
    "    You can pass the function as a parameter to another function.\n",
    "    You can return the function from a function.\n",
    "    You can store them in data structures such as hash tables, lists,\n"
   ]
  },
  {
   "cell_type": "markdown",
   "id": "47adacae-7136-4e14-93c4-b3ce05c5b3d6",
   "metadata": {},
   "source": [
    "<h3>Q9. How do you distinguish between a wrapper, a wrapped feature, and a decorator?</h3>"
   ]
  },
  {
   "cell_type": "markdown",
   "id": "5f91997c-f83d-4a35-be09-7b4e150c475d",
   "metadata": {},
   "source": [
    "wrapper wrapping a function is call decorator"
   ]
  },
  {
   "cell_type": "markdown",
   "id": "ea08424b-3e06-449d-90e9-0398ab2663f4",
   "metadata": {},
   "source": [
    "<h3>Q10. If a function is a generator function, what does it return?</h3>"
   ]
  },
  {
   "cell_type": "markdown",
   "id": "63be5269-7189-4c78-9233-0cf3fc36de21",
   "metadata": {},
   "source": [
    " lazy iterator"
   ]
  },
  {
   "cell_type": "markdown",
   "id": "17403ff8-6b7b-463d-b5f6-661a679ea838",
   "metadata": {},
   "source": [
    "<h3>Q11. What is the one improvement that must be made to a function in order for it to become a\n",
    "generator function in the Python language?</h3>"
   ]
  },
  {
   "cell_type": "markdown",
   "id": "22fa97f9-1d50-4a6c-ac5c-af67b1de9a8d",
   "metadata": {},
   "source": [
    "dont use return use yield"
   ]
  },
  {
   "cell_type": "markdown",
   "id": "32bc4a49-04a8-47ac-8e03-55f8823fe3e4",
   "metadata": {},
   "source": [
    "<h3>Q12. Identify at least one benefit of generators.</h3>"
   ]
  },
  {
   "cell_type": "markdown",
   "id": "0fb47270-1a1d-41b6-ae2b-a8da43d75a10",
   "metadata": {},
   "source": [
    "return statement sends a specified value back to its caller whereas yield statment can produce a sequence of values. We should use generator when we want to iterate over a sequence, but don’t want to store the entire sequence in memory."
   ]
  },
  {
   "cell_type": "code",
   "execution_count": null,
   "id": "9f8a713c-82c5-4116-8a46-5b93fc101294",
   "metadata": {},
   "outputs": [],
   "source": []
  }
 ],
 "metadata": {
  "kernelspec": {
   "display_name": "Python 3 (ipykernel)",
   "language": "python",
   "name": "python3"
  },
  "language_info": {
   "codemirror_mode": {
    "name": "ipython",
    "version": 3
   },
   "file_extension": ".py",
   "mimetype": "text/x-python",
   "name": "python",
   "nbconvert_exporter": "python",
   "pygments_lexer": "ipython3",
   "version": "3.9.13"
  }
 },
 "nbformat": 4,
 "nbformat_minor": 5
}
