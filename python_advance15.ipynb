{
 "cells": [
  {
   "cell_type": "markdown",
   "id": "91415ff1-fcf6-424a-a6b4-98de602f9ddc",
   "metadata": {},
   "source": [
    "<h3>1. What are the new features added in Python 3.8 version?</h3>"
   ]
  },
  {
   "cell_type": "markdown",
   "id": "69034a65-f435-40e5-96a6-ca06ed558ce8",
   "metadata": {},
   "source": [
    "The biggest change in Python 3.8 is the introduction of assignment expressions. They are written using a new notation (:=). This operator is often called the walrus operator as it resembles the eyes and tusks of a walrus on its side.\n",
    "\n",
    "Assignment expressions allow you to assign and return a value in the same expression"
   ]
  },
  {
   "cell_type": "markdown",
   "id": "93b55e4d-c0a7-43d5-a546-b399e8394d50",
   "metadata": {},
   "source": [
    "yield and return statements do not require parentheses to return multiple values."
   ]
  },
  {
   "cell_type": "markdown",
   "id": "756c1e85-0e88-407f-9dd6-e47445cab88a",
   "metadata": {},
   "source": [
    "Dict comprehensions have been modified so that the key is computed first and the value second."
   ]
  },
  {
   "cell_type": "markdown",
   "id": "8357b3f2-be7a-4846-b17a-627672c5e7c0",
   "metadata": {},
   "source": [
    "importlib_metadata is a new library added in the Python’s standard utility modules, that provides an API for accessing an installed package’s metadata, such as its entry points or its top-level name."
   ]
  },
  {
   "cell_type": "markdown",
   "id": "b5f39a54-1af7-4a26-a889-ffe50160ad0b",
   "metadata": {},
   "source": [
    "f-strings now support = , to make string interpolation easy. Python 3.8 allows the use of the above-discussed assignment operator and equal sign (=) inside the f-strings."
   ]
  },
  {
   "cell_type": "markdown",
   "id": "a41ff206-bcd4-46b2-a66d-92907b149a55",
   "metadata": {},
   "source": [
    "In the three-argument form of pow(), when the exponent is -1, it calculates the modular multiplicative inverse of the given value\n",
    "\n",
    "The csv.DictReader now returns instances of dictionary instead of a collections.OrderedDict.\n",
    "\n",
    "If you miss a comma in your code such as a = [(1, 2) (3, 4)], instead of throwing TypeError, it displays an informative Syntax warning."
   ]
  },
  {
   "cell_type": "markdown",
   "id": "3848f36d-632a-403a-9373-10c082fc8180",
   "metadata": {},
   "source": [
    "<h3>2. What is monkey patching in Python?</h3>"
   ]
  },
  {
   "cell_type": "markdown",
   "id": "44f38978-a5cf-4540-b8bd-e7e3d86c6aab",
   "metadata": {},
   "source": [
    ": In Python, the term monkey patch refers to making dynamic (or run-time) modifications to a class or module. In Python, we can actually change the behavior of code at run-time."
   ]
  },
  {
   "cell_type": "code",
   "execution_count": 5,
   "id": "e924ea7c-5285-45b1-9d24-9435eee7344d",
   "metadata": {},
   "outputs": [
    {
     "name": "stdout",
     "output_type": "stream",
     "text": [
      "monkey_f() is being called\n"
     ]
    }
   ],
   "source": [
    "class A:\n",
    "    def func(self):\n",
    "        print(\"func() is being called\")\n",
    "\n",
    "def monkey_f(self):\n",
    "    print(\"monkey_f() is being called\")\n",
    "\n",
    "A.func = monkey_f\n",
    "some_object = A()\n",
    "some_object.func()"
   ]
  },
  {
   "cell_type": "markdown",
   "id": "5624a67a-5f82-4e84-ba52-bab615abe22b",
   "metadata": {},
   "source": [
    "<h3>3. What is the difference between a shallow copy and deep copy?</h3>"
   ]
  },
  {
   "cell_type": "markdown",
   "id": "57f80e9d-b035-4c03-8227-66d2dc6ba7b7",
   "metadata": {},
   "source": [
    " The Differences between a Shallow Copy and deep copy are as follows:\n",
    "\n",
    "When an object is copied using copy(), it is called shallow copy as changes made in copied object will also make corresponding changes in original object, because both the objects will be referencing same address location.\n",
    "\n",
    "When an object is copied using deepcopy(), it is called deep copy as changes made in copied object will not make corresponding changes in original object, because both the objects will not be referencing same address location."
   ]
  },
  {
   "cell_type": "markdown",
   "id": "b5b0a21e-78b5-4f4f-9dee-d9d867f77a14",
   "metadata": {},
   "source": [
    "<h3>4. What is the maximum possible length of an identifier?</h3>"
   ]
  },
  {
   "cell_type": "markdown",
   "id": "42e9ccf6-6aa9-4c44-8204-616c977603de",
   "metadata": {},
   "source": [
    " 79 characters"
   ]
  },
  {
   "cell_type": "markdown",
   "id": "49b00b3b-3a57-4a17-86d5-ed7a5080ee5c",
   "metadata": {},
   "source": [
    "<h3>5. What is generator comprehension?</h3>"
   ]
  },
  {
   "cell_type": "code",
   "execution_count": 7,
   "id": "b360e699-8ec3-4494-aed7-4822a6430f25",
   "metadata": {},
   "outputs": [
    {
     "name": "stdout",
     "output_type": "stream",
     "text": [
      "0 2 4 6 8 "
     ]
    }
   ],
   "source": [
    "gen=[ele for ele in range(10) if ele%2==0]\n",
    "for g in gen:\n",
    "    print(g,end=' ')"
   ]
  },
  {
   "cell_type": "code",
   "execution_count": null,
   "id": "d8b4cb99-4c07-4384-9b80-05a03f8f1a5f",
   "metadata": {},
   "outputs": [],
   "source": []
  }
 ],
 "metadata": {
  "kernelspec": {
   "display_name": "Python 3 (ipykernel)",
   "language": "python",
   "name": "python3"
  },
  "language_info": {
   "codemirror_mode": {
    "name": "ipython",
    "version": 3
   },
   "file_extension": ".py",
   "mimetype": "text/x-python",
   "name": "python",
   "nbconvert_exporter": "python",
   "pygments_lexer": "ipython3",
   "version": "3.9.13"
  }
 },
 "nbformat": 4,
 "nbformat_minor": 5
}
