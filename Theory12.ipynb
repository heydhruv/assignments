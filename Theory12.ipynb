{
 "cells": [
  {
   "cell_type": "markdown",
   "id": "e99efb4b-de0a-4475-8384-792414e689c7",
   "metadata": {},
   "source": [
    "<h3>1. In what modes should the PdfFileReader() and PdfFileWriter() File objects will be opened?</h3>"
   ]
  },
  {
   "cell_type": "markdown",
   "id": "5ab6ecb3-c229-47c2-9be7-5ac1d2900457",
   "metadata": {},
   "source": [
    "PdfFileReader() in rb(read binary)\n",
    "<p>PdfFileWriter()  in wb (write binary)</p>"
   ]
  },
  {
   "cell_type": "markdown",
   "id": "9a4eb467-fa8b-45b0-877a-582f0880834a",
   "metadata": {},
   "source": [
    "<h3>2. From a PdfFileReader object, how do you get a Page object for page 5?</h3>"
   ]
  },
  {
   "cell_type": "code",
   "execution_count": null,
   "id": "f33f2106-6766-46f7-9908-68b95899c731",
   "metadata": {},
   "outputs": [],
   "source": [
    "from PyPDF2 import PdfFileReader\n",
    "pdf_reader = PdfFileReader(file_path)\n",
    "for page in pdf_reader.getNumPages():\n",
    "    pdf_reader.getPage(page)\n"
   ]
  },
  {
   "cell_type": "markdown",
   "id": "aa168c89-4f81-4027-a6c7-5f72d49e15c2",
   "metadata": {},
   "source": [
    "<h3>3. What PdfFileReader variable stores the number of pages in the PDF document?</h3>"
   ]
  },
  {
   "cell_type": "code",
   "execution_count": 2,
   "id": "a5d6c12b-45e9-4bb9-bc4a-16862f87b908",
   "metadata": {},
   "outputs": [],
   "source": [
    "from PyPDF2 import PdfFileReader\n",
    "pdf_reader = PdfFileReader(file_path)\n",
    "print(pdf_reader.getNumPages())\n",
    "## print num of docs in input"
   ]
  },
  {
   "cell_type": "markdown",
   "id": "f692bc43-b699-4a36-b191-050e00440a61",
   "metadata": {},
   "source": [
    "<h3>4. If a PdfFileReader object’s PDF is encrypted with the password swordfish, what must you do\n",
    "before you can obtain Page objects from it?</h3>"
   ]
  },
  {
   "cell_type": "markdown",
   "id": "5d67e225-8c73-4799-b8e1-bba12da7f77e",
   "metadata": {
    "jupyter": {
     "source_hidden": true
    },
    "tags": []
   },
   "source": [
    "use decrypt()method ans pass the password in it"
   ]
  },
  {
   "cell_type": "markdown",
   "id": "0af99a32-de6e-42b0-acc7-8e0e0834ff88",
   "metadata": {},
   "source": [
    "<h3>5. What methods do you use to rotate a page?</h3>"
   ]
  },
  {
   "cell_type": "markdown",
   "id": "087885e7-ca5f-49a6-94ac-47b740bd147e",
   "metadata": {},
   "source": [
    "rotateclockwise(),rotatecounterclockwise()"
   ]
  },
  {
   "cell_type": "markdown",
   "id": "88ce8970-5567-4784-8ffb-077d7ebc02f4",
   "metadata": {},
   "source": [
    "<h3>6. What is the difference between a Run object and a Paragraph object?</h3>"
   ]
  },
  {
   "cell_type": "markdown",
   "id": "4727c4b0-0337-42d8-a266-2740c4c47d30",
   "metadata": {},
   "source": [
    "new Run objects can be added only to the end of a Paragraph object."
   ]
  },
  {
   "cell_type": "markdown",
   "id": "e7f864fd-b67a-40fd-9c1b-a8d2df378000",
   "metadata": {},
   "source": [
    "<h3>7. How do you obtain a list of Paragraph objects for a Document object that’s stored in a variable\n",
    "named doc?</h3>"
   ]
  },
  {
   "cell_type": "code",
   "execution_count": null,
   "id": "a143dfc2-a47a-4826-95a9-f4a6a6e7ff5e",
   "metadata": {},
   "outputs": [],
   "source": [
    "from docx import Document\n",
    "doc = Document(\"sample_file.docx\") # Path of the Docx file\n",
    "print(doc.paragraphs) # Prints the list of Paragraph objects for a Document\n",
    "for parain doc.paragraphs:\n",
    "    print(para.text)"
   ]
  },
  {
   "cell_type": "markdown",
   "id": "665ec6b0-47e1-4fcb-b2aa-9cf653c90b39",
   "metadata": {},
   "source": [
    "<h3>8. What type of object has bold, underline, italic, strike, and outline variables?</h3>\n",
    "\n"
   ]
  },
  {
   "cell_type": "markdown",
   "id": "55f93cec-c8cb-4c00-8053-e1cdb9516ef2",
   "metadata": {},
   "source": [
    "run objects"
   ]
  },
  {
   "cell_type": "markdown",
   "id": "66cf578a-cc57-4345-b465-a9e7c29a403e",
   "metadata": {},
   "source": [
    "<h3>9. What is the difference between False, True, and None for the bold variable?</h3>"
   ]
  },
  {
   "cell_type": "markdown",
   "id": "1136d679-fe60-4113-8a40-302aafabc7e9",
   "metadata": {},
   "source": [
    "True- bold is set, false bold is not set,none no style"
   ]
  },
  {
   "cell_type": "markdown",
   "id": "ea21d9bb-3314-482f-be74-55de8dac49b5",
   "metadata": {},
   "source": [
    "<h3>10. How do you create a Document object for a new Word document?</h3>"
   ]
  },
  {
   "cell_type": "code",
   "execution_count": 14,
   "id": "09ddde73-b136-48b3-980b-3da1ddfc3db4",
   "metadata": {},
   "outputs": [],
   "source": [
    "from docx import Document\n",
    "document = Document()\n",
    "document.add_paragraph(\"iNeuron FSDS 2.0\")\n",
    "document.save('mydocument.docx')\n"
   ]
  },
  {
   "cell_type": "markdown",
   "id": "b130d6c1-82d7-4018-a4c8-97f0c48de609",
   "metadata": {},
   "source": [
    "<h3>11. How do you add a paragraph with the text &#39;Hello, there!&#39; to a Document object stored in a\n",
    "variable named doc?</h3>"
   ]
  },
  {
   "cell_type": "code",
   "execution_count": null,
   "id": "28d9a7b5-594c-4239-87e0-378b4015bf53",
   "metadata": {},
   "outputs": [],
   "source": [
    "from docx import Document\n",
    "doc = Document()\n",
    "doc.add_paragraph('Hello, there!')\n",
    "doc.save('hello.docx')"
   ]
  },
  {
   "cell_type": "markdown",
   "id": "5997be5a-cf62-4237-ac48-08e47c1b9113",
   "metadata": {},
   "source": [
    "<h3>12. What integers represent the levels of headings available in Word documents?</h3>"
   ]
  },
  {
   "cell_type": "markdown",
   "id": "2118f6b7-1257-4d3d-9326-230f3d30129e",
   "metadata": {},
   "source": [
    "<p>the levels for a heading in a word document can be specified by using the level attribute inside the add_heading method. There are a total of 5 levels statring for 0 t0 4. where level 0 makes a headline with the horizontal line below the text, whereas the heading level 1 is the main heading. Similarly, the other headings are sub-heading with their's font-sizes in decreasing order.</p>"
   ]
  },
  {
   "cell_type": "code",
   "execution_count": null,
   "id": "ed649d7f-4ba6-4994-9a51-27f98422bac8",
   "metadata": {},
   "outputs": [],
   "source": []
  }
 ],
 "metadata": {
  "kernelspec": {
   "display_name": "Python 3",
   "language": "python",
   "name": "python3"
  },
  "language_info": {
   "codemirror_mode": {
    "name": "ipython",
    "version": 3
   },
   "file_extension": ".py",
   "mimetype": "text/x-python",
   "name": "python",
   "nbconvert_exporter": "python",
   "pygments_lexer": "ipython3",
   "version": "3.8.8"
  }
 },
 "nbformat": 4,
 "nbformat_minor": 5
}
