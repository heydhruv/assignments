{
 "cells": [
  {
   "cell_type": "markdown",
   "id": "7ec839b3-020e-4184-8803-be4ea559538b",
   "metadata": {},
   "source": [
    "<h1>Question1. Create a function that takes three arguments a, b, c and returns the sum of the\n",
    "numbers that are evenly divided by c from the range a, b inclusive.</h1>\n",
    "<p>evenly_divisible(1, 10, 20) ➞ 0\n",
    "# No number between 1 and 10 can be evenly divided by 20.\n",
    "evenly_divisible(1, 10, 2) ➞ 30\n",
    "# 2 + 4 + 6 + 8 + 10 = 30\n",
    "evenly_divisible(1, 10, 3) ➞ 18\n",
    "# 3 + 6 + 9 = 18</p>"
   ]
  },
  {
   "cell_type": "code",
   "execution_count": 5,
   "id": "ca618fd1-f93e-49bc-9659-c3c7525b628d",
   "metadata": {},
   "outputs": [
    {
     "data": {
      "text/plain": [
       "30"
      ]
     },
     "execution_count": 5,
     "metadata": {},
     "output_type": "execute_result"
    }
   ],
   "source": [
    "def evenly_divisible(x,y,z):\n",
    "    add=0\n",
    "    for i in range(x,y+1):\n",
    "        if i%z==0:\n",
    "            add+=i\n",
    "    return add\n",
    "evenly_divisible(1, 10, 20)\n",
    "evenly_divisible(1, 10, 2)"
   ]
  },
  {
   "cell_type": "markdown",
   "id": "7105ca41-49f3-4635-bcc2-f3a33de52484",
   "metadata": {},
   "source": [
    "<h1>Question2. Create a function that returns True if a given inequality expression is correct and\n",
    "False otherwise.</h1>\n",
    "<p>correct_signs(&quot;3 &lt; 7 &lt; 11&quot;) ➞ True\n",
    "correct_signs(&quot;13 &gt; 44 &gt; 33 &gt; 1&quot;) ➞ False\n",
    "correct_signs(&quot;1 &lt; 2 &lt; 6 &lt; 9 &gt; 3&quot;) ➞ True</p>"
   ]
  },
  {
   "cell_type": "code",
   "execution_count": 2,
   "id": "70ed15a0-9e2f-497a-870a-6c04cae38ed5",
   "metadata": {},
   "outputs": [
    {
     "data": {
      "text/plain": [
       "False"
      ]
     },
     "execution_count": 2,
     "metadata": {},
     "output_type": "execute_result"
    }
   ],
   "source": [
    "def correct_signs(x):\n",
    "    con=eval(x)\n",
    "    return con\n",
    "correct_signs(\"3 < 7 < 11\")\n",
    "correct_signs(\"13 > 44 > 33 > 1\")"
   ]
  },
  {
   "cell_type": "markdown",
   "id": "b974746f-da79-4271-bfec-e7fc617af610",
   "metadata": {},
   "source": [
    "<h1>Question3. Create a function that replaces all the vowels in a string with a specified character.</h1>\n",
    "<p>replace_vowels(&quot;the aardvark&quot;, &quot;#&quot;) ➞ &quot;th# ##rdv#rk&quot;\n",
    "replace_vowels(&quot;minnie mouse&quot;, &quot;?&quot;) ➞ &quot;m?nn?? m??s?&quot;\n",
    "replace_vowels(&quot;shakespeare&quot;, &quot;*&quot;) ➞ &quot;sh*k*sp**r*&quot;</p>"
   ]
  },
  {
   "cell_type": "code",
   "execution_count": 9,
   "id": "50795a88-1308-4b09-929b-4fe6d7b1539a",
   "metadata": {},
   "outputs": [
    {
     "data": {
      "text/plain": [
       "'th# ##rdv#rk'"
      ]
     },
     "execution_count": 9,
     "metadata": {},
     "output_type": "execute_result"
    }
   ],
   "source": [
    "def replace_vowels(x,y):\n",
    "    vowels=[\"a\",\"e\",\"i\",\"o\",\"u\"]\n",
    "    for i in x:\n",
    "        if i in vowels:\n",
    "            x=x.replace(i,y)\n",
    "    return x        \n",
    "replace_vowels(\"the aardvark\", \"#\")"
   ]
  },
  {
   "cell_type": "markdown",
   "id": "53599fb3-3a68-4cfd-b3c7-10253445b0b1",
   "metadata": {},
   "source": [
    "<h1>Question4. Write a function that calculates the factorial of a number recursively.</h1>\n",
    "<p>factorial(5) ➞ 120\n",
    "factorial(3) ➞ 6\n",
    "factorial(1) ➞ 1\n",
    "factorial(0) ➞ 1</p>"
   ]
  },
  {
   "cell_type": "code",
   "execution_count": 12,
   "id": "9ef2f550-23ef-49d2-95eb-925ed6a430f6",
   "metadata": {},
   "outputs": [
    {
     "data": {
      "text/plain": [
       "120"
      ]
     },
     "execution_count": 12,
     "metadata": {},
     "output_type": "execute_result"
    }
   ],
   "source": [
    "def factorial(x):\n",
    "    if x==1:\n",
    "        return x\n",
    "    else:\n",
    "        fact=x*factorial(x-1)\n",
    "    return fact\n",
    "factorial(5)"
   ]
  },
  {
   "cell_type": "markdown",
   "id": "c235de21-c06d-482a-a127-bb65653a13d4",
   "metadata": {},
   "source": [
    "<h1>Hamming distance is the number of characters that differ between two strings.</h1>\n",
    "<p>To illustrate:\n",
    "String1: &quot;abcbba&quot;\n",
    "String2: &quot;abcbda&quot;\n",
    "Hamming Distance: 1 - &quot;b&quot; vs. &quot;d&quot; is the only difference.</p>"
   ]
  },
  {
   "cell_type": "code",
   "execution_count": 26,
   "id": "e635610e-68a7-4bfb-8e2f-96b3898d1fe8",
   "metadata": {},
   "outputs": [
    {
     "data": {
      "text/plain": [
       "5"
      ]
     },
     "execution_count": 26,
     "metadata": {},
     "output_type": "execute_result"
    }
   ],
   "source": [
    "def humming(x,y):\n",
    "    if len(x) == len(y):\n",
    "        add=0\n",
    "   \n",
    "    for i in range(len(x)):\n",
    "            if x[i]!=y[i]:\n",
    "                add=add+1\n",
    "                   \n",
    "    return add \n",
    "humming(\"abcde\",\"bcdef\")"
   ]
  },
  {
   "cell_type": "code",
   "execution_count": null,
   "id": "595c97fc-0e29-4385-b7ec-e941c4956480",
   "metadata": {},
   "outputs": [],
   "source": []
  },
  {
   "cell_type": "code",
   "execution_count": null,
   "id": "99947cc8-4036-4192-be9a-44bc8a51b220",
   "metadata": {},
   "outputs": [],
   "source": []
  }
 ],
 "metadata": {
  "kernelspec": {
   "display_name": "Python 3 (ipykernel)",
   "language": "python",
   "name": "python3"
  },
  "language_info": {
   "codemirror_mode": {
    "name": "ipython",
    "version": 3
   },
   "file_extension": ".py",
   "mimetype": "text/x-python",
   "name": "python",
   "nbconvert_exporter": "python",
   "pygments_lexer": "ipython3",
   "version": "3.10.6"
  }
 },
 "nbformat": 4,
 "nbformat_minor": 5
}
