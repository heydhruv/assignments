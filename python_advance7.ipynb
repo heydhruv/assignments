{
 "cells": [
  {
   "cell_type": "markdown",
   "id": "42f4c12a-69e0-4374-be64-77ae79620b43",
   "metadata": {},
   "source": [
    "<h3>Q1. What is the purpose of the try statement?</h3>"
   ]
  },
  {
   "cell_type": "markdown",
   "id": "79b29879-0a07-474b-a18d-0838b5c0772e",
   "metadata": {},
   "source": [
    "try statement is used for exception handling in python. it consists of a block of risky statements which might cause an exception during runtime. if code within try block raises exception, then the exception will be reverted to the corresponding except block if multiple except blocks are present, else it willbe reverted to the default except block. In short try and except in union avoid programs from crashing during runtime due to exceptions."
   ]
  },
  {
   "cell_type": "markdown",
   "id": "7b2155ee-1c82-49fe-8707-884983c26a1f",
   "metadata": {},
   "source": [
    "<h3>Q2. What are the two most popular try statement variations?</h3>"
   ]
  },
  {
   "cell_type": "markdown",
   "id": "4a6d59f1-2db9-4ade-8381-ae8c176e7a68",
   "metadata": {},
   "source": [
    "        try,except\n",
    "        try,except,finally\n",
    "        try,except,finally,else"
   ]
  },
  {
   "cell_type": "markdown",
   "id": "c35f65ec-e27c-46e6-8f2d-c66780462c4f",
   "metadata": {},
   "source": [
    "<h3>Q3. What is the purpose of the raise statement?</h3>"
   ]
  },
  {
   "cell_type": "markdown",
   "id": "65fe3ddf-0f4a-440c-9ed2-7f3c629082b3",
   "metadata": {},
   "source": [
    "raise triggers when programming condition turn true mostly used for custom exception"
   ]
  },
  {
   "cell_type": "markdown",
   "id": "f1844647-b3f2-47ed-b4fa-c9ec5a565fee",
   "metadata": {},
   "source": [
    "<h3>Q4. What does the assert statement do, and what other statement is it like?</h3>"
   ]
  },
  {
   "cell_type": "markdown",
   "id": "4522e4fd-ef7b-4f71-97cb-c92647ff219d",
   "metadata": {},
   "source": [
    "There are few assertions that programmer always want to be true to avoid code failure. This type of requirement is fulfilled by assert statement. This statement takes a boolean condition output of which is True, Further Program Executes. if output of assert statement is False, it raises an Assertion Error."
   ]
  },
  {
   "cell_type": "markdown",
   "id": "3174faec-c5c1-4e97-be9b-8487e617f1e3",
   "metadata": {},
   "source": [
    "<h3>Q5. What is the purpose of the with/as argument, and what other statement is it like?</h3>"
   ]
  },
  {
   "cell_type": "markdown",
   "id": "244dbafe-be5b-4199-8be1-fafd778aa1fe",
   "metadata": {},
   "source": [
    "with/as statement simplifies use of file handling in python. When we use a with statement for file reading, there is no need for programmer to explicitly takecare of activities like resource deallocation and file closing by using file.close() method. with statement itself ensures proper acquisition and release of resources. this avoids triggering of exceptions if file closing is unknowingly forgotten in the code execution."
   ]
  },
  {
   "cell_type": "code",
   "execution_count": null,
   "id": "86ca0f1b-4784-4c18-9c00-820886782a31",
   "metadata": {},
   "outputs": [],
   "source": []
  }
 ],
 "metadata": {
  "kernelspec": {
   "display_name": "Python 3 (ipykernel)",
   "language": "python",
   "name": "python3"
  },
  "language_info": {
   "codemirror_mode": {
    "name": "ipython",
    "version": 3
   },
   "file_extension": ".py",
   "mimetype": "text/x-python",
   "name": "python",
   "nbconvert_exporter": "python",
   "pygments_lexer": "ipython3",
   "version": "3.9.13"
  }
 },
 "nbformat": 4,
 "nbformat_minor": 5
}
