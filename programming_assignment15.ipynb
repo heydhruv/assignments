{
 "cells": [
  {
   "cell_type": "markdown",
   "id": "838065b9-3892-402d-8e28-a0ff208053b4",
   "metadata": {},
   "source": [
    "<h1>Question 1:\n",
    "Please write a program using generator to print the numbers which can be divisible by 5 and\n",
    "7 between 0 and n in comma separated form while n is input by console.</h1>\n",
    "<p>If the following n is given as input to the program:\n",
    "100\n",
    "Then, the output of the program should be:\n",
    "0,35,70</p>"
   ]
  },
  {
   "cell_type": "code",
   "execution_count": 5,
   "id": "d5801fb4-4068-4a2a-87f8-f693733f4822",
   "metadata": {},
   "outputs": [
    {
     "name": "stdout",
     "output_type": "stream",
     "text": [
      "0,35,70,"
     ]
    }
   ],
   "source": [
    "def divis(x):\n",
    "   \n",
    "    for i in range(x):\n",
    "        if i%5==0 and i%7==0:\n",
    "            yield i\n",
    "    \n",
    "for ele in divis(100):\n",
    "    print(ele,end=',')"
   ]
  },
  {
   "cell_type": "markdown",
   "id": "efeca35e-d954-4aa4-b502-e953bade4369",
   "metadata": {},
   "source": [
    "<h1>Question 2:\n",
    "Please write a program using generator to print the even numbers between 0 and n in comma\n",
    "separated form while n is input by console.</h1>\n",
    "<p>Example:\n",
    "If the following n is given as input to the program:\n",
    "10\n",
    "Then, the output of the program should be:\n",
    "0,2,4,6,8,10</p>"
   ]
  },
  {
   "cell_type": "code",
   "execution_count": 7,
   "id": "f9adea36-96e6-46dd-b030-5a1230b1f8f0",
   "metadata": {},
   "outputs": [
    {
     "name": "stdout",
     "output_type": "stream",
     "text": [
      "0,2,4,6,8,10,"
     ]
    }
   ],
   "source": [
    "def even(x):\n",
    "    for i in range(x+1):\n",
    "        if i%2==0:\n",
    "            yield i\n",
    "for ele in even(10):\n",
    "    print(ele,end=',')"
   ]
  },
  {
   "cell_type": "markdown",
   "id": "d7463217-015b-43f2-81b4-16feda14167f",
   "metadata": {},
   "source": [
    "<h1>Question 3:\n",
    "The Fibonacci Sequence is computed based on the following formula:</h1>\n",
    "<p>Example:\n",
    "If the following n is given as input to the program:\n",
    "7\n",
    "\n",
    "Then, the output of the program should be:\n",
    "0,1,1,2,3,5,8,13</p>"
   ]
  },
  {
   "cell_type": "code",
   "execution_count": 12,
   "id": "2039078c-0ebb-419b-a7a2-cd80681eb253",
   "metadata": {},
   "outputs": [
    {
     "name": "stdout",
     "output_type": "stream",
     "text": [
      "1\n",
      "1\n",
      "2\n",
      "3\n",
      "5\n",
      "8\n",
      "13\n"
     ]
    }
   ],
   "source": [
    "def fibonacci(x):\n",
    "    if x==0 or x==1:\n",
    "        return 1\n",
    "    else:\n",
    "        return (fibonacci(x-1)+fibonacci(x-2))\n",
    "    return y\n",
    "x=7\n",
    "for i in range(x):\n",
    "        print(fibonacci(i))"
   ]
  },
  {
   "cell_type": "markdown",
   "id": "4d5757f9-6b00-4f1e-bdd8-a3c7d1b9ea55",
   "metadata": {},
   "source": [
    "<h1>Question 4:\n",
    "Assuming that we have some email addresses in the &quot;username@companyname.com&quot; format,\n",
    "please write program to print the user name of a given email address. Both user names and\n",
    "company names are composed of letters only.</h1>\n",
    "<p>Example:\n",
    "If the following email address is given as input to the program:\n",
    "john@google.com\n",
    "Then, the output of the program should be:\n",
    "john</p>"
   ]
  },
  {
   "cell_type": "code",
   "execution_count": 13,
   "id": "251a9c15-26d1-4f8f-bbda-97121b3cbad3",
   "metadata": {},
   "outputs": [
    {
     "name": "stdout",
     "output_type": "stream",
     "text": [
      "dhruvdave\n"
     ]
    }
   ],
   "source": [
    "def email(x):\n",
    "    y=x.split('@')\n",
    "    print(y[0])\n",
    "email('dhruvdave@gmail.com')    \n",
    "            "
   ]
  },
  {
   "cell_type": "markdown",
   "id": "d872a0bb-5080-4337-af56-ec364997f873",
   "metadata": {},
   "source": [
    "<h1>Question 5:\n",
    "Define a class named Shape and its subclass Square. The Square class has an init function\n",
    "which takes a length as argument. Both classes have a area function which can print the area\n",
    "of the shape where Shape&#39;s area is 0 by default.</h1>\n"
   ]
  },
  {
   "cell_type": "code",
   "execution_count": 17,
   "id": "c3bfef51-e2f4-4fa7-ac06-b0de37425932",
   "metadata": {},
   "outputs": [
    {
     "name": "stdout",
     "output_type": "stream",
     "text": [
      "100\n"
     ]
    }
   ],
   "source": [
    "class shape:\n",
    "    def area(self):\n",
    "        return 0\n",
    "class square:\n",
    "    def __init__(self,length):\n",
    "        self.length=length\n",
    "    def area(self):\n",
    "        return self.length*self.length\n",
    "\n",
    "square = square(10)\n",
    "print(square.area())        "
   ]
  },
  {
   "cell_type": "code",
   "execution_count": null,
   "id": "883e3f96-9592-435c-b5a3-927d8247a238",
   "metadata": {},
   "outputs": [],
   "source": []
  }
 ],
 "metadata": {
  "kernelspec": {
   "display_name": "Python 3 (ipykernel)",
   "language": "python",
   "name": "python3"
  },
  "language_info": {
   "codemirror_mode": {
    "name": "ipython",
    "version": 3
   },
   "file_extension": ".py",
   "mimetype": "text/x-python",
   "name": "python",
   "nbconvert_exporter": "python",
   "pygments_lexer": "ipython3",
   "version": "3.10.6"
  }
 },
 "nbformat": 4,
 "nbformat_minor": 5
}
