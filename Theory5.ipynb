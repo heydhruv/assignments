{
 "cells": [
  {
   "cell_type": "markdown",
   "id": "658c3915-6d42-4376-a028-ea26710910c9",
   "metadata": {},
   "source": [
    "<h3>1. What does an empty dictionary&#39;s code look like?</h3>"
   ]
  },
  {
   "cell_type": "code",
   "execution_count": 3,
   "id": "2fafbc66-1b43-4acb-b983-b628ffe5c54c",
   "metadata": {},
   "outputs": [
    {
     "data": {
      "text/plain": [
       "{}"
      ]
     },
     "execution_count": 3,
     "metadata": {},
     "output_type": "execute_result"
    }
   ],
   "source": [
    "{}"
   ]
  },
  {
   "cell_type": "markdown",
   "id": "9522edd0-75f6-4f5e-ae3d-183bda752f6c",
   "metadata": {},
   "source": [
    "<h3>2. What is the value of a dictionary value with the key &#39;foo&#39; and the value 42?</h3>"
   ]
  },
  {
   "cell_type": "code",
   "execution_count": 5,
   "id": "eacf2c3c-6b5b-4c7a-b90b-1f4fdb8a766a",
   "metadata": {},
   "outputs": [],
   "source": [
    "d={'value':{'foo':42}}"
   ]
  },
  {
   "cell_type": "code",
   "execution_count": 9,
   "id": "0a5a035e-bb71-448c-84bb-64e5c1a191d3",
   "metadata": {},
   "outputs": [
    {
     "data": {
      "text/plain": [
       "{'foo': 42}"
      ]
     },
     "execution_count": 9,
     "metadata": {},
     "output_type": "execute_result"
    }
   ],
   "source": [
    "d.get('value')"
   ]
  },
  {
   "cell_type": "markdown",
   "id": "0b0dda3a-5d70-4111-9758-7eaed2e1dc09",
   "metadata": {},
   "source": [
    "<h3>3. What is the most significant distinction between a dictionary and a list?</h3>"
   ]
  },
  {
   "cell_type": "markdown",
   "id": "b0cab5e8-0f4a-4e9a-9add-81cd3d263fee",
   "metadata": {},
   "source": [
    "kay:value pair,search time complexity"
   ]
  },
  {
   "cell_type": "markdown",
   "id": "190a5407-2488-45f9-8dd2-9511ca6e6f1d",
   "metadata": {},
   "source": [
    "<h3>4. What happens if you try to access spam[&#39;foo&#39;] if spam is {&#39;bar&#39;: 100}?</h3>"
   ]
  },
  {
   "cell_type": "markdown",
   "id": "719725be-d467-4f64-9e23-77c13b1c0ad3",
   "metadata": {},
   "source": [
    "key error   "
   ]
  },
  {
   "cell_type": "markdown",
   "id": "0139a3a3-b0a4-47fb-8802-37c23655df3c",
   "metadata": {},
   "source": [
    "<h3>5. If a dictionary is stored in spam, what is the difference between the expressions &#39;cat&#39; in spam and\n",
    "&#39;cat&#39; in spam.keys()?</h3>"
   ]
  },
  {
   "cell_type": "markdown",
   "id": "a12f7704-84e8-45eb-aaa9-e6536d155c32",
   "metadata": {},
   "source": [
    "cat in spam.keys checks if cat as key availabe and same for cat as exp"
   ]
  },
  {
   "cell_type": "markdown",
   "id": "aa7a4b32-4a13-4ca8-8780-83c7641d7897",
   "metadata": {},
   "source": [
    "<h3>5. If a dictionary is stored in spam, what is the difference between the expressions &#39;cat&#39; in spam and\n",
    "&#39;cat&#39; in spam.values()?</h3>"
   ]
  },
  {
   "cell_type": "markdown",
   "id": "b29738d5-f5f6-4c7b-a063-926ade319cf4",
   "metadata": {},
   "source": [
    "cat exp looks for key and cat in spam.values looks for cat in values"
   ]
  },
  {
   "cell_type": "markdown",
   "id": "55d6bf8a-7763-481d-8adf-e156ff70888e",
   "metadata": {},
   "source": [
    "<h3>7. What is a shortcut for the following code?\n",
    "if &#39;color&#39; not in spam:\n",
    "spam[&#39;color&#39;] = &#39;black&#39;</h3>"
   ]
  },
  {
   "cell_type": "markdown",
   "id": "08d04a1c-e696-4581-8dd6-85e6cb1b3e3d",
   "metadata": {},
   "source": [
    "spam.setdefault('color','black')"
   ]
  },
  {
   "cell_type": "markdown",
   "id": "b13a187b-319f-44da-974e-3ff682a7743b",
   "metadata": {},
   "source": [
    "<h3>8. How do you &quot;pretty print&quot; dictionary values using which module and function?</h3>"
   ]
  },
  {
   "cell_type": "code",
   "execution_count": 18,
   "id": "c62a7ad1-d03d-4a55-a876-42ad2ed815bc",
   "metadata": {},
   "outputs": [
    {
     "name": "stdout",
     "output_type": "stream",
     "text": [
      "{'value': {'foo': 42}}\n"
     ]
    }
   ],
   "source": [
    "from pprint import pprint\n",
    "pprint(d)"
   ]
  },
  {
   "cell_type": "code",
   "execution_count": null,
   "id": "6b21a402-7db6-42db-b223-9c69889e407c",
   "metadata": {},
   "outputs": [],
   "source": []
  }
 ],
 "metadata": {
  "kernelspec": {
   "display_name": "Python 3",
   "language": "python",
   "name": "python3"
  },
  "language_info": {
   "codemirror_mode": {
    "name": "ipython",
    "version": 3
   },
   "file_extension": ".py",
   "mimetype": "text/x-python",
   "name": "python",
   "nbconvert_exporter": "python",
   "pygments_lexer": "ipython3",
   "version": "3.8.8"
  }
 },
 "nbformat": 4,
 "nbformat_minor": 5
}
