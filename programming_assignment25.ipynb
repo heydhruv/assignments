{
 "cells": [
  {
   "cell_type": "markdown",
   "id": "caa3355e-655b-4f86-9110-a8f577748571",
   "metadata": {},
   "source": [
    "<h1>Que 1</h1>"
   ]
  },
  {
   "cell_type": "code",
   "execution_count": 56,
   "id": "f7c8465f-45a4-4741-a5e8-c323cde193b0",
   "metadata": {},
   "outputs": [
    {
     "name": "stdout",
     "output_type": "stream",
     "text": [
      "(1, 1, 1)-->3\n",
      "(1, 1, 2)-->2\n",
      "(1, 2, 3)-->0\n"
     ]
    }
   ],
   "source": [
    "def eql(x,y,z):\n",
    "    if x==y==z:\n",
    "        print(f\"{(x,y,z)}-->{3}\")\n",
    "    elif x==z or x==y:\n",
    "        print(f\"{(x,y,z)}-->{2}\")\n",
    "    else:\n",
    "        print(f\"{(x,y,z)}-->{0}\")\n",
    "eql(1,1,1)\n",
    "eql(1,1,2)\n",
    "eql(1,2,3)"
   ]
  },
  {
   "cell_type": "markdown",
   "id": "2cc3051c-b33e-485a-8c7a-57952c22ab3c",
   "metadata": {},
   "source": [
    "<h1>Que 2</h1>"
   ]
  },
  {
   "cell_type": "code",
   "execution_count": 23,
   "id": "06572095-76ac-4a81-90d3-936773e22d42",
   "metadata": {},
   "outputs": [
    {
     "data": {
      "text/plain": [
       "[('name', 'dhruv'), ('id', 11)]"
      ]
     },
     "execution_count": 23,
     "metadata": {},
     "output_type": "execute_result"
    }
   ],
   "source": [
    "def conv(x):\n",
    "    ll=l.items()\n",
    "    lst=list(ll)\n",
    "    return lst\n",
    "\n",
    "l={\"name\":\"dhruv\",\"id\":11}\n",
    "conv(l)\n"
   ]
  },
  {
   "cell_type": "markdown",
   "id": "0a1a64f5-b9d3-4b50-bd03-3cd7927ee1ea",
   "metadata": {},
   "source": [
    "<h1>Que 3</h1>"
   ]
  },
  {
   "cell_type": "code",
   "execution_count": 52,
   "id": "18aa11b3-7634-44ae-94a9-86cca41947ea",
   "metadata": {},
   "outputs": [
    {
     "name": "stdout",
     "output_type": "stream",
     "text": [
      "['a', 'b', 'c']-->{'a': 'A', 'b': 'B', 'c': 'C'}\n"
     ]
    }
   ],
   "source": [
    "def mapp(x):\n",
    "    out={}\n",
    "    for i in x:\n",
    "        out[i]=i.upper()\n",
    "    print(f\"{x}-->{out}\")    \n",
    "        \n",
    "l=[\"a\",\"b\",\"c\"]\n",
    "mapp(l)\n",
    "\n"
   ]
  },
  {
   "cell_type": "markdown",
   "id": "c8e1497c-04ca-4a64-8e6d-84d12a11805b",
   "metadata": {},
   "source": [
    "<h1>Que 4</h1>"
   ]
  },
  {
   "cell_type": "code",
   "execution_count": 31,
   "id": "132b74c7-f5bb-4f4b-baa9-bf15483bc0ca",
   "metadata": {},
   "outputs": [
    {
     "data": {
      "text/plain": [
       "'zpplzs znd bznznzs'"
      ]
     },
     "execution_count": 31,
     "metadata": {},
     "output_type": "execute_result"
    }
   ],
   "source": [
    "def replace_vowels(x,y):\n",
    "    vowels=\"AEIOUaeiou\"\n",
    "    for i in vowels:\n",
    "        x=x.replace(i,y)\n",
    "    return x\n",
    "a=\"apples and bananas\"\n",
    "b=\"z\"\n",
    "replace_vowels(a,b)"
   ]
  },
  {
   "cell_type": "markdown",
   "id": "f5c050f7-a212-4556-9096-d4ebdf7074dc",
   "metadata": {},
   "source": [
    "<h1>Que 5</h1>"
   ]
  },
  {
   "cell_type": "code",
   "execution_count": 49,
   "id": "b326c611-ad19-471e-9cef-b036ed5575ec",
   "metadata": {},
   "outputs": [
    {
     "name": "stdout",
     "output_type": "stream",
     "text": [
      "this is how it works-->THis is How iT woRks\n",
      "that is how i like it-->THaT is How i Like iT\n",
      "ord functiom returns ASCII/int value of a char-->oRD FuNcTiom ReTuRNs ascii/iNT VaLue oF a cHaR\n"
     ]
    }
   ],
   "source": [
    "def ASCII(x):\n",
    "    out=\"\"\n",
    "    for i in x:\n",
    "        \n",
    "        a=ord(i)\n",
    "        \n",
    "        \n",
    "        if(a%2== 0):\n",
    "            out+=i.upper()\n",
    "        else:\n",
    "            out +=i.lower()\n",
    "    print(f\"{x}-->{out}\")\n",
    "x=\"this is how it works\"\n",
    "y=\"that is how i like it\"\n",
    "z=\"ord functiom returns ASCII/int value of a char\"\n",
    "\n",
    "ASCII(x)\n",
    "ASCII(y)\n",
    "ASCII(z)"
   ]
  },
  {
   "cell_type": "code",
   "execution_count": null,
   "id": "aadd7033-5f45-4b96-b074-47b4566655ca",
   "metadata": {},
   "outputs": [],
   "source": []
  }
 ],
 "metadata": {
  "kernelspec": {
   "display_name": "Python 3 (ipykernel)",
   "language": "python",
   "name": "python3"
  },
  "language_info": {
   "codemirror_mode": {
    "name": "ipython",
    "version": 3
   },
   "file_extension": ".py",
   "mimetype": "text/x-python",
   "name": "python",
   "nbconvert_exporter": "python",
   "pygments_lexer": "ipython3",
   "version": "3.9.13"
  }
 },
 "nbformat": 4,
 "nbformat_minor": 5
}
