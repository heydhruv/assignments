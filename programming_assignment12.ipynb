{
 "cells": [
  {
   "cell_type": "markdown",
   "id": "df40ad0b-221a-473c-9fdd-5d1910ead3a9",
   "metadata": {},
   "source": [
    "<h1>Write a Python program to Extract Unique values dictionary values?</h1>"
   ]
  },
  {
   "cell_type": "code",
   "execution_count": 3,
   "id": "9bd571c8-884f-4e07-893f-ee27d6eae936",
   "metadata": {},
   "outputs": [
    {
     "data": {
      "text/plain": [
       "{'12', '22'}"
      ]
     },
     "execution_count": 3,
     "metadata": {},
     "output_type": "execute_result"
    }
   ],
   "source": [
    "def unival(x):\n",
    "    x=set(x.values())\n",
    "    return x\n",
    "unival({\"k1\":\"12\",\"k2\":\"22\",\"k3\":\"12\"})"
   ]
  },
  {
   "cell_type": "markdown",
   "id": "e2ccbac6-fce3-4f34-b457-0a6720150441",
   "metadata": {},
   "source": [
    "<h1>Write a Python program to find the sum of all items in a dictionary?</h1>"
   ]
  },
  {
   "cell_type": "code",
   "execution_count": 7,
   "id": "69971f79-ccfb-4de2-bd1f-5ef16548f54a",
   "metadata": {},
   "outputs": [
    {
     "name": "stdout",
     "output_type": "stream",
     "text": [
      "46\n"
     ]
    }
   ],
   "source": [
    "def cnt(x):\n",
    "    print(sum(x.values()))\n",
    "cnt({\"k1\":12,\"k2\":22,\"k3\":12})"
   ]
  },
  {
   "cell_type": "markdown",
   "id": "94dc0f0c-8e4a-405a-b7da-c5ef43d8b407",
   "metadata": {},
   "source": [
    "<h1>Write a Python program to Merging two Dictionaries?</h1>"
   ]
  },
  {
   "cell_type": "code",
   "execution_count": 12,
   "id": "71533a68-61f2-423b-9432-40fd933ae745",
   "metadata": {},
   "outputs": [
    {
     "name": "stdout",
     "output_type": "stream",
     "text": [
      "{'k1': '12', 'k2': '22', 'k3': '12', 'k6': 12, 'k5': 22, 'k4': 33}\n"
     ]
    }
   ],
   "source": [
    "d={\"k1\":\"12\",\"k2\":\"22\",\"k3\":\"12\"}\n",
    "dd={\"k6\":12,\"k5\":22,\"k4\":33}\n",
    "d.update(dd)\n",
    "print(d)"
   ]
  },
  {
   "cell_type": "markdown",
   "id": "8f992e11-2216-4b65-adb6-f10c0d56d957",
   "metadata": {},
   "source": [
    "<h1>Write a Python program to convert key-values list to flat dictionary?</h1>"
   ]
  },
  {
   "cell_type": "code",
   "execution_count": 19,
   "id": "bc92ded5-5821-4ce8-9aa4-68c769c11d52",
   "metadata": {},
   "outputs": [
    {
     "name": "stdout",
     "output_type": "stream",
     "text": [
      "this is the flatten dict{2019: 'its_good', 2020: 'chinaVirus', 2021: 'deaths', 2022: 'vaccine', 2023: 'lets_see'}\n"
     ]
    }
   ],
   "source": [
    "from itertools import product\n",
    "new_dict={\"year\":[2019,2020,2021,2022,2023],\"what_happened\":[\"its_good\",\"chinaVirus\",\"deaths\",\"vaccine\",\"lets_see\"]}\n",
    "res=dict(zip(new_dict[\"year\"],new_dict[\"what_happened\"]))\n",
    "print(f\"this is the flatten dict{res}\")"
   ]
  },
  {
   "cell_type": "markdown",
   "id": "62e4f0a8-22da-4654-ae38-e6780ff2a107",
   "metadata": {},
   "source": [
    "<h1>Write a Python program to insertion at the beginning in OrderedDict?</h1>"
   ]
  },
  {
   "cell_type": "code",
   "execution_count": 22,
   "id": "86b40c6f-8b4c-4470-9c77-88fa7a7de060",
   "metadata": {},
   "outputs": [
    {
     "data": {
      "text/plain": [
       "OrderedDict([('k4', '999'), ('k1', '12'), ('k2', '22'), ('k3', '12')])"
      ]
     },
     "execution_count": 22,
     "metadata": {},
     "output_type": "execute_result"
    }
   ],
   "source": [
    "from collections import OrderedDict\n",
    "d=OrderedDict({\"k1\":\"12\",\"k2\":\"22\",\"k3\":\"12\"})\n",
    "dd={\"k4\":\"999\"}\n",
    "d.update(dd)\n",
    "d.move_to_end(\"k4\",last=False)\n",
    "d"
   ]
  },
  {
   "cell_type": "markdown",
   "id": "930b9b65-fc75-4781-b218-398b0c468ff0",
   "metadata": {},
   "source": [
    "<h1>Write a Python program to check order of character in string using OrderedDict()?</h1>"
   ]
  },
  {
   "cell_type": "code",
   "execution_count": null,
   "id": "ddb0a405-2374-43de-a19c-b1c0a76073b0",
   "metadata": {},
   "outputs": [],
   "source": [
    "\n"
   ]
  },
  {
   "cell_type": "markdown",
   "id": "fde2a75e-7875-4b14-b2fa-cbb157d8a4f2",
   "metadata": {},
   "source": [
    "<h1>Write a Python program to sort Python Dictionaries by Key or Value?</h1>"
   ]
  },
  {
   "cell_type": "code",
   "execution_count": 16,
   "id": "63731084-4ceb-4dc8-87ce-dd93c6beef3a",
   "metadata": {},
   "outputs": [
    {
     "name": "stdout",
     "output_type": "stream",
     "text": [
      "{'k1': 12, 'k3': 12, 'k2': 22}\n",
      "{'k1': 12, 'k2': 22, 'k3': 12}\n"
     ]
    }
   ],
   "source": [
    "dic={\"k1\":12,\"k2\":22,\"k3\":12}\n",
    "def srt(dit,method):\n",
    "    if method==\"key\":\n",
    "        print(dict(sorted(dit.items(),key=lambda x:x[0])))\n",
    "    else:\n",
    "        print(dict(sorted(dit.items(),key=lambda x:x[1])))\n",
    "srt(dic,\"value\")\n",
    "srt(dic,\"key\")"
   ]
  },
  {
   "cell_type": "code",
   "execution_count": null,
   "id": "b07609ea-329d-4bbf-ba57-7d890198c5af",
   "metadata": {},
   "outputs": [],
   "source": []
  }
 ],
 "metadata": {
  "kernelspec": {
   "display_name": "Python 3 (ipykernel)",
   "language": "python",
   "name": "python3"
  },
  "language_info": {
   "codemirror_mode": {
    "name": "ipython",
    "version": 3
   },
   "file_extension": ".py",
   "mimetype": "text/x-python",
   "name": "python",
   "nbconvert_exporter": "python",
   "pygments_lexer": "ipython3",
   "version": "3.10.6"
  }
 },
 "nbformat": 4,
 "nbformat_minor": 5
}
