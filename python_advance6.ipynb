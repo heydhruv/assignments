{
 "cells": [
  {
   "cell_type": "markdown",
   "id": "94bed0b0-0bca-4f5e-8d5a-b3d0e907a69f",
   "metadata": {},
   "source": [
    "<h3>Q1. Describe three applications for exception processing.</h3>"
   ]
  },
  {
   "cell_type": "markdown",
   "id": "91dc1d0b-5e7c-45c7-865a-a83eec14ec41",
   "metadata": {},
   "source": [
    "\n",
    "    Checking Appropriate use of input in an application\n",
    "    Checking for Arithmetic exceptions in mathematical executions\n",
    "    Checking File I/O exceptions during File handling\n"
   ]
  },
  {
   "cell_type": "markdown",
   "id": "e1999fdc-202b-4988-9cbb-51a47f3cde99",
   "metadata": {},
   "source": [
    "<h3>Q2. What happens if you don&#39;t do something extra to treat an exception?</h3>"
   ]
  },
  {
   "cell_type": "markdown",
   "id": "089838c5-05a9-4c80-acc3-f32aeb5bb37d",
   "metadata": {},
   "source": [
    "If Exceptions are not handled flow of program will be broken during the run time which might lead to a abnormal termination of the program. Inshort inability of program to handle exceptions will result in crashing of program."
   ]
  },
  {
   "cell_type": "markdown",
   "id": "73d3051b-d299-4539-838f-2e90b41aa3a3",
   "metadata": {},
   "source": [
    "<h3>Q3. What are your options for recovering from an exception in your script?</h3>"
   ]
  },
  {
   "cell_type": "markdown",
   "id": "f8df379d-b020-47e7-8037-8151d160bf17",
   "metadata": {},
   "source": [
    " Python provides try and except statements for recovering from an exception in your script."
   ]
  },
  {
   "cell_type": "markdown",
   "id": "7279c7b1-00ef-46ca-8bdc-0baf79588682",
   "metadata": {},
   "source": [
    "<h3>Q4. Describe two methods for triggering exceptions in your script.</h3>"
   ]
  },
  {
   "cell_type": "markdown",
   "id": "08bce583-fc65-45a7-b602-f3fb5f93b45d",
   "metadata": {},
   "source": [
    "raise,assert"
   ]
  },
  {
   "cell_type": "markdown",
   "id": "b8406490-6352-4e1d-b8b3-e101951e074e",
   "metadata": {},
   "source": [
    "<h3>Q5. Identify two methods for specifying actions to be executed at termination time, regardless of\n",
    "whether or not an exception exists.</h3>"
   ]
  },
  {
   "cell_type": "markdown",
   "id": "09e5b4cb-2f56-4bd0-a381-224d2b993d71",
   "metadata": {},
   "source": [
    "Python Provides else and finally blocks for specifying actions to be executed at termination time, regardless of whether an exceptions exists or not."
   ]
  },
  {
   "cell_type": "code",
   "execution_count": null,
   "id": "2f16c73c-6917-4966-bdfa-1bd237bf7829",
   "metadata": {},
   "outputs": [],
   "source": []
  }
 ],
 "metadata": {
  "kernelspec": {
   "display_name": "Python 3 (ipykernel)",
   "language": "python",
   "name": "python3"
  },
  "language_info": {
   "codemirror_mode": {
    "name": "ipython",
    "version": 3
   },
   "file_extension": ".py",
   "mimetype": "text/x-python",
   "name": "python",
   "nbconvert_exporter": "python",
   "pygments_lexer": "ipython3",
   "version": "3.9.13"
  }
 },
 "nbformat": 4,
 "nbformat_minor": 5
}
