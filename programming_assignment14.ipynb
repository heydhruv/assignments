{
 "cells": [
  {
   "cell_type": "markdown",
   "id": "bfcb0394-31c9-4171-a25b-bbcdf3007f4a",
   "metadata": {},
   "source": [
    "<h1>Define a class with a generator which can iterate the numbers, which are divisible by\n",
    "7, between a given range 0 and n.</h1>"
   ]
  },
  {
   "cell_type": "code",
   "execution_count": 4,
   "id": "6c165398-06f2-473e-b146-0f1164b1e49a",
   "metadata": {},
   "outputs": [
    {
     "name": "stdout",
     "output_type": "stream",
     "text": [
      "0 7 14 21 28 35 42 49 56 63 70 77 84 91 98 "
     ]
    }
   ],
   "source": [
    "class div:\n",
    "    def __init__(self,x):\n",
    "        self.x=x\n",
    "    def divis(self):\n",
    "        for ele in range(self.x):\n",
    "            if ele%7==0:\n",
    "                yield ele\n",
    "out=div(100)\n",
    "for i in out.divis():\n",
    "    print(i,end=' ')"
   ]
  },
  {
   "cell_type": "markdown",
   "id": "a8cc8ad1-44a4-46c1-b2f9-22fbbfae2e9d",
   "metadata": {},
   "source": [
    "<h1>Write a program to compute the frequency of the words from the input. The output\n",
    "should output after sorting the key alphanumerically.</h1>"
   ]
  },
  {
   "cell_type": "code",
   "execution_count": 7,
   "id": "a426bf20-2acc-4a6f-9e3f-fb029241c47b",
   "metadata": {},
   "outputs": [
    {
     "name": "stdin",
     "output_type": "stream",
     "text": [
      "Enter the Input String:  this is why it is going to happen it was going to be\n"
     ]
    },
    {
     "name": "stdout",
     "output_type": "stream",
     "text": [
      "be:1 going:2 happen:1 is:2 it:2 this:1 to:2 was:1 why:1 "
     ]
    }
   ],
   "source": [
    "def Freq():\n",
    "    str1 = input(\"Enter the Input String: \")\n",
    "    frequency = {}\n",
    "    for ele in str1.split(\" \"):\n",
    "        if(frequency.get(ele) == None):\n",
    "            frequency[ele] = 1\n",
    "        else:\n",
    "            frequency[ele] += 1 \n",
    "    for ele in sorted(frequency):\n",
    "        print(f'{ele}:{frequency[ele]}',end=\" \")\n",
    "Freq()"
   ]
  },
  {
   "cell_type": "markdown",
   "id": "91b2767d-1bda-4161-a7e5-a321bf80e20f",
   "metadata": {},
   "source": [
    "<h1>Define a class Person and its two child classes: Male and Female. All classes have a\n",
    "method &quot;getGender&quot; which can print &quot;Male&quot; for Male class and &quot;Female&quot; for Female\n",
    "class.</h1>"
   ]
  },
  {
   "cell_type": "code",
   "execution_count": 18,
   "id": "ad2af21d-a58d-45e9-81d2-675c21f880f2",
   "metadata": {},
   "outputs": [
    {
     "name": "stdout",
     "output_type": "stream",
     "text": [
      "Male\n"
     ]
    }
   ],
   "source": [
    "class Person():\n",
    "    class Male(Person):\n",
    "        def getGender(self):\n",
    "            print(\"male\")\n",
    "    class Female(Person):\n",
    "        def getGender(self):\n",
    "            print(\"female\")\n",
    "Male.getGender()\n",
    "    \n",
    "        \n",
    "    "
   ]
  },
  {
   "cell_type": "markdown",
   "id": "032f99ad-95e8-44ea-aa57-ddf906837d0c",
   "metadata": {},
   "source": [
    "<h1>Please write a program to generate all sentences where subject is in [&quot;I&quot;, &quot;You&quot;] and\n",
    "verb is in [&quot;Play&quot;, &quot;Love&quot;] and the object is in [&quot;Hockey&quot;,&quot;Football&quot;].</h1>"
   ]
  },
  {
   "cell_type": "code",
   "execution_count": 19,
   "id": "a766294f-d19c-49f8-9385-dbe6d8b1db3d",
   "metadata": {},
   "outputs": [
    {
     "name": "stdout",
     "output_type": "stream",
     "text": [
      "i   play   hockey  \n",
      "i   play   football  \n",
      "i   love   hockey  \n",
      "i   love   football  \n",
      "you   play   hockey  \n",
      "you   play   football  \n",
      "you   love   hockey  \n",
      "you   love   football  \n"
     ]
    }
   ],
   "source": [
    "def sent():\n",
    "    subject=[\"i\",\"you\"]\n",
    "    verb=[\"play\",\"love\"]\n",
    "    obj=[\"hockey\",\"football\"]\n",
    "    for s in subject:\n",
    "        for v in verb:\n",
    "            for o in obj:\n",
    "                print(s,\" \",v,\" \",o,\" \")\n",
    "sent()                "
   ]
  },
  {
   "cell_type": "markdown",
   "id": "0c5a5eed-4d94-48cb-a7b2-f9e75d8577c0",
   "metadata": {},
   "source": [
    "<h1>Please write a program to compress and decompress the string &quot;hello world!hello\n",
    "world!hello world!hello world!&quot;.</h1>"
   ]
  },
  {
   "cell_type": "code",
   "execution_count": null,
   "id": "efae6aab-c5eb-416c-bca4-f5ed44ffc9fe",
   "metadata": {},
   "outputs": [],
   "source": []
  },
  {
   "cell_type": "markdown",
   "id": "7bbb0d89-0103-4020-848c-726394b2ca9d",
   "metadata": {},
   "source": [
    "<h1>Please write a binary search function which searches an item in a sorted list. The\n",
    "function should return the index of element to be searched in the list.</h1>"
   ]
  },
  {
   "cell_type": "code",
   "execution_count": 30,
   "id": "3ca918bf-3c52-435c-852b-9326fec9dd0f",
   "metadata": {},
   "outputs": [
    {
     "name": "stdout",
     "output_type": "stream",
     "text": [
      "ele is present at index 1\n"
     ]
    }
   ],
   "source": [
    "def binary(x,y):\n",
    "    x.sort()\n",
    "    low=0\n",
    "    mid=0\n",
    "    high=len(x)-1\n",
    "    while low <= high:\n",
    "        mid = (low+high)//2\n",
    "        \n",
    "        if x[mid] < y:\n",
    "            low = mid+1\n",
    "        elif x[mid] > y:\n",
    "            high= mid-1\n",
    "        else:\n",
    "            return mid\n",
    "    return -1    \n",
    "x = [ 22, 43, 4, 10, 440,1010,23,5666,878,73,23,980,54 ]\n",
    "y = 10   \n",
    "\n",
    "out=binary(x,y)\n",
    "if out != -1:\n",
    "    print(\"ele is present at index\",str(out))\n",
    "else:\n",
    "    print(\"ele is not present in list\")"
   ]
  },
  {
   "cell_type": "code",
   "execution_count": null,
   "id": "b2c4c310-7b45-495b-8215-6484758d5087",
   "metadata": {},
   "outputs": [],
   "source": []
  },
  {
   "cell_type": "code",
   "execution_count": null,
   "id": "98bbed89-50a6-413f-9f4c-219a28a4cb1d",
   "metadata": {},
   "outputs": [],
   "source": []
  }
 ],
 "metadata": {
  "kernelspec": {
   "display_name": "Python 3 (ipykernel)",
   "language": "python",
   "name": "python3"
  },
  "language_info": {
   "codemirror_mode": {
    "name": "ipython",
    "version": 3
   },
   "file_extension": ".py",
   "mimetype": "text/x-python",
   "name": "python",
   "nbconvert_exporter": "python",
   "pygments_lexer": "ipython3",
   "version": "3.10.6"
  }
 },
 "nbformat": 4,
 "nbformat_minor": 5
}
