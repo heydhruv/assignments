{
 "cells": [
  {
   "cell_type": "markdown",
   "id": "be06e71e-b8f9-445c-837d-73a0d7ccab67",
   "metadata": {},
   "source": [
    "<h3>Q1. What is the benefit of regular expressions?</h3>"
   ]
  },
  {
   "cell_type": "markdown",
   "id": "43229459-3a95-41cb-a789-d8f5e49fd88f",
   "metadata": {},
   "source": [
    "Regular Expressions, also known as regex or regexp, are used to match strings of text such as particular characters, words, or patterns of characters. It means that we can match and extract any string pattern from the text with the help of regular expressions. it helps the programmers to Write less and cleaner code. it also avoids multiple use of if/else statements."
   ]
  },
  {
   "cell_type": "markdown",
   "id": "881e9401-4f91-4702-8455-ca12dcc82f57",
   "metadata": {},
   "source": [
    "<h3>Q2. Describe the difference between the effects of \"(ab)c+\" and \"a(bc)+\" Which of these, if any, is the unqualified pattern \"abc+\"?</h3>"
   ]
  },
  {
   "cell_type": "markdown",
   "id": "7234930c-9bbb-4a1a-bdab-0b5abb1f6081",
   "metadata": {},
   "source": [
    "Both (ab)c+ and a(bc)+ are valid patterns. the difference between both these patterns is in (ab)c+ ab is group whereas in a(bc)+ bc is a group."
   ]
  },
  {
   "cell_type": "markdown",
   "id": "8a24188b-5f0b-464e-a578-d14214f3a965",
   "metadata": {},
   "source": [
    "<h3>Q3. How much do you need to use the following sentence while using regular expressions?\n",
    "import re</h3>"
   ]
  },
  {
   "cell_type": "markdown",
   "id": "6b319782-1b54-4e76-aa19-e62369464b15",
   "metadata": {},
   "source": [
    "have to import re before using regex"
   ]
  },
  {
   "cell_type": "markdown",
   "id": "05599952-a252-4e3a-9efa-d4c9816fdba2",
   "metadata": {},
   "source": [
    "<h3>Q4. Which characters have special significance in square brackets when expressing a range, and under what circumstances?</h3>"
   ]
  },
  {
   "cell_type": "markdown",
   "id": "437a4993-6d4d-4fd8-bed3-85e189b27c87",
   "metadata": {},
   "source": [
    " .  ,*  ,  ?  ,  ^  ,  or  ,  ()"
   ]
  },
  {
   "cell_type": "markdown",
   "id": "7c5a307e-73b6-4549-8799-af05001ba244",
   "metadata": {},
   "source": [
    "<h3>\n",
    "Q5. How does compiling a regular-expression object benefit you?</h3>"
   ]
  },
  {
   "cell_type": "markdown",
   "id": "65a3a72f-9a59-4197-a565-d966ee3a378b",
   "metadata": {},
   "source": [
    "We can combine a regular expression pattern into pattern objects, which can be used for pattern matching. It also helps to search a pattern again without rewriting it."
   ]
  },
  {
   "cell_type": "markdown",
   "id": "be6e0795-21dd-4494-a08e-161c7166f07f",
   "metadata": {},
   "source": [
    "<h3>Q6. What are some examples of how to use the match object returned by re.match and re.search?</h3>"
   ]
  },
  {
   "cell_type": "code",
   "execution_count": 3,
   "id": "dd3e66c2-ef2d-422d-ab7d-ab1e86559286",
   "metadata": {},
   "outputs": [
    {
     "name": "stdout",
     "output_type": "stream",
     "text": [
      "<re.Match object; span=(60, 66), match='string'>\n",
      "None\n",
      "<re.Match object; span=(0, 6), match='string'>\n",
      "<re.Match object; span=(0, 6), match='string'>\n"
     ]
    }
   ],
   "source": [
    "import re\n",
    "Substring ='string' \n",
    "String1 ='We are learning regex with ineuron regex is very useful for string matching. It is fast too.' \n",
    "String2 ='string We are learning regex with ineuron regex is very useful for string matching. It is fast too.'\n",
    "print(re.search(Substring, String1, re.IGNORECASE))\n",
    "print(re.match(Substring, String1, re.IGNORECASE))\n",
    "print(re.search(Substring, String2, re.IGNORECASE))\n",
    "print(re.match(Substring, String2, re.IGNORECASE))"
   ]
  },
  {
   "cell_type": "markdown",
   "id": "4e3adac1-c110-4b75-a2a8-1888775f32af",
   "metadata": {},
   "source": [
    "<h3>Q7. What is the difference between using a vertical bar (|) as an alteration and using square brackets as a character set?</h3>"
   ]
  },
  {
   "cell_type": "markdown",
   "id": "32ff96a0-76fd-47b5-8149-cd842ebf5c36",
   "metadata": {},
   "source": [
    "| means or"
   ]
  },
  {
   "cell_type": "markdown",
   "id": "0c0ae38a-9ad2-43ea-9fff-66a1b4c5e897",
   "metadata": {},
   "source": [
    "<h3>Q8. In regular-expression search patterns, why is it necessary to use the raw-string indicator (r)? In replacement strings?</h3>"
   ]
  },
  {
   "cell_type": "markdown",
   "id": "04b460cb-c360-4c06-bb70-600471c98562",
   "metadata": {},
   "source": [
    "Raw Strings are used in the regular-expression search patterns, so that blackslashes do not have to be escaped."
   ]
  },
  {
   "cell_type": "code",
   "execution_count": null,
   "id": "c10be24c-0ffa-4458-a733-66768422e2d9",
   "metadata": {},
   "outputs": [],
   "source": []
  }
 ],
 "metadata": {
  "kernelspec": {
   "display_name": "Python 3 (ipykernel)",
   "language": "python",
   "name": "python3"
  },
  "language_info": {
   "codemirror_mode": {
    "name": "ipython",
    "version": 3
   },
   "file_extension": ".py",
   "mimetype": "text/x-python",
   "name": "python",
   "nbconvert_exporter": "python",
   "pygments_lexer": "ipython3",
   "version": "3.9.13"
  }
 },
 "nbformat": 4,
 "nbformat_minor": 5
}
