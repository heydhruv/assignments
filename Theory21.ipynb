{
 "cells": [
  {
   "cell_type": "markdown",
   "id": "8fa1287c-0ddc-443e-86cd-ff77b0109c81",
   "metadata": {},
   "source": [
    "<h3>1. Add the current date to the text file today.txt as a string.</h3>"
   ]
  },
  {
   "cell_type": "code",
   "execution_count": 14,
   "id": "070c0856-7907-4112-babb-8993db298ba9",
   "metadata": {},
   "outputs": [],
   "source": [
    "import datetime\n",
    "curr=str(datetime.datetime.now())\n",
    "with open('today.txt','w') as f :\n",
    "    f.write(curr)\n",
    "    f.close()"
   ]
  },
  {
   "cell_type": "code",
   "execution_count": 9,
   "id": "329defc1-8881-4039-bac7-af128994fe59",
   "metadata": {},
   "outputs": [
    {
     "name": "stdout",
     "output_type": "stream",
     "text": [
      "2023-04-30 14:15:46.645620\n"
     ]
    }
   ],
   "source": []
  },
  {
   "cell_type": "markdown",
   "id": "53fc2676-f4c1-467b-bf2c-6c5eeb44aa71",
   "metadata": {},
   "source": [
    "<h3>2. Read the text file today.txt into the string today_string</h3>"
   ]
  },
  {
   "cell_type": "code",
   "execution_count": 15,
   "id": "a1acc14f-ee2c-4377-b851-492840830905",
   "metadata": {},
   "outputs": [
    {
     "name": "stdout",
     "output_type": "stream",
     "text": [
      "2023-04-30 14:20:24.818630\n"
     ]
    }
   ],
   "source": [
    "with open('today.txt','r') as f :\n",
    "    today_string=f.readline()\n",
    "    print(today_string)\n",
    "    f.close()"
   ]
  },
  {
   "cell_type": "markdown",
   "id": "e71b520b-cc9b-44a7-acc9-d7faf56db55d",
   "metadata": {},
   "source": [
    "<h3>3. Parse the date from today_string.</h3>"
   ]
  },
  {
   "cell_type": "code",
   "execution_count": 26,
   "id": "d5adec94-7eaf-47bc-a42b-7f73f3a67647",
   "metadata": {},
   "outputs": [],
   "source": [
    "from datetime import datetime\n",
    "parsed_data = datetime.strptime(today_string, '%d-%m-%Y')\n",
    "print(parsed_data)\n"
   ]
  },
  {
   "cell_type": "markdown",
   "id": "127e24f9-f58c-43b6-aa92-ea9924795917",
   "metadata": {},
   "source": [
    "<h3>4. List the files in your current directory</h3>"
   ]
  },
  {
   "cell_type": "code",
   "execution_count": 27,
   "id": "58abf7f0-d79a-4eee-a72e-fa0e74bf5ba2",
   "metadata": {},
   "outputs": [
    {
     "name": "stdout",
     "output_type": "stream",
     "text": [
      "Theory14.ipynb\n",
      "Theory20.ipynb\n",
      "Theory13.ipynb\n",
      "Theory6.ipynb\n",
      "test.txt\n",
      "Theory2.ipynb\n",
      "books.db\n",
      "Untitled.ipynb\n",
      "Theory4.ipynb\n",
      "Theory5.ipynb\n",
      "Theory3.ipynb\n",
      "Theory12.ipynb\n",
      "Theory9.ipynb\n",
      "Theory16.ipynb\n",
      "suits.jpg\n",
      "Theory15.ipynb\n",
      "books.csv\n",
      "suit.jpg\n",
      "Theory19.ipynb\n",
      "Theory18.ipynb\n",
      "Theory17.ipynb\n",
      "Theory11.ipynb\n",
      "sept_25.ipynb\n",
      "Theory10.ipynb\n",
      "today.txt\n",
      "Theory8.ipynb\n",
      "Untitled1.ipynb\n",
      "zoo.cpython-38.pyc\n",
      "Theory12-checkpoint.ipynb\n",
      "suits-checkpoint.jpg\n",
      "test-checkpoint.txt\n",
      "Theory6-checkpoint.ipynb\n",
      "suit-checkpoint.jpg\n",
      "Theory3-checkpoint.ipynb\n",
      "Theory11-checkpoint.ipynb\n",
      "Theory5-checkpoint.ipynb\n",
      "Theory4-checkpoint.ipynb\n",
      "Theory16-checkpoint.ipynb\n",
      "Untitled-checkpoint.ipynb\n",
      "Theory15-checkpoint.ipynb\n",
      "Theory18-checkpoint.ipynb\n",
      "Theory8-checkpoint.ipynb\n",
      "Theory19-checkpoint.ipynb\n",
      "Untitled1-checkpoint.ipynb\n",
      "Theory14-checkpoint.ipynb\n",
      "Theory9-checkpoint.ipynb\n",
      "books-checkpoint.csv\n",
      "Theory13-checkpoint.ipynb\n",
      "Theory20-checkpoint.ipynb\n",
      "Theory17-checkpoint.ipynb\n",
      "Theory2-checkpoint.ipynb\n",
      "today-checkpoint.txt\n",
      "Theory10-checkpoint.ipynb\n"
     ]
    }
   ],
   "source": [
    "import os\n",
    "for folders, subfolders, files in os.walk(os.getcwd()):\n",
    "    for file in files:\n",
    "        print(file)\n"
   ]
  },
  {
   "cell_type": "markdown",
   "id": "a37f4b98-f960-4d8d-a7d3-6eaf60b9bb1c",
   "metadata": {},
   "source": [
    "<h3>5. Create a list of all of the files in your parent directory (minimum five files should be available).</h3>"
   ]
  },
  {
   "cell_type": "code",
   "execution_count": 39,
   "id": "79ca5015-b262-4a3c-b253-64156e340043",
   "metadata": {},
   "outputs": [
    {
     "data": {
      "text/plain": [
       "['Theory14.ipynb',\n",
       " 'Theory20.ipynb',\n",
       " 'Theory13.ipynb',\n",
       " 'Theory6.ipynb',\n",
       " 'test.txt',\n",
       " 'Theory2.ipynb',\n",
       " 'books.db',\n",
       " 'Untitled.ipynb',\n",
       " '__pycache__',\n",
       " 'Theory4.ipynb',\n",
       " 'Theory5.ipynb',\n",
       " 'Theory3.ipynb',\n",
       " 'Theory12.ipynb',\n",
       " 'Theory9.ipynb',\n",
       " 'Theory16.ipynb',\n",
       " 'suits.jpg',\n",
       " 'Theory15.ipynb',\n",
       " 'books.csv',\n",
       " 'suit.jpg',\n",
       " 'Theory19.ipynb',\n",
       " 'Theory18.ipynb',\n",
       " '.ipynb_checkpoints',\n",
       " 'Theory17.ipynb',\n",
       " 'Theory11.ipynb',\n",
       " 'sept_25.ipynb',\n",
       " 'Theory10.ipynb',\n",
       " 'today.txt',\n",
       " 'Theory8.ipynb',\n",
       " 'Untitled1.ipynb']"
      ]
     },
     "execution_count": 39,
     "metadata": {},
     "output_type": "execute_result"
    }
   ],
   "source": [
    "os.listdir()\n"
   ]
  },
  {
   "cell_type": "markdown",
   "id": "e6bfe5a1-0baa-4652-969d-efc09533810b",
   "metadata": {},
   "source": [
    "<h3>6. Use multiprocessing to create three separate processes. Make each one wait a random number of\n",
    "seconds between one and five, print the current time, and then exit.</h3>"
   ]
  },
  {
   "cell_type": "code",
   "execution_count": 44,
   "id": "8b6e0415-0689-4dc5-ba21-d63448b11cd9",
   "metadata": {},
   "outputs": [
    {
     "name": "stdout",
     "output_type": "stream",
     "text": [
      "one_starttime -> 2023-04-30 14:40:09.804819\n",
      "two_Starttime -> 2023-04-30 14:40:09.810457\n",
      "three_Starttime -> 2023-04-30 14:40:09.815948\n",
      "three_Endtime -> 2023-04-30 14:40:10.821292\n",
      "two_Endtime -> 2023-04-30 14:40:12.818426\n",
      "one_Endtime -> 2023-04-30 14:40:13.814411\n"
     ]
    }
   ],
   "source": [
    "import multiprocessing\n",
    "import time \n",
    "import random\n",
    "import datetime\n",
    "\n",
    "def one():\n",
    "    print(f'one_starttime -> {datetime.datetime.now()}')\n",
    "    time.sleep(random.randint(1,5))\n",
    "    print(f'one_Endtime -> {datetime.datetime.now()}')\n",
    "    \n",
    "def two():\n",
    "    print(f'two_Starttime -> {datetime.datetime.now()}')\n",
    "    time.sleep(random.randint(1,5))\n",
    "    print(f'two_Endtime -> {datetime.datetime.now()}')\n",
    "\n",
    "def three():\n",
    "    print(f'three_Starttime -> {datetime.datetime.now()}')\n",
    "    time.sleep(random.randint(1,5))\n",
    "    print(f'three_Endtime -> {datetime.datetime.now()}')\n",
    "    \n",
    "if __name__ == \"__main__\":    \n",
    "    p1 = multiprocessing.Process(target=one)\n",
    "    p2 = multiprocessing.Process(target=two)\n",
    "    p3 = multiprocessing.Process(target=three)\n",
    "\n",
    "    p1.start()\n",
    "    p2.start()\n",
    "    p3.start()\n",
    "\n",
    "    p1.join()\n",
    "    p2.join()\n",
    "    p3.join()"
   ]
  },
  {
   "cell_type": "markdown",
   "id": "1e8f4e57-6760-44ba-bee1-03e940065005",
   "metadata": {},
   "source": [
    "<h3>7. Create a date object of your day of birth.</h3>"
   ]
  },
  {
   "cell_type": "code",
   "execution_count": 49,
   "id": "11392bb6-fd70-4e9c-8bd2-e8de4d93ecd7",
   "metadata": {},
   "outputs": [
    {
     "name": "stdout",
     "output_type": "stream",
     "text": [
      "2001-01-22 00:00:00\n"
     ]
    }
   ],
   "source": [
    "dob=datetime.datetime.strptime('22/01/2001','%d/%m/%Y')\n",
    "print(dob)"
   ]
  },
  {
   "cell_type": "markdown",
   "id": "3de08757-82e3-491b-bb23-4f2c04fda166",
   "metadata": {},
   "source": [
    "<h3>8. What day of the week was your day of birth?</h3>"
   ]
  },
  {
   "cell_type": "code",
   "execution_count": 51,
   "id": "d2fe8ed3-1cb1-49a3-a984-d95322eb85e5",
   "metadata": {},
   "outputs": [
    {
     "data": {
      "text/plain": [
       "'Monday'"
      ]
     },
     "execution_count": 51,
     "metadata": {},
     "output_type": "execute_result"
    }
   ],
   "source": [
    "my_dob = datetime.datetime(2001,1,22)\n",
    "my_dob.strftime(\"%A\")"
   ]
  },
  {
   "cell_type": "markdown",
   "id": "cb90340f-4a7e-4665-9ca8-af3e5a1b5789",
   "metadata": {},
   "source": [
    "<h3>9. When will you be (or when were you) 10,000 days old?</h3>"
   ]
  },
  {
   "cell_type": "code",
   "execution_count": 57,
   "id": "28ebaf21-8ed7-4194-9ea2-5fd7b9664ee3",
   "metadata": {},
   "outputs": [
    {
     "data": {
      "text/plain": [
       "datetime.datetime(2028, 6, 9, 0, 0)"
      ]
     },
     "execution_count": 57,
     "metadata": {},
     "output_type": "execute_result"
    }
   ],
   "source": [
    "my_dob = datetime.datetime.strptime(\"22/01/2001\",'%d/%m/%Y')\n",
    "future_date = my_dob+datetime.timedelta(10000)\n",
    "future_date"
   ]
  },
  {
   "cell_type": "code",
   "execution_count": null,
   "id": "3bec0caf-0392-47e6-9998-f5e16ee6b2ab",
   "metadata": {},
   "outputs": [],
   "source": []
  },
  {
   "cell_type": "code",
   "execution_count": null,
   "id": "586e5f85-2b20-402e-8465-3256d0f8b0c8",
   "metadata": {},
   "outputs": [],
   "source": []
  }
 ],
 "metadata": {
  "kernelspec": {
   "display_name": "Python 3",
   "language": "python",
   "name": "python3"
  },
  "language_info": {
   "codemirror_mode": {
    "name": "ipython",
    "version": 3
   },
   "file_extension": ".py",
   "mimetype": "text/x-python",
   "name": "python",
   "nbconvert_exporter": "python",
   "pygments_lexer": "ipython3",
   "version": "3.8.8"
  }
 },
 "nbformat": 4,
 "nbformat_minor": 5
}
