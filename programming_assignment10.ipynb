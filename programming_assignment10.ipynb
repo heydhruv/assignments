{
 "cells": [
  {
   "cell_type": "markdown",
   "id": "01188b55-a2c4-483e-8e4d-d17b6f24913c",
   "metadata": {},
   "source": [
    "1. Write a Python program to find sum of elements in list?"
   ]
  },
  {
   "cell_type": "code",
   "execution_count": 1,
   "id": "56afb1a4-50a3-4839-8533-2d237260e0a0",
   "metadata": {},
   "outputs": [
    {
     "data": {
      "text/plain": [
       "15"
      ]
     },
     "execution_count": 1,
     "metadata": {},
     "output_type": "execute_result"
    }
   ],
   "source": [
    "def lsum(x):\n",
    "    return sum(x)\n",
    "lsum([1,2,3,4,5])"
   ]
  },
  {
   "cell_type": "markdown",
   "id": "b04c9f08-2a8f-435b-8a0d-39d5edbf6ee4",
   "metadata": {},
   "source": [
    "2. Write a Python program to Multiply all numbers in the list?"
   ]
  },
  {
   "cell_type": "code",
   "execution_count": 3,
   "id": "45db3fb2-7fd8-4000-b077-9ac2b34abb0b",
   "metadata": {},
   "outputs": [
    {
     "data": {
      "text/plain": [
       "120"
      ]
     },
     "execution_count": 3,
     "metadata": {},
     "output_type": "execute_result"
    }
   ],
   "source": [
    "def mlist(x):\n",
    "    mul=1\n",
    "    for i in x:\n",
    "        mul=mul*i\n",
    "    return mul\n",
    "mlist([1,2,3,4,5])"
   ]
  },
  {
   "cell_type": "markdown",
   "id": "344828f8-a0b3-4fc3-8c59-7a25488ba3d9",
   "metadata": {},
   "source": [
    "3. Write a Python program to find smallest number in a list?"
   ]
  },
  {
   "cell_type": "code",
   "execution_count": 5,
   "id": "f97b1f99-a61d-4acc-8568-54932082ed97",
   "metadata": {},
   "outputs": [
    {
     "data": {
      "text/plain": [
       "0"
      ]
     },
     "execution_count": 5,
     "metadata": {},
     "output_type": "execute_result"
    }
   ],
   "source": [
    "def slist(x):\n",
    "    x=sorted(x)\n",
    "    return x[0]\n",
    "slist([1,2,6,884,0])\n"
   ]
  },
  {
   "cell_type": "markdown",
   "id": "87397a0e-17aa-4b43-b11f-5f366278173f",
   "metadata": {},
   "source": [
    "4. Write a Python program to find largest number in a list?"
   ]
  },
  {
   "cell_type": "code",
   "execution_count": 6,
   "id": "28f4d1b0-78ef-4afa-965d-8c1b35e12702",
   "metadata": {},
   "outputs": [
    {
     "data": {
      "text/plain": [
       "5"
      ]
     },
     "execution_count": 6,
     "metadata": {},
     "output_type": "execute_result"
    }
   ],
   "source": [
    "def lsum(x):\n",
    "    return max(x)\n",
    "lsum([1,2,3,4,5])"
   ]
  },
  {
   "cell_type": "markdown",
   "id": "fd545ce3-fdf9-47a6-bfe1-e78ec6e29521",
   "metadata": {},
   "source": [
    "5. Write a Python program to find second largest number in a list?"
   ]
  },
  {
   "cell_type": "code",
   "execution_count": 7,
   "id": "ddf9cf72-bbe5-44ee-8860-92e2f097b1bb",
   "metadata": {},
   "outputs": [
    {
     "data": {
      "text/plain": [
       "4"
      ]
     },
     "execution_count": 7,
     "metadata": {},
     "output_type": "execute_result"
    }
   ],
   "source": [
    "def llist(x):\n",
    "    x=sorted(x)\n",
    "    return x[-2]\n",
    "llist([1,2,3,4,5])"
   ]
  },
  {
   "cell_type": "markdown",
   "id": "eb8c90e2-129e-47a7-a0f2-43ae237665b4",
   "metadata": {},
   "source": [
    "6. Write a Python program to find N largest elements from a list?"
   ]
  },
  {
   "cell_type": "code",
   "execution_count": 8,
   "id": "07bc60f5-4d8e-443c-ad04-4dfbe36a6cd8",
   "metadata": {},
   "outputs": [
    {
     "data": {
      "text/plain": [
       "[5, 4, 3]"
      ]
     },
     "execution_count": 8,
     "metadata": {},
     "output_type": "execute_result"
    }
   ],
   "source": [
    "def llist(x,y):\n",
    "    x=sorted(x,reverse=True)\n",
    "    return x[0:y]\n",
    "llist([1,2,3,4,5],3)"
   ]
  },
  {
   "cell_type": "markdown",
   "id": "271c9e3c-5adb-4400-8b3a-fbfe21927373",
   "metadata": {},
   "source": [
    "7. Write a Python program to print even numbers in a list?"
   ]
  },
  {
   "cell_type": "code",
   "execution_count": 9,
   "id": "f96e11e0-de3f-43e9-ac99-8dbf378ea67b",
   "metadata": {},
   "outputs": [
    {
     "data": {
      "text/plain": [
       "[2, 4, 6]"
      ]
     },
     "execution_count": 9,
     "metadata": {},
     "output_type": "execute_result"
    }
   ],
   "source": [
    "def even(x):\n",
    "    x=[ele for ele in x if ele%2==0]\n",
    "    return x\n",
    "even([1,2,3,4,5,6])"
   ]
  },
  {
   "cell_type": "markdown",
   "id": "ee8cef66-89af-40f3-876c-91121003e5c0",
   "metadata": {},
   "source": [
    "8. Write a Python program to print odd numbers in a List?"
   ]
  },
  {
   "cell_type": "code",
   "execution_count": 10,
   "id": "9a6566fc-a229-44de-bd16-e7bc6595f8e0",
   "metadata": {},
   "outputs": [
    {
     "data": {
      "text/plain": [
       "[1, 3, 5]"
      ]
     },
     "execution_count": 10,
     "metadata": {},
     "output_type": "execute_result"
    }
   ],
   "source": [
    "def odd(x):\n",
    "    x=[ele for ele in x if ele%2!=0]\n",
    "    return x\n",
    "odd([1,2,3,4,5,6])"
   ]
  },
  {
   "cell_type": "markdown",
   "id": "33812c74-a924-4ec0-915f-719e8ea149cd",
   "metadata": {},
   "source": [
    "9. Write a Python program to Remove empty List from List?"
   ]
  },
  {
   "cell_type": "code",
   "execution_count": 11,
   "id": "dcffee40-035c-49fe-909d-32917e8fae28",
   "metadata": {},
   "outputs": [
    {
     "data": {
      "text/plain": [
       "[1, 2, 3]"
      ]
     },
     "execution_count": 11,
     "metadata": {},
     "output_type": "execute_result"
    }
   ],
   "source": [
    "def empty(x):\n",
    "    if [] in x:\n",
    "        x.remove([])\n",
    "    return x\n",
    "empty([1,2,3,[]])"
   ]
  },
  {
   "cell_type": "markdown",
   "id": "c8c582ba-e21d-4e34-b4a1-86833178fa4c",
   "metadata": {},
   "source": [
    "10. Write a Python program to Cloning or Copying a list?"
   ]
  },
  {
   "cell_type": "code",
   "execution_count": 12,
   "id": "29388477-9a88-4690-a0aa-0572fe6879a9",
   "metadata": {},
   "outputs": [
    {
     "data": {
      "text/plain": [
       "[1, 2, 3]"
      ]
     },
     "execution_count": 12,
     "metadata": {},
     "output_type": "execute_result"
    }
   ],
   "source": [
    "def clone(x):\n",
    "    y=x.copy()\n",
    "    return y\n",
    "clone([1,2,3])"
   ]
  },
  {
   "cell_type": "markdown",
   "id": "2e27e98e-85da-4441-91ff-dfefe80b9d5c",
   "metadata": {},
   "source": [
    "11. Write a Python program to Count occurrences of an element in a list?"
   ]
  },
  {
   "cell_type": "code",
   "execution_count": 13,
   "id": "01aec661-8223-4078-8859-a8d04728fc23",
   "metadata": {},
   "outputs": [
    {
     "data": {
      "text/plain": [
       "3"
      ]
     },
     "execution_count": 13,
     "metadata": {},
     "output_type": "execute_result"
    }
   ],
   "source": [
    "def occure(x,y):\n",
    "    count=0\n",
    "    for i in x:\n",
    "        if i==y:\n",
    "            count+=1\n",
    "    return count\n",
    "occure([1,1,1,2,3,4,5,6],1)"
   ]
  },
  {
   "cell_type": "code",
   "execution_count": null,
   "id": "c8961b6e-1874-4ae3-b941-7ad7e12202e8",
   "metadata": {},
   "outputs": [],
   "source": []
  }
 ],
 "metadata": {
  "kernelspec": {
   "display_name": "Python 3",
   "language": "python",
   "name": "python3"
  },
  "language_info": {
   "codemirror_mode": {
    "name": "ipython",
    "version": 3
   },
   "file_extension": ".py",
   "mimetype": "text/x-python",
   "name": "python",
   "nbconvert_exporter": "python",
   "pygments_lexer": "ipython3",
   "version": "3.8.8"
  }
 },
 "nbformat": 4,
 "nbformat_minor": 5
}
