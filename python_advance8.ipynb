{
 "cells": [
  {
   "cell_type": "markdown",
   "id": "ec0c85bb-ed4e-474f-8885-f2b2cdb5ec5a",
   "metadata": {},
   "source": [
    "<h3>Q1. What are the two latest user-defined exception constraints in Python 3.X?</h3>"
   ]
  },
  {
   "cell_type": "markdown",
   "id": "7df3ee9c-1220-4296-8f03-66e0953cdddc",
   "metadata": {},
   "source": [
    "raise and assert are the two latest user-defined exception constraints in Python 3.X"
   ]
  },
  {
   "cell_type": "markdown",
   "id": "f4adb91e-2b9c-4560-a3a5-ad9c36e523bb",
   "metadata": {},
   "source": [
    "<h3>Q2. How are class-based exceptions that have been raised matched to handlers?</h3>"
   ]
  },
  {
   "cell_type": "markdown",
   "id": "3a3642a6-7afe-4ada-b741-6027bd5d57b6",
   "metadata": {},
   "source": [
    " In python, Users can define custom exceptions by creating a new class. This exception class has to be derived, either directly or indirectly from built-in Exception class. This new exception class like other exceptions can be raised using the raise statement with an optional error message."
   ]
  },
  {
   "cell_type": "markdown",
   "id": "73003824-9528-4db9-8cac-1060ac7ee35f",
   "metadata": {},
   "source": [
    "<h3>Q3. Describe two methods for attaching context information to exception artefacts.</h3>"
   ]
  },
  {
   "cell_type": "markdown",
   "id": "f5f31b95-002d-49de-964d-593ae0606e3b",
   "metadata": {},
   "source": [
    " The process() method of LoggerAdapter is where the contextual information is added to the logging output. its passes the message and keyword arguments of the logging call, and it passes back modified versions of these to use in the call to the underlying logger.\n",
    "\n",
    "Other method that can be used is exception(), Logs a messgae with level ERROR on this logger. The arguments are interpreted as for debug(). Exception info is added to the logging message."
   ]
  },
  {
   "cell_type": "markdown",
   "id": "0b7da45c-457f-4f26-9ad4-cf365976c708",
   "metadata": {},
   "source": [
    "<h3>Q4. Describe two methods for specifying the text of an exception object&#39;s error message.</h3>"
   ]
  },
  {
   "cell_type": "markdown",
   "id": "4a35761f-c33e-4348-ad84-676c38be4f4a",
   "metadata": {},
   "source": [
    "raise and assert are two methods for specifying the text of an exception object's error message.raise statement is used to trigger explicit exception, if certain condition is not as per requirement of programmer. it helps in triggering exception as per need of programmer and logic.\n",
    "\n",
    "There are few assertions that programmer always want to be True to avoid code failure. This type of requirment is fullfilled by assert statement. This statement takes a Boolean Condition output of which if True, further program executes. if output of assert statement is False it raises an Assertion Error."
   ]
  },
  {
   "cell_type": "markdown",
   "id": "fccac8ae-e294-4a00-90de-0cdc2e20044c",
   "metadata": {},
   "source": [
    "<h3>Q5. Why do you no longer use string-based exceptions?</h3>"
   ]
  },
  {
   "cell_type": "markdown",
   "id": "cf1beef6-f2cd-40a7-878c-d060cce6f1d8",
   "metadata": {},
   "source": [
    "String-based Exceptions doesn't inherit from Exceptions. so plain exceptions catch all exceptions and not only system."
   ]
  },
  {
   "cell_type": "code",
   "execution_count": null,
   "id": "c5eb588c-5c80-4b3c-8eef-7aad1dd04ee8",
   "metadata": {},
   "outputs": [],
   "source": []
  }
 ],
 "metadata": {
  "kernelspec": {
   "display_name": "Python 3 (ipykernel)",
   "language": "python",
   "name": "python3"
  },
  "language_info": {
   "codemirror_mode": {
    "name": "ipython",
    "version": 3
   },
   "file_extension": ".py",
   "mimetype": "text/x-python",
   "name": "python",
   "nbconvert_exporter": "python",
   "pygments_lexer": "ipython3",
   "version": "3.9.13"
  }
 },
 "nbformat": 4,
 "nbformat_minor": 5
}
