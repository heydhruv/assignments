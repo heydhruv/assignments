{
 "cells": [
  {
   "cell_type": "markdown",
   "id": "fed1ac7c-9fc3-43f9-a9f7-687b1c278003",
   "metadata": {},
   "source": [
    "1. Write a Python program to find words which are greater than given length k?"
   ]
  },
  {
   "cell_type": "code",
   "execution_count": 2,
   "id": "96678c3f-e44f-4191-9035-49e1b4cb73ce",
   "metadata": {},
   "outputs": [
    {
     "name": "stdin",
     "output_type": "stream",
     "text": [
      "Enter the string:  dhruv\n",
      "Enter the length of the string:  9\n"
     ]
    },
    {
     "name": "stdout",
     "output_type": "stream",
     "text": [
      "\n"
     ]
    }
   ],
   "source": [
    "def checkLengthOfString():\n",
    "    in_string = input(\"Enter the string: \")\n",
    "    in_length = int(input('Enter the length of the string: '))\n",
    "    out_string = []\n",
    "    for string in in_string.split(\" \"):\n",
    "        if len(string) > in_length:\n",
    "            out_string.append(string)\n",
    "    print(','.join(out_string))\n",
    "\n",
    "checkLengthOfString()"
   ]
  },
  {
   "cell_type": "markdown",
   "id": "0b09f34f-abee-4517-a480-fce8187874a3",
   "metadata": {},
   "source": [
    "2. Write a Python program for removing i-th character from a string?"
   ]
  },
  {
   "cell_type": "code",
   "execution_count": 5,
   "id": "e663a435-1e22-4e39-93b9-041a16c3379e",
   "metadata": {},
   "outputs": [
    {
     "name": "stdin",
     "output_type": "stream",
     "text": [
      "enter string dhruv\n",
      "ith 2\n"
     ]
    },
    {
     "name": "stdout",
     "output_type": "stream",
     "text": [
      "dhuv\n"
     ]
    }
   ],
   "source": [
    "def iremove():\n",
    "    s=input(\"enter string\")\n",
    "    ith=int(input(\"ith\"))\n",
    "    out_string = ''\n",
    "    for ele in range(len(s)):\n",
    "        if ele != ith:\n",
    "            out_string = out_string + s[ele]\n",
    "    print(out_string)\n",
    "iremove()    "
   ]
  },
  {
   "cell_type": "markdown",
   "id": "0f0c38db-11f2-4788-b360-f5962c7e1d7c",
   "metadata": {},
   "source": [
    "3. Write a Python program to split and join a string?"
   ]
  },
  {
   "cell_type": "code",
   "execution_count": 6,
   "id": "aa331a73-9f2d-433a-bfba-cbb3bb136ae2",
   "metadata": {},
   "outputs": [
    {
     "name": "stdin",
     "output_type": "stream",
     "text": [
      "Enter the string:  dhruv dave\n"
     ]
    },
    {
     "name": "stdout",
     "output_type": "stream",
     "text": [
      "Split String: ['dhruv', 'dave']\n",
      "Join String: dhruv dave\n"
     ]
    }
   ],
   "source": [
    "def splitJoinString():\n",
    "    s = input('Enter the string: ')\n",
    "    print(f\"Split String: {s.split(' ')}\")\n",
    "    print(f\"Join String: {' '.join(s.split(' '))}\")\n",
    "\n",
    "splitJoinString()\n"
   ]
  },
  {
   "cell_type": "markdown",
   "id": "3d4ae9d6-257f-41de-83e9-0e9338c4affb",
   "metadata": {},
   "source": [
    "4. Write a Python to check if a given string is binary string or not?"
   ]
  },
  {
   "cell_type": "code",
   "execution_count": 7,
   "id": "985e0553-5bc7-47a4-a0a9-3c3e1833ed2d",
   "metadata": {},
   "outputs": [
    {
     "name": "stdin",
     "output_type": "stream",
     "text": [
      "Enter the string:  101010101\n"
     ]
    },
    {
     "name": "stdout",
     "output_type": "stream",
     "text": [
      "101010101 is a binary string\n"
     ]
    }
   ],
   "source": [
    "def checkBinary():\n",
    "    s = input('Enter the string: ')\n",
    "    stun = 0\n",
    "    for ele in s:\n",
    "        if ele in ['0','1']:\n",
    "            stun = 1\n",
    "            continue\n",
    "        else:\n",
    "            stun = 0\n",
    "            break\n",
    "    statement = 'is a binary string' if stun == 1 else 'is not a binart string' \n",
    "    print(f'{s} {statement}')\n",
    "\n",
    "checkBinary()"
   ]
  },
  {
   "cell_type": "markdown",
   "id": "612f68c3-95df-4c6a-9a73-3d6f29b6a32a",
   "metadata": {},
   "source": [
    "5. Write a Python program to find uncommon words from two Strings?"
   ]
  },
  {
   "cell_type": "code",
   "execution_count": 8,
   "id": "f00ac715-c43d-4b7a-a8a9-e014518db162",
   "metadata": {},
   "outputs": [
    {
     "name": "stdin",
     "output_type": "stream",
     "text": [
      "Enter the String 1:  machine learning\n",
      "Enter the String 2:  deep learning\n"
     ]
    },
    {
     "name": "stdout",
     "output_type": "stream",
     "text": [
      "{'deep', 'machine'}\n"
     ]
    }
   ],
   "source": [
    "def unCommonWords():\n",
    "    in_string_1 = set(input(\"Enter the String 1: \").split(' '))\n",
    "    in_string_2 = set(input(\"Enter the String 2: \").split(' '))\n",
    "    out_string = (in_string_1.union(in_string_2)).difference(in_string_1.intersection(in_string_2))\n",
    "    print(out_string)\n",
    "\n",
    "unCommonWords()"
   ]
  },
  {
   "cell_type": "markdown",
   "id": "0dd4ddf8-99ba-44ff-9bdb-a202a94f38f6",
   "metadata": {},
   "source": [
    "6. Write a Python to find all duplicate characters in string?"
   ]
  },
  {
   "cell_type": "code",
   "execution_count": 10,
   "id": "82f21ba2-0b49-4376-b99f-e12c2f16db04",
   "metadata": {},
   "outputs": [
    {
     "data": {
      "text/plain": [
       "{' ', 'a', 'e', 'g', 'i', 'l', 'n', 'r'}"
      ]
     },
     "execution_count": 10,
     "metadata": {},
     "output_type": "execute_result"
    }
   ],
   "source": [
    "def find_dup_char(inp):\n",
    "    x=filter(lambda x:inp.count(x)>=2,inp)\n",
    "    return set(x)\n",
    "find_dup_char('machine learning deep learning')\n",
    "        "
   ]
  },
  {
   "cell_type": "markdown",
   "id": "5a67fc0b-623d-4e83-bb3d-d24cc1bc6887",
   "metadata": {},
   "source": [
    "7. Write a Python Program to check if a string contains any special character?"
   ]
  },
  {
   "cell_type": "code",
   "execution_count": 14,
   "id": "8b445703-20a9-4683-ae43-d3a297bc8f8f",
   "metadata": {},
   "outputs": [
    {
     "name": "stdin",
     "output_type": "stream",
     "text": [
      "enter dhruv@dave\n"
     ]
    },
    {
     "name": "stdout",
     "output_type": "stream",
     "text": [
      "['@']\n"
     ]
    }
   ],
   "source": [
    "def checkSpecialChar():\n",
    "    spl=[]\n",
    "    spl_chars = '[@_!#$%^&*()<>?/\\|}{~:]'\n",
    "    inp=input(\"enter\")\n",
    "    for i in inp:\n",
    "        if i in spl_chars:\n",
    "            spl=spl.append(i)\n",
    "    print(spl)\n",
    "checkSpecialChar()"
   ]
  },
  {
   "cell_type": "code",
   "execution_count": null,
   "id": "b48cdbf0-9fe7-4d6b-a1e5-54d9a85de621",
   "metadata": {},
   "outputs": [],
   "source": []
  }
 ],
 "metadata": {
  "kernelspec": {
   "display_name": "Python 3",
   "language": "python",
   "name": "python3"
  },
  "language_info": {
   "codemirror_mode": {
    "name": "ipython",
    "version": 3
   },
   "file_extension": ".py",
   "mimetype": "text/x-python",
   "name": "python",
   "nbconvert_exporter": "python",
   "pygments_lexer": "ipython3",
   "version": "3.8.8"
  }
 },
 "nbformat": 4,
 "nbformat_minor": 5
}
