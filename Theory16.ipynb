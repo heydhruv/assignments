{
 "cells": [
  {
   "cell_type": "markdown",
   "id": "c4223260-bf35-4993-94c0-45251c8d9351",
   "metadata": {},
   "source": [
    "<h3>1. Create a list called years_list, starting with the year of your birth, and each year thereafter until\n",
    "the year of your fifth birthday. For example, if you were born in 1980. the list would be years_list =\n",
    "[1980, 1981, 1982, 1983, 1984, 1985].</h3>"
   ]
  },
  {
   "cell_type": "code",
   "execution_count": 3,
   "id": "6a4eadd8-dd8a-4a56-bd4d-fa7fa004be8f",
   "metadata": {},
   "outputs": [
    {
     "name": "stdout",
     "output_type": "stream",
     "text": [
      "[2001, 2002, 2003, 2004, 2005]\n"
     ]
    }
   ],
   "source": [
    "years_list=[i for i in range(2001,2006)]\n",
    "    \n",
    "print( years_list)    "
   ]
  },
  {
   "cell_type": "markdown",
   "id": "4b91101f-e362-4ecc-b68a-b2814d3c7668",
   "metadata": {},
   "source": [
    "<h3>2. In which year in years_list was your third birthday? Remember, you were 0 years of age for your\n",
    "first year.</h3>"
   ]
  },
  {
   "cell_type": "code",
   "execution_count": 4,
   "id": "df84fbf0-6f2c-4fd6-811a-911d37bdf606",
   "metadata": {},
   "outputs": [
    {
     "data": {
      "text/plain": [
       "[2004]"
      ]
     },
     "execution_count": 4,
     "metadata": {},
     "output_type": "execute_result"
    }
   ],
   "source": [
    " years_list[3:4]"
   ]
  },
  {
   "cell_type": "markdown",
   "id": "22c87f8b-0f69-47fb-9c6d-c37c69bfa328",
   "metadata": {},
   "source": [
    "<h3>3.In the years list, which year were you the oldest?</h3>"
   ]
  },
  {
   "cell_type": "code",
   "execution_count": 5,
   "id": "9bc1d02e-2942-4c70-9553-49b532739ca0",
   "metadata": {},
   "outputs": [
    {
     "data": {
      "text/plain": [
       "2005"
      ]
     },
     "execution_count": 5,
     "metadata": {},
     "output_type": "execute_result"
    }
   ],
   "source": [
    "years_list[-1]"
   ]
  },
  {
   "cell_type": "markdown",
   "id": "e7d3655b-6a02-4752-80e7-013d2f9799fb",
   "metadata": {},
   "source": [
    "<h3>4. Make a list called things with these three strings as elements: &quot;mozzarella&quot;, &quot;cinderella&quot;,\n",
    "&quot;salmonella&quot;.</h3>"
   ]
  },
  {
   "cell_type": "code",
   "execution_count": 6,
   "id": "637d874e-6a7e-4482-b766-e603fab4cea1",
   "metadata": {},
   "outputs": [],
   "source": [
    "things=[\"mozzarella\", \"cinderella\", \"salmonella\"]"
   ]
  },
  {
   "cell_type": "markdown",
   "id": "55e605f0-0f86-4dab-8c83-f837281272b0",
   "metadata": {},
   "source": [
    "<h3>5. Capitalize the element in things that refers to a person and then print the list. Did it change the\n",
    "element in the list?</h3>"
   ]
  },
  {
   "cell_type": "code",
   "execution_count": 10,
   "id": "eb8b69c6-ba18-422f-b8ab-15cf29009ca6",
   "metadata": {},
   "outputs": [
    {
     "name": "stdout",
     "output_type": "stream",
     "text": [
      "['mozzarella', 'Cinderella', 'salmonella']\n"
     ]
    }
   ],
   "source": [
    "for i in range(len(things)):\n",
    "    if things[i]=='cinderella':\n",
    "        things[i]=things[i].capitalize()\n",
    "print(things)    "
   ]
  },
  {
   "cell_type": "markdown",
   "id": "2451c59a-b467-464a-b5b3-9ee3d5f10c5c",
   "metadata": {},
   "source": [
    "<h3>6. Make a surprise list with the elements &quot;Groucho,&quot; &quot;Chico,&quot; and &quot;Harpo.&quot;</h3>"
   ]
  },
  {
   "cell_type": "code",
   "execution_count": 11,
   "id": "cca2b2da-70bd-486c-a16a-330bf268ffa8",
   "metadata": {},
   "outputs": [],
   "source": [
    "surprise_list=[\"Groucho\" ,\"Chico\" ,\"Harpo\"]"
   ]
  },
  {
   "cell_type": "markdown",
   "id": "7afa1e2c-e09a-4fed-92f8-d1d628074e53",
   "metadata": {},
   "source": [
    "<h3>7. Lowercase the last element of the surprise list, reverse it, and then capitalize it.</h3>"
   ]
  },
  {
   "cell_type": "code",
   "execution_count": 15,
   "id": "9cd46224-5edd-4b79-b753-ae99e47b8e6c",
   "metadata": {},
   "outputs": [
    {
     "name": "stdout",
     "output_type": "stream",
     "text": [
      "Oprah\n"
     ]
    }
   ],
   "source": [
    "print(surprise_list[-1].lower()[::-1].capitalize())"
   ]
  },
  {
   "cell_type": "markdown",
   "id": "a132f286-dea5-4220-8802-7156bccef337",
   "metadata": {},
   "source": [
    "<h3>8. Make an English-to-French dictionary called e2f and print it. Here are your starter words: dog is\n",
    "chien, cat is chat, and walrus is morse.</h3>"
   ]
  },
  {
   "cell_type": "code",
   "execution_count": 16,
   "id": "5364e5d7-449a-4e4c-b74e-93f382aefba4",
   "metadata": {},
   "outputs": [],
   "source": [
    "e2f={'dog':'chien','cat':'chat','walrus':'morse'}"
   ]
  },
  {
   "cell_type": "markdown",
   "id": "93e296ab-5724-413c-8aaf-fad8cf680814",
   "metadata": {},
   "source": [
    "<h3>9. Write the French word for walrus in your three-word dictionary e2f.</h3>"
   ]
  },
  {
   "cell_type": "code",
   "execution_count": 17,
   "id": "79e3d59d-9b94-450b-b068-2c738df8af9d",
   "metadata": {},
   "outputs": [
    {
     "data": {
      "text/plain": [
       "'morse'"
      ]
     },
     "execution_count": 17,
     "metadata": {},
     "output_type": "execute_result"
    }
   ],
   "source": [
    "e2f['walrus']"
   ]
  },
  {
   "cell_type": "markdown",
   "id": "0c4b4e05-9fe0-4c25-9e4f-1da7608e7897",
   "metadata": {},
   "source": [
    "<h3>10. Make a French-to-English dictionary called f2e from e2f. Use the items method.</h3>"
   ]
  },
  {
   "cell_type": "code",
   "execution_count": 22,
   "id": "bb211767-14dc-4170-a96a-98f16d3d9567",
   "metadata": {},
   "outputs": [
    {
     "data": {
      "text/plain": [
       "{'chien': 'dog', 'chat': 'cat', 'morse': 'walrus'}"
      ]
     },
     "execution_count": 22,
     "metadata": {},
     "output_type": "execute_result"
    }
   ],
   "source": [
    "f2e=dict([ele[::-1] for ele in e2f.items() ])\n",
    "f2e"
   ]
  },
  {
   "cell_type": "markdown",
   "id": "2af8ac7a-c5f0-4eef-afa9-d43c07d8131d",
   "metadata": {},
   "source": [
    "<h3>11. Print the English version of the French word chien using f2e.</h3>"
   ]
  },
  {
   "cell_type": "code",
   "execution_count": 23,
   "id": "9518e5e0-f500-4c1e-a002-1dd42f001d02",
   "metadata": {},
   "outputs": [
    {
     "data": {
      "text/plain": [
       "'dog'"
      ]
     },
     "execution_count": 23,
     "metadata": {},
     "output_type": "execute_result"
    }
   ],
   "source": [
    "f2e.get('chien')"
   ]
  },
  {
   "cell_type": "markdown",
   "id": "60000747-0fb9-4aac-9d43-aba490f6c1ab",
   "metadata": {},
   "source": [
    "<h3>12. Make and print a set of English words from the keys in e2f.</h3>"
   ]
  },
  {
   "cell_type": "code",
   "execution_count": 25,
   "id": "4eb50320-b037-4091-8379-d270bb73e525",
   "metadata": {},
   "outputs": [
    {
     "data": {
      "text/plain": [
       "{'cat', 'dog', 'walrus'}"
      ]
     },
     "execution_count": 25,
     "metadata": {},
     "output_type": "execute_result"
    }
   ],
   "source": [
    "set(e2f.keys())"
   ]
  },
  {
   "cell_type": "markdown",
   "id": "7c6e82e6-f969-4f61-9a83-559174d093f5",
   "metadata": {},
   "source": [
    "<h3>13. Make a multilevel dictionary called life. Use these strings for the topmost keys: &#39;animals&#39;, &#39;plants&#39;,\n",
    "and &#39;other&#39;. Make the &#39;animals&#39; key refer to another dictionary with the keys &#39;cats&#39;, &#39;octopi&#39;, and\n",
    "&#39;emus&#39;. Make the &#39;cats&#39; key refer to a list of strings with the values &#39;Henri&#39;, &#39;Grumpy&#39;, and &#39;Lucy&#39;.\n",
    "Make all the other keys refer to empty dictionaries.</h3>"
   ]
  },
  {
   "cell_type": "code",
   "execution_count": 26,
   "id": "757bfefb-ff69-4dae-a9d6-e7b14621a94f",
   "metadata": {},
   "outputs": [
    {
     "data": {
      "text/plain": [
       "{'animals': {'cats': ['Henri', 'Grumpy', 'Lucy'],\n",
       "  'octopi': ['Henri', 'Grumpy', 'Lucy'],\n",
       "  'emus': ['Henri', 'Grumpy', 'Lucy']},\n",
       " 'plants': {},\n",
       " 'other': {}}"
      ]
     },
     "execution_count": 26,
     "metadata": {},
     "output_type": "execute_result"
    }
   ],
   "source": [
    "life={'animals':{'cats':['Henri', 'Grumpy','Lucy'],'octopi':['Henri', 'Grumpy','Lucy'],'emus':['Henri', 'Grumpy','Lucy']},'plants':{},'other':{}}\n",
    "life"
   ]
  },
  {
   "cell_type": "markdown",
   "id": "b7c443f9-718b-4175-b540-c53e3f5b5201",
   "metadata": {},
   "source": [
    "<h3>14. Print the top-level keys of life.</h3>"
   ]
  },
  {
   "cell_type": "code",
   "execution_count": 30,
   "id": "c72beeb9-80d0-4b2c-888b-cfb34a3fc0aa",
   "metadata": {},
   "outputs": [
    {
     "name": "stdout",
     "output_type": "stream",
     "text": [
      "dict_keys(['animals', 'plants', 'other'])\n"
     ]
    }
   ],
   "source": [
    "print(life.keys())"
   ]
  },
  {
   "cell_type": "markdown",
   "id": "86889041-e0a2-4f19-866f-5400e72ddc38",
   "metadata": {},
   "source": [
    "<h3>15. Print the keys for life[&#39;animals&#39;].</h3>"
   ]
  },
  {
   "cell_type": "code",
   "execution_count": 31,
   "id": "17d69a44-d4f1-48c4-a5b7-063b228dd7e6",
   "metadata": {},
   "outputs": [
    {
     "data": {
      "text/plain": [
       "dict_keys(['cats', 'octopi', 'emus'])"
      ]
     },
     "execution_count": 31,
     "metadata": {},
     "output_type": "execute_result"
    }
   ],
   "source": [
    "life['animals'].keys()"
   ]
  },
  {
   "cell_type": "markdown",
   "id": "6485b54e-da79-4ce3-b8cb-09d61e4c9b5a",
   "metadata": {},
   "source": [
    "<h3>16. Print the values for life[&#39;animals&#39;][&#39;cats&#39;]</h3>"
   ]
  },
  {
   "cell_type": "code",
   "execution_count": 34,
   "id": "07134c37-3455-40f9-9426-b41575e81b4a",
   "metadata": {},
   "outputs": [
    {
     "data": {
      "text/plain": [
       "['Henri', 'Grumpy', 'Lucy']"
      ]
     },
     "execution_count": 34,
     "metadata": {},
     "output_type": "execute_result"
    }
   ],
   "source": [
    "life['animals']['cats']"
   ]
  },
  {
   "cell_type": "code",
   "execution_count": null,
   "id": "b0717f41-1bbd-46eb-ac84-17ffb06f9338",
   "metadata": {},
   "outputs": [],
   "source": []
  }
 ],
 "metadata": {
  "kernelspec": {
   "display_name": "Python 3",
   "language": "python",
   "name": "python3"
  },
  "language_info": {
   "codemirror_mode": {
    "name": "ipython",
    "version": 3
   },
   "file_extension": ".py",
   "mimetype": "text/x-python",
   "name": "python",
   "nbconvert_exporter": "python",
   "pygments_lexer": "ipython3",
   "version": "3.8.8"
  }
 },
 "nbformat": 4,
 "nbformat_minor": 5
}
