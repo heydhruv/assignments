{
 "cells": [
  {
   "cell_type": "markdown",
   "id": "31d0cc37-e9dd-4967-ac59-286964691a0e",
   "metadata": {},
   "source": [
    "<h3>Q1. What is the concept of a metaclass?</h3>"
   ]
  },
  {
   "cell_type": "markdown",
   "id": "ac84e323-7906-4f88-8385-cc571624dbc7",
   "metadata": {},
   "source": [
    " Metaclass in Python is a class of a class that defines how a class behaves. A class is itself a instance of Metaclass, and any Instance of Class in Python is an Instance of type metaclass. E.g. Type of of int, str, float, list, tuple and many more is of metaclass type."
   ]
  },
  {
   "cell_type": "markdown",
   "id": "44b2967a-ef8c-4e4e-88b0-8e546f79db4e",
   "metadata": {},
   "source": [
    "<h3>Q2. What is the best way to declare a class&#39;s metaclass?</h3>"
   ]
  },
  {
   "cell_type": "markdown",
   "id": "905a6577-bc2e-4220-acb9-5b52e364afa1",
   "metadata": {},
   "source": [
    "A way to declare a class’ metaclass is by using metaclass keyword in class definition"
   ]
  },
  {
   "cell_type": "markdown",
   "id": "20e4185d-be7f-4135-b3f6-4a1bd89e95cf",
   "metadata": {},
   "source": [
    "<h3>Q3. How do class decorators overlap with metaclasses for handling classes?</h3>"
   ]
  },
  {
   "cell_type": "markdown",
   "id": "41b7fa37-634f-4ffa-b222-9abacbe27968",
   "metadata": {},
   "source": [
    "Anything you can do with a class decorator, you can of course do with a custom metaclasses (just apply the functionality of the \"decorator function\", i.e., the one that takes a class object and modifies it, in the course of the metaclass's __new__ or __init__ that make the class object!)."
   ]
  },
  {
   "cell_type": "markdown",
   "id": "777145a2-8038-4d54-91e4-c29504c66911",
   "metadata": {},
   "source": [
    "<h3>Q4. How do class decorators overlap with metaclasses for handling instances?</h3>"
   ]
  },
  {
   "cell_type": "markdown",
   "id": "76daa1c7-6d0e-42b6-a2c0-d1ffec4637a4",
   "metadata": {},
   "source": [
    "Anything you can do with a class decorator, you can of course do with a custom metaclasses (just apply the functionality of the \"decorator function\", i.e., the one that takes a class object and modifies it, in the course of the metaclass's new or init that make the class object!)."
   ]
  },
  {
   "cell_type": "code",
   "execution_count": null,
   "id": "0da9040e-d677-4f35-8368-0ea7f1ce9ac5",
   "metadata": {},
   "outputs": [],
   "source": []
  }
 ],
 "metadata": {
  "kernelspec": {
   "display_name": "Python 3 (ipykernel)",
   "language": "python",
   "name": "python3"
  },
  "language_info": {
   "codemirror_mode": {
    "name": "ipython",
    "version": 3
   },
   "file_extension": ".py",
   "mimetype": "text/x-python",
   "name": "python",
   "nbconvert_exporter": "python",
   "pygments_lexer": "ipython3",
   "version": "3.9.13"
  }
 },
 "nbformat": 4,
 "nbformat_minor": 5
}
