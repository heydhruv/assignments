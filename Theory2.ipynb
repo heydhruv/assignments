{
 "cells": [
  {
   "cell_type": "markdown",
   "id": "1140c882-9ac7-4815-86de-78896a3a7bf8",
   "metadata": {},
   "source": [
    "<h1>assignment 2 python basic</h1>"
   ]
  },
  {
   "cell_type": "markdown",
   "id": "441d9e3a-0efb-4160-aceb-16d814bee572",
   "metadata": {},
   "source": [
    "<h3>1.What are the two values of the Boolean data type? How do you write them?</h3>\n",
    "\n",
    "<p>ans-: two values are True and False , you write them like True , False</p>"
   ]
  },
  {
   "cell_type": "markdown",
   "id": "584a0a26-5d55-46e1-aadb-9c5e097741d3",
   "metadata": {},
   "source": [
    "<h3>2-What are the three different types of Boolean operators?</h3>\n",
    "<p>ams-: comparison operatos and logical operatos</p>"
   ]
  },
  {
   "cell_type": "markdown",
   "id": "7dec02f5-96b9-41a2-bebf-00767a4c3fec",
   "metadata": {},
   "source": [
    "<h3>3-Make a list of each Boolean operator&#39;s truth tables (i.e. every possible combination of Boolean\n",
    "values for the operator and what it evaluate ).</h3>\n",
    "\n",
    "<p>ans-:1\"==\"if x and y are both true of false then returns true,2 \"and\" if both x,y are true then true else false,3 \"or\"if x or y one of them is true then true else false,4 \"not\" if true then false if false then true</p>"
   ]
  },
  {
   "cell_type": "markdown",
   "id": "173102c8-a675-49e7-a2b8-b77985e99b02",
   "metadata": {},
   "source": [
    "<h3>4-: What are the values of the following expressions?\n",
    "(5 &gt; 4) and (3 == 5) ,\n",
    "not (5 &gt; 4),\n",
    "(5 &gt; 4) or (3 == 5),\n",
    "not ((5 &gt; 4) or (3 == 5)),\n",
    "(True and True) and (True == False),\n",
    "(not False) or (not True)</h3>\n",
    "\n",
    "<p>1=false,2=false,3=true,4=false,5=false,6=true</p>"
   ]
  },
  {
   "cell_type": "markdown",
   "id": "c36f7f6b-bd40-4bc6-abf7-1de40538982b",
   "metadata": {},
   "source": [
    "<h3>5. What are the six comparison operators?</h3>\n",
    "\n",
    "<h4>\"==\"</h4>\n",
    "<h4>\">=\"</h4>\n",
    "<h4>\"<=\"</h4>\n",
    "<h4>\"!=\"</h4>\n",
    "<h4>\">\"</h4>\n",
    "<h4>\"<\"</h4>"
   ]
  },
  {
   "cell_type": "markdown",
   "id": "ce3989fd-8e2b-4509-a64c-78fb2827ce13",
   "metadata": {},
   "source": [
    "<h3>6. How do you tell the difference between the equal to and assignment operators?Describe a\n",
    "condition and when you would use one.</h3>\n",
    "\n",
    "<p>equal to operator looks for memory of both left and right side compares it if same element then returns true where as assignmnt operator is used to assign value on right to left side</p>"
   ]
  },
  {
   "cell_type": "markdown",
   "id": "1a191620-7ba9-414b-964c-31d1738069c3",
   "metadata": {},
   "source": [
    "<h3>7. Identify the three blocks in this code:\n",
    "spam = 0\n",
    "if spam == 10:\n",
    "print(&#39;eggs&#39;)\n",
    "if spam &gt; 5:\n",
    "print(&#39;bacon&#39;)\n",
    "else:\n",
    "print(&#39;ham&#39;)\n",
    "print(&#39;spam&#39;)\n",
    "print(&#39;spam&#39;)</h3>\n",
    "\n",
    "\n",
    "<p>first block=\"if spam == 10:\n",
    "print(&#39;eggs&#39;)\",second block=\"if spam &gt; 5:\n",
    "print(&#39;bacon&#39;)\",third block=\"else:\n",
    "print(&#39;ham&#39;)\n",
    "print(&#39;spam&#39;)\n",
    "print(&#39;spam&#39;)\"</p>"
   ]
  },
  {
   "cell_type": "markdown",
   "id": "f021fde2-b2e0-4d2b-af78-ebc5fec32a9a",
   "metadata": {},
   "source": [
    "<h3>8. Write code that prints Hello if 1 is stored in spam, prints Howdy if 2 is stored in spam, and prints\n",
    "Greetings! if anything else is stored in spam.</h3>"
   ]
  },
  {
   "cell_type": "code",
   "execution_count": 3,
   "id": "7054f4f0-09d9-4979-9492-108e811a9ad1",
   "metadata": {},
   "outputs": [
    {
     "name": "stdout",
     "output_type": "stream",
     "text": [
      "hello\n"
     ]
    }
   ],
   "source": [
    "spam=1\n",
    "if spam==1:\n",
    "    print(\"hello\")\n",
    "elif spam==2:\n",
    "    print(\"howdy\")\n",
    "else:\n",
    "    print(\"greetings\")"
   ]
  },
  {
   "cell_type": "markdown",
   "id": "36b7da23-ffe3-495e-8598-18bca2f9348b",
   "metadata": {},
   "source": [
    "<h3>9.If your programme is stuck in an endless loop, what keys you’ll press?</h3>\n",
    "\n",
    "<h3>ans=CTRL+c</h3>"
   ]
  },
  {
   "cell_type": "markdown",
   "id": "25643181-34f0-4c80-a1c9-55d98b9f07a1",
   "metadata": {},
   "source": [
    "<h3>10. How can you tell the difference between break and continue?</h3>\n",
    "\n",
    "<p>continue will skip or stop currunt iteration if condition true and go to next iteration and break will stop all the iteration after the condition is true</p>"
   ]
  },
  {
   "cell_type": "code",
   "execution_count": 4,
   "id": "c8688dc4-14ae-4db3-90cb-a1336090b420",
   "metadata": {},
   "outputs": [
    {
     "name": "stdout",
     "output_type": "stream",
     "text": [
      "0\n",
      "1\n",
      "2\n",
      "3\n",
      "4\n",
      "6\n",
      "7\n",
      "8\n",
      "9\n"
     ]
    }
   ],
   "source": [
    "a=10\n",
    "for i in range(a):\n",
    "    if i==5:\n",
    "        continue\n",
    "        \n",
    "    print(i)"
   ]
  },
  {
   "cell_type": "code",
   "execution_count": 5,
   "id": "1b71192c-903d-4567-8ba2-2265a7c9755f",
   "metadata": {},
   "outputs": [
    {
     "name": "stdout",
     "output_type": "stream",
     "text": [
      "0\n",
      "1\n",
      "2\n",
      "3\n",
      "4\n"
     ]
    }
   ],
   "source": [
    "a=10\n",
    "for i in range(a):\n",
    "    if i==5:\n",
    "        break\n",
    "        \n",
    "    print(i)"
   ]
  },
  {
   "cell_type": "markdown",
   "id": "3b9cddb6-6af6-427d-bf95-f121a00ca07c",
   "metadata": {},
   "source": [
    "<h3>11. In a for loop, what is the difference between range(10), range(0, 10), and range(0, 10, 1)?</h3>"
   ]
  },
  {
   "cell_type": "markdown",
   "id": "586646b9-ea58-452b-a3c3-18f29c12b1d1",
   "metadata": {},
   "source": [
    "<p>all will give same output but different args are given range(10)is iter till 10 ,range(0,10) where 0 is start point and 10 is end before,range(0,10,1)here 1 is for jump</p>"
   ]
  },
  {
   "cell_type": "markdown",
   "id": "84c00f0f-d0e5-4c38-bea1-a99b92502694",
   "metadata": {},
   "source": [
    "<h3>12. Write a short program that prints the numbers 1 to 10 using a for loop. Then write an equivalent\n",
    "program that prints the numbers 1 to 10 using a while loop.</h3>"
   ]
  },
  {
   "cell_type": "code",
   "execution_count": 10,
   "id": "23229ea5-7887-4f32-add4-3fe74cdceec7",
   "metadata": {},
   "outputs": [
    {
     "name": "stdout",
     "output_type": "stream",
     "text": [
      "1\n",
      "2\n",
      "3\n",
      "4\n",
      "5\n",
      "6\n",
      "7\n",
      "8\n",
      "9\n",
      "10\n"
     ]
    }
   ],
   "source": [
    "for i in range(1,11):\n",
    "    print(i)"
   ]
  },
  {
   "cell_type": "code",
   "execution_count": 1,
   "id": "0f0b736f-5c6b-4ac9-bb11-d890f42c1195",
   "metadata": {},
   "outputs": [
    {
     "name": "stdout",
     "output_type": "stream",
     "text": [
      "1\n",
      "2\n",
      "3\n",
      "4\n",
      "5\n",
      "6\n",
      "7\n",
      "8\n",
      "9\n",
      "10\n"
     ]
    }
   ],
   "source": [
    "a=1\n",
    "while a<=10:\n",
    "    print(a)\n",
    "    a+=1"
   ]
  },
  {
   "cell_type": "markdown",
   "id": "433b1368-f5bb-419a-90b2-79dc831a43e0",
   "metadata": {},
   "source": [
    "<h3>13. If you had a function named bacon() inside a module named spam, how would you call it after\n",
    "importing spam?</h3>"
   ]
  },
  {
   "cell_type": "markdown",
   "id": "a55a6060-4be8-4f0c-ab67-b8ed7c35546f",
   "metadata": {},
   "source": [
    "<h3>spam.bacon()</h3>"
   ]
  },
  {
   "cell_type": "code",
   "execution_count": null,
   "id": "de43cd80-5051-4a8f-80cb-d732d8a35078",
   "metadata": {},
   "outputs": [],
   "source": []
  }
 ],
 "metadata": {
  "kernelspec": {
   "display_name": "Python 3",
   "language": "python",
   "name": "python3"
  },
  "language_info": {
   "codemirror_mode": {
    "name": "ipython",
    "version": 3
   },
   "file_extension": ".py",
   "mimetype": "text/x-python",
   "name": "python",
   "nbconvert_exporter": "python",
   "pygments_lexer": "ipython3",
   "version": "3.8.8"
  }
 },
 "nbformat": 4,
 "nbformat_minor": 5
}
