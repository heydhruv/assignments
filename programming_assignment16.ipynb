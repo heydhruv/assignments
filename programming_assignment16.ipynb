{
 "cells": [
  {
   "cell_type": "markdown",
   "id": "8e19fe43-f390-4294-a710-6370b832370a",
   "metadata": {},
   "source": [
    "<h1>Question1. Write a function that stutters a word as if someone is struggling to read it. The\n",
    "first two letters are repeated twice with an ellipsis ... and space after each, and then the\n",
    "word is pronounced with a question mark ?.</h1>\n",
    "<p>stutter(&quot;incredible&quot;) ➞ &quot;in... in... incredible?&quot;\n",
    "stutter(&quot;enthusiastic&quot;) ➞ &quot;en... en... enthusiastic?&quot;\n",
    "stutter(&quot;outstanding&quot;) ➞ &quot;ou... ou... outstanding?&quot;</p>"
   ]
  },
  {
   "cell_type": "code",
   "execution_count": 2,
   "id": "27df93d2-76f3-47fd-a680-6d4d97986000",
   "metadata": {},
   "outputs": [
    {
     "name": "stdout",
     "output_type": "stream",
     "text": [
      "in...in...incredible\n"
     ]
    }
   ],
   "source": [
    "def stutter(x):\n",
    "    stu=x[0]+x[1]\n",
    "    print(f\"{stu}...{stu}...{x}\")\n",
    "stutter(\"incredible\")\n",
    "        "
   ]
  },
  {
   "cell_type": "markdown",
   "id": "b97335f8-6f10-4fe2-9cf3-aba38d0c2666",
   "metadata": {},
   "source": [
    "<h1>Question 2.Create a function that takes an angle in radians and returns the corresponding\n",
    "angle in degrees rounded to one decimal place.</h1>\n",
    "<p>radians_to_degrees(1) ➞ 57.3\n",
    "radians_to_degrees(20) ➞ 1145.9\n",
    "radians_to_degrees(50) ➞ 2864.8</p>"
   ]
  },
  {
   "cell_type": "code",
   "execution_count": 4,
   "id": "67aeee06-471f-437f-b7e0-c181436fee03",
   "metadata": {},
   "outputs": [
    {
     "name": "stdout",
     "output_type": "stream",
     "text": [
      "57.3\n"
     ]
    }
   ],
   "source": [
    "def radians_degrees(x):\n",
    "    y= x*180/3.14\n",
    "    print(f\"{y:.1f}\")\n",
    "radians_degrees(1)"
   ]
  },
  {
   "cell_type": "markdown",
   "id": "6ef7fdb8-9bb6-40fd-ab8a-25307c07a126",
   "metadata": {},
   "source": [
    "<h1>Given a non-negative integer num, implement a function that returns True if num is a Curzon\n",
    "number, or False otherwise.</h1>\n",
    "<p>is_curzon(5) ➞ True\n",
    "2 ** 5 + 1 = 33\n",
    " 2 * 5 + 1 = 11\n",
    "33 is a multiple of 11</p>"
   ]
  },
  {
   "cell_type": "code",
   "execution_count": 7,
   "id": "5cca213b-5658-47b0-be4b-c5e80c7787c2",
   "metadata": {},
   "outputs": [
    {
     "name": "stdout",
     "output_type": "stream",
     "text": [
      "False\n"
     ]
    }
   ],
   "source": [
    "def is_curzon(x):\n",
    "    a=2**x+1\n",
    "    b=2*x+1\n",
    "    if a%b==0:\n",
    "        print(True)\n",
    "    else:\n",
    "        print(False)\n",
    "is_curzon(10)        "
   ]
  },
  {
   "cell_type": "markdown",
   "id": "a6974d67-9fbb-4988-9d77-9d745d258ed8",
   "metadata": {},
   "source": [
    "<h1>4.Given the side length x find the area of a hexagon.</h1>\n",
    "<p>area_of_hexagon(1) ➞ 2.6\n",
    "area_of_hexagon(2) ➞ 10.4\n",
    "area_of_hexagon(3) ➞ 23.4</p>"
   ]
  },
  {
   "cell_type": "code",
   "execution_count": 11,
   "id": "9c2e16b4-0502-40ed-9c4d-ef1eed5ada81",
   "metadata": {},
   "outputs": [
    {
     "data": {
      "text/plain": [
       "2.598076211353316"
      ]
     },
     "execution_count": 11,
     "metadata": {},
     "output_type": "execute_result"
    }
   ],
   "source": [
    "def hexa(x):\n",
    "    return (3*3**(1/2)*x**2)/2\n",
    "hexa(1)"
   ]
  },
  {
   "cell_type": "code",
   "execution_count": 12,
   "id": "a86b4b14-3d10-47c0-90ee-52682472fad7",
   "metadata": {},
   "outputs": [
    {
     "name": "stdout",
     "output_type": "stream",
     "text": [
      "2.598076211353316\n"
     ]
    }
   ],
   "source": [
    "a=lambda x:(3*3**(1/2)*x**2)/2\n",
    "print(a(1))"
   ]
  },
  {
   "cell_type": "markdown",
   "id": "bb5aca7d-60f7-41f4-befa-df6e8c1476d9",
   "metadata": {},
   "source": [
    "<h1>Question 5. Create a function that returns a base-2 (binary) representation of a base-10\n",
    "(decimal) string number. To convert is simple: ((2) means base-2 and (10) means base-10)\n",
    "010101001(2) = 1 + 8 + 32 + 128.</h1>\n",
    "<p>binary(1) ➞ &quot;1&quot;\n",
    "1*1 = 1\n",
    "binary(5) ➞ &quot;101&quot;\n",
    "1*1 + 1*4 = 5\n",
    "binary(10) ➞ &quot;1010&quot;\n",
    "1*2 + 1*8 = 10</p>"
   ]
  },
  {
   "cell_type": "code",
   "execution_count": 18,
   "id": "6f6df82c-1fdf-43a6-a680-7265fc247e81",
   "metadata": {},
   "outputs": [
    {
     "data": {
      "text/plain": [
       "'1010'"
      ]
     },
     "execution_count": 18,
     "metadata": {},
     "output_type": "execute_result"
    }
   ],
   "source": [
    "def binary(x):\n",
    "    y=bin(x)\n",
    "    return y[2:]\n",
    "binary(10)"
   ]
  },
  {
   "cell_type": "code",
   "execution_count": null,
   "id": "4c67740d-3775-434c-a3be-c23509b7d405",
   "metadata": {},
   "outputs": [],
   "source": []
  }
 ],
 "metadata": {
  "kernelspec": {
   "display_name": "Python 3 (ipykernel)",
   "language": "python",
   "name": "python3"
  },
  "language_info": {
   "codemirror_mode": {
    "name": "ipython",
    "version": 3
   },
   "file_extension": ".py",
   "mimetype": "text/x-python",
   "name": "python",
   "nbconvert_exporter": "python",
   "pygments_lexer": "ipython3",
   "version": "3.10.6"
  }
 },
 "nbformat": 4,
 "nbformat_minor": 5
}
