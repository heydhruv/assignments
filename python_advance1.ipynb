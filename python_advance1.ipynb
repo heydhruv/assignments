{
 "cells": [
  {
   "cell_type": "markdown",
   "id": "1c60cd6b-f52f-4ba3-bb2f-f942a0d4b025",
   "metadata": {},
   "source": [
    "<h3>What is the purpose of Python&#39;s OOP?</h3>"
   ]
  },
  {
   "cell_type": "markdown",
   "id": "bd44e198-6c7a-4450-b11e-c4b887493e1b",
   "metadata": {},
   "source": [
    "<p>it helps divide all programs into small moduler parts</p>\n",
    "<p>easy maintanace and modification</p>\n",
    "<p>creates reuseable code</p>"
   ]
  },
  {
   "cell_type": "markdown",
   "id": "26592e0f-f9fc-4a1e-afce-258da7fea58f",
   "metadata": {},
   "source": [
    "<h3>Q2. Where does an inheritance search look for an attribute?</h3>"
   ]
  },
  {
   "cell_type": "markdown",
   "id": "54639f41-f1aa-4b7d-a681-73f73d1709c5",
   "metadata": {},
   "source": [
    "first in the instance object, then in the class the instance was created from, then in all higher superclasses, progressing from left to right (by default)"
   ]
  },
  {
   "cell_type": "markdown",
   "id": "c6c192c0-3317-4e5c-89ce-03bbe88b7740",
   "metadata": {},
   "source": [
    "<h3>Q3. How do you distinguish between a class object and an instance object?</h3>"
   ]
  },
  {
   "cell_type": "markdown",
   "id": "25edc3e8-a967-4d91-9498-c9f71fd38431",
   "metadata": {},
   "source": [
    "Object is a generic term , it is physically present but remains undiferrentiated . Instance is something that gives them a separate identity."
   ]
  },
  {
   "cell_type": "markdown",
   "id": "d0fac730-1ef9-4979-b252-48a47bcfecc2",
   "metadata": {},
   "source": [
    "<h3>Q4. What makes the first argument in a class’s method function special?</h3>"
   ]
  },
  {
   "cell_type": "markdown",
   "id": "dcd26bf4-affa-42d0-bce4-e22c0209bf47",
   "metadata": {},
   "source": [
    "because the first arg self passes obj itself and triggers the class"
   ]
  },
  {
   "cell_type": "markdown",
   "id": "cf3ce2b7-0586-41c9-9eb6-1bcae0a9ccd6",
   "metadata": {},
   "source": [
    "<h3>Q5. What is the purpose of the __init__ method?</h3>"
   ]
  },
  {
   "cell_type": "markdown",
   "id": "9e96f84a-d7a9-4390-8d42-e6d8bb2f800f",
   "metadata": {},
   "source": [
    "lets the class initialize the object's attributes and serves no other purpose"
   ]
  },
  {
   "cell_type": "markdown",
   "id": "a89878df-0f16-44d1-9832-6a3c0c21515c",
   "metadata": {},
   "source": [
    "<h3>Q6. What is the process for creating a class instance?</h3>"
   ]
  },
  {
   "cell_type": "markdown",
   "id": "0da6c85f-6693-4693-89ac-ea60129fb193",
   "metadata": {},
   "source": [
    "work=company('ineuron','2017') here work is an instance of class company"
   ]
  },
  {
   "cell_type": "markdown",
   "id": "7b2addad-faab-4ea6-9dc4-0c70e79bd2eb",
   "metadata": {},
   "source": [
    "<h3>Q7. What is the process for creating a class?</h3>"
   ]
  },
  {
   "cell_type": "markdown",
   "id": "d48a0b7c-0c19-4a80-aae4-ed0f249bf52f",
   "metadata": {},
   "source": [
    "class classnamae: "
   ]
  },
  {
   "cell_type": "markdown",
   "id": "81216b59-0289-4bc1-b20f-dc7cf4116134",
   "metadata": {},
   "source": [
    "<h3>Q8. How would you define the superclasses of a class?</h3>"
   ]
  },
  {
   "cell_type": "markdown",
   "id": "cd85cc87-52e8-4a58-b978-44545bf9a61d",
   "metadata": {},
   "source": [
    "class dept(company)- here company is superclass"
   ]
  },
  {
   "cell_type": "code",
   "execution_count": null,
   "id": "44dc1ec7-bd85-4dc0-975c-830794260ba4",
   "metadata": {},
   "outputs": [],
   "source": []
  }
 ],
 "metadata": {
  "kernelspec": {
   "display_name": "Python 3 (ipykernel)",
   "language": "python",
   "name": "python3"
  },
  "language_info": {
   "codemirror_mode": {
    "name": "ipython",
    "version": 3
   },
   "file_extension": ".py",
   "mimetype": "text/x-python",
   "name": "python",
   "nbconvert_exporter": "python",
   "pygments_lexer": "ipython3",
   "version": "3.9.13"
  }
 },
 "nbformat": 4,
 "nbformat_minor": 5
}
