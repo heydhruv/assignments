{
 "cells": [
  {
   "cell_type": "markdown",
   "id": "a0490ce9-2c04-41cc-8f97-423d2b5b856f",
   "metadata": {},
   "source": [
    "<h3>1. What does RGBA stand for?</h3>"
   ]
  },
  {
   "cell_type": "markdown",
   "id": "0fa7d816-23d6-41f0-958a-cde6d5a23352",
   "metadata": {},
   "source": [
    "RGBA(Red-Green-Blue-Alpha)"
   ]
  },
  {
   "cell_type": "markdown",
   "id": "8c9c368a-aa6e-423a-9866-1a2cbb545ed3",
   "metadata": {},
   "source": [
    "<h3>2. From the Pillow module, how do you get the RGBA value of any images?</h3>"
   ]
  },
  {
   "cell_type": "markdown",
   "id": "79109fa9-9e34-432d-bff7-00798caa52cd",
   "metadata": {},
   "source": [
    "ImageColor. getcolor() function "
   ]
  },
  {
   "cell_type": "markdown",
   "id": "1d3f8c54-b8bb-4641-8100-f427e2fa2ece",
   "metadata": {},
   "source": [
    "<h3>3. What is a box tuple, and how does it work?</h3>"
   ]
  },
  {
   "cell_type": "markdown",
   "id": "5645b946-10d7-41a7-94e0-bb860fd216a9",
   "metadata": {},
   "source": [
    "Image pixels are addressed with x- and y-coordinates, which respectively specify a pixel’s horizontal and vertical locations in an image."
   ]
  },
  {
   "cell_type": "markdown",
   "id": "06450e3a-8366-4469-b90e-2060d92becb3",
   "metadata": {},
   "source": [
    "<h3>4. Use your image and load in notebook then, How can you find out the width and height of an\n",
    "Image object?</h3>"
   ]
  },
  {
   "cell_type": "code",
   "execution_count": 2,
   "id": "d054eff7-e260-4713-97e0-071706345889",
   "metadata": {},
   "outputs": [
    {
     "name": "stdout",
     "output_type": "stream",
     "text": [
      "707 563\n",
      "(563, 707)\n"
     ]
    }
   ],
   "source": [
    "from PIL import Image\n",
    "pic = Image.open('suits.jpg')\n",
    "print(pic.height,pic.width)\n",
    "print(pic.size)"
   ]
  },
  {
   "cell_type": "markdown",
   "id": "c3e7a8fb-c17c-4668-bbb5-786b723a3d53",
   "metadata": {},
   "source": [
    "<h3>5. What method would you call to get Image object for a 100×100 image, excluding the lower-left\n",
    "quarter of it?</h3>"
   ]
  },
  {
   "cell_type": "code",
   "execution_count": 3,
   "id": "273cde34-84f8-4632-a43c-911b8ecd1338",
   "metadata": {},
   "outputs": [],
   "source": [
    "img = Image.open('suits.jpg')\n",
    "new_img = img.crop((0,50,50,50))"
   ]
  },
  {
   "cell_type": "markdown",
   "id": "83234c71-1beb-46f6-8391-5e755c20c117",
   "metadata": {},
   "source": [
    "<h3>6. After making changes to an Image object, how could you save it as an image file?</h3>"
   ]
  },
  {
   "cell_type": "code",
   "execution_count": 4,
   "id": "9b38b013-3b52-462e-afcb-bbf1e69aa627",
   "metadata": {},
   "outputs": [],
   "source": [
    "pic = Image.open('suits.jpg')\n",
    "pic.save('suit.jpg')"
   ]
  },
  {
   "cell_type": "markdown",
   "id": "15ce704e-6368-47e2-a025-65f5bcb3d0cd",
   "metadata": {},
   "source": [
    "<h3>7. What module contains Pillow’s shape-drawing code?</h3>"
   ]
  },
  {
   "cell_type": "markdown",
   "id": "6f0ac3bb-bc50-4e7c-a640-147afa3921db",
   "metadata": {},
   "source": [
    "ImageDraw module "
   ]
  },
  {
   "cell_type": "markdown",
   "id": "b81d04ef-a9f8-40a0-b06c-21199a35f36d",
   "metadata": {},
   "source": [
    "<h3>8. Image objects do not have drawing methods. What kind of object does? How do you get this kind\n",
    "of object?</h3>"
   ]
  },
  {
   "cell_type": "markdown",
   "id": "0f0420d2-1cb5-445c-915c-1493929924ad",
   "metadata": {},
   "source": [
    "ImageDraw objects have shape-drawing methods such as point(), line(), or rectangle().They are returned by passing the Image object to the ImageDraw.Draw() function."
   ]
  },
  {
   "cell_type": "code",
   "execution_count": null,
   "id": "3be369c9-ff96-4c92-a777-d6de82756aec",
   "metadata": {},
   "outputs": [],
   "source": []
  }
 ],
 "metadata": {
  "kernelspec": {
   "display_name": "Python 3",
   "language": "python",
   "name": "python3"
  },
  "language_info": {
   "codemirror_mode": {
    "name": "ipython",
    "version": 3
   },
   "file_extension": ".py",
   "mimetype": "text/x-python",
   "name": "python",
   "nbconvert_exporter": "python",
   "pygments_lexer": "ipython3",
   "version": "3.8.8"
  }
 },
 "nbformat": 4,
 "nbformat_minor": 5
}
