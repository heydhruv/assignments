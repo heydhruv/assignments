{
 "cells": [
  {
   "cell_type": "markdown",
   "id": "894db5ad-68a2-4aa9-a524-5be76a0a8965",
   "metadata": {},
   "source": [
    "<h3>1. Write a Python program to print &quot;Hello Python&quot;?</h3>"
   ]
  },
  {
   "cell_type": "code",
   "execution_count": 1,
   "id": "5f11135f-4cfd-4725-a6e9-bf329e887ea9",
   "metadata": {},
   "outputs": [
    {
     "name": "stdout",
     "output_type": "stream",
     "text": [
      "Hello Python\n"
     ]
    }
   ],
   "source": [
    "print(\"Hello Python\")"
   ]
  },
  {
   "cell_type": "markdown",
   "id": "0abeb028-981d-4daf-9da3-fd39d81d2328",
   "metadata": {},
   "source": [
    "<h3>2. Write a Python program to do arithmetical operations addition and division.?</h3>"
   ]
  },
  {
   "cell_type": "code",
   "execution_count": 2,
   "id": "ff1936a5-120d-4c39-8c2c-5af330f47079",
   "metadata": {},
   "outputs": [
    {
     "data": {
      "text/plain": [
       "2"
      ]
     },
     "execution_count": 2,
     "metadata": {},
     "output_type": "execute_result"
    }
   ],
   "source": [
    "1+1"
   ]
  },
  {
   "cell_type": "code",
   "execution_count": 3,
   "id": "c274827d-fa9f-4434-84bb-eb858ba78565",
   "metadata": {},
   "outputs": [
    {
     "data": {
      "text/plain": [
       "2.5"
      ]
     },
     "execution_count": 3,
     "metadata": {},
     "output_type": "execute_result"
    }
   ],
   "source": [
    "5/2"
   ]
  },
  {
   "cell_type": "markdown",
   "id": "fd31ee34-9203-4e40-98da-c77fdc9354c8",
   "metadata": {},
   "source": [
    "<h3>3. Write a Python program to find the area of a triangle?</h3>"
   ]
  },
  {
   "cell_type": "code",
   "execution_count": 4,
   "id": "64cbef0d-5bed-4f49-aecc-70cdbbde8cd2",
   "metadata": {},
   "outputs": [
    {
     "name": "stdout",
     "output_type": "stream",
     "text": [
      "21.0\n"
     ]
    }
   ],
   "source": [
    "height=5\n",
    "base=7\n",
    "area=0.6*height*base\n",
    "print(area)"
   ]
  },
  {
   "cell_type": "markdown",
   "id": "22f9dee8-7db4-4e53-a2d5-43c78936de57",
   "metadata": {},
   "source": [
    "<h3>4. Write a Python program to swap two variables?</h3>"
   ]
  },
  {
   "cell_type": "code",
   "execution_count": 8,
   "id": "d6ac9f3a-829b-460d-82cf-1cd2f9ae1d37",
   "metadata": {},
   "outputs": [
    {
     "name": "stdout",
     "output_type": "stream",
     "text": [
      "20 10\n"
     ]
    }
   ],
   "source": [
    "a=10\n",
    "b=20\n",
    "a=a+b\n",
    "b=a-b\n",
    "a=a-b\n",
    "print(a,b)"
   ]
  },
  {
   "cell_type": "markdown",
   "id": "86f09b69-1089-444f-9d57-7794c8ecf274",
   "metadata": {},
   "source": [
    "<h3>5. Write a Python program to generate a random number?</h3>"
   ]
  },
  {
   "cell_type": "code",
   "execution_count": 9,
   "id": "84f1a369-1407-47c9-9100-f6501642c68a",
   "metadata": {},
   "outputs": [
    {
     "name": "stdout",
     "output_type": "stream",
     "text": [
      "90\n"
     ]
    }
   ],
   "source": [
    "from random import randint\n",
    "a=randint(1,100)\n",
    "print(a)"
   ]
  },
  {
   "cell_type": "code",
   "execution_count": null,
   "id": "b6666379-da14-4db6-ae43-193284981683",
   "metadata": {},
   "outputs": [],
   "source": []
  }
 ],
 "metadata": {
  "kernelspec": {
   "display_name": "Python 3",
   "language": "python",
   "name": "python3"
  },
  "language_info": {
   "codemirror_mode": {
    "name": "ipython",
    "version": 3
   },
   "file_extension": ".py",
   "mimetype": "text/x-python",
   "name": "python",
   "nbconvert_exporter": "python",
   "pygments_lexer": "ipython3",
   "version": "3.8.8"
  }
 },
 "nbformat": 4,
 "nbformat_minor": 5
}
