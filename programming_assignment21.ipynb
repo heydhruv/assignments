{
 "cells": [
  {
   "cell_type": "markdown",
   "id": "419ef95d-a7dc-4982-9ca0-adfd7129c252",
   "metadata": {},
   "source": [
    "<h1>Que 1</h1>"
   ]
  },
  {
   "cell_type": "code",
   "execution_count": 1,
   "id": "06a45b5b-ec8a-43fa-93ff-1c0a29d20c70",
   "metadata": {},
   "outputs": [
    {
     "data": {
      "text/plain": [
       "[2, 3, 4, 5]"
      ]
     },
     "execution_count": 1,
     "metadata": {},
     "output_type": "execute_result"
    }
   ],
   "source": [
    "def next_in_line(x,y):\n",
    "    x.append(y)\n",
    "    x.pop(0)\n",
    "    return x\n",
    "next_in_line([1,2,3,4],5)"
   ]
  },
  {
   "cell_type": "markdown",
   "id": "121f337b-6f09-415c-9d78-81f11bd1a661",
   "metadata": {},
   "source": [
    "<h1>Que 2</h1>"
   ]
  },
  {
   "cell_type": "code",
   "execution_count": 9,
   "id": "2343108d-bcad-4ca3-929c-b6832530ef8a",
   "metadata": {},
   "outputs": [
    {
     "data": {
      "text/plain": [
       "50000"
      ]
     },
     "execution_count": 9,
     "metadata": {},
     "output_type": "execute_result"
    }
   ],
   "source": [
    "def get_budgets(x):\n",
    "    add=0\n",
    "    for i in x:\n",
    "        add+=i[\"budget\"]\n",
    "    return add\n",
    "get_budgets([{\"name\":\"dhruv\",\"budget\":20000},{\"name\":\"jay\",\"budget\":30000}])"
   ]
  },
  {
   "cell_type": "markdown",
   "id": "5fee45f3-fa17-4e08-9c67-545c75a0860e",
   "metadata": {},
   "source": [
    "<h1>Que 3</h1>"
   ]
  },
  {
   "cell_type": "code",
   "execution_count": 15,
   "id": "a5193c98-fc32-48ee-a7cf-cf5521f5630b",
   "metadata": {},
   "outputs": [
    {
     "data": {
      "text/plain": [
       "'eqrtwy'"
      ]
     },
     "execution_count": 15,
     "metadata": {},
     "output_type": "execute_result"
    }
   ],
   "source": [
    "def alphabet_soup(x):\n",
    "    x=''.join(sorted(x))\n",
    "    # x=''.join(x)\n",
    "    return x\n",
    "alphabet_soup(\"qwerty\")\n"
   ]
  },
  {
   "cell_type": "markdown",
   "id": "d778296f-3d53-45da-9915-704b69067fa3",
   "metadata": {},
   "source": [
    "<h1>Que 4</h1>"
   ]
  },
  {
   "cell_type": "code",
   "execution_count": 21,
   "id": "4f052790-f649-4f7c-8f99-0ff78214fe6e",
   "metadata": {},
   "outputs": [
    {
     "data": {
      "text/plain": [
       "4.6406502891171655e+41"
      ]
     },
     "execution_count": 21,
     "metadata": {},
     "output_type": "execute_result"
    }
   ],
   "source": [
    "def compound_interest(p,t,r,n):\n",
    "    rtn=p\n",
    "    for i in range(t):\n",
    "        for i in range(n):\n",
    "            rtn=rtn+rtn/r*100\n",
    "    return rtn\n",
    "compound_interest(100,10,5,3)"
   ]
  },
  {
   "cell_type": "markdown",
   "id": "871dcef9-408a-4a07-ad59-31f6502ad762",
   "metadata": {},
   "source": [
    "<h1>Que 5</h1>"
   ]
  },
  {
   "cell_type": "code",
   "execution_count": 15,
   "id": "3b993c90-7a84-4a65-8ea5-268ba75a8c8a",
   "metadata": {},
   "outputs": [
    {
     "data": {
      "text/plain": [
       "[9, 6]"
      ]
     },
     "execution_count": 15,
     "metadata": {},
     "output_type": "execute_result"
    }
   ],
   "source": [
    "def return_only_int(x):\n",
    "    new=[]\n",
    "    for i in x:\n",
    "        if type(i)==int:\n",
    "            new.append(i)\n",
    "        else:\n",
    "            pass\n",
    "    return new     \n",
    "l=[9,6,\"dghd\",10.1] \n",
    "return_only_int(l)"
   ]
  },
  {
   "cell_type": "code",
   "execution_count": null,
   "id": "7fb3afec-a8cf-4354-886e-5f0850a44929",
   "metadata": {},
   "outputs": [],
   "source": []
  }
 ],
 "metadata": {
  "kernelspec": {
   "display_name": "Python 3 (ipykernel)",
   "language": "python",
   "name": "python3"
  },
  "language_info": {
   "codemirror_mode": {
    "name": "ipython",
    "version": 3
   },
   "file_extension": ".py",
   "mimetype": "text/x-python",
   "name": "python",
   "nbconvert_exporter": "python",
   "pygments_lexer": "ipython3",
   "version": "3.10.6"
  }
 },
 "nbformat": 4,
 "nbformat_minor": 5
}
