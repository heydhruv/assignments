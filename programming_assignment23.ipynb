{
 "cells": [
  {
   "cell_type": "markdown",
   "id": "47a78a92-9ecd-43e9-8468-37bb6827836d",
   "metadata": {},
   "source": [
    "<h1>Que 1</h1>"
   ]
  },
  {
   "cell_type": "code",
   "execution_count": 3,
   "id": "0f4a8d1d-f7e4-4dbd-87c7-6548a5efb8bb",
   "metadata": {},
   "outputs": [
    {
     "name": "stdin",
     "output_type": "stream",
     "text": [
      " 122\n"
     ]
    },
    {
     "name": "stdout",
     "output_type": "stream",
     "text": [
      "False\n"
     ]
    }
   ],
   "source": [
    "def is_symmetrical(x):\n",
    "    temp=x\n",
    "    rev=0\n",
    "    while(x>0):\n",
    "        digit=x%10\n",
    "        rev=rev*10+digit\n",
    "        x=x//10\n",
    "    if(temp==rev):\n",
    "        print('True')\n",
    "    else:\n",
    "        print('False')\n",
    "    \n",
    "a=int(input())\n",
    "is_symmetrical(a)\n"
   ]
  },
  {
   "cell_type": "code",
   "execution_count": 8,
   "id": "022a99a2-c2cb-40ce-bc66-694edd997053",
   "metadata": {},
   "outputs": [
    {
     "name": "stdin",
     "output_type": "stream",
     "text": [
      " 122\n"
     ]
    },
    {
     "name": "stdout",
     "output_type": "stream",
     "text": [
      "False\n"
     ]
    }
   ],
   "source": [
    "def is_symmetricall(x):\n",
    "    temp=x\n",
    "    z=str(x)\n",
    "    z=z[::-1]\n",
    "    z=int(z)\n",
    "    if(temp==z):\n",
    "        print('True')\n",
    "    else:\n",
    "        print('False')\n",
    "a=int(input())\n",
    "is_symmetricall(a)"
   ]
  },
  {
   "cell_type": "markdown",
   "id": "12d55d08-f8dd-48e9-92b0-1cd74f072293",
   "metadata": {},
   "source": [
    "<h1>Que 2</h1>"
   ]
  },
  {
   "cell_type": "code",
   "execution_count": 32,
   "id": "a187a488-4774-499d-b99e-56476e09814c",
   "metadata": {},
   "outputs": [
    {
     "name": "stdin",
     "output_type": "stream",
     "text": [
      "enter str of input saperated by comma 1,2,3,5\n"
     ]
    },
    {
     "name": "stdout",
     "output_type": "stream",
     "text": [
      "30\n"
     ]
    }
   ],
   "source": [
    "def mul_num(x):\n",
    "    mul=1\n",
    "    s=x.split(\",\")\n",
    "    res=[eval(i) for i in s]\n",
    "    \n",
    "    for i in res:\n",
    "        \n",
    "        mul=mul*i\n",
    "    print(mul)\n",
    "a=str(input(\"enter str of input saperated by comma\"))    \n",
    "mul_num(a)    "
   ]
  },
  {
   "cell_type": "markdown",
   "id": "6d1ae3dc-4ddc-4c49-9439-cbe16342f5d5",
   "metadata": {},
   "source": [
    "<h1>Que 3</h1>"
   ]
  },
  {
   "cell_type": "code",
   "execution_count": 33,
   "id": "d189e4d3-6ada-4b27-bfca-f7c8870dc9f3",
   "metadata": {},
   "outputs": [
    {
     "name": "stdin",
     "output_type": "stream",
     "text": [
      "enter a number 4\n"
     ]
    },
    {
     "data": {
      "text/plain": [
       "16"
      ]
     },
     "execution_count": 33,
     "metadata": {},
     "output_type": "execute_result"
    }
   ],
   "source": [
    "def sqr(x):\n",
    "    return x*x\n",
    "a=int(input(\"enter a number\"))\n",
    "sqr(a)"
   ]
  },
  {
   "cell_type": "markdown",
   "id": "31489167-19e8-4f8f-a4f7-a97f3fb097b1",
   "metadata": {},
   "source": [
    "<h1>Que 4</h1>"
   ]
  },
  {
   "cell_type": "code",
   "execution_count": 67,
   "id": "765b6a14-974b-4b0f-b70e-ef028e7d6428",
   "metadata": {},
   "outputs": [
    {
     "name": "stdin",
     "output_type": "stream",
     "text": [
      "enter numbers 1,2,4,4,5,5\n"
     ]
    },
    {
     "data": {
      "text/plain": [
       "['1', '2', '4', '5']"
      ]
     },
     "execution_count": 67,
     "metadata": {},
     "output_type": "execute_result"
    }
   ],
   "source": [
    "def dup_sort(x):\n",
    "    x=set(x)\n",
    "    x.discard(\",\")\n",
    "    x=list(x)\n",
    "    x.sort()\n",
    "    return x\n",
    "a=set(input(\"enter numbers\"))\n",
    "\n",
    "dup_sort(a) "
   ]
  },
  {
   "cell_type": "code",
   "execution_count": 65,
   "id": "523716ba-ed91-437c-a703-52d20bc95c28",
   "metadata": {},
   "outputs": [
    {
     "data": {
      "text/plain": [
       "[4]"
      ]
     },
     "execution_count": 65,
     "metadata": {},
     "output_type": "execute_result"
    }
   ],
   "source": [
    "def dup_sort(x):\n",
    "    y=sorted(set(x))\n",
    "    return y\n",
    "dup_sort([1,3,3,5,5])\n",
    "dup_sort([4,4,4,4])\n"
   ]
  },
  {
   "cell_type": "markdown",
   "id": "ded09a09-b40a-4894-9aaf-8b6801126d30",
   "metadata": {},
   "source": [
    "<h1>Que 5</h1>"
   ]
  },
  {
   "cell_type": "code",
   "execution_count": 54,
   "id": "48bd76c8-c5e6-4d30-91f0-44419a70656c",
   "metadata": {},
   "outputs": [
    {
     "name": "stdin",
     "output_type": "stream",
     "text": [
      " 666\n"
     ]
    },
    {
     "data": {
      "text/plain": [
       "6"
      ]
     },
     "execution_count": 54,
     "metadata": {},
     "output_type": "execute_result"
    }
   ],
   "source": [
    "def digit_mean(x):\n",
    "    summ=0\n",
    "    res=[eval(i) for i in x]\n",
    "\n",
    "    for val in res:\n",
    "        summ=summ+val\n",
    "    z=int(summ/len(x))\n",
    "    return z\n",
    "a=list(input())\n",
    "digit_mean(a)\n",
    "    "
   ]
  },
  {
   "cell_type": "code",
   "execution_count": null,
   "id": "1cfd20ef-3d1b-4cd4-8c00-bc46286d2dd1",
   "metadata": {},
   "outputs": [],
   "source": []
  }
 ],
 "metadata": {
  "kernelspec": {
   "display_name": "Python 3 (ipykernel)",
   "language": "python",
   "name": "python3"
  },
  "language_info": {
   "codemirror_mode": {
    "name": "ipython",
    "version": 3
   },
   "file_extension": ".py",
   "mimetype": "text/x-python",
   "name": "python",
   "nbconvert_exporter": "python",
   "pygments_lexer": "ipython3",
   "version": "3.9.13"
  }
 },
 "nbformat": 4,
 "nbformat_minor": 5
}
