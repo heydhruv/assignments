{
 "cells": [
  {
   "cell_type": "markdown",
   "id": "e1a65862-6602-467d-9631-7a17eb1fcd9a",
   "metadata": {},
   "source": [
    "<h1>Create a function that takes a string and returns a string in which each character is repeated\n",
    "once.</h1>\n",
    "<p>Examples\n",
    "double_char(&quot;String&quot;) ➞ &quot;SSttrriinngg&quot;\n",
    "double_char(&quot;Hello World!&quot;) ➞ &quot;HHeelllloo WWoorrlldd!!&quot;\n",
    "double_char(&quot;1234!_ &quot;) ➞ &quot;11223344!!__ &quot;<p>"
   ]
  },
  {
   "cell_type": "code",
   "execution_count": 23,
   "id": "e838b3a5-9e05-438d-9c56-8bd8ec559fae",
   "metadata": {},
   "outputs": [
    {
     "data": {
      "text/plain": [
       "'11223344!!__  '"
      ]
     },
     "execution_count": 23,
     "metadata": {},
     "output_type": "execute_result"
    }
   ],
   "source": [
    "def double_char(x):\n",
    "    str1=''\n",
    "    for i in x:\n",
    "        str1+=i*2\n",
    "        \n",
    "    return str1\n",
    "double_char(\"String\")\n",
    "double_char(\"Hello World!\")\n",
    "double_char(\"1234!_ \")"
   ]
  },
  {
   "cell_type": "markdown",
   "id": "b296ec69-db14-4171-8024-4dd8c30fb25d",
   "metadata": {},
   "source": [
    "<h1>Create a function that reverses a boolean value and returns the string &quot;boolean expected&quot;\n",
    "if another variable type is given.</h1>\n",
    "<p>Examples\n",
    "reverse(True) ➞ False\n",
    "reverse(False) ➞ True\n",
    "reverse(0) ➞ &quot;boolean expected&quot;\n",
    "reverse(None) ➞ &quot;boolean expected&quot;</p>"
   ]
  },
  {
   "cell_type": "code",
   "execution_count": 28,
   "id": "d7e507f7-bb0c-4f61-a65b-767b4bb99436",
   "metadata": {},
   "outputs": [
    {
     "name": "stdout",
     "output_type": "stream",
     "text": [
      "False\n",
      "True\n",
      "boolean expected\n"
     ]
    }
   ],
   "source": [
    "def reverse(x):\n",
    "    if x==True:\n",
    "        print(\"False\")\n",
    "    elif x==False:\n",
    "        print(\"True\")\n",
    "    else:\n",
    "        print(\"boolean expected\")\n",
    "reverse(True)       \n",
    "reverse(False)\n",
    "reverse(None)"
   ]
  },
  {
   "cell_type": "markdown",
   "id": "9a49ec56-f629-4c1c-97f5-6972cfa0eb4b",
   "metadata": {},
   "source": [
    "<h1>Create a function that returns the thickness (in meters) of a piece of paper after folding it n\n",
    "number of times. The paper starts off with a thickness of 0.5mm.</h1>\n",
    "<p>Examples\n",
    "num_layers(1) ➞ &quot;0.001m&quot;\n",
    "# Paper folded once is 1mm (equal to 0.001m)\n",
    "num_layers(4) ➞ &quot;0.008m&quot;\n",
    "# Paper folded 4 times is 8mm (equal to 0.008m)\n",
    "num_layers(21) ➞ &quot;1048.576m&quot;\n",
    "# Paper folded 21 times is 1048576mm (equal to 1048.576m)</p>"
   ]
  },
  {
   "cell_type": "code",
   "execution_count": 37,
   "id": "ce3ca769-9956-4ae2-b50e-fe46340c88e6",
   "metadata": {},
   "outputs": [
    {
     "name": "stdout",
     "output_type": "stream",
     "text": [
      "0.001 m\n",
      "0.008 m\n",
      "1048.576 m\n"
     ]
    }
   ],
   "source": [
    "def num_layers(x):\n",
    "    thickness=0.5\n",
    "    for i in range(1,x+1):\n",
    "        thickness+=thickness\n",
    "    return print(thickness/1000,\"m\")\n",
    "num_layers(1)\n",
    "num_layers(4)    \n",
    "num_layers(21)"
   ]
  },
  {
   "cell_type": "markdown",
   "id": "341af0ad-8645-4943-bc92-98332093bd4f",
   "metadata": {},
   "source": [
    "<h1>Create a function that takes a single string as argument and returns an ordered list containing\n",
    "the indices of all capital letters in the string.</h1>\n",
    "<p>index_of_caps(&quot;eDaBiT&quot;) ➞ [1, 3, 5]\n",
    "index_of_caps(&quot;eQuINoX&quot;) ➞ [1, 3, 4, 6]\n",
    "index_of_caps(&quot;determine&quot;) ➞ []\n",
    "index_of_caps(&quot;STRIKE&quot;) ➞ [0, 1, 2, 3, 4, 5]\n",
    "index_of_caps(&quot;sUn&quot;) ➞ [1]</p>"
   ]
  },
  {
   "cell_type": "code",
   "execution_count": 55,
   "id": "a1fb2289-43ca-4075-b030-895fecd1d8f3",
   "metadata": {},
   "outputs": [
    {
     "name": "stdout",
     "output_type": "stream",
     "text": [
      "[1, 3, 5]\n",
      "[1, 3, 4, 6]\n",
      "[]\n",
      "[0, 1, 2, 3, 4, 5]\n",
      "[1]\n"
     ]
    }
   ],
   "source": [
    "def index_of_caps(x):\n",
    "    l=[]\n",
    "    \n",
    "    for i in x:\n",
    "        if i.isupper()==True:\n",
    "            l.append(x.index(i))\n",
    "    return l\n",
    "print(index_of_caps(\"eDaBiT\"))\n",
    "print(index_of_caps(\"eQuINoX\"))        \n",
    "print(index_of_caps(\"determine\"))\n",
    "print(index_of_caps(\"STRIKE\"))\n",
    "print(index_of_caps(\"sUn\"))"
   ]
  },
  {
   "cell_type": "markdown",
   "id": "21273397-acfc-4e27-9bbb-843a9ddb511e",
   "metadata": {},
   "source": [
    "<h1>Using list comprehensions, create a function that finds all even numbers from 1 to the given\n",
    "number.</h1>\n",
    "<p>Examples\n",
    "find_even_nums(8) ➞ [2, 4, 6, 8]\n",
    "find_even_nums(4) ➞ [2, 4]\n",
    "find_even_nums(2) ➞ [2]</p>"
   ]
  },
  {
   "cell_type": "code",
   "execution_count": 67,
   "id": "592f5336-db6a-4720-8d2e-e77cb6020650",
   "metadata": {},
   "outputs": [
    {
     "data": {
      "text/plain": [
       "[2, 4, 6, 8]"
      ]
     },
     "execution_count": 67,
     "metadata": {},
     "output_type": "execute_result"
    }
   ],
   "source": [
    "def find_even_nums(x):\n",
    "    l=[x for x in range(1,x+1) if x%2 == 0 ]\n",
    "    return l\n",
    "find_even_nums(8)"
   ]
  },
  {
   "cell_type": "code",
   "execution_count": null,
   "id": "a42a5bb7-267c-4c5b-8838-2b3173f78b36",
   "metadata": {},
   "outputs": [],
   "source": []
  }
 ],
 "metadata": {
  "kernelspec": {
   "display_name": "Python 3 (ipykernel)",
   "language": "python",
   "name": "python3"
  },
  "language_info": {
   "codemirror_mode": {
    "name": "ipython",
    "version": 3
   },
   "file_extension": ".py",
   "mimetype": "text/x-python",
   "name": "python",
   "nbconvert_exporter": "python",
   "pygments_lexer": "ipython3",
   "version": "3.10.6"
  }
 },
 "nbformat": 4,
 "nbformat_minor": 5
}
