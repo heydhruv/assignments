{
 "cells": [
  {
   "cell_type": "markdown",
   "id": "be3a09fb-6822-44f9-a4f0-aba8b0c7d55f",
   "metadata": {},
   "source": [
    "<h3>Q1. What is the difference between __getattr__ and __getattribute__?</h3>"
   ]
  },
  {
   "cell_type": "markdown",
   "id": "210815f2-946a-40bb-a4c8-69d020c0948a",
   "metadata": {},
   "source": [
    "__getattr__ is only invoked if the attribute wasn't found the usual ways. It's good for implementing a fallback for missing attributes, and is probably the one of two you want.\n",
    "\n",
    "__getattribute__ is invoked before looking at the actual attributes on the object, and so can be tricky to implement correctly. You can end up in infinite recursions very easily."
   ]
  },
  {
   "cell_type": "markdown",
   "id": "52be67c9-fa87-4aaf-9257-6fd45b98f827",
   "metadata": {},
   "source": [
    "<h3>Q2. What is the difference between properties and descriptors?</h3>"
   ]
  },
  {
   "cell_type": "markdown",
   "id": "6c595ffc-a2fc-4a0a-91e0-4a5c086843cb",
   "metadata": {},
   "source": [
    "Properties. We can bind getter, setter (and deleter) functions with an attribute name, using the built-in property function. When we do this, each reference to an attribute looks like simple, direct access, but invokes the appropriate function of the object.<br>\n",
    "\n",
    "\n",
    "\n",
    "Descriptors. We can bind getter, setter (and deleter) functions into a separate class. We then assign an object of this class to the attribute name. When we do this, each reference to an attribute looks like simple, direct access, but invokes an appropriate function of the Descriptor object"
   ]
  },
  {
   "cell_type": "markdown",
   "id": "a6b195ae-f652-4b1a-9c62-6528fe920133",
   "metadata": {},
   "source": [
    "<h3>Q3. What are the key differences in functionality between __getattr__ and __getattribute__, as well as\n",
    "properties and descriptors?</h3>"
   ]
  },
  {
   "cell_type": "markdown",
   "id": "0b45dbc4-0c9e-4f00-be4c-348733910bfd",
   "metadata": {},
   "source": [
    "The Key Differences between __getattr__, __getattribute__, Properties and Descriptors are:\n",
    "\n",
    "__getattr__: Python will call this method whenever you request an attribute that hasn't already been defined\n",
    "\n",
    "__getattribute__ : This method will invoked before looking at the actual attributes on the object. Means,if we have __getattribute__ method in our class, python invokes this method for every attribute regardless whether it exists or not.\n",
    "\n",
    "Properties: With Properties we can bind getter, setter and delete functions together with an attribute name, using the built-in property function or @property decorator. When we do this, each reference to an attribute looks like simple, direct access, but involes the appropriate function of the object.\n",
    "\n",
    "Descriptor: With Descriptor we can bind getter, setter and delete functions into a seperate class. we then assign an object of this class to the attribute name in our main class. When we do this, each reference to an attribute looks like simple, direct access but invokes an appropriate function of descriptor object."
   ]
  },
  {
   "cell_type": "code",
   "execution_count": null,
   "id": "4e4c5426-e80b-44ec-8792-58e99ca87eb3",
   "metadata": {},
   "outputs": [],
   "source": []
  }
 ],
 "metadata": {
  "kernelspec": {
   "display_name": "Python 3 (ipykernel)",
   "language": "python",
   "name": "python3"
  },
  "language_info": {
   "codemirror_mode": {
    "name": "ipython",
    "version": 3
   },
   "file_extension": ".py",
   "mimetype": "text/x-python",
   "name": "python",
   "nbconvert_exporter": "python",
   "pygments_lexer": "ipython3",
   "version": "3.9.13"
  }
 },
 "nbformat": 4,
 "nbformat_minor": 5
}
