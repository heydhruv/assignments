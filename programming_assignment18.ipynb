{
 "cells": [
  {
   "cell_type": "markdown",
   "id": "1ab1057e-4cc7-42b9-8258-b0fd603f10e8",
   "metadata": {},
   "source": [
    "<h1>Create a function that takes a list of non-negative integers and strings and return a new list\n",
    "without the strings.</h1>\n",
    "<p>filter_list([1, 2, &quot;a&quot;, &quot;b&quot;]) ➞ [1, 2]\n",
    "filter_list([1, &quot;a&quot;, &quot;b&quot;, 0, 15]) ➞ [1, 0, 15]\n",
    "filter_list([1, 2, &quot;aasf&quot;, &quot;1&quot;, &quot;123&quot;, 123]) ➞ [1, 2, 123]</p>"
   ]
  },
  {
   "cell_type": "code",
   "execution_count": 13,
   "id": "ce104087-a454-4d27-88a8-6cc3ab710a11",
   "metadata": {},
   "outputs": [
    {
     "data": {
      "text/plain": [
       "[1, 2]"
      ]
     },
     "execution_count": 13,
     "metadata": {},
     "output_type": "execute_result"
    }
   ],
   "source": [
    "def filter_list(x):\n",
    "    l=[]\n",
    "    for i in x:\n",
    "        if type(i)==int and i>=0:\n",
    "            l.append(i)\n",
    "    return l\n",
    "filter_list([1, 2, \"a\", \"b\"])"
   ]
  },
  {
   "cell_type": "markdown",
   "id": "0056e30e-c0b3-44fb-aeaa-7f4e62703a4d",
   "metadata": {},
   "source": [
    "<h1>The &quot;Reverser&quot; takes a string as input and returns that string in reverse order, with the\n",
    "opposite case.</h1>\n",
    "<p>reverse(&quot;Hello World&quot;) ➞ &quot;DLROw OLLEh&quot;\n",
    "reverse(&quot;ReVeRsE&quot;) ➞ &quot;eSrEvEr&quot;\n",
    "reverse(&quot;Radar&quot;) ➞ &quot;RADAr&quot;</p>"
   ]
  },
  {
   "cell_type": "code",
   "execution_count": 15,
   "id": "ec1e4d5d-2ec4-4a7a-8348-defa7ec1e23e",
   "metadata": {},
   "outputs": [
    {
     "data": {
      "text/plain": [
       "'dlrow olleh'"
      ]
     },
     "execution_count": 15,
     "metadata": {},
     "output_type": "execute_result"
    }
   ],
   "source": [
    "def reverse(x):\n",
    "    return x[::-1]\n",
    "        \n",
    "        \n",
    "reverse(\"hello world\")    "
   ]
  },
  {
   "cell_type": "code",
   "execution_count": 16,
   "id": "70b63ce6-b125-4514-b4ce-a1e65ce24ea8",
   "metadata": {},
   "outputs": [
    {
     "data": {
      "text/plain": [
       "'dlroW olleH'"
      ]
     },
     "execution_count": 16,
     "metadata": {},
     "output_type": "execute_result"
    }
   ],
   "source": [
    "def reverse(x):\n",
    "    str1=\"\"\n",
    "    for i in x:\n",
    "        str1=i+str1\n",
    "    return str1\n",
    "reverse(\"Hello World\") "
   ]
  },
  {
   "cell_type": "code",
   "execution_count": 21,
   "id": "09772dd3-b808-4a98-ba82-2861caecd3b5",
   "metadata": {},
   "outputs": [
    {
     "data": {
      "text/plain": [
       "'dlroW olleH'"
      ]
     },
     "execution_count": 21,
     "metadata": {},
     "output_type": "execute_result"
    }
   ],
   "source": [
    "def reverse(x):\n",
    "    if len(x)==0 or len(x)==1: \n",
    "        return x\n",
    "    else:\n",
    "        return reverse(x[1:])+x[0] #recursion\n",
    "reverse(\"Hello World\") "
   ]
  },
  {
   "cell_type": "code",
   "execution_count": 22,
   "id": "8d4ef47a-d2a6-4185-a341-c9b9205a6a15",
   "metadata": {},
   "outputs": [
    {
     "data": {
      "text/plain": [
       "'dlroW olleH'"
      ]
     },
     "execution_count": 22,
     "metadata": {},
     "output_type": "execute_result"
    }
   ],
   "source": [
    "def reverse(x):\n",
    "    x=\"\".join(reversed(x))\n",
    "    return x\n",
    "reverse(\"Hello World\") "
   ]
  },
  {
   "cell_type": "code",
   "execution_count": 23,
   "id": "37464f99-b939-4d79-b65c-758a5c16e30d",
   "metadata": {},
   "outputs": [
    {
     "data": {
      "text/plain": [
       "'dlroW olleH'"
      ]
     },
     "execution_count": 23,
     "metadata": {},
     "output_type": "execute_result"
    }
   ],
   "source": [
    "def reverse(x):\n",
    "    x=list(x)\n",
    "    x.reverse()\n",
    "    return \"\".join(x)\n",
    "reverse(\"Hello World\") "
   ]
  },
  {
   "cell_type": "markdown",
   "id": "f7d9f584-6f15-43f1-9bd4-28edac361b3a",
   "metadata": {},
   "source": [
    "<h1>With Python 3, you can assign variables from lists in a much more succinct way. Create\n",
    "variables first, middle and last from the given list using destructuring assignment</h1>\n",
    "<p>first ➞ 1\n",
    "middle ➞ [2, 3, 4, 5]\n",
    "last ➞ 6</p>"
   ]
  },
  {
   "cell_type": "code",
   "execution_count": 28,
   "id": "b4f1d4a1-a75a-4d35-9047-8b4e4a32b8a3",
   "metadata": {},
   "outputs": [
    {
     "name": "stdout",
     "output_type": "stream",
     "text": [
      "first-->1\n",
      "middle-->[2, 3, 4, 5]\n",
      "last-->6\n"
     ]
    }
   ],
   "source": [
    "first,*middle,last=[1,2,3,4,5,6]\n",
    "print(f\"first-->{first}\")\n",
    "print(f\"middle-->{middle}\")\n",
    "print(f\"last-->{last}\")"
   ]
  },
  {
   "cell_type": "markdown",
   "id": "41b39cfc-9f51-4e5b-b922-c32f47b7576c",
   "metadata": {},
   "source": [
    "<h1>Write a function that calculates the factorial of a number recursively.</h1>\n",
    "<p>factorial(5) ➞ 120\n",
    "factorial(3) ➞ 6\n",
    "factorial(1) ➞ 1\n",
    "factorial(0) ➞ 1</p>"
   ]
  },
  {
   "cell_type": "code",
   "execution_count": 41,
   "id": "3bdc600b-daa5-4e81-93a1-386e53b3da5d",
   "metadata": {},
   "outputs": [
    {
     "data": {
      "text/plain": [
       "120"
      ]
     },
     "execution_count": 41,
     "metadata": {},
     "output_type": "execute_result"
    }
   ],
   "source": [
    "def factorial(x):\n",
    "    if x== 1:\n",
    "        return x\n",
    "    else:\n",
    "        return x*factorial(x-1)\n",
    "\n",
    "factorial(5)"
   ]
  },
  {
   "cell_type": "markdown",
   "id": "717b3fe3-f86c-47b9-895a-cf24c31a9658",
   "metadata": {},
   "source": [
    "<h1>Write a function that moves all elements of one type to the end of the list.</h1>\n",
    "<p>move_to_end([1, 3, 2, 4, 4, 1], 1) ➞ [3, 2, 4, 4, 1, 1]\n",
    "# Move all the 1s to the end of the array.\n",
    "move_to_end([7, 8, 9, 1, 2, 3, 4], 9) ➞ [7, 8, 1, 2, 3, 4, 9]\n",
    "move_to_end([&quot;a&quot;, &quot;a&quot;, &quot;a&quot;, &quot;b&quot;], &quot;a&quot;) ➞ [&quot;b&quot;, &quot;a&quot;, &quot;a&quot;, &quot;a&quot;]</p>"
   ]
  },
  {
   "cell_type": "code",
   "execution_count": 50,
   "id": "4a73b16d-2039-44c6-a5d8-5d41e5af952a",
   "metadata": {},
   "outputs": [
    {
     "data": {
      "text/plain": [
       "['b', 'a', 'a', 'a']"
      ]
     },
     "execution_count": 50,
     "metadata": {},
     "output_type": "execute_result"
    }
   ],
   "source": [
    "def move_to_end(x,y):\n",
    "    l=[]\n",
    "    ll=[]\n",
    "    for i in x:\n",
    "        if i==y:\n",
    "            ll.append(i)\n",
    "        else:\n",
    "            l.append(i)\n",
    "            \n",
    "    return l+ll        \n",
    "move_to_end([1, 3, 2, 4, 4, 1], 1)   \n",
    "move_to_end([7, 8, 9, 1, 2, 3, 4], 9)\n",
    "move_to_end([\"a\", \"a\", \"a\", \"b\"], \"a\")"
   ]
  },
  {
   "cell_type": "code",
   "execution_count": null,
   "id": "29417d90-81a5-417c-bc9e-07648aeed720",
   "metadata": {},
   "outputs": [],
   "source": []
  }
 ],
 "metadata": {
  "kernelspec": {
   "display_name": "Python 3 (ipykernel)",
   "language": "python",
   "name": "python3"
  },
  "language_info": {
   "codemirror_mode": {
    "name": "ipython",
    "version": 3
   },
   "file_extension": ".py",
   "mimetype": "text/x-python",
   "name": "python",
   "nbconvert_exporter": "python",
   "pygments_lexer": "ipython3",
   "version": "3.10.6"
  }
 },
 "nbformat": 4,
 "nbformat_minor": 5
}
