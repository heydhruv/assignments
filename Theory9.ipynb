{
 "cells": [
  {
   "cell_type": "markdown",
   "id": "cae2665a-1002-4aa9-bf5d-a9a295b28258",
   "metadata": {},
   "source": [
    "<h3>1. To what does a relative path refer?</h3>"
   ]
  },
  {
   "cell_type": "markdown",
   "id": "2f23eda6-17f0-4169-8304-b5c9580d1652",
   "metadata": {},
   "source": [
    "current dir location"
   ]
  },
  {
   "cell_type": "markdown",
   "id": "76ad23b0-93e2-4c6a-a891-e4429a5e4cbe",
   "metadata": {},
   "source": [
    "<h3>2. What does an absolute path start with your operating system?</h3>"
   ]
  },
  {
   "cell_type": "markdown",
   "id": "1a0e8868-2328-4f9d-a818-e48428a8b3c0",
   "metadata": {},
   "source": [
    "absolute path start with home dir to curr dir"
   ]
  },
  {
   "cell_type": "markdown",
   "id": "b9021209-4e7a-4c15-8fa5-ea2a3221e622",
   "metadata": {},
   "source": [
    "<h3>3. What do the functions os.getcwd() and os.chdir() do?</h3>"
   ]
  },
  {
   "cell_type": "markdown",
   "id": "d0516e0f-42f3-4ef1-9929-158f195f09f8",
   "metadata": {},
   "source": [
    " os.getcwd()-gives current working dir,os.chdir() change dir(dir name)"
   ]
  },
  {
   "cell_type": "markdown",
   "id": "2671bb98-a806-497b-8aa7-952f562065f9",
   "metadata": {},
   "source": [
    "<h3>4. What are the . and .. folders?</h3>"
   ]
  },
  {
   "cell_type": "markdown",
   "id": "f9cb7efc-9317-44fb-9600-36b79511b037",
   "metadata": {},
   "source": [
    ". represents curr dir and .. represents parent dir"
   ]
  },
  {
   "cell_type": "markdown",
   "id": "fb75071c-70d9-491e-9140-83a52cc79312",
   "metadata": {},
   "source": [
    "<h3>5. In C:\\bacon\\eggs\\spam.txt, which part is the dir name, and which part is the base name?</h3>"
   ]
  },
  {
   "cell_type": "markdown",
   "id": "a100cf60-1a33-4ac6-af4c-5e58806f28d0",
   "metadata": {},
   "source": [
    "dir=C:\\bacon\\eggs\\\n",
    "base name=spam.txt"
   ]
  },
  {
   "cell_type": "markdown",
   "id": "d0bd3de9-d73b-4f20-bacf-0b054feebd89",
   "metadata": {},
   "source": [
    "<h3>6. What are the three “mode” arguments that can be passed to the open() function?</h3>"
   ]
  },
  {
   "cell_type": "markdown",
   "id": "eeb81d3e-14cb-4f6d-961e-49e448ea1c8e",
   "metadata": {},
   "source": [
    "<p>'r'       open for reading (default)</p>\n",
    "<p>'w'       open for writing, truncating the file first</p>\n",
    "<p>'x'       create a new file and open it for writing</p>\n",
    "<p>'a'       open for writing, appending to the end of the file if it exists</p>\n",
    "<p>'b'       binary mode</p>\n",
    "<p>'t'       text mode (default)</p>\n",
    "<p>'+'       open a disk file for updating (reading and writing)</p>\n",
    "<p>'U'       universal newline mode (deprecated)</p>"
   ]
  },
  {
   "cell_type": "markdown",
   "id": "c1772b04-5b40-4a5e-90c8-87228b142799",
   "metadata": {},
   "source": [
    "<h3>7. What happens if an existing file is opened in write mode?</h3>"
   ]
  },
  {
   "cell_type": "markdown",
   "id": "dcc169d6-3ba1-45d3-a420-e5ac46733975",
   "metadata": {},
   "source": [
    "it wipe outs data exiting in it and then writes new"
   ]
  },
  {
   "cell_type": "markdown",
   "id": "261b313e-3795-460e-bb5f-055285370af8",
   "metadata": {},
   "source": [
    "<h3>8. How do you tell the difference between read() and readlines()?</h3>"
   ]
  },
  {
   "cell_type": "markdown",
   "id": "7067f4fe-4198-4c5b-aba2-bf26841c8439",
   "metadata": {},
   "source": [
    "read() returns whole file readlines returns 1 line of file"
   ]
  },
  {
   "cell_type": "markdown",
   "id": "b8a03d68-96d3-421f-8640-9f7015747a88",
   "metadata": {},
   "source": [
    "<h3>9. What data structure does a shelf value resemble?</h3>"
   ]
  },
  {
   "cell_type": "markdown",
   "id": "848a4f1c-3917-4f38-949f-9f1cf188dc09",
   "metadata": {},
   "source": [
    "dictionary"
   ]
  },
  {
   "cell_type": "code",
   "execution_count": null,
   "id": "8e8274dd-dfc7-42a8-96e8-651ea34d97b4",
   "metadata": {},
   "outputs": [],
   "source": []
  }
 ],
 "metadata": {
  "kernelspec": {
   "display_name": "Python 3",
   "language": "python",
   "name": "python3"
  },
  "language_info": {
   "codemirror_mode": {
    "name": "ipython",
    "version": 3
   },
   "file_extension": ".py",
   "mimetype": "text/x-python",
   "name": "python",
   "nbconvert_exporter": "python",
   "pygments_lexer": "ipython3",
   "version": "3.8.8"
  }
 },
 "nbformat": 4,
 "nbformat_minor": 5
}
