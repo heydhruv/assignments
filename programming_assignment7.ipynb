{
 "cells": [
  {
   "cell_type": "markdown",
   "id": "b448336c-a266-4dec-aa81-9610f13d9388",
   "metadata": {},
   "source": [
    "1. Write a Python Program to find sum of array?"
   ]
  },
  {
   "cell_type": "code",
   "execution_count": 4,
   "id": "46d66e8d-0d0e-41d6-a4f9-a8a4c3839366",
   "metadata": {},
   "outputs": [
    {
     "data": {
      "text/plain": [
       "15"
      ]
     },
     "execution_count": 4,
     "metadata": {},
     "output_type": "execute_result"
    }
   ],
   "source": [
    "def arrsum(x):\n",
    "    summ=sum(x)\n",
    "    return summ\n",
    "arrsum([1,2,3,4,5])"
   ]
  },
  {
   "cell_type": "markdown",
   "id": "38bfbd4d-1e80-495b-979b-6c498c1f45e0",
   "metadata": {},
   "source": [
    "2. Write a Python Program to find largest element in an array?"
   ]
  },
  {
   "cell_type": "code",
   "execution_count": 5,
   "id": "dcddb26a-cca7-41be-b77f-cc9881417324",
   "metadata": {},
   "outputs": [
    {
     "data": {
      "text/plain": [
       "5"
      ]
     },
     "execution_count": 5,
     "metadata": {},
     "output_type": "execute_result"
    }
   ],
   "source": [
    "def arrsum(x):\n",
    "    summ=max(x)\n",
    "    return summ\n",
    "arrsum([1,2,3,4,5])"
   ]
  },
  {
   "cell_type": "markdown",
   "id": "bd69e367-57b3-4b14-bf06-2ffa8a805660",
   "metadata": {},
   "source": [
    "3. Write a Python Program for array rotation?"
   ]
  },
  {
   "cell_type": "code",
   "execution_count": 6,
   "id": "dd70edfd-01a6-4ade-a85c-8bc4f147a667",
   "metadata": {},
   "outputs": [
    {
     "data": {
      "text/plain": [
       "[5, 4, 3, 2, 1]"
      ]
     },
     "execution_count": 6,
     "metadata": {},
     "output_type": "execute_result"
    }
   ],
   "source": [
    "def arrsum(x):\n",
    "    summ=x[::-1]\n",
    "    return summ\n",
    "arrsum([1,2,3,4,5])"
   ]
  },
  {
   "cell_type": "markdown",
   "id": "08b4c81a-647b-460e-a55b-f269913a54b9",
   "metadata": {},
   "source": [
    "4. Write a Python Program to Split the array and add the first part to the end?"
   ]
  },
  {
   "cell_type": "code",
   "execution_count": 8,
   "id": "e5bc15d4-2703-4a39-8ff1-09875cb14f10",
   "metadata": {},
   "outputs": [
    {
     "data": {
      "text/plain": [
       "[4, 5, 1, 2, 3]"
      ]
     },
     "execution_count": 8,
     "metadata": {},
     "output_type": "execute_result"
    }
   ],
   "source": [
    "def arrsum(x):\n",
    "    s=x[0:3]\n",
    "    summ=x[3:]+s\n",
    "    return summ\n",
    "arrsum([1,2,3,4,5])"
   ]
  },
  {
   "cell_type": "markdown",
   "id": "d131a4c3-0e7b-4787-a46f-548bd7ac8dfa",
   "metadata": {},
   "source": [
    "5. Write a Python Program to check if given array is Monotonic?"
   ]
  },
  {
   "cell_type": "code",
   "execution_count": 9,
   "id": "cf69f9b3-7512-4b8b-a10a-1dc65cfe6918",
   "metadata": {},
   "outputs": [
    {
     "name": "stdout",
     "output_type": "stream",
     "text": [
      "True\n"
     ]
    }
   ],
   "source": [
    "def isMonotonic(A):\n",
    "    x, y = [], []\n",
    "    x.extend(A)\n",
    "    y.extend(A)\n",
    "    x.sort()\n",
    "    y.sort(reverse=True)\n",
    "    if(x == A or y == A):\n",
    "        return True\n",
    "    return False\n",
    " \n",
    "A = [6, 5, 4, 4]\n",
    " \n",
    "\n",
    "print(isMonotonic(A))"
   ]
  },
  {
   "cell_type": "code",
   "execution_count": null,
   "id": "7b4a1982-6219-426f-b42f-cb40772b4d19",
   "metadata": {},
   "outputs": [],
   "source": []
  }
 ],
 "metadata": {
  "kernelspec": {
   "display_name": "Python 3",
   "language": "python",
   "name": "python3"
  },
  "language_info": {
   "codemirror_mode": {
    "name": "ipython",
    "version": 3
   },
   "file_extension": ".py",
   "mimetype": "text/x-python",
   "name": "python",
   "nbconvert_exporter": "python",
   "pygments_lexer": "ipython3",
   "version": "3.8.8"
  }
 },
 "nbformat": 4,
 "nbformat_minor": 5
}
