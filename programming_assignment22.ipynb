{
 "cells": [
  {
   "cell_type": "markdown",
   "id": "71e71183-b105-462a-acb1-d5c41f416a5d",
   "metadata": {},
   "source": [
    "<h1>Que 1</h1>"
   ]
  },
  {
   "cell_type": "code",
   "execution_count": 4,
   "id": "28b99d71-5ba3-40cb-9f2d-3120f7345b8a",
   "metadata": {},
   "outputs": [
    {
     "name": "stdin",
     "output_type": "stream",
     "text": [
      " 1\n",
      " 10\n",
      " 3\n"
     ]
    },
    {
     "data": {
      "text/plain": [
       "[3, 6, 9]"
      ]
     },
     "execution_count": 4,
     "metadata": {},
     "output_type": "execute_result"
    }
   ],
   "source": [
    "def listOPS(x,y,z):\n",
    "    l=[]\n",
    "    for i in range(x,y):\n",
    "        if i%z==0:\n",
    "            l.append(i)\n",
    "    return l\n",
    "x=int(input())\n",
    "y=int(input())\n",
    "z=int(input())\n",
    "listOPS(x,y,z)\n"
   ]
  },
  {
   "cell_type": "markdown",
   "id": "5b5a986d-b1c6-4f53-8570-a92df8e7d65f",
   "metadata": {},
   "source": [
    "<h1>Que 2</h1>"
   ]
  },
  {
   "cell_type": "code",
   "execution_count": 15,
   "id": "39442b37-8c2d-49a8-a11b-42158d35213f",
   "metadata": {},
   "outputs": [
    {
     "name": "stdout",
     "output_type": "stream",
     "text": [
      "True\n",
      "True\n",
      "False\n",
      "False\n"
     ]
    }
   ],
   "source": [
    "def simon_says(x,y):\n",
    "    if len(x)==len(y) and len(x)>=2 and len(y)>=2:\n",
    "        if x[:-1]==y[1:]:\n",
    "            print('True')\n",
    "        else:\n",
    "            print('False')\n",
    "simon_says([1, 2], [5, 1])\n",
    "simon_says([1,2,3,4,5],[0,1,2,3,4])\n",
    "simon_says([1, 2], [5, 5])\n",
    "simon_says([1, 2, 3, 4, 5], [5, 5, 1, 2, 3])"
   ]
  },
  {
   "cell_type": "code",
   "execution_count": null,
   "id": "621375db-bfbe-4d86-be36-3178aa71a5f1",
   "metadata": {},
   "outputs": [],
   "source": []
  },
  {
   "cell_type": "markdown",
   "id": "60ac8bd9-1e73-47b3-be90-d2f519dc8f2e",
   "metadata": {},
   "source": [
    "<h1>Que 3</h1>"
   ]
  },
  {
   "cell_type": "code",
   "execution_count": 23,
   "id": "f179e26a-ef76-4788-b7b9-63bba388f534",
   "metadata": {},
   "outputs": [
    {
     "name": "stdout",
     "output_type": "stream",
     "text": [
      "ajs\n",
      "hjl\n",
      "ddd\n"
     ]
    }
   ],
   "source": [
    "def secret_society(x):\n",
    "    a=[]\n",
    "    for ele in x:\n",
    "        a.append(ele[0])\n",
    "        s=''.join(sorted(a))\n",
    "    print(s)    \n",
    "secret_society([\"adam\",\"jason\",\"sam\"]) \n",
    "secret_society(['harry','john','luna'])\n",
    "secret_society(['david','dane','dawson'])"
   ]
  },
  {
   "cell_type": "markdown",
   "id": "2aa700b2-8c9c-454d-8e8a-baaaa721d521",
   "metadata": {},
   "source": [
    "<h1>Que 4</h1>"
   ]
  },
  {
   "cell_type": "code",
   "execution_count": 34,
   "id": "ebb318eb-2e4d-4cb6-b534-6c010a3310fd",
   "metadata": {},
   "outputs": [
    {
     "name": "stdout",
     "output_type": "stream",
     "text": [
      "True\n",
      "False\n"
     ]
    }
   ],
   "source": [
    "def is_isogram(x):\n",
    "    lower=x.lower()\n",
    "    if len(lower)==len(set(lower)):\n",
    "        print(True)\n",
    "    else:\n",
    "        print(False)\n",
    "        \n",
    "is_isogram(\"Algorism\")  \n",
    "is_isogram(\"pasSword\")"
   ]
  },
  {
   "cell_type": "markdown",
   "id": "9c6c1730-e46f-4ed9-a189-e67c03aba2a5",
   "metadata": {},
   "source": [
    "<h1>Que 5</h1>"
   ]
  },
  {
   "cell_type": "code",
   "execution_count": 45,
   "id": "857002af-a997-4188-81c5-3de868f9da31",
   "metadata": {},
   "outputs": [
    {
     "name": "stdout",
     "output_type": "stream",
     "text": [
      "True\n",
      "True\n",
      "False\n"
     ]
    }
   ],
   "source": [
    "def is_in_order(x):\n",
    "    sortx=''.join(sorted(x))\n",
    "    if x==sortx:\n",
    "        print('True')\n",
    "    else:\n",
    "        print('False')\n",
    "is_in_order('dhruv')\n",
    "is_in_order('abc')\n",
    "is_in_order('azx')"
   ]
  },
  {
   "cell_type": "code",
   "execution_count": 41,
   "id": "930a8068-266e-48d9-89e1-bb0dfbd2aa7e",
   "metadata": {},
   "outputs": [],
   "source": []
  },
  {
   "cell_type": "code",
   "execution_count": null,
   "id": "7dfa7f92-9cda-43f2-a741-752e03a6b1bb",
   "metadata": {},
   "outputs": [],
   "source": []
  }
 ],
 "metadata": {
  "kernelspec": {
   "display_name": "Python 3 (ipykernel)",
   "language": "python",
   "name": "python3"
  },
  "language_info": {
   "codemirror_mode": {
    "name": "ipython",
    "version": 3
   },
   "file_extension": ".py",
   "mimetype": "text/x-python",
   "name": "python",
   "nbconvert_exporter": "python",
   "pygments_lexer": "ipython3",
   "version": "3.9.13"
  }
 },
 "nbformat": 4,
 "nbformat_minor": 5
}
