{
 "cells": [
  {
   "cell_type": "markdown",
   "id": "bc992fbc-b8c1-454c-970c-c6c9e8767725",
   "metadata": {},
   "source": [
    "<h3>Q1. What is the relationship between classes and modules?</h3>"
   ]
  },
  {
   "cell_type": "markdown",
   "id": "fc1b0070-f7a5-42ca-8248-bdc1bd731b02",
   "metadata": {},
   "source": [
    " Modules are collections of methods and constants. They cannot generate instances. Classes may generate instances (objects), and have per-instance state (instance variables)."
   ]
  },
  {
   "cell_type": "markdown",
   "id": "de7a11dd-87e0-4ded-9a33-a38171f122e9",
   "metadata": {},
   "source": [
    "<h3>Q2. How do you make instances and classes?</h3>"
   ]
  },
  {
   "cell_type": "markdown",
   "id": "30e1ac76-dc5a-48c8-bd0a-e27bdbe6bf9a",
   "metadata": {},
   "source": [
    "inn=dept('dev','2020') where inn is a instance of class dept\n",
    "<p>class is created with class keyword like class dept: def __init__(self,department,intake_year)</p>"
   ]
  },
  {
   "cell_type": "markdown",
   "id": "cfe3e917-9c92-4faf-b5d8-b0bb6a1fdcac",
   "metadata": {},
   "source": [
    "<h3>Q3. Where and how should be class attributes created?</h3>"
   ]
  },
  {
   "cell_type": "markdown",
   "id": "8ec677c4-26f1-4f28-b06d-6336a99bd584",
   "metadata": {},
   "source": [
    "class attributes velong to class only there are created at the beginning before init method as stand alone"
   ]
  },
  {
   "cell_type": "markdown",
   "id": "001c480a-115b-4880-a417-96a6086b35bd",
   "metadata": {},
   "source": [
    "<h3>Q4. Where and how are instance attributes created?</h3>"
   ]
  },
  {
   "cell_type": "markdown",
   "id": "6cb54514-33ea-4ecd-a881-442e0caa181a",
   "metadata": {},
   "source": [
    "instances are created outside of class like variable holding class with args ex work=company('tcs','001') work is instance"
   ]
  },
  {
   "cell_type": "markdown",
   "id": "b5e4ca74-1ea1-4905-9796-4006b6d159c1",
   "metadata": {},
   "source": [
    "<h3>Q5. What does the term &quot;self&quot; in a Python class mean?</h3>"
   ]
  },
  {
   "cell_type": "markdown",
   "id": "4b126fca-958b-41fc-a487-3132ab7d3f2b",
   "metadata": {},
   "source": [
    "self represents the instance of the class (it represents the object itself). By using the “self” keyword we can access the attributes and methods of the class with in the class in python. It binds the attributes with the given arguments."
   ]
  },
  {
   "cell_type": "markdown",
   "id": "4b76e711-19fe-4268-b7bc-aa4571b18a29",
   "metadata": {},
   "source": [
    "<h3>Q6. How does a Python class handle operator overloading?</h3>"
   ]
  },
  {
   "cell_type": "markdown",
   "id": "7b7ffd5a-8731-486e-a74e-9beea409632e",
   "metadata": {},
   "source": [
    "<p>+ \t__add__(self, other)</p>\n",
    "<p>- \t__sub__(self, other)</p>\n",
    "<p>* \t__mul__(self, other)</p>\n",
    "<p>/ \t__truediv__(self, other)</p>\n",
    "<p>// \t__floordiv__(self, other)</p>\n",
    "<p>% \t__mod__(self, other)</p>\n",
    "<p>** \t__pow__(self, other)</p>\n",
    "<p>>> \t__rshift__(self, other)</p>\n",
    "<p><< \t__lshift__(self, other)</p>\n",
    "<p>& \t__and__(self, other)</p>\n",
    "<p>| \t__or__(self, other)</p>\n",
    "<p>^ \t__xor__(self, other)</p>"
   ]
  },
  {
   "cell_type": "markdown",
   "id": "38f16657-823c-4194-ba71-1b5f377ac014",
   "metadata": {},
   "source": [
    "<h3>Q7. When do you consider allowing operator overloading of your classes?</h3>"
   ]
  },
  {
   "cell_type": "markdown",
   "id": "8a4a9caa-8fe5-457d-b9ee-892516d7e196",
   "metadata": {},
   "source": [
    "Ensures that objects of a class behave consistently with built-in types and other user-defined types,When we want to have different meaning for the same operator accroding to the context we use operator overloading."
   ]
  },
  {
   "cell_type": "markdown",
   "id": "0bf2b1d2-a991-49c7-bc87-51eab776eb3a",
   "metadata": {},
   "source": [
    "<h3>Q8. What is the most popular form of operator overloading?</h3>"
   ]
  },
  {
   "cell_type": "markdown",
   "id": "72bf3e87-bcea-410f-9e4c-e58b07cc6202",
   "metadata": {},
   "source": [
    "<p>__add__</p>"
   ]
  },
  {
   "cell_type": "markdown",
   "id": "abc2b210-14e7-4ecc-a306-f157e50021ac",
   "metadata": {},
   "source": [
    "<h3>Q9. What are the two most important concepts to grasp in order to comprehend Python OOP code?</h3>"
   ]
  },
  {
   "cell_type": "markdown",
   "id": "fd53e042-2ab7-49c8-ac4f-7411a95cf5bf",
   "metadata": {},
   "source": [
    "Along with classes and objects the important concepts to grasp are:\n",
    "\n",
    "    Inheritence\n",
    "    Abstraction\n",
    "    Polymorphism\n",
    "    Encapsulation\n"
   ]
  },
  {
   "cell_type": "code",
   "execution_count": null,
   "id": "66162255-c066-407f-a032-4b7ba2a3cab4",
   "metadata": {},
   "outputs": [],
   "source": []
  }
 ],
 "metadata": {
  "kernelspec": {
   "display_name": "Python 3 (ipykernel)",
   "language": "python",
   "name": "python3"
  },
  "language_info": {
   "codemirror_mode": {
    "name": "ipython",
    "version": 3
   },
   "file_extension": ".py",
   "mimetype": "text/x-python",
   "name": "python",
   "nbconvert_exporter": "python",
   "pygments_lexer": "ipython3",
   "version": "3.9.13"
  }
 },
 "nbformat": 4,
 "nbformat_minor": 5
}
