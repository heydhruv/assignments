{
 "cells": [
  {
   "cell_type": "markdown",
   "id": "71d3d489-1ad6-4e40-b9e7-d6518c9916a5",
   "metadata": {},
   "source": [
    "<h3>1.How many seconds are in an hour? Use the interactive interpreter as a calculator and multiply the\n",
    "number of seconds in a minute (60) by the number of minutes in an hour (also 60).</h3>"
   ]
  },
  {
   "cell_type": "code",
   "execution_count": 1,
   "id": "949c3aa0-3988-4038-b90d-183b6060f43b",
   "metadata": {},
   "outputs": [
    {
     "name": "stdout",
     "output_type": "stream",
     "text": [
      "3600\n"
     ]
    }
   ],
   "source": [
    "secs=60*60\n",
    "print(secs)"
   ]
  },
  {
   "cell_type": "markdown",
   "id": "b291a9db-c188-4e5f-b20b-5f16151eadbb",
   "metadata": {},
   "source": [
    "<h3>2. Assign the result from the previous task (seconds in an hour) to a variable called\n",
    "seconds_per_hour.</h3>"
   ]
  },
  {
   "cell_type": "code",
   "execution_count": 2,
   "id": "c4564ec9-b998-4008-9910-335f929fec12",
   "metadata": {},
   "outputs": [
    {
     "name": "stdout",
     "output_type": "stream",
     "text": [
      "3600\n"
     ]
    }
   ],
   "source": [
    "seconds_per_hour=60*60\n",
    "print(seconds_per_hour)"
   ]
  },
  {
   "cell_type": "markdown",
   "id": "2203b21d-6072-4b95-b6d8-b3f1e81f2edb",
   "metadata": {},
   "source": [
    "<h3>3. How many seconds do you think there are in a day? Make use of the variables seconds per hour\n",
    "and minutes per hour.</h3>"
   ]
  },
  {
   "cell_type": "code",
   "execution_count": 5,
   "id": "49396b1d-795a-4142-bac1-1a9a14438832",
   "metadata": {},
   "outputs": [
    {
     "data": {
      "text/plain": [
       "86400"
      ]
     },
     "execution_count": 5,
     "metadata": {},
     "output_type": "execute_result"
    }
   ],
   "source": [
    "sec_in_day=seconds_per_hour*24\n",
    "sec_in_day"
   ]
  },
  {
   "cell_type": "markdown",
   "id": "9f578be2-234e-4cb0-8e12-64ba5410c76b",
   "metadata": {},
   "source": [
    "<h3>4. Calculate seconds per day again, but this time save the result in a variable called seconds_per_day</h3>"
   ]
  },
  {
   "cell_type": "code",
   "execution_count": 6,
   "id": "3cd01836-70a7-495e-86b3-228db32530cb",
   "metadata": {},
   "outputs": [],
   "source": [
    "seconds_per_day=seconds_per_hour*24"
   ]
  },
  {
   "cell_type": "markdown",
   "id": "2857514a-e58c-4c58-aa3b-944c17309036",
   "metadata": {},
   "source": [
    "<h3>5. Divide seconds_per_day by seconds_per_hour. Use floating-point (/) division.</h3>"
   ]
  },
  {
   "cell_type": "code",
   "execution_count": 7,
   "id": "f53caa4a-9fd8-4705-a301-6b9e49c4bdc8",
   "metadata": {},
   "outputs": [
    {
     "data": {
      "text/plain": [
       "24.0"
      ]
     },
     "execution_count": 7,
     "metadata": {},
     "output_type": "execute_result"
    }
   ],
   "source": [
    "seconds_per_day/seconds_per_hour"
   ]
  },
  {
   "cell_type": "markdown",
   "id": "6d716258-080e-4d84-89be-1d7e5d066c83",
   "metadata": {},
   "source": [
    "<h3>6. Divide seconds_per_day by seconds_per_hour, using integer (//) division. Did this number agree\n",
    "with the floating-point value from the previous question, aside from the final .0?</h3>"
   ]
  },
  {
   "cell_type": "code",
   "execution_count": 8,
   "id": "1d413105-19c9-4c80-9208-8aa2dfb0c557",
   "metadata": {},
   "outputs": [
    {
     "data": {
      "text/plain": [
       "24"
      ]
     },
     "execution_count": 8,
     "metadata": {},
     "output_type": "execute_result"
    }
   ],
   "source": [
    "seconds_per_day//seconds_per_hour"
   ]
  },
  {
   "cell_type": "markdown",
   "id": "c97b7920-095e-455f-b256-2a4fd0c24546",
   "metadata": {},
   "source": [
    "<h3>7. Write a generator, genPrimes, that returns the sequence of prime numbers on successive calls to\n",
    "its next() method: 2, 3, 5, 7, 11, ...</h3>"
   ]
  },
  {
   "cell_type": "code",
   "execution_count": 9,
   "id": "53bb3ab1-4687-40f6-b158-199f89c7aefd",
   "metadata": {},
   "outputs": [
    {
     "name": "stdout",
     "output_type": "stream",
     "text": [
      "2\n",
      "3\n",
      "5\n",
      "7\n",
      "11\n"
     ]
    }
   ],
   "source": [
    "def genPrimes():\n",
    "    n = 0\n",
    "    while True:\n",
    "        if n == 2 or n == 3 :\n",
    "            yield n\n",
    "        elif ((n-1)%6 == 0 or (n+1)%6 == 0) and n !=1:\n",
    "            yield n\n",
    "        n = n+1\n",
    "        \n",
    "output = genPrimes()\n",
    "for ele in range(5):\n",
    "    print(next(output))\n"
   ]
  },
  {
   "cell_type": "code",
   "execution_count": null,
   "id": "4f72d492-d331-4e57-9362-d2b95207ce36",
   "metadata": {},
   "outputs": [],
   "source": []
  }
 ],
 "metadata": {
  "kernelspec": {
   "display_name": "Python 3",
   "language": "python",
   "name": "python3"
  },
  "language_info": {
   "codemirror_mode": {
    "name": "ipython",
    "version": 3
   },
   "file_extension": ".py",
   "mimetype": "text/x-python",
   "name": "python",
   "nbconvert_exporter": "python",
   "pygments_lexer": "ipython3",
   "version": "3.8.8"
  }
 },
 "nbformat": 4,
 "nbformat_minor": 5
}
