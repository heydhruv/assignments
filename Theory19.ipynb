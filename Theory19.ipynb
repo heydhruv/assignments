{
 "cells": [
  {
   "cell_type": "markdown",
   "id": "08f27200-f294-40c8-b8ea-b2c3b05aa4b0",
   "metadata": {},
   "source": [
    "<h3>1. Make a class called Thing with no contents and print it. Then, create an object called example\n",
    "from this class and also print it. Are the printed values the same or different?</h3>"
   ]
  },
  {
   "cell_type": "code",
   "execution_count": 3,
   "id": "3801a296-148a-42da-b4b9-7829ac6f563d",
   "metadata": {},
   "outputs": [
    {
     "name": "stdout",
     "output_type": "stream",
     "text": [
      "<class '__main__.thing'>\n",
      "<__main__.thing object at 0x7f53185feb50>\n"
     ]
    }
   ],
   "source": [
    "class thing():\n",
    "    pass\n",
    "print(thing)\n",
    "example=thing()\n",
    "print(example)"
   ]
  },
  {
   "cell_type": "markdown",
   "id": "4c773b38-7171-43d6-8fad-1a55cd24aadb",
   "metadata": {},
   "source": [
    "<h3>2. Create a new class called Thing2 and add the value &#39;abc&#39; to the letters class attribute. Letters\n",
    "should be printed.</h3>"
   ]
  },
  {
   "cell_type": "code",
   "execution_count": 4,
   "id": "962c6087-2ebe-4d2c-a003-25a8c5bc50b7",
   "metadata": {},
   "outputs": [
    {
     "data": {
      "text/plain": [
       "'abc'"
      ]
     },
     "execution_count": 4,
     "metadata": {},
     "output_type": "execute_result"
    }
   ],
   "source": [
    "class thing2:\n",
    "    letters='abc'\n",
    "thing2.letters    "
   ]
  },
  {
   "cell_type": "markdown",
   "id": "e5748cb6-43a2-41cd-abe6-7c71d1a93bc6",
   "metadata": {},
   "source": [
    "<h3>3. Make yet another class called, of course, Thing3. This time, assign the value &#39;xyz&#39; to an instance\n",
    "(object) attribute called letters. Print letters. Do you need to make an object from the class to do\n",
    "this?</h3>"
   ]
  },
  {
   "cell_type": "code",
   "execution_count": 7,
   "id": "15433830-6dcd-4148-9b1c-bc191bc77456",
   "metadata": {},
   "outputs": [
    {
     "name": "stdout",
     "output_type": "stream",
     "text": [
      "xyz\n"
     ]
    }
   ],
   "source": [
    "class thing3:\n",
    "    def __init__(self):\n",
    "        self.letters='xyz'\n",
    "a=thing3()        \n",
    "print(a.letters)    "
   ]
  },
  {
   "cell_type": "markdown",
   "id": "b8a4f978-eba6-4043-be82-fd61c9cddd7a",
   "metadata": {},
   "source": [
    "<h3>4. Create an Element class with the instance attributes name, symbol, and number. Create a class\n",
    "object with the values &#39;Hydrogen,&#39; &#39;H,&#39; and 1.</h3>"
   ]
  },
  {
   "cell_type": "code",
   "execution_count": 8,
   "id": "4136e6ed-0388-418d-ab9b-e3d41b2b16c2",
   "metadata": {},
   "outputs": [],
   "source": [
    "class element:\n",
    "    def __init__(self,name,symbol,number):\n",
    "        self.name=name\n",
    "        self.symbol=symbol\n",
    "        self.number=number\n",
    "obj=element('hydrogen','H',1)        "
   ]
  },
  {
   "cell_type": "markdown",
   "id": "7cccbfd8-d5c4-40f0-b7ed-66223a55d592",
   "metadata": {},
   "source": [
    "<h3>5. Make a dictionary with these keys and values: &#39;name&#39;: &#39;Hydrogen&#39;, &#39;symbol&#39;: &#39;H&#39;, &#39;number&#39;: 1. Then,\n",
    "create an object called hydrogen from class Element using this dictionary.</h3>"
   ]
  },
  {
   "cell_type": "code",
   "execution_count": 11,
   "id": "73bde75e-2b72-4508-87cd-e0cd24fb40e6",
   "metadata": {},
   "outputs": [],
   "source": [
    "d={'name': 'Hydrogen', 'symbol': 'H', 'number': 1}\n",
    "hydrogen=element(*d.values())"
   ]
  },
  {
   "cell_type": "markdown",
   "id": "aa657f53-309e-4da9-ae45-673a18e79c13",
   "metadata": {},
   "source": [
    "<h3>6. For the Element class, define a method called dump() that prints the values of the object’s\n",
    "attributes (name, symbol, and number). Create the hydrogen object from this new definition and\n",
    "use dump() to print its attributes.</h3>"
   ]
  },
  {
   "cell_type": "code",
   "execution_count": 17,
   "id": "672bb0e7-523e-47b5-a9a6-79e31339edf1",
   "metadata": {},
   "outputs": [
    {
     "name": "stdout",
     "output_type": "stream",
     "text": [
      "hydrogen H 1\n"
     ]
    }
   ],
   "source": [
    "class element:\n",
    "    def __init__(self,name,symbol,number):\n",
    "        self.name = name\n",
    "        self.symbol = symbol\n",
    "        self.number = number\n",
    "    def dump(self):\n",
    "        print(self.name,self.symbol,self.number)\n",
    "hydrogen=element('hydrogen','H',1)\n",
    "hydrogen.dump()"
   ]
  },
  {
   "cell_type": "markdown",
   "id": "32f27f0a-eacb-4d53-ae92-536411c6a53f",
   "metadata": {},
   "source": [
    "<h3>7. Call print(hydrogen). In the definition of Element, change the name of method dump to __str__,\n",
    "create a new hydrogen object, and call print(hydrogen) again.</h3>"
   ]
  },
  {
   "cell_type": "code",
   "execution_count": 21,
   "id": "538397fd-723d-4dc6-94df-01df0e8761fc",
   "metadata": {},
   "outputs": [
    {
     "name": "stdout",
     "output_type": "stream",
     "text": [
      "hydrogen H 1\n"
     ]
    },
    {
     "ename": "TypeError",
     "evalue": "__str__ returned non-string (type NoneType)",
     "output_type": "error",
     "traceback": [
      "\u001b[0;31m---------------------------------------------------------------------------\u001b[0m",
      "\u001b[0;31mTypeError\u001b[0m                                 Traceback (most recent call last)",
      "\u001b[0;32m<ipython-input-21-e35e49fdf84a>\u001b[0m in \u001b[0;36m<module>\u001b[0;34m\u001b[0m\n\u001b[0;32m----> 1\u001b[0;31m \u001b[0mprint\u001b[0m\u001b[0;34m(\u001b[0m\u001b[0mhydrogen\u001b[0m\u001b[0;34m)\u001b[0m\u001b[0;34m\u001b[0m\u001b[0;34m\u001b[0m\u001b[0m\n\u001b[0m\u001b[1;32m      2\u001b[0m \u001b[0;32mclass\u001b[0m \u001b[0melement\u001b[0m\u001b[0;34m:\u001b[0m\u001b[0;34m\u001b[0m\u001b[0;34m\u001b[0m\u001b[0m\n\u001b[1;32m      3\u001b[0m     \u001b[0;32mdef\u001b[0m \u001b[0m__init__\u001b[0m\u001b[0;34m(\u001b[0m\u001b[0mself\u001b[0m\u001b[0;34m,\u001b[0m\u001b[0mname\u001b[0m\u001b[0;34m,\u001b[0m\u001b[0msymbol\u001b[0m\u001b[0;34m,\u001b[0m\u001b[0mnumber\u001b[0m\u001b[0;34m)\u001b[0m\u001b[0;34m:\u001b[0m\u001b[0;34m\u001b[0m\u001b[0;34m\u001b[0m\u001b[0m\n\u001b[1;32m      4\u001b[0m         \u001b[0mself\u001b[0m\u001b[0;34m.\u001b[0m\u001b[0mname\u001b[0m \u001b[0;34m=\u001b[0m \u001b[0mname\u001b[0m\u001b[0;34m\u001b[0m\u001b[0;34m\u001b[0m\u001b[0m\n\u001b[1;32m      5\u001b[0m         \u001b[0mself\u001b[0m\u001b[0;34m.\u001b[0m\u001b[0msymbol\u001b[0m \u001b[0;34m=\u001b[0m \u001b[0msymbol\u001b[0m\u001b[0;34m\u001b[0m\u001b[0;34m\u001b[0m\u001b[0m\n",
      "\u001b[0;31mTypeError\u001b[0m: __str__ returned non-string (type NoneType)"
     ]
    }
   ],
   "source": [
    "print(hydrogen)\n",
    "class element:\n",
    "    def __init__(self,name,symbol,number):\n",
    "        self.name = name\n",
    "        self.symbol = symbol\n",
    "        self.number = number\n",
    "    def  __str__(self):\n",
    "        print(self.name,self.symbol,self.number)\n",
    "hydrogen=element('hydrogen','H',1)\n",
    "print(hydrogen)\n"
   ]
  },
  {
   "cell_type": "markdown",
   "id": "c86cd3dd-1d0d-4abe-96c0-a5c97dbd1793",
   "metadata": {},
   "source": [
    "<h3>8. Modify Element to make the attributes name, symbol, and number private. Define a getter\n",
    "property for each to return its value.</h3>"
   ]
  },
  {
   "cell_type": "code",
   "execution_count": 26,
   "id": "20881351-6886-4fbe-a04f-08b3d5f5cbb8",
   "metadata": {},
   "outputs": [
    {
     "name": "stdout",
     "output_type": "stream",
     "text": [
      "hydrogen\n"
     ]
    }
   ],
   "source": [
    "class element:\n",
    "    def __init__(self,name,symbol,number):\n",
    "        self.__name = name\n",
    "        self.__symbol = symbol\n",
    "        self.__number = number\n",
    "    @property\n",
    "    def get_name(self):\n",
    "        return self.__name\n",
    "    @property\n",
    "    def get_symbol(self):\n",
    "        return self.__symbol\n",
    "    @property\n",
    "    def get_number(self):\n",
    "        return self.__number\n",
    "hydrogen=element('hydrogen','H',1)\n",
    "print(hydrogen.get_name)"
   ]
  },
  {
   "cell_type": "markdown",
   "id": "4a3bcc94-bd89-4fe7-aa11-3b193038f793",
   "metadata": {},
   "source": [
    "<h3>9. Define three classes: Bear, Rabbit, and Octothorpe. For each, define only one method: eats(). This\n",
    "should return &#39;berries&#39; (Bear), &#39;clover&#39; (Rabbit), or &#39;campers&#39; (Octothorpe). Create one object from\n",
    "each and print what it eats.</h3>"
   ]
  },
  {
   "cell_type": "code",
   "execution_count": 27,
   "id": "6772ab84-fc4b-4e45-9511-6a1a17ba1e5c",
   "metadata": {},
   "outputs": [
    {
     "name": "stdout",
     "output_type": "stream",
     "text": [
      "berries\n",
      "clover\n",
      "campers\n"
     ]
    }
   ],
   "source": [
    "class Bear:\n",
    "    def eats(self):\n",
    "        print('berries')\n",
    "class Rabbit:\n",
    "    def eats(self):\n",
    "        print('clover')\n",
    "class Octothorpe:\n",
    "    def eats(self):\n",
    "        print('campers')\n",
    "        \n",
    "bear = Bear()\n",
    "rabbit = Rabbit()\n",
    "octothrope = Octothorpe()\n",
    "\n",
    "bear.eats()\n",
    "rabbit.eats()\n",
    "octothrope.eats()\n"
   ]
  },
  {
   "cell_type": "markdown",
   "id": "b1b970f7-066b-43fb-a882-e7a341d95c7e",
   "metadata": {},
   "source": [
    "<h3>10. Define these classes: Laser, Claw, and SmartPhone. Each has only one method: does(). This\n",
    "returns &#39;disintegrate&#39; (Laser), &#39;crush&#39; (Claw), or &#39;ring&#39; (SmartPhone). Then, define the class Robot that\n",
    "has one instance (object) of each of these. Define a does() method for the Robot that prints what its\n",
    "component objects do.</h3>"
   ]
  },
  {
   "cell_type": "code",
   "execution_count": 39,
   "id": "80110cac-1ac7-4e2a-9bdb-c164de45816b",
   "metadata": {},
   "outputs": [
    {
     "name": "stdout",
     "output_type": "stream",
     "text": [
      "disintegrate crush ring\n"
     ]
    }
   ],
   "source": [
    "class laser:\n",
    "    def does(self):\n",
    "        return'disintegrate'\n",
    "class claw:\n",
    "    def does(self):\n",
    "        return 'crush'\n",
    "class smartphone:\n",
    "    def does(self):\n",
    "        return 'ring'\n",
    "class Robot:\n",
    "    def __init__(self):          \n",
    "        self.laser=laser()\n",
    "        self.claw=claw()\n",
    "        self.ph=smartphone()\n",
    "    def does(self):\n",
    "        print(self.laser.does(),self.claw.does(),self.ph.does())\n",
    "robot=Robot()  \n",
    "robot.does()"
   ]
  },
  {
   "cell_type": "code",
   "execution_count": null,
   "id": "42fc95df-412b-49ca-a546-7531658ec056",
   "metadata": {},
   "outputs": [],
   "source": []
  }
 ],
 "metadata": {
  "kernelspec": {
   "display_name": "Python 3",
   "language": "python",
   "name": "python3"
  },
  "language_info": {
   "codemirror_mode": {
    "name": "ipython",
    "version": 3
   },
   "file_extension": ".py",
   "mimetype": "text/x-python",
   "name": "python",
   "nbconvert_exporter": "python",
   "pygments_lexer": "ipython3",
   "version": "3.8.8"
  }
 },
 "nbformat": 4,
 "nbformat_minor": 5
}
